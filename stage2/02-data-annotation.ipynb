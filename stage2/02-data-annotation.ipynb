{
 "cells": [
  {
   "attachments": {},
   "cell_type": "markdown",
   "metadata": {},
   "source": [
    "# Stage 2: Data Annotation"
   ]
  },
  {
   "attachments": {},
   "cell_type": "markdown",
   "metadata": {},
   "source": [
    "In this notebook, several Large Language Model (LLM) are tested to perform sentiment annotation on the ESG document dataset, assigning scores of 0 for negative, 0.5 for neutral, and 1 for positive sentiment.  \n",
    "The workflow involves manually creating a \"gold standard\" by annotating ~500 sentences, setting up 2-3 LLMs for trial annotations, and experimenting with prompting strategies (zero-shot/few-shot) that we'll evaluate against the \"gold standard\".  \n",
    "As a last step, all sentences are annotated with a sentiment value."
   ]
  },
  {
   "attachments": {},
   "cell_type": "markdown",
   "metadata": {},
   "source": [
    "## Setup & Data Loading"
   ]
  },
  {
   "cell_type": "code",
   "execution_count": 40,
   "metadata": {},
   "outputs": [],
   "source": [
    "# Imports\n",
    "import os\n",
    "import re\n",
    "import ast\n",
    "import time\n",
    "import pandas as pd\n",
    "import numpy as np\n",
    "import openai\n",
    "import seaborn as sns\n",
    "import matplotlib.pyplot as plt\n",
    "from transformers import pipeline\n",
    "from transformers import AutoModelForSeq2SeqLM, AutoTokenizer, AutoModelForSequenceClassification\n",
    "from tqdm import tqdm\n",
    "tqdm.pandas()"
   ]
  },
  {
   "cell_type": "code",
   "execution_count": 41,
   "metadata": {},
   "outputs": [],
   "source": [
    "# Load the preprocessed data\n",
    "cleaned_data = pd.read_csv('../data/checkpoints/enriched_cleaned_data.csv', delimiter = '|')"
   ]
  },
  {
   "cell_type": "code",
   "execution_count": 42,
   "metadata": {},
   "outputs": [],
   "source": [
    "# Define a function to convert a string representation of a list to a list datatype\n",
    "def string_to_list(string):\n",
    "    try:\n",
    "        return ast.literal_eval(string)\n",
    "    except (ValueError, SyntaxError):\n",
    "        print('List conversion failed')\n",
    "        return []\n",
    "\n",
    "def set_datatypes(df):\n",
    "    # Convert the string representations of the lists to the correct 'list' datatype\n",
    "    df['word_tokens'] = df['word_tokens'].apply(string_to_list)\n",
    "    df['sentence_tokens'] = df['sentence_tokens'].apply(string_to_list)\n",
    "    df['pos_tagged_word_tokens'] = df['pos_tagged_word_tokens'].apply(string_to_list)\n",
    "    df['pos_tagged_sentence_tokens'] = df['pos_tagged_sentence_tokens'].apply(string_to_list)\n",
    "    df['esg_topics'] = df['esg_topics'].apply(string_to_list)\n",
    "    \n",
    "    # Convert date to correct datatype\n",
    "    df['date'] = pd.to_datetime(df['date'])\n",
    "\n",
    "    # Derive year and month to aggregate\n",
    "    df['year_month'] = df['date'].apply(lambda x: x.strftime('%Y-%m'))\n",
    "    df['year'] = df['date'].apply(lambda x: x.strftime('%Y'))\n",
    "    df['month'] = df['date'].apply(lambda x: x.strftime('%m'))\n",
    "\n",
    "    return df"
   ]
  },
  {
   "cell_type": "code",
   "execution_count": 43,
   "metadata": {},
   "outputs": [],
   "source": [
    "# Set the correct datatypes, e.g. lists and datetime\n",
    "cleaned_data = set_datatypes(cleaned_data)"
   ]
  },
  {
   "cell_type": "code",
   "execution_count": 44,
   "metadata": {},
   "outputs": [],
   "source": [
    "# Define function to save intermediary steps in a file\n",
    "def csv_checkpoint(df, filename='checkpoint'):\n",
    "    \"\"\"\n",
    "    Saves a DataFrame to a CSV file and loads it back into a DataFrame.\n",
    "\n",
    "    Args:\n",
    "        df (pandas.DataFrame): The DataFrame to save and load.\n",
    "        filename (str): The name of the CSV file to save the DataFrame to (default: 'checkpoint').\n",
    "\n",
    "    Returns:\n",
    "        pandas.DataFrame: The loaded DataFrame.\n",
    "    \"\"\"\n",
    "    if not os.path.exists('./checkpoints/'):  # Check if the directory exists and create it if it doesn't\n",
    "        os.makedirs('./checkpoints/')\n",
    "\n",
    "    # Save DataFrame to CSV\n",
    "    df.to_csv(f'./checkpoints/{filename}.csv', index=False, sep='|')  # Save DataFrame to CSV with specified filename\n",
    "    print(f'Saved DataFrame to {filename}.csv')\n",
    "\n",
    "    # Load CSV back into DataFrame\n",
    "    df = pd.read_csv(f'./checkpoints/{filename}.csv', delimiter='|')  # Load CSV back into DataFrame\n",
    "    print(f'Loaded DataFrame from {filename}.csv')\n",
    "\n",
    "    return df"
   ]
  },
  {
   "attachments": {},
   "cell_type": "markdown",
   "metadata": {},
   "source": [
    "## Manual sentence sentiment annotation"
   ]
  },
  {
   "attachments": {},
   "cell_type": "markdown",
   "metadata": {},
   "source": [
    "To define a \"gold standard\" for the sentiment, 500 randomly sampled sentences are manually annotate with:  \n",
    "**0 = negative, 0.5 = neutral, 1 = positive**"
   ]
  },
  {
   "cell_type": "code",
   "execution_count": 45,
   "metadata": {},
   "outputs": [],
   "source": [
    "# Crate a deep copy so no reload from CSV files is necessary is something goes wrong\n",
    "documents = cleaned_data.copy(deep=True)"
   ]
  },
  {
   "cell_type": "code",
   "execution_count": 46,
   "metadata": {},
   "outputs": [],
   "source": [
    "# Explode the dataset based on the sentence tokens, so each row contains one sentence\n",
    "documents = documents.explode('sentence_tokens')\n",
    "\n",
    "# Drop rows with no sentence\n",
    "documents = documents.dropna(subset=['sentence_tokens'])\n",
    "documents = documents[documents['sentence_tokens'].str.strip() != '']\n",
    "\n",
    "# Preserve original index, so a later aggregation is possible but rows have unique index\n",
    "documents['original_index'] = documents.index\n",
    "\n",
    "# Reset the index\n",
    "documents = documents.reset_index(drop=True)"
   ]
  },
  {
   "attachments": {},
   "cell_type": "markdown",
   "metadata": {},
   "source": [
    "The ratio of internal and external documents is quite imbalanced (see EDA).  \n",
    "Therefore an oversampling for interal sentences is considered to get a ratio of 20/80 (internal/external) sentences."
   ]
  },
  {
   "cell_type": "code",
   "execution_count": 47,
   "metadata": {},
   "outputs": [],
   "source": [
    "# Separate the DataFrame into internal/external sentences with a defined ratio\n",
    "internal = documents[documents['internal'] == 1]\n",
    "external = documents[documents['internal'] == 0]\n",
    "\n",
    "# Determine the number of samples from each group, 1000 sentences in total\n",
    "n_internal = int(0.2 * 1000)  # 20% of samples\n",
    "n_external = 1000 - n_internal  # Remaining samples\n",
    "\n",
    "# Sample 1000 random sentences with a seed, so a re-run samples the same sentences\n",
    "sampled_internal = internal.sample(n=n_internal, random_state=42)\n",
    "sampled_external = external.sample(n=n_external, random_state=42)\n",
    "\n",
    "# Concatenate and shuffle the samples the DataFrames, reset the index\n",
    "sampled_documents = pd.concat([sampled_internal, sampled_external])\n",
    "sampled_documents = sampled_documents.sample(frac=1, random_state=42)\n",
    "sampled_documents = sampled_documents.reset_index(drop=True)"
   ]
  },
  {
   "cell_type": "code",
   "execution_count": 48,
   "metadata": {},
   "outputs": [
    {
     "name": "stdout",
     "output_type": "stream",
     "text": [
      "Gold standard loaded\n"
     ]
    }
   ],
   "source": [
    "# Craete new column to store the sentence sentiment\n",
    "sampled_documents['sentiment_manual'] = np.nan\n",
    "\n",
    "annotate = input(\"Do you want to annotate? (y/n): \")\n",
    "annotate = True if annotate.lower() == 'y' else False\n",
    "\n",
    "if not annotate:\n",
    "    gold_standard = pd.read_csv('./annotated/gold_standard.csv', delimiter = '|')\n",
    "    if 'sentiment_manual' in gold_standard.columns:\n",
    "        sampled_documents['sentiment_manual'] = gold_standard['sentiment_manual']\n",
    "        print(\"Gold standard loaded\")\n",
    "    else:\n",
    "        print(\"'sentiment_manual' column not found in the CSV file.\")\n",
    "else:\n",
    "    print(\"Will start annotating...\")"
   ]
  },
  {
   "cell_type": "code",
   "execution_count": 49,
   "metadata": {},
   "outputs": [
    {
     "data": {
      "text/html": [
       "<div>\n",
       "<style scoped>\n",
       "    .dataframe tbody tr th:only-of-type {\n",
       "        vertical-align: middle;\n",
       "    }\n",
       "\n",
       "    .dataframe tbody tr th {\n",
       "        vertical-align: top;\n",
       "    }\n",
       "\n",
       "    .dataframe thead th {\n",
       "        text-align: right;\n",
       "    }\n",
       "</style>\n",
       "<table border=\"1\" class=\"dataframe\">\n",
       "  <thead>\n",
       "    <tr style=\"text-align: right;\">\n",
       "      <th></th>\n",
       "      <th>title</th>\n",
       "      <th>sentence_tokens</th>\n",
       "      <th>internal</th>\n",
       "      <th>sentiment_manual</th>\n",
       "    </tr>\n",
       "  </thead>\n",
       "  <tbody>\n",
       "    <tr>\n",
       "      <th>0</th>\n",
       "      <td>The Room Where It Happens: A quiet summer for ...</td>\n",
       "      <td>see please check junk folder</td>\n",
       "      <td>0</td>\n",
       "      <td>0.0</td>\n",
       "    </tr>\n",
       "    <tr>\n",
       "      <th>1</th>\n",
       "      <td>PRESS RELEASE: E.ON SE: E.ON delivers strong f...</td>\n",
       "      <td>primary reasons cooler weather first half oper...</td>\n",
       "      <td>0</td>\n",
       "      <td>1.0</td>\n",
       "    </tr>\n",
       "    <tr>\n",
       "      <th>2</th>\n",
       "      <td>Automotive Over-the-Air ( OTA) Market to Garne...</td>\n",
       "      <td>interested procure data actionable strategy in...</td>\n",
       "      <td>0</td>\n",
       "      <td>0.5</td>\n",
       "    </tr>\n",
       "    <tr>\n",
       "      <th>3</th>\n",
       "      <td>At 11.2% CAGR, Global Herbal Medicine Market S...</td>\n",
       "      <td>rising number patients suffering chronic illne...</td>\n",
       "      <td>0</td>\n",
       "      <td>1.0</td>\n",
       "    </tr>\n",
       "    <tr>\n",
       "      <th>4</th>\n",
       "      <td>Nordic Nanovector ASA Announces Proposed Board...</td>\n",
       "      <td>nhl indication substantial unmet medical need ...</td>\n",
       "      <td>0</td>\n",
       "      <td>0.5</td>\n",
       "    </tr>\n",
       "  </tbody>\n",
       "</table>\n",
       "</div>"
      ],
      "text/plain": [
       "                                               title  \\\n",
       "0  The Room Where It Happens: A quiet summer for ...   \n",
       "1  PRESS RELEASE: E.ON SE: E.ON delivers strong f...   \n",
       "2  Automotive Over-the-Air ( OTA) Market to Garne...   \n",
       "3  At 11.2% CAGR, Global Herbal Medicine Market S...   \n",
       "4  Nordic Nanovector ASA Announces Proposed Board...   \n",
       "\n",
       "                                     sentence_tokens  internal  \\\n",
       "0                       see please check junk folder         0   \n",
       "1  primary reasons cooler weather first half oper...         0   \n",
       "2  interested procure data actionable strategy in...         0   \n",
       "3  rising number patients suffering chronic illne...         0   \n",
       "4  nhl indication substantial unmet medical need ...         0   \n",
       "\n",
       "   sentiment_manual  \n",
       "0               0.0  \n",
       "1               1.0  \n",
       "2               0.5  \n",
       "3               1.0  \n",
       "4               0.5  "
      ]
     },
     "execution_count": 49,
     "metadata": {},
     "output_type": "execute_result"
    }
   ],
   "source": [
    "# Check the sampled data\n",
    "sampled_documents[['title','sentence_tokens','internal','sentiment_manual']].head()"
   ]
  },
  {
   "attachments": {},
   "cell_type": "markdown",
   "metadata": {},
   "source": [
    "Within a loop, all sentences are manually annotated.  \n",
    "With a \"+\" a sentence is flagged as positive (1.0), a \"-\" marks a negative (0.0) sentence and \"Enter\" (no value) flags the sentence as neutral (0.5)."
   ]
  },
  {
   "cell_type": "code",
   "execution_count": 50,
   "metadata": {},
   "outputs": [],
   "source": [
    "if annotate:\n",
    "\n",
    "    # Loop the samples to annotate them\n",
    "    for idx, row in sampled_documents.iterrows():\n",
    "        # Loop until valid input is received\n",
    "        while True:\n",
    "            # Print the title of the document and the sentence\n",
    "            print(f\"Title: {row['title']}\\nSentence Nr. {idx}: {row['sentence_tokens']}\\n\")\n",
    "\n",
    "            # Wait for user input\n",
    "            sentiment = input(\"Enter sentiment value (+ for 1.0, - for 0.0, Enter for 0.5): \")\n",
    "\n",
    "            # Check if the input is valid\n",
    "            if sentiment == '+':\n",
    "                sampled_documents.at[idx, 'sentiment_manual'] = 1.0\n",
    "                break\n",
    "            elif sentiment == '-':\n",
    "                sampled_documents.at[idx, 'sentiment_manual'] = 0.0\n",
    "                break\n",
    "            elif sentiment == '':\n",
    "                sampled_documents.at[idx, 'sentiment_manual'] = 0.5\n",
    "                break\n",
    "            else:\n",
    "                print(\"Invalid input. Please try again.\")"
   ]
  },
  {
   "attachments": {},
   "cell_type": "markdown",
   "metadata": {},
   "source": [
    "*Print outs of all sentences deleted due to readability of the notebook*"
   ]
  },
  {
   "cell_type": "code",
   "execution_count": 51,
   "metadata": {},
   "outputs": [
    {
     "name": "stdout",
     "output_type": "stream",
     "text": [
      "Saved DataFrame to sampled_documents.csv\n",
      "Loaded DataFrame from sampled_documents.csv\n"
     ]
    }
   ],
   "source": [
    "# Save the manual annotations to CSV (whole dataframe is too big to store on GitHub, therefore only sentences and manual annotations are stored)\n",
    "if not os.path.exists('./annotated/'):  # Check if the directory exists and create it if it doesn't\n",
    "    os.makedirs('./annotated/')\n",
    "sampled_documents[['sentiment_manual', 'sentence_tokens']].to_csv(f'./annotated/gold_standard.csv', index=False, sep='|')\n",
    "\n",
    "csv_checkpoint(sampled_documents, 'sampled_documents');"
   ]
  },
  {
   "cell_type": "code",
   "execution_count": 52,
   "metadata": {},
   "outputs": [
    {
     "data": {
      "text/html": [
       "<div>\n",
       "<style scoped>\n",
       "    .dataframe tbody tr th:only-of-type {\n",
       "        vertical-align: middle;\n",
       "    }\n",
       "\n",
       "    .dataframe tbody tr th {\n",
       "        vertical-align: top;\n",
       "    }\n",
       "\n",
       "    .dataframe thead th {\n",
       "        text-align: right;\n",
       "    }\n",
       "</style>\n",
       "<table border=\"1\" class=\"dataframe\">\n",
       "  <thead>\n",
       "    <tr style=\"text-align: right;\">\n",
       "      <th></th>\n",
       "      <th>company</th>\n",
       "      <th>datatype</th>\n",
       "      <th>date</th>\n",
       "      <th>domain</th>\n",
       "      <th>esg_topics</th>\n",
       "      <th>internal</th>\n",
       "      <th>symbol</th>\n",
       "      <th>title</th>\n",
       "      <th>cleaned_content</th>\n",
       "      <th>word_tokens</th>\n",
       "      <th>...</th>\n",
       "      <th>pos_tagged_sentence_tokens</th>\n",
       "      <th>market_cap_in_usd_b</th>\n",
       "      <th>sector</th>\n",
       "      <th>industry</th>\n",
       "      <th>sentiment_value</th>\n",
       "      <th>year_month</th>\n",
       "      <th>year</th>\n",
       "      <th>month</th>\n",
       "      <th>original_index</th>\n",
       "      <th>sentiment_manual</th>\n",
       "    </tr>\n",
       "  </thead>\n",
       "  <tbody>\n",
       "    <tr>\n",
       "      <th>0</th>\n",
       "      <td>Heidelberg Cement</td>\n",
       "      <td>general</td>\n",
       "      <td>2022-09-19</td>\n",
       "      <td>financialpost</td>\n",
       "      <td>[NaturalResources, Lobbying, Privacy, Environm...</td>\n",
       "      <td>0</td>\n",
       "      <td>HEI</td>\n",
       "      <td>The Room Where It Happens: A quiet summer for ...</td>\n",
       "      <td>ottawa summer prime lobbying time minister spe...</td>\n",
       "      <td>[ottawa, summer, prime, lobbying, time, minist...</td>\n",
       "      <td>...</td>\n",
       "      <td>[[(ottawa, JJ), (summer, NN), (prime, JJ), (lo...</td>\n",
       "      <td>11.91</td>\n",
       "      <td>Basic Materials</td>\n",
       "      <td>Building Materials</td>\n",
       "      <td>0.261425</td>\n",
       "      <td>2022-09</td>\n",
       "      <td>2022</td>\n",
       "      <td>09</td>\n",
       "      <td>5691</td>\n",
       "      <td>0.0</td>\n",
       "    </tr>\n",
       "    <tr>\n",
       "      <th>1</th>\n",
       "      <td>E ONSE</td>\n",
       "      <td>business</td>\n",
       "      <td>2021-08-14</td>\n",
       "      <td>marketscreener</td>\n",
       "      <td>[NuclearPower, Environment, Biodiversity]</td>\n",
       "      <td>0</td>\n",
       "      <td>EOAN</td>\n",
       "      <td>PRESS RELEASE: E.ON SE: E.ON delivers strong f...</td>\n",
       "      <td>dgapnews eon se key word half result eon se eo...</td>\n",
       "      <td>[dgapnews, eon, se, key, word, half, result, e...</td>\n",
       "      <td>...</td>\n",
       "      <td>[[(dgapnews, NNS), (se, FW), (key, NN), (word,...</td>\n",
       "      <td>27.70</td>\n",
       "      <td>Utilities</td>\n",
       "      <td>Utilities—Diversified</td>\n",
       "      <td>0.254090</td>\n",
       "      <td>2021-08</td>\n",
       "      <td>2021</td>\n",
       "      <td>08</td>\n",
       "      <td>5377</td>\n",
       "      <td>1.0</td>\n",
       "    </tr>\n",
       "    <tr>\n",
       "      <th>2</th>\n",
       "      <td>Continental</td>\n",
       "      <td>general</td>\n",
       "      <td>2022-06-20</td>\n",
       "      <td>globenewswire</td>\n",
       "      <td>[EMobility, Cybersecurity]</td>\n",
       "      <td>0</td>\n",
       "      <td>CON</td>\n",
       "      <td>Automotive Over-the-Air ( OTA) Market to Garne...</td>\n",
       "      <td>portland june globe newswire per report publis...</td>\n",
       "      <td>[portland, june, globe, newswire, per, report,...</td>\n",
       "      <td>...</td>\n",
       "      <td>[[(portland, NN), (june, NN), (globe, NN), (ne...</td>\n",
       "      <td>13.27</td>\n",
       "      <td>Consumer Discretionary</td>\n",
       "      <td>Auto Parts</td>\n",
       "      <td>0.285177</td>\n",
       "      <td>2022-06</td>\n",
       "      <td>2022</td>\n",
       "      <td>06</td>\n",
       "      <td>3050</td>\n",
       "      <td>0.5</td>\n",
       "    </tr>\n",
       "    <tr>\n",
       "      <th>3</th>\n",
       "      <td>Bayer</td>\n",
       "      <td>general</td>\n",
       "      <td>2022-08-17</td>\n",
       "      <td>prnewswire.co</td>\n",
       "      <td>[GenderDiversity, ValueChain, Social]</td>\n",
       "      <td>0</td>\n",
       "      <td>BAYN</td>\n",
       "      <td>At 11.2% CAGR, Global Herbal Medicine Market S...</td>\n",
       "      <td>august prnewswire per zion market research stu...</td>\n",
       "      <td>[august, prnewswire, per, zion, market, resear...</td>\n",
       "      <td>...</td>\n",
       "      <td>[[(august, JJ), (prnewswire, NN), (per, IN), (...</td>\n",
       "      <td>51.63</td>\n",
       "      <td>Healthcare</td>\n",
       "      <td>Drug Manufacturers—General</td>\n",
       "      <td>0.252548</td>\n",
       "      <td>2022-08</td>\n",
       "      <td>2022</td>\n",
       "      <td>08</td>\n",
       "      <td>2334</td>\n",
       "      <td>1.0</td>\n",
       "    </tr>\n",
       "    <tr>\n",
       "      <th>4</th>\n",
       "      <td>Bayer</td>\n",
       "      <td>general</td>\n",
       "      <td>2022-04-06</td>\n",
       "      <td>prnewswire.co</td>\n",
       "      <td>[HumanCapital]</td>\n",
       "      <td>0</td>\n",
       "      <td>BAYN</td>\n",
       "      <td>Nordic Nanovector ASA Announces Proposed Board...</td>\n",
       "      <td>oslo norway april prnewswire asa ose nanov ann...</td>\n",
       "      <td>[oslo, norway, april, prnewswire, asa, ose, na...</td>\n",
       "      <td>...</td>\n",
       "      <td>[[(oslo, VBP), (norway, RB), (april, NN), (prn...</td>\n",
       "      <td>51.63</td>\n",
       "      <td>Healthcare</td>\n",
       "      <td>Drug Manufacturers—General</td>\n",
       "      <td>0.453465</td>\n",
       "      <td>2022-04</td>\n",
       "      <td>2022</td>\n",
       "      <td>04</td>\n",
       "      <td>2281</td>\n",
       "      <td>0.5</td>\n",
       "    </tr>\n",
       "  </tbody>\n",
       "</table>\n",
       "<p>5 rows × 22 columns</p>\n",
       "</div>"
      ],
      "text/plain": [
       "             company  datatype       date          domain  \\\n",
       "0  Heidelberg Cement   general 2022-09-19   financialpost   \n",
       "1             E ONSE  business 2021-08-14  marketscreener   \n",
       "2        Continental   general 2022-06-20   globenewswire   \n",
       "3              Bayer   general 2022-08-17   prnewswire.co   \n",
       "4              Bayer   general 2022-04-06   prnewswire.co   \n",
       "\n",
       "                                          esg_topics  internal symbol  \\\n",
       "0  [NaturalResources, Lobbying, Privacy, Environm...         0    HEI   \n",
       "1          [NuclearPower, Environment, Biodiversity]         0   EOAN   \n",
       "2                         [EMobility, Cybersecurity]         0    CON   \n",
       "3              [GenderDiversity, ValueChain, Social]         0   BAYN   \n",
       "4                                     [HumanCapital]         0   BAYN   \n",
       "\n",
       "                                               title  \\\n",
       "0  The Room Where It Happens: A quiet summer for ...   \n",
       "1  PRESS RELEASE: E.ON SE: E.ON delivers strong f...   \n",
       "2  Automotive Over-the-Air ( OTA) Market to Garne...   \n",
       "3  At 11.2% CAGR, Global Herbal Medicine Market S...   \n",
       "4  Nordic Nanovector ASA Announces Proposed Board...   \n",
       "\n",
       "                                     cleaned_content  \\\n",
       "0  ottawa summer prime lobbying time minister spe...   \n",
       "1  dgapnews eon se key word half result eon se eo...   \n",
       "2  portland june globe newswire per report publis...   \n",
       "3  august prnewswire per zion market research stu...   \n",
       "4  oslo norway april prnewswire asa ose nanov ann...   \n",
       "\n",
       "                                         word_tokens  ...  \\\n",
       "0  [ottawa, summer, prime, lobbying, time, minist...  ...   \n",
       "1  [dgapnews, eon, se, key, word, half, result, e...  ...   \n",
       "2  [portland, june, globe, newswire, per, report,...  ...   \n",
       "3  [august, prnewswire, per, zion, market, resear...  ...   \n",
       "4  [oslo, norway, april, prnewswire, asa, ose, na...  ...   \n",
       "\n",
       "                          pos_tagged_sentence_tokens market_cap_in_usd_b  \\\n",
       "0  [[(ottawa, JJ), (summer, NN), (prime, JJ), (lo...               11.91   \n",
       "1  [[(dgapnews, NNS), (se, FW), (key, NN), (word,...               27.70   \n",
       "2  [[(portland, NN), (june, NN), (globe, NN), (ne...               13.27   \n",
       "3  [[(august, JJ), (prnewswire, NN), (per, IN), (...               51.63   \n",
       "4  [[(oslo, VBP), (norway, RB), (april, NN), (prn...               51.63   \n",
       "\n",
       "                   sector                    industry sentiment_value  \\\n",
       "0         Basic Materials          Building Materials        0.261425   \n",
       "1               Utilities       Utilities—Diversified        0.254090   \n",
       "2  Consumer Discretionary                  Auto Parts        0.285177   \n",
       "3              Healthcare  Drug Manufacturers—General        0.252548   \n",
       "4              Healthcare  Drug Manufacturers—General        0.453465   \n",
       "\n",
       "  year_month  year month original_index sentiment_manual  \n",
       "0    2022-09  2022    09           5691              0.0  \n",
       "1    2021-08  2021    08           5377              1.0  \n",
       "2    2022-06  2022    06           3050              0.5  \n",
       "3    2022-08  2022    08           2334              1.0  \n",
       "4    2022-04  2022    04           2281              0.5  \n",
       "\n",
       "[5 rows x 22 columns]"
      ]
     },
     "execution_count": 52,
     "metadata": {},
     "output_type": "execute_result"
    }
   ],
   "source": [
    "# Check the manually annotated data\n",
    "sampled_documents[sampled_documents['sentiment_manual'].notnull()].head()"
   ]
  },
  {
   "attachments": {},
   "cell_type": "markdown",
   "metadata": {},
   "source": [
    "The manually added annotations for 1,000 samples are correctly stored in the column \"sentiment_manual\""
   ]
  },
  {
   "attachments": {},
   "cell_type": "markdown",
   "metadata": {},
   "source": [
    "## LLM Annotation Tests"
   ]
  },
  {
   "attachments": {},
   "cell_type": "markdown",
   "metadata": {},
   "source": [
    "### Test LLM's with prompting strategies (zero-shot and few-shot)\n",
    "To test different prompting strategies, ChatGPT and FLAN-T5 is used. The documentation of the GPT parameters from OpenAI can be found here: https://platform.openai.com/docs/api-reference/completions/create"
   ]
  },
  {
   "cell_type": "code",
   "execution_count": 53,
   "metadata": {},
   "outputs": [],
   "source": [
    "# Check if API key file exists\n",
    "API_KEY = open('api_key.txt', 'r').read().strip() if os.path.exists('api_key.txt') else input(\"Please enter your OpenAI/ChatGPT API key: \").strip()\n",
    "if len(API_KEY) <= 20: raise ValueError(\"Invalid OpenAI API key. Please ensure your API key is correct.\")\n",
    "\n",
    "# Set up the OpenAI API client\n",
    "openai.api_key = API_KEY\n",
    "sample_text = \"Nike has focused on reducing its waste and using renewable energy, while Adidas has created a greener supply chain and pledged that, by 2025, nine out of 10 Adidas articles will be made from sustainable materials.\""
   ]
  },
  {
   "attachments": {},
   "cell_type": "markdown",
   "metadata": {},
   "source": [
    "First, a simple direct request:"
   ]
  },
  {
   "cell_type": "code",
   "execution_count": 54,
   "metadata": {},
   "outputs": [
    {
     "name": "stdout",
     "output_type": "stream",
     "text": [
      "1.0\n"
     ]
    }
   ],
   "source": [
    "prompt = 'Determine the sentiment in the following text regarding sustainability practices (0.0 for negative, 0.5 for neutral and 1.0 for positive). Output only the value:'\n",
    "response = openai.Completion.create(model=\"text-davinci-003\", prompt=f'{prompt}\\n\\n {sample_text}', temperature=0.0, max_tokens=10)\n",
    "print(response.choices[0].text.strip())"
   ]
  },
  {
   "attachments": {},
   "cell_type": "markdown",
   "metadata": {},
   "source": [
    "As a second test framing the task in a scenario:"
   ]
  },
  {
   "cell_type": "code",
   "execution_count": 55,
   "metadata": {},
   "outputs": [
    {
     "name": "stdout",
     "output_type": "stream",
     "text": [
      "1.0\n"
     ]
    }
   ],
   "source": [
    "prompt = 'You are an AI trained in sentiment analysis. Provide a sentiment score for the following statement about sustainability (0.0 for negative, 0.5 for neutral, and 1.0 for positive):'\n",
    "response = openai.Completion.create(model=\"text-davinci-003\", prompt=f'{prompt}\\n\\n {sample_text}', temperature=0.0, max_tokens=10)\n",
    "print(response.choices[0].text.strip())"
   ]
  },
  {
   "attachments": {},
   "cell_type": "markdown",
   "metadata": {},
   "source": [
    "Explaining the Consequence:"
   ]
  },
  {
   "cell_type": "code",
   "execution_count": 56,
   "metadata": {},
   "outputs": [
    {
     "name": "stdout",
     "output_type": "stream",
     "text": [
      "1.0\n"
     ]
    }
   ],
   "source": [
    "prompt = 'Consider the following text. If the statement portrays a negative view of sustainability, assign a value of 0.0; if it is neutral, assign 0.5; and if it is positive, assign 1.0:'\n",
    "response = openai.Completion.create(model=\"text-davinci-003\", prompt=f'{prompt}\\n\\n {sample_text}', temperature=0.0, max_tokens=10)\n",
    "print(response.choices[0].text.strip())"
   ]
  },
  {
   "attachments": {},
   "cell_type": "markdown",
   "metadata": {},
   "source": [
    "Directing the model's role:"
   ]
  },
  {
   "cell_type": "code",
   "execution_count": 57,
   "metadata": {},
   "outputs": [
    {
     "name": "stdout",
     "output_type": "stream",
     "text": [
      "1.0\n"
     ]
    }
   ],
   "source": [
    "prompt = 'As an AI with sentiment analysis capabilities, analyze the sentiment of the following statement on sustainability (0.0 for negative, 0.5 for neutral, and 1.0 for positive):'\n",
    "response = openai.Completion.create(model=\"text-davinci-003\", prompt=f'{prompt}\\n\\n {sample_text}', temperature=0.0, max_tokens=10)\n",
    "print(response.choices[0].text.strip())"
   ]
  },
  {
   "attachments": {},
   "cell_type": "markdown",
   "metadata": {},
   "source": [
    "Create the prompts using the few-shot Strategy where the model is provided with some examples to learn from, starting with a direct request:"
   ]
  },
  {
   "cell_type": "code",
   "execution_count": 58,
   "metadata": {},
   "outputs": [
    {
     "name": "stdout",
     "output_type": "stream",
     "text": [
      "1.0\n"
     ]
    }
   ],
   "source": [
    "prompt = 'Similar to how the sentiment of the text \"The company has failed in all its sustainability efforts\" would be 0.0, and \"The company has exceeded all its sustainability targets\" would be 1.0, determine the sentiment of the following text:'\n",
    "response = openai.Completion.create(model=\"text-davinci-003\", prompt=f'{prompt}\\n\\n {sample_text}', max_tokens=10)\n",
    "print(response.choices[0].text.strip())"
   ]
  },
  {
   "attachments": {},
   "cell_type": "markdown",
   "metadata": {},
   "source": [
    "Sequential Examples:"
   ]
  },
  {
   "cell_type": "code",
   "execution_count": 59,
   "metadata": {},
   "outputs": [
    {
     "name": "stdout",
     "output_type": "stream",
     "text": [
      "1.0\n"
     ]
    }
   ],
   "source": [
    "prompt = 'The sentiment of the text \"The company is sustainability efforts are non-existent\" is 0.0. \\n \\\n",
    "The sentiment of the text \"The company is doing a decent job in sustainability efforts\" is 0.5. \\n \\\n",
    "The sentiment of the text \"The company is sustainability efforts are excellent\" is 1.0. \\n \\\n",
    "Based on this, determine the sentiment of the following text:'\n",
    "\n",
    "prompt = 'Similar to how the sentiment of the text \"The company has failed in all its sustainability efforts\" would be 0.0, and \"The company has exceeded all its sustainability targets\" would be 1.0, determine the sentiment of the following text:'\n",
    "response = openai.Completion.create(model=\"text-davinci-003\", prompt=f'{prompt}\\n\\n {sample_text}', max_tokens=10)\n",
    "print(response.choices[0].text.strip())"
   ]
  },
  {
   "attachments": {},
   "cell_type": "markdown",
   "metadata": {},
   "source": [
    "Multiple Example Statements:"
   ]
  },
  {
   "cell_type": "code",
   "execution_count": 60,
   "metadata": {},
   "outputs": [
    {
     "name": "stdout",
     "output_type": "stream",
     "text": [
      "0.9\n"
     ]
    }
   ],
   "source": [
    "prompt = 'Consider the following examples: \\n \\\n",
    "Text: \"The company has completely failed in its sustainability efforts\", Sentiment: 0.0. \\n \\\n",
    "Text: \"The companys sustainability efforts are reasonable\", Sentiment: 0.5.  \\n \\\n",
    "Text: \"The company is leading the industry in sustainability efforts\", Sentiment: 1.0.  \\n \\\n",
    "Now, determine the sentiment of the following text:'\n",
    "\n",
    "prompt = 'Similar to how the sentiment of the text \"The company has failed in all its sustainability efforts\" would be 0.0, and \"The company has exceeded all its sustainability targets\" would be 1.0, determine the sentiment of the following text:'\n",
    "response = openai.Completion.create(model=\"text-davinci-003\", prompt=f'{prompt}\\n\\n {sample_text}', max_tokens=10)\n",
    "print(response.choices[0].text.strip())"
   ]
  },
  {
   "attachments": {},
   "cell_type": "markdown",
   "metadata": {},
   "source": [
    "Setting up Google's FLAN model (https://huggingface.co/docs/transformers/model_doc/flan-t5) as a second LLM to test the different prompts."
   ]
  },
  {
   "cell_type": "code",
   "execution_count": 61,
   "metadata": {},
   "outputs": [
    {
     "data": {
      "application/vnd.jupyter.widget-view+json": {
       "model_id": "a9ae1a7cd7964a469fc995e9a9f00f36",
       "version_major": 2,
       "version_minor": 0
      },
      "text/plain": [
       "Downloading (…)lve/main/config.json:   0%|          | 0.00/1.40k [00:00<?, ?B/s]"
      ]
     },
     "metadata": {},
     "output_type": "display_data"
    },
    {
     "data": {
      "application/vnd.jupyter.widget-view+json": {
       "model_id": "fe43003a878146f5b9651a6ee33da751",
       "version_major": 2,
       "version_minor": 0
      },
      "text/plain": [
       "Downloading pytorch_model.bin:   0%|          | 0.00/990M [00:00<?, ?B/s]"
      ]
     },
     "metadata": {},
     "output_type": "display_data"
    },
    {
     "data": {
      "application/vnd.jupyter.widget-view+json": {
       "model_id": "012a2b325203412680dba2917080ba85",
       "version_major": 2,
       "version_minor": 0
      },
      "text/plain": [
       "Downloading (…)neration_config.json:   0%|          | 0.00/147 [00:00<?, ?B/s]"
      ]
     },
     "metadata": {},
     "output_type": "display_data"
    },
    {
     "data": {
      "application/vnd.jupyter.widget-view+json": {
       "model_id": "7f3a9262f70644108d0f315c4a08a78a",
       "version_major": 2,
       "version_minor": 0
      },
      "text/plain": [
       "Downloading (…)okenizer_config.json:   0%|          | 0.00/2.54k [00:00<?, ?B/s]"
      ]
     },
     "metadata": {},
     "output_type": "display_data"
    },
    {
     "data": {
      "application/vnd.jupyter.widget-view+json": {
       "model_id": "92eef4a2f9684de39c4ef264629869d6",
       "version_major": 2,
       "version_minor": 0
      },
      "text/plain": [
       "Downloading spiece.model:   0%|          | 0.00/792k [00:00<?, ?B/s]"
      ]
     },
     "metadata": {},
     "output_type": "display_data"
    },
    {
     "data": {
      "application/vnd.jupyter.widget-view+json": {
       "model_id": "606b5164832044f68d0c0cd4df32d5fb",
       "version_major": 2,
       "version_minor": 0
      },
      "text/plain": [
       "Downloading (…)/main/tokenizer.json:   0%|          | 0.00/2.42M [00:00<?, ?B/s]"
      ]
     },
     "metadata": {},
     "output_type": "display_data"
    },
    {
     "data": {
      "application/vnd.jupyter.widget-view+json": {
       "model_id": "6290f5a576e944a1822367dadbf9e6d8",
       "version_major": 2,
       "version_minor": 0
      },
      "text/plain": [
       "Downloading (…)cial_tokens_map.json:   0%|          | 0.00/2.20k [00:00<?, ?B/s]"
      ]
     },
     "metadata": {},
     "output_type": "display_data"
    }
   ],
   "source": [
    "# Initializing the model and the tokenizer\n",
    "model = AutoModelForSeq2SeqLM.from_pretrained(\"google/flan-t5-base\")\n",
    "tokenizer = AutoTokenizer.from_pretrained(\"google/flan-t5-base\", max_length=100)"
   ]
  },
  {
   "attachments": {},
   "cell_type": "markdown",
   "metadata": {},
   "source": [
    "Testing a zero-shot direct request:"
   ]
  },
  {
   "cell_type": "code",
   "execution_count": 62,
   "metadata": {},
   "outputs": [
    {
     "name": "stdout",
     "output_type": "stream",
     "text": [
      "<pad> 1.0</s>\n"
     ]
    },
    {
     "name": "stderr",
     "output_type": "stream",
     "text": [
      "/home/tim/miniconda3/envs/venv-hslu-nlp/lib/python3.10/site-packages/transformers/generation/utils.py:1346: UserWarning: Using `max_length`'s default (20) to control the generation length. This behaviour is deprecated and will be removed from the config in v5 of Transformers -- we recommend using `max_new_tokens` to control the maximum length of the generation.\n",
      "  warnings.warn(\n"
     ]
    }
   ],
   "source": [
    "prompt = 'Determine the sentiment in the following text regarding sustainability practices (0.0 for negative, 0.5 for neutral and 1.0 for positive). Output only the value:'\n",
    "input_text = f'{prompt} {sample_text}'\n",
    "input_ids = tokenizer(input_text, return_tensors=\"pt\").input_ids\n",
    "outputs = model.generate(input_ids)\n",
    "print(tokenizer.decode(outputs[0]))"
   ]
  },
  {
   "cell_type": "code",
   "execution_count": 63,
   "metadata": {},
   "outputs": [
    {
     "name": "stdout",
     "output_type": "stream",
     "text": [
      "<pad> positive</s>\n"
     ]
    }
   ],
   "source": [
    "prompt = 'The sentiment of the text \"The company is sustainability efforts are non-existent\" is 0.0. \\n \\\n",
    "The sentiment of the text \"The company is doing a decent job in sustainability efforts\" is 0.5. \\n \\\n",
    "The sentiment of the text \"The company is sustainability efforts are excellent\" is 1.0. \\n \\\n",
    "Based on this, determine the sentiment of the following text:'\n",
    "input_text = f'{prompt} {sample_text}'\n",
    "input_ids = tokenizer(input_text, return_tensors=\"pt\").input_ids\n",
    "outputs = model.generate(input_ids)\n",
    "print(tokenizer.decode(outputs[0]))"
   ]
  },
  {
   "cell_type": "code",
   "execution_count": 64,
   "metadata": {},
   "outputs": [
    {
     "name": "stdout",
     "output_type": "stream",
     "text": [
      "<pad> 1.0</s>\n"
     ]
    }
   ],
   "source": [
    "prompt = 'Consider the following examples: \\n \\\n",
    "Text: \"The company has completely failed in its sustainability efforts\", Sentiment: 0.0. \\n \\\n",
    "Text: \"The companys sustainability efforts are reasonable\", Sentiment: 0.5.  \\n \\\n",
    "Text: \"The company is leading the industry in sustainability efforts\", Sentiment: 1.0.  \\n \\\n",
    "Now, determine the sentiment of the following text:'\n",
    "input_text = f'{prompt} {sample_text}'\n",
    "input_ids = tokenizer(input_text, return_tensors=\"pt\").input_ids\n",
    "outputs = model.generate(input_ids)\n",
    "print(tokenizer.decode(outputs[0]))"
   ]
  },
  {
   "attachments": {},
   "cell_type": "markdown",
   "metadata": {},
   "source": [
    "Zero-shot strategies, where the model receives no prior examples, are more direct and succinct. These strategies involve formulating a straightforward request, framing the request in a specific context or scenario, defining the consequences of the sentiment, or defining the model's role explicitly.  \n",
    "Few-shot strategies, on the other hand, leverage the learning capacity of the GPT/FLAN models by providing a set of examples in the prompt. They can be designed by providing direct, sequential, or multiple example statements, or by embedding the examples within the request itself.  \n",
    "\n",
    "The selection of strategy largely depends on the complexity of the task and the nuances of the text involved. While zero-shot strategies are quicker and more straightforward, few-shot strategies can offer a more nuanced understanding of the task and potentially improve the model's performance.  \n",
    "They help the model generalize the sentiment classification pattern from the examples provided. Therefore, a balance of both strategies, depending on the specific use case and requirements, can result in more accurate and reliable sentiment analysis outcomes.\n",
    "\n",
    "tl;dr: More provided information leads to better results but takes more time in terms of computation and formulating."
   ]
  },
  {
   "attachments": {},
   "cell_type": "markdown",
   "metadata": {},
   "source": [
    "### Predicting the Sentiment with different Models"
   ]
  },
  {
   "attachments": {},
   "cell_type": "markdown",
   "metadata": {},
   "source": [
    "Huggingface offers a huge variety of pre-trained models for NLP tasks, including already finetuned models for sentiment analysis:  \n",
    "https://huggingface.co/models?pipeline_tag=text-classification&sort=likes&search=sentiment\n",
    "\n",
    "\n",
    "First, a fe are tested \"by hand\" to get a feeling of the predicted scores, the outputs and the model's capabilities:"
   ]
  },
  {
   "cell_type": "code",
   "execution_count": 65,
   "metadata": {},
   "outputs": [],
   "source": [
    "# Generic function to run a Huggingface pipeline and extract the sentiment value\n",
    "def get_sentiment_score_single(sentence, pipeline):\n",
    "    return pipeline(sentence)[0]"
   ]
  },
  {
   "cell_type": "code",
   "execution_count": 66,
   "metadata": {},
   "outputs": [
    {
     "data": {
      "application/vnd.jupyter.widget-view+json": {
       "model_id": "f3b1950ca5ce4a1db0df57065f6ef28f",
       "version_major": 2,
       "version_minor": 0
      },
      "text/plain": [
       "Downloading (…)lve/main/config.json:   0%|          | 0.00/747 [00:00<?, ?B/s]"
      ]
     },
     "metadata": {},
     "output_type": "display_data"
    },
    {
     "data": {
      "application/vnd.jupyter.widget-view+json": {
       "model_id": "318e243dae4b4b37a8a99428bc814bc5",
       "version_major": 2,
       "version_minor": 0
      },
      "text/plain": [
       "Downloading pytorch_model.bin:   0%|          | 0.00/499M [00:00<?, ?B/s]"
      ]
     },
     "metadata": {},
     "output_type": "display_data"
    },
    {
     "data": {
      "application/vnd.jupyter.widget-view+json": {
       "model_id": "b761207ed7674cf5a62625d3febc8053",
       "version_major": 2,
       "version_minor": 0
      },
      "text/plain": [
       "Downloading (…)olve/main/vocab.json:   0%|          | 0.00/899k [00:00<?, ?B/s]"
      ]
     },
     "metadata": {},
     "output_type": "display_data"
    },
    {
     "data": {
      "application/vnd.jupyter.widget-view+json": {
       "model_id": "fe3c3f4428114506bae926c3324dd550",
       "version_major": 2,
       "version_minor": 0
      },
      "text/plain": [
       "Downloading (…)olve/main/merges.txt:   0%|          | 0.00/456k [00:00<?, ?B/s]"
      ]
     },
     "metadata": {},
     "output_type": "display_data"
    },
    {
     "data": {
      "application/vnd.jupyter.widget-view+json": {
       "model_id": "755a27054f554049b4193983b8efe06c",
       "version_major": 2,
       "version_minor": 0
      },
      "text/plain": [
       "Downloading (…)cial_tokens_map.json:   0%|          | 0.00/150 [00:00<?, ?B/s]"
      ]
     },
     "metadata": {},
     "output_type": "display_data"
    },
    {
     "name": "stdout",
     "output_type": "stream",
     "text": [
      "{'label': 'LABEL_2', 'score': 0.8181973695755005}\n"
     ]
    }
   ],
   "source": [
    "# Intializing a RoBERTa model\n",
    "roberta_l = pipeline(\"sentiment-analysis\", model=\"cardiffnlp/twitter-roberta-base-sentiment\")\n",
    "print(get_sentiment_score_single(sample_text, roberta_l))"
   ]
  },
  {
   "cell_type": "code",
   "execution_count": 67,
   "metadata": {},
   "outputs": [
    {
     "data": {
      "application/vnd.jupyter.widget-view+json": {
       "model_id": "c6bf3668ed844d15b184afde1c4dcc1a",
       "version_major": 2,
       "version_minor": 0
      },
      "text/plain": [
       "Downloading (…)lve/main/config.json:   0%|          | 0.00/629 [00:00<?, ?B/s]"
      ]
     },
     "metadata": {},
     "output_type": "display_data"
    },
    {
     "data": {
      "application/vnd.jupyter.widget-view+json": {
       "model_id": "c2304f261bd44f1ca3997e55918289d7",
       "version_major": 2,
       "version_minor": 0
      },
      "text/plain": [
       "Downloading pytorch_model.bin:   0%|          | 0.00/268M [00:00<?, ?B/s]"
      ]
     },
     "metadata": {},
     "output_type": "display_data"
    },
    {
     "data": {
      "application/vnd.jupyter.widget-view+json": {
       "model_id": "f50cb3da57d14fea8261158ccbae2272",
       "version_major": 2,
       "version_minor": 0
      },
      "text/plain": [
       "Downloading (…)okenizer_config.json:   0%|          | 0.00/48.0 [00:00<?, ?B/s]"
      ]
     },
     "metadata": {},
     "output_type": "display_data"
    },
    {
     "data": {
      "application/vnd.jupyter.widget-view+json": {
       "model_id": "62ead877c00547bba63e18923c7a3fd0",
       "version_major": 2,
       "version_minor": 0
      },
      "text/plain": [
       "Downloading (…)solve/main/vocab.txt:   0%|          | 0.00/232k [00:00<?, ?B/s]"
      ]
     },
     "metadata": {},
     "output_type": "display_data"
    },
    {
     "name": "stdout",
     "output_type": "stream",
     "text": [
      "{'label': 'POSITIVE', 'score': 0.907453179359436}\n"
     ]
    }
   ],
   "source": [
    "distilbert = pipeline(\"sentiment-analysis\", model=\"distilbert-base-uncased-finetuned-sst-2-english\")\n",
    "print(get_sentiment_score_single(sample_text, distilbert))"
   ]
  },
  {
   "cell_type": "code",
   "execution_count": 68,
   "metadata": {},
   "outputs": [
    {
     "data": {
      "application/vnd.jupyter.widget-view+json": {
       "model_id": "3e8561b12eee43dbbf51d62cc8ab91ad",
       "version_major": 2,
       "version_minor": 0
      },
      "text/plain": [
       "Downloading (…)lve/main/config.json:   0%|          | 0.00/769 [00:00<?, ?B/s]"
      ]
     },
     "metadata": {},
     "output_type": "display_data"
    },
    {
     "data": {
      "application/vnd.jupyter.widget-view+json": {
       "model_id": "265cbbf3ee4f4a898d636cb163d767a4",
       "version_major": 2,
       "version_minor": 0
      },
      "text/plain": [
       "Downloading pytorch_model.bin:   0%|          | 0.00/268M [00:00<?, ?B/s]"
      ]
     },
     "metadata": {},
     "output_type": "display_data"
    },
    {
     "data": {
      "application/vnd.jupyter.widget-view+json": {
       "model_id": "2ec9cc8afb7745e4975b75fcabc16943",
       "version_major": 2,
       "version_minor": 0
      },
      "text/plain": [
       "Downloading (…)okenizer_config.json:   0%|          | 0.00/333 [00:00<?, ?B/s]"
      ]
     },
     "metadata": {},
     "output_type": "display_data"
    },
    {
     "data": {
      "application/vnd.jupyter.widget-view+json": {
       "model_id": "557c0cc140e149b8959b0d45632d6063",
       "version_major": 2,
       "version_minor": 0
      },
      "text/plain": [
       "Downloading (…)solve/main/vocab.txt:   0%|          | 0.00/232k [00:00<?, ?B/s]"
      ]
     },
     "metadata": {},
     "output_type": "display_data"
    },
    {
     "data": {
      "application/vnd.jupyter.widget-view+json": {
       "model_id": "6ad20fac9b56463887515d48593602fe",
       "version_major": 2,
       "version_minor": 0
      },
      "text/plain": [
       "Downloading (…)/main/tokenizer.json:   0%|          | 0.00/711k [00:00<?, ?B/s]"
      ]
     },
     "metadata": {},
     "output_type": "display_data"
    },
    {
     "data": {
      "application/vnd.jupyter.widget-view+json": {
       "model_id": "f98558f13e7a4ef0a2c49f989dc2fac3",
       "version_major": 2,
       "version_minor": 0
      },
      "text/plain": [
       "Downloading (…)cial_tokens_map.json:   0%|          | 0.00/112 [00:00<?, ?B/s]"
      ]
     },
     "metadata": {},
     "output_type": "display_data"
    },
    {
     "name": "stdout",
     "output_type": "stream",
     "text": [
      "{'label': 'LABEL_1', 'score': 0.9849261045455933}\n"
     ]
    }
   ],
   "source": [
    "sentiment_analysis_generic = pipeline(\"sentiment-analysis\", model=\"Seethal/sentiment_analysis_generic_dataset\")\n",
    "print(get_sentiment_score_single(sample_text, sentiment_analysis_generic))"
   ]
  },
  {
   "attachments": {},
   "cell_type": "markdown",
   "metadata": {},
   "source": [
    "In the following code snippet, multiple models from Huggingface can be specified to predict the sentiment of all sampled sentences.  \n",
    "The sentiment value is stored and can be used for later comparison. The models were choosen quite heuristic, based on the likes and download count."
   ]
  },
  {
   "cell_type": "code",
   "execution_count": 69,
   "metadata": {},
   "outputs": [
    {
     "name": "stdout",
     "output_type": "stream",
     "text": [
      "Running sentiment analysis with model: cardiffnlp/twitter-roberta-base-sentiment\n"
     ]
    },
    {
     "name": "stderr",
     "output_type": "stream",
     "text": [
      "100%|██████████| 1000/1000 [00:19<00:00, 51.19it/s]\n"
     ]
    },
    {
     "name": "stdout",
     "output_type": "stream",
     "text": [
      "Running sentiment analysis with model: distilbert-base-uncased-finetuned-sst-2-english\n"
     ]
    },
    {
     "name": "stderr",
     "output_type": "stream",
     "text": [
      "100%|██████████| 1000/1000 [00:10<00:00, 99.83it/s] \n"
     ]
    },
    {
     "name": "stdout",
     "output_type": "stream",
     "text": [
      "Running sentiment analysis with model: Seethal/sentiment_analysis_generic_dataset\n"
     ]
    },
    {
     "name": "stderr",
     "output_type": "stream",
     "text": [
      "100%|██████████| 1000/1000 [00:09<00:00, 104.57it/s]\n"
     ]
    },
    {
     "name": "stdout",
     "output_type": "stream",
     "text": [
      "Running sentiment analysis with model: siebert/sentiment-roberta-large-english\n"
     ]
    },
    {
     "data": {
      "application/vnd.jupyter.widget-view+json": {
       "model_id": "ac5efa3f89d94ae9918cfba7982232c6",
       "version_major": 2,
       "version_minor": 0
      },
      "text/plain": [
       "Downloading (…)lve/main/config.json:   0%|          | 0.00/687 [00:00<?, ?B/s]"
      ]
     },
     "metadata": {},
     "output_type": "display_data"
    },
    {
     "data": {
      "application/vnd.jupyter.widget-view+json": {
       "model_id": "b996e8866985448791a8378908adfb50",
       "version_major": 2,
       "version_minor": 0
      },
      "text/plain": [
       "Downloading pytorch_model.bin:   0%|          | 0.00/1.42G [00:00<?, ?B/s]"
      ]
     },
     "metadata": {},
     "output_type": "display_data"
    },
    {
     "data": {
      "application/vnd.jupyter.widget-view+json": {
       "model_id": "3752d7a95bb5497ea9591c6c88d0fa61",
       "version_major": 2,
       "version_minor": 0
      },
      "text/plain": [
       "Downloading (…)okenizer_config.json:   0%|          | 0.00/256 [00:00<?, ?B/s]"
      ]
     },
     "metadata": {},
     "output_type": "display_data"
    },
    {
     "data": {
      "application/vnd.jupyter.widget-view+json": {
       "model_id": "26b42f59be32429994848e5d35a9a57c",
       "version_major": 2,
       "version_minor": 0
      },
      "text/plain": [
       "Downloading (…)olve/main/vocab.json:   0%|          | 0.00/798k [00:00<?, ?B/s]"
      ]
     },
     "metadata": {},
     "output_type": "display_data"
    },
    {
     "data": {
      "application/vnd.jupyter.widget-view+json": {
       "model_id": "d1960b6c72c842179e047da1781048f4",
       "version_major": 2,
       "version_minor": 0
      },
      "text/plain": [
       "Downloading (…)olve/main/merges.txt:   0%|          | 0.00/456k [00:00<?, ?B/s]"
      ]
     },
     "metadata": {},
     "output_type": "display_data"
    },
    {
     "data": {
      "application/vnd.jupyter.widget-view+json": {
       "model_id": "f96a5d2ca24546f7bc0149c8cd355a60",
       "version_major": 2,
       "version_minor": 0
      },
      "text/plain": [
       "Downloading (…)cial_tokens_map.json:   0%|          | 0.00/150 [00:00<?, ?B/s]"
      ]
     },
     "metadata": {},
     "output_type": "display_data"
    },
    {
     "name": "stderr",
     "output_type": "stream",
     "text": [
      "100%|██████████| 1000/1000 [00:58<00:00, 17.01it/s]\n"
     ]
    },
    {
     "name": "stdout",
     "output_type": "stream",
     "text": [
      "Running sentiment analysis with model: nlptown/bert-base-multilingual-uncased-sentiment\n"
     ]
    },
    {
     "name": "stderr",
     "output_type": "stream",
     "text": [
      "100%|██████████| 1000/1000 [00:19<00:00, 51.48it/s]\n"
     ]
    }
   ],
   "source": [
    "TOKENIZERS_PARALLELISM=True\n",
    "\n",
    "# List of Huggingface models to use\n",
    "models = ['cardiffnlp/twitter-roberta-base-sentiment','distilbert-base-uncased-finetuned-sst-2-english', 'Seethal/sentiment_analysis_generic_dataset','siebert/sentiment-roberta-large-english', 'nlptown/bert-base-multilingual-uncased-sentiment']\n",
    "\n",
    "def get_sentiment_score(nlp, sentence):\n",
    "    result = nlp(sentence)[0]\n",
    "    score = result['score']\n",
    "    return score\n",
    "\n",
    "# Apply each model to the dataframe and store the results in a new column\n",
    "for model in models:\n",
    "    print(f'Running sentiment analysis with model: {model}')\n",
    "    nlp = pipeline('sentiment-analysis', model=model, use_fast=True) \n",
    "    sampled_documents[model] = sampled_documents['sentence_tokens'].progress_apply(lambda x: get_sentiment_score(nlp, x))"
   ]
  },
  {
   "cell_type": "code",
   "execution_count": 70,
   "metadata": {},
   "outputs": [],
   "source": [
    "# Function for Google's FLAN model\n",
    "def get_sentiment_flan(sentence, prompt, model, tokenizer):\n",
    "    input_text = f'{prompt} {sentence}'\n",
    "    input_ids = tokenizer(input_text, return_tensors=\"pt\").input_ids\n",
    "    outputs = model.generate(input_ids)\n",
    "    sentiment = tokenizer.decode(outputs[0])\n",
    "    \n",
    "    # Extract float using regex\n",
    "    match = re.search(r'\\d+\\.\\d+', sentiment)  # Extract only sentiment value\n",
    "    if match:\n",
    "        sentiment = float(match.group())\n",
    "    else:\n",
    "        sentiment = np.nan \n",
    "    \n",
    "    return sentiment\n",
    "\n",
    "# Function for OpenAI's text-davinci model\n",
    "def get_sentiment_gpt(sentence, prompt):\n",
    "    response = openai.Completion.create(\n",
    "        model=\"text-davinci-003\",\n",
    "        prompt=f'{prompt}\\n\\n{sentence}',\n",
    "        max_tokens=10)\n",
    "\n",
    "    # Extract float using regex\n",
    "    result_text = response.choices[0].text.strip()\n",
    "    match = re.search(r'\\d+\\.\\d+', result_text)  # Extract only sentiment value\n",
    "    if match:\n",
    "        response = float(match.group())\n",
    "    else:\n",
    "        response = np.nan \n",
    "    \n",
    "    return response"
   ]
  },
  {
   "cell_type": "code",
   "execution_count": 71,
   "metadata": {},
   "outputs": [
    {
     "name": "stdout",
     "output_type": "stream",
     "text": [
      "Running sentiment analysis with Google FLAN model\n"
     ]
    },
    {
     "name": "stderr",
     "output_type": "stream",
     "text": [
      "  0%|          | 0/1000 [00:00<?, ?it/s]/home/tim/miniconda3/envs/venv-hslu-nlp/lib/python3.10/site-packages/transformers/generation/utils.py:1346: UserWarning: Using `max_length`'s default (20) to control the generation length. This behaviour is deprecated and will be removed from the config in v5 of Transformers -- we recommend using `max_new_tokens` to control the maximum length of the generation.\n",
      "  warnings.warn(\n",
      "100%|██████████| 1000/1000 [01:35<00:00, 10.46it/s]\n"
     ]
    }
   ],
   "source": [
    "# Running the sentiment analysis with pre-defined functions/prompts for FLAN and ChatGPT\n",
    "model = AutoModelForSeq2SeqLM.from_pretrained(\"google/flan-t5-base\")\n",
    "tokenizer = AutoTokenizer.from_pretrained(\"google/flan-t5-base\", max_length=100)\n",
    "\n",
    "prompt_all_samples = 'Determine the sentiment in the following text regarding sustainability practices (0.0 for negative, 1.0 for positive). Output only the value as a decimal value between 0.0 and 1.0:'\n",
    "\n",
    "print('Running sentiment analysis with Google FLAN model')\n",
    "sampled_documents['flan'] = sampled_documents['sentence_tokens'].progress_apply(lambda x: get_sentiment_flan(x, prompt_all_samples, model, tokenizer))"
   ]
  },
  {
   "cell_type": "code",
   "execution_count": 73,
   "metadata": {},
   "outputs": [
    {
     "name": "stdout",
     "output_type": "stream",
     "text": [
      "Processing block 1 out of 25, attempt 1\n"
     ]
    },
    {
     "name": "stderr",
     "output_type": "stream",
     "text": [
      "100%|██████████| 40/40 [00:48<00:00,  1.21s/it]\n"
     ]
    },
    {
     "name": "stdout",
     "output_type": "stream",
     "text": [
      "Processing block 2 out of 25, attempt 1\n"
     ]
    },
    {
     "name": "stderr",
     "output_type": "stream",
     "text": [
      "100%|██████████| 40/40 [00:49<00:00,  1.23s/it]\n"
     ]
    },
    {
     "name": "stdout",
     "output_type": "stream",
     "text": [
      "Processing block 3 out of 25, attempt 1\n"
     ]
    },
    {
     "name": "stderr",
     "output_type": "stream",
     "text": [
      "100%|██████████| 40/40 [00:43<00:00,  1.09s/it]\n"
     ]
    },
    {
     "name": "stdout",
     "output_type": "stream",
     "text": [
      "Processing block 4 out of 25, attempt 1\n"
     ]
    },
    {
     "name": "stderr",
     "output_type": "stream",
     "text": [
      "100%|██████████| 40/40 [00:47<00:00,  1.19s/it]\n"
     ]
    },
    {
     "name": "stdout",
     "output_type": "stream",
     "text": [
      "Processing block 5 out of 25, attempt 1\n"
     ]
    },
    {
     "name": "stderr",
     "output_type": "stream",
     "text": [
      "100%|██████████| 40/40 [00:44<00:00,  1.12s/it]\n"
     ]
    },
    {
     "name": "stdout",
     "output_type": "stream",
     "text": [
      "Processing block 6 out of 25, attempt 1\n"
     ]
    },
    {
     "name": "stderr",
     "output_type": "stream",
     "text": [
      "100%|██████████| 40/40 [00:45<00:00,  1.13s/it]\n"
     ]
    },
    {
     "name": "stdout",
     "output_type": "stream",
     "text": [
      "Processing block 7 out of 25, attempt 1\n"
     ]
    },
    {
     "name": "stderr",
     "output_type": "stream",
     "text": [
      "100%|██████████| 40/40 [00:41<00:00,  1.05s/it]\n"
     ]
    },
    {
     "name": "stdout",
     "output_type": "stream",
     "text": [
      "Processing block 8 out of 25, attempt 1\n"
     ]
    },
    {
     "name": "stderr",
     "output_type": "stream",
     "text": [
      "100%|██████████| 40/40 [00:50<00:00,  1.26s/it]\n"
     ]
    },
    {
     "name": "stdout",
     "output_type": "stream",
     "text": [
      "Processing block 9 out of 25, attempt 1\n"
     ]
    },
    {
     "name": "stderr",
     "output_type": "stream",
     "text": [
      "100%|██████████| 40/40 [00:48<00:00,  1.22s/it]\n"
     ]
    },
    {
     "name": "stdout",
     "output_type": "stream",
     "text": [
      "Processing block 10 out of 25, attempt 1\n"
     ]
    },
    {
     "name": "stderr",
     "output_type": "stream",
     "text": [
      "100%|██████████| 40/40 [00:50<00:00,  1.27s/it]\n"
     ]
    },
    {
     "name": "stdout",
     "output_type": "stream",
     "text": [
      "Processing block 11 out of 25, attempt 1\n"
     ]
    },
    {
     "name": "stderr",
     "output_type": "stream",
     "text": [
      "100%|██████████| 40/40 [00:52<00:00,  1.30s/it]\n"
     ]
    },
    {
     "name": "stdout",
     "output_type": "stream",
     "text": [
      "Processing block 12 out of 25, attempt 1\n"
     ]
    },
    {
     "name": "stderr",
     "output_type": "stream",
     "text": [
      "100%|██████████| 40/40 [01:01<00:00,  1.54s/it]\n"
     ]
    },
    {
     "name": "stdout",
     "output_type": "stream",
     "text": [
      "Processing block 13 out of 25, attempt 1\n"
     ]
    },
    {
     "name": "stderr",
     "output_type": "stream",
     "text": [
      "100%|██████████| 40/40 [00:52<00:00,  1.31s/it]\n"
     ]
    },
    {
     "name": "stdout",
     "output_type": "stream",
     "text": [
      "Processing block 14 out of 25, attempt 1\n"
     ]
    },
    {
     "name": "stderr",
     "output_type": "stream",
     "text": [
      "100%|██████████| 40/40 [00:54<00:00,  1.37s/it]\n"
     ]
    },
    {
     "name": "stdout",
     "output_type": "stream",
     "text": [
      "Processing block 15 out of 25, attempt 1\n"
     ]
    },
    {
     "name": "stderr",
     "output_type": "stream",
     "text": [
      "100%|██████████| 40/40 [00:52<00:00,  1.32s/it]\n"
     ]
    },
    {
     "name": "stdout",
     "output_type": "stream",
     "text": [
      "Processing block 16 out of 25, attempt 1\n"
     ]
    },
    {
     "name": "stderr",
     "output_type": "stream",
     "text": [
      "100%|██████████| 40/40 [00:52<00:00,  1.31s/it]\n"
     ]
    },
    {
     "name": "stdout",
     "output_type": "stream",
     "text": [
      "Processing block 17 out of 25, attempt 1\n"
     ]
    },
    {
     "name": "stderr",
     "output_type": "stream",
     "text": [
      "100%|██████████| 40/40 [00:47<00:00,  1.19s/it]\n"
     ]
    },
    {
     "name": "stdout",
     "output_type": "stream",
     "text": [
      "Processing block 18 out of 25, attempt 1\n"
     ]
    },
    {
     "name": "stderr",
     "output_type": "stream",
     "text": [
      "100%|██████████| 40/40 [00:49<00:00,  1.23s/it]\n"
     ]
    },
    {
     "name": "stdout",
     "output_type": "stream",
     "text": [
      "Processing block 19 out of 25, attempt 1\n"
     ]
    },
    {
     "name": "stderr",
     "output_type": "stream",
     "text": [
      "100%|██████████| 40/40 [00:42<00:00,  1.07s/it]\n"
     ]
    },
    {
     "name": "stdout",
     "output_type": "stream",
     "text": [
      "Processing block 20 out of 25, attempt 1\n"
     ]
    },
    {
     "name": "stderr",
     "output_type": "stream",
     "text": [
      "100%|██████████| 40/40 [00:51<00:00,  1.29s/it]\n"
     ]
    },
    {
     "name": "stdout",
     "output_type": "stream",
     "text": [
      "Processing block 21 out of 25, attempt 1\n"
     ]
    },
    {
     "name": "stderr",
     "output_type": "stream",
     "text": [
      "100%|██████████| 40/40 [00:39<00:00,  1.01it/s]\n"
     ]
    },
    {
     "name": "stdout",
     "output_type": "stream",
     "text": [
      "Processing block 22 out of 25, attempt 1\n"
     ]
    },
    {
     "name": "stderr",
     "output_type": "stream",
     "text": [
      "100%|██████████| 40/40 [00:44<00:00,  1.11s/it]\n"
     ]
    },
    {
     "name": "stdout",
     "output_type": "stream",
     "text": [
      "Processing block 23 out of 25, attempt 1\n"
     ]
    },
    {
     "name": "stderr",
     "output_type": "stream",
     "text": [
      "100%|██████████| 40/40 [00:42<00:00,  1.05s/it]\n"
     ]
    },
    {
     "name": "stdout",
     "output_type": "stream",
     "text": [
      "Processing block 24 out of 25, attempt 1\n"
     ]
    },
    {
     "name": "stderr",
     "output_type": "stream",
     "text": [
      "100%|██████████| 40/40 [00:40<00:00,  1.00s/it]\n"
     ]
    },
    {
     "name": "stdout",
     "output_type": "stream",
     "text": [
      "Processing block 25 out of 25, attempt 1\n"
     ]
    },
    {
     "name": "stderr",
     "output_type": "stream",
     "text": [
      "100%|██████████| 40/40 [00:40<00:00,  1.02s/it]\n"
     ]
    }
   ],
   "source": [
    "# Split the dataframe into 10 computation blocks, so if the API fails just one specfic subset can be retried\n",
    "blocks = np.array_split(sampled_documents, 25)\n",
    "\n",
    "# Max retries per block\n",
    "max_retries = 4\n",
    "\n",
    "# Initialize an empty DataFrame to store results\n",
    "results_df = pd.DataFrame()\n",
    "\n",
    "for i, block in enumerate(blocks):\n",
    "    for attempt in range(max_retries):\n",
    "        try:\n",
    "            print(f\"Processing block {i+1} out of {len(blocks)}, attempt {attempt+1}\")\n",
    "            block['chat_gpt'] = block['sentence_tokens'].progress_apply(lambda x: get_sentiment_gpt(x, prompt_all_samples))\n",
    "            \n",
    "            # Append processed block to the results dataframe\n",
    "            results_df = pd.concat([results_df, block])\n",
    "            # Break the retry loop as the block has been processed successfully\n",
    "            break\n",
    "\n",
    "        except Exception as e:\n",
    "            print(f\"An API error occurred while processing block {i+1} on attempt {attempt+1}: {e} \\n Waiting 5 seconds before retry...\")\n",
    "            time.sleep(5)  # Wait for specified delay before next attempt\n",
    "            if attempt + 1 == max_retries:\n",
    "                print(f\"Failed to process block {i+1} after {max_retries} attempts. Moving on to the next block.\")\n",
    "                \n",
    "# Now results_df has all the processed data\n",
    "sampled_documents = results_df"
   ]
  },
  {
   "cell_type": "code",
   "execution_count": 74,
   "metadata": {},
   "outputs": [],
   "source": [
    "# Function to re-process just a subset (aka block) with the GPT API\n",
    "def reprocess_blocks(block_numbers, blocks, max_retries=4):\n",
    "    reprocessed_blocks = {}\n",
    "    for block_number in block_numbers:\n",
    "        block = blocks[block_number]\n",
    "        for attempt in range(max_retries):\n",
    "            try:\n",
    "                print(f\"Reprocessing block {block_number}, attempt {attempt+1}\")\n",
    "                block['chat_gpt'] = block['sentence_tokens'].progress_apply(lambda x: get_sentiment_gpt(x, prompt_all_samples))\n",
    "                # If processing is successful, add the processed block to the dict\n",
    "                reprocessed_blocks[block_number] = block\n",
    "                break\n",
    "            except Exception as e:\n",
    "                print(f\"An error occurred while reprocessing block {block_number+1} on attempt {attempt+1}: {e}\")\n",
    "                if attempt + 1 == max_retries:\n",
    "                    print(f\"Failed to reprocess block {block_number+1} after {max_retries} attempts.\")\n",
    "    return reprocessed_blocks"
   ]
  },
  {
   "cell_type": "code",
   "execution_count": 75,
   "metadata": {},
   "outputs": [],
   "source": [
    "# Retry blocks\n",
    "retry = False # Only run the cell if needed\n",
    "\n",
    "if retry:\n",
    "    reprocessed_blocks = reprocess_blocks([11], blocks)\n",
    "\n",
    "    # Replace the old blocks with the reprocessed ones\n",
    "    for block_number, reprocessed_block in reprocessed_blocks.items():\n",
    "        blocks[block_number] = reprocessed_block\n",
    "\n",
    "    sampled_documents = pd.concat(blocks)"
   ]
  },
  {
   "attachments": {},
   "cell_type": "markdown",
   "metadata": {},
   "source": [
    "## Comparison of the different LLM"
   ]
  },
  {
   "cell_type": "code",
   "execution_count": 83,
   "metadata": {},
   "outputs": [
    {
     "data": {
      "text/html": [
       "<div>\n",
       "<style scoped>\n",
       "    .dataframe tbody tr th:only-of-type {\n",
       "        vertical-align: middle;\n",
       "    }\n",
       "\n",
       "    .dataframe tbody tr th {\n",
       "        vertical-align: top;\n",
       "    }\n",
       "\n",
       "    .dataframe thead th {\n",
       "        text-align: right;\n",
       "    }\n",
       "</style>\n",
       "<table border=\"1\" class=\"dataframe\">\n",
       "  <thead>\n",
       "    <tr style=\"text-align: right;\">\n",
       "      <th></th>\n",
       "      <th>cardiffnlp/twitter-roberta-base-sentiment</th>\n",
       "      <th>distilbert-base-uncased-finetuned-sst-2-english</th>\n",
       "      <th>Seethal/sentiment_analysis_generic_dataset</th>\n",
       "      <th>siebert/sentiment-roberta-large-english</th>\n",
       "      <th>nlptown/bert-base-multilingual-uncased-sentiment</th>\n",
       "      <th>flan</th>\n",
       "      <th>chat_gpt</th>\n",
       "      <th>sentiment_manual</th>\n",
       "    </tr>\n",
       "  </thead>\n",
       "  <tbody>\n",
       "    <tr>\n",
       "      <th>0</th>\n",
       "      <td>0.638484</td>\n",
       "      <td>0.999146</td>\n",
       "      <td>0.995786</td>\n",
       "      <td>0.998365</td>\n",
       "      <td>0.842189</td>\n",
       "      <td>0.0</td>\n",
       "      <td>0.0</td>\n",
       "      <td>0.0</td>\n",
       "    </tr>\n",
       "    <tr>\n",
       "      <th>1</th>\n",
       "      <td>0.789342</td>\n",
       "      <td>0.852529</td>\n",
       "      <td>0.760690</td>\n",
       "      <td>0.998461</td>\n",
       "      <td>0.437873</td>\n",
       "      <td>1.0</td>\n",
       "      <td>0.0</td>\n",
       "      <td>1.0</td>\n",
       "    </tr>\n",
       "    <tr>\n",
       "      <th>2</th>\n",
       "      <td>0.696978</td>\n",
       "      <td>0.989466</td>\n",
       "      <td>0.997427</td>\n",
       "      <td>0.998224</td>\n",
       "      <td>0.454388</td>\n",
       "      <td>0.0</td>\n",
       "      <td>1.0</td>\n",
       "      <td>0.5</td>\n",
       "    </tr>\n",
       "    <tr>\n",
       "      <th>3</th>\n",
       "      <td>0.530621</td>\n",
       "      <td>0.987965</td>\n",
       "      <td>0.995056</td>\n",
       "      <td>0.996972</td>\n",
       "      <td>0.416565</td>\n",
       "      <td>1.0</td>\n",
       "      <td>1.0</td>\n",
       "      <td>1.0</td>\n",
       "    </tr>\n",
       "    <tr>\n",
       "      <th>4</th>\n",
       "      <td>0.746095</td>\n",
       "      <td>0.982115</td>\n",
       "      <td>0.950099</td>\n",
       "      <td>0.997834</td>\n",
       "      <td>0.320976</td>\n",
       "      <td>0.0</td>\n",
       "      <td>1.0</td>\n",
       "      <td>0.5</td>\n",
       "    </tr>\n",
       "    <tr>\n",
       "      <th>5</th>\n",
       "      <td>0.746399</td>\n",
       "      <td>0.959906</td>\n",
       "      <td>0.770478</td>\n",
       "      <td>0.991674</td>\n",
       "      <td>0.371648</td>\n",
       "      <td>0.0</td>\n",
       "      <td>0.0</td>\n",
       "      <td>1.0</td>\n",
       "    </tr>\n",
       "    <tr>\n",
       "      <th>6</th>\n",
       "      <td>0.816461</td>\n",
       "      <td>0.993633</td>\n",
       "      <td>0.997231</td>\n",
       "      <td>0.987647</td>\n",
       "      <td>0.413996</td>\n",
       "      <td>0.0</td>\n",
       "      <td>0.5</td>\n",
       "      <td>1.0</td>\n",
       "    </tr>\n",
       "    <tr>\n",
       "      <th>7</th>\n",
       "      <td>0.844143</td>\n",
       "      <td>0.708320</td>\n",
       "      <td>0.936194</td>\n",
       "      <td>0.997544</td>\n",
       "      <td>0.237675</td>\n",
       "      <td>1.0</td>\n",
       "      <td>1.0</td>\n",
       "      <td>0.5</td>\n",
       "    </tr>\n",
       "    <tr>\n",
       "      <th>8</th>\n",
       "      <td>0.798869</td>\n",
       "      <td>0.999527</td>\n",
       "      <td>0.732431</td>\n",
       "      <td>0.998548</td>\n",
       "      <td>0.283622</td>\n",
       "      <td>0.0</td>\n",
       "      <td>0.5</td>\n",
       "      <td>0.5</td>\n",
       "    </tr>\n",
       "    <tr>\n",
       "      <th>9</th>\n",
       "      <td>0.876712</td>\n",
       "      <td>0.521593</td>\n",
       "      <td>0.997314</td>\n",
       "      <td>0.991531</td>\n",
       "      <td>0.261836</td>\n",
       "      <td>0.0</td>\n",
       "      <td>NaN</td>\n",
       "      <td>0.5</td>\n",
       "    </tr>\n",
       "    <tr>\n",
       "      <th>10</th>\n",
       "      <td>0.524951</td>\n",
       "      <td>0.999185</td>\n",
       "      <td>0.978008</td>\n",
       "      <td>0.999444</td>\n",
       "      <td>0.399748</td>\n",
       "      <td>0.0</td>\n",
       "      <td>0.0</td>\n",
       "      <td>0.5</td>\n",
       "    </tr>\n",
       "    <tr>\n",
       "      <th>11</th>\n",
       "      <td>0.829689</td>\n",
       "      <td>0.985440</td>\n",
       "      <td>0.997514</td>\n",
       "      <td>0.996596</td>\n",
       "      <td>0.583451</td>\n",
       "      <td>0.0</td>\n",
       "      <td>0.0</td>\n",
       "      <td>1.0</td>\n",
       "    </tr>\n",
       "    <tr>\n",
       "      <th>12</th>\n",
       "      <td>0.761996</td>\n",
       "      <td>0.887294</td>\n",
       "      <td>0.997586</td>\n",
       "      <td>0.988777</td>\n",
       "      <td>0.305507</td>\n",
       "      <td>0.0</td>\n",
       "      <td>0.0</td>\n",
       "      <td>0.5</td>\n",
       "    </tr>\n",
       "    <tr>\n",
       "      <th>13</th>\n",
       "      <td>0.514301</td>\n",
       "      <td>0.990289</td>\n",
       "      <td>0.990688</td>\n",
       "      <td>0.997931</td>\n",
       "      <td>0.565098</td>\n",
       "      <td>1.0</td>\n",
       "      <td>0.5</td>\n",
       "      <td>0.5</td>\n",
       "    </tr>\n",
       "    <tr>\n",
       "      <th>14</th>\n",
       "      <td>0.850539</td>\n",
       "      <td>0.991880</td>\n",
       "      <td>0.970210</td>\n",
       "      <td>0.977199</td>\n",
       "      <td>0.357930</td>\n",
       "      <td>0.0</td>\n",
       "      <td>0.0</td>\n",
       "      <td>1.0</td>\n",
       "    </tr>\n",
       "  </tbody>\n",
       "</table>\n",
       "</div>"
      ],
      "text/plain": [
       "    cardiffnlp/twitter-roberta-base-sentiment  \\\n",
       "0                                    0.638484   \n",
       "1                                    0.789342   \n",
       "2                                    0.696978   \n",
       "3                                    0.530621   \n",
       "4                                    0.746095   \n",
       "5                                    0.746399   \n",
       "6                                    0.816461   \n",
       "7                                    0.844143   \n",
       "8                                    0.798869   \n",
       "9                                    0.876712   \n",
       "10                                   0.524951   \n",
       "11                                   0.829689   \n",
       "12                                   0.761996   \n",
       "13                                   0.514301   \n",
       "14                                   0.850539   \n",
       "\n",
       "    distilbert-base-uncased-finetuned-sst-2-english  \\\n",
       "0                                          0.999146   \n",
       "1                                          0.852529   \n",
       "2                                          0.989466   \n",
       "3                                          0.987965   \n",
       "4                                          0.982115   \n",
       "5                                          0.959906   \n",
       "6                                          0.993633   \n",
       "7                                          0.708320   \n",
       "8                                          0.999527   \n",
       "9                                          0.521593   \n",
       "10                                         0.999185   \n",
       "11                                         0.985440   \n",
       "12                                         0.887294   \n",
       "13                                         0.990289   \n",
       "14                                         0.991880   \n",
       "\n",
       "    Seethal/sentiment_analysis_generic_dataset  \\\n",
       "0                                     0.995786   \n",
       "1                                     0.760690   \n",
       "2                                     0.997427   \n",
       "3                                     0.995056   \n",
       "4                                     0.950099   \n",
       "5                                     0.770478   \n",
       "6                                     0.997231   \n",
       "7                                     0.936194   \n",
       "8                                     0.732431   \n",
       "9                                     0.997314   \n",
       "10                                    0.978008   \n",
       "11                                    0.997514   \n",
       "12                                    0.997586   \n",
       "13                                    0.990688   \n",
       "14                                    0.970210   \n",
       "\n",
       "    siebert/sentiment-roberta-large-english  \\\n",
       "0                                  0.998365   \n",
       "1                                  0.998461   \n",
       "2                                  0.998224   \n",
       "3                                  0.996972   \n",
       "4                                  0.997834   \n",
       "5                                  0.991674   \n",
       "6                                  0.987647   \n",
       "7                                  0.997544   \n",
       "8                                  0.998548   \n",
       "9                                  0.991531   \n",
       "10                                 0.999444   \n",
       "11                                 0.996596   \n",
       "12                                 0.988777   \n",
       "13                                 0.997931   \n",
       "14                                 0.977199   \n",
       "\n",
       "    nlptown/bert-base-multilingual-uncased-sentiment  flan  chat_gpt  \\\n",
       "0                                           0.842189   0.0       0.0   \n",
       "1                                           0.437873   1.0       0.0   \n",
       "2                                           0.454388   0.0       1.0   \n",
       "3                                           0.416565   1.0       1.0   \n",
       "4                                           0.320976   0.0       1.0   \n",
       "5                                           0.371648   0.0       0.0   \n",
       "6                                           0.413996   0.0       0.5   \n",
       "7                                           0.237675   1.0       1.0   \n",
       "8                                           0.283622   0.0       0.5   \n",
       "9                                           0.261836   0.0       NaN   \n",
       "10                                          0.399748   0.0       0.0   \n",
       "11                                          0.583451   0.0       0.0   \n",
       "12                                          0.305507   0.0       0.0   \n",
       "13                                          0.565098   1.0       0.5   \n",
       "14                                          0.357930   0.0       0.0   \n",
       "\n",
       "    sentiment_manual  \n",
       "0                0.0  \n",
       "1                1.0  \n",
       "2                0.5  \n",
       "3                1.0  \n",
       "4                0.5  \n",
       "5                1.0  \n",
       "6                1.0  \n",
       "7                0.5  \n",
       "8                0.5  \n",
       "9                0.5  \n",
       "10               0.5  \n",
       "11               1.0  \n",
       "12               0.5  \n",
       "13               0.5  \n",
       "14               1.0  "
      ]
     },
     "execution_count": 83,
     "metadata": {},
     "output_type": "execute_result"
    }
   ],
   "source": [
    "sampled_documents[models+ ['flan','chat_gpt', 'sentiment_manual']].head(15)"
   ]
  },
  {
   "cell_type": "code",
   "execution_count": 84,
   "metadata": {},
   "outputs": [
    {
     "data": {
      "text/html": [
       "<div>\n",
       "<style scoped>\n",
       "    .dataframe tbody tr th:only-of-type {\n",
       "        vertical-align: middle;\n",
       "    }\n",
       "\n",
       "    .dataframe tbody tr th {\n",
       "        vertical-align: top;\n",
       "    }\n",
       "\n",
       "    .dataframe thead th {\n",
       "        text-align: right;\n",
       "    }\n",
       "</style>\n",
       "<table border=\"1\" class=\"dataframe\">\n",
       "  <thead>\n",
       "    <tr style=\"text-align: right;\">\n",
       "      <th></th>\n",
       "      <th>cardiffnlp/twitter-roberta-base-sentiment</th>\n",
       "      <th>distilbert-base-uncased-finetuned-sst-2-english</th>\n",
       "      <th>Seethal/sentiment_analysis_generic_dataset</th>\n",
       "      <th>siebert/sentiment-roberta-large-english</th>\n",
       "      <th>nlptown/bert-base-multilingual-uncased-sentiment</th>\n",
       "      <th>flan</th>\n",
       "      <th>chat_gpt</th>\n",
       "      <th>sentiment_manual</th>\n",
       "    </tr>\n",
       "  </thead>\n",
       "  <tbody>\n",
       "    <tr>\n",
       "      <th>count</th>\n",
       "      <td>1000.000000</td>\n",
       "      <td>1000.000000</td>\n",
       "      <td>1000.000000</td>\n",
       "      <td>1000.000000</td>\n",
       "      <td>1000.000000</td>\n",
       "      <td>1000.000000</td>\n",
       "      <td>921.000000</td>\n",
       "      <td>1000.000000</td>\n",
       "    </tr>\n",
       "    <tr>\n",
       "      <th>mean</th>\n",
       "      <td>0.756861</td>\n",
       "      <td>0.931114</td>\n",
       "      <td>0.929027</td>\n",
       "      <td>0.989808</td>\n",
       "      <td>0.409177</td>\n",
       "      <td>0.381000</td>\n",
       "      <td>0.466178</td>\n",
       "      <td>0.547000</td>\n",
       "    </tr>\n",
       "    <tr>\n",
       "      <th>std</th>\n",
       "      <td>0.125063</td>\n",
       "      <td>0.112422</td>\n",
       "      <td>0.125155</td>\n",
       "      <td>0.029448</td>\n",
       "      <td>0.121560</td>\n",
       "      <td>0.485876</td>\n",
       "      <td>0.513009</td>\n",
       "      <td>0.267137</td>\n",
       "    </tr>\n",
       "    <tr>\n",
       "      <th>min</th>\n",
       "      <td>0.471294</td>\n",
       "      <td>0.500899</td>\n",
       "      <td>0.380350</td>\n",
       "      <td>0.608697</td>\n",
       "      <td>0.224173</td>\n",
       "      <td>0.000000</td>\n",
       "      <td>0.000000</td>\n",
       "      <td>0.000000</td>\n",
       "    </tr>\n",
       "    <tr>\n",
       "      <th>25%</th>\n",
       "      <td>0.658056</td>\n",
       "      <td>0.929509</td>\n",
       "      <td>0.932804</td>\n",
       "      <td>0.992812</td>\n",
       "      <td>0.321185</td>\n",
       "      <td>0.000000</td>\n",
       "      <td>0.000000</td>\n",
       "      <td>0.500000</td>\n",
       "    </tr>\n",
       "    <tr>\n",
       "      <th>50%</th>\n",
       "      <td>0.781722</td>\n",
       "      <td>0.981763</td>\n",
       "      <td>0.989260</td>\n",
       "      <td>0.996690</td>\n",
       "      <td>0.385245</td>\n",
       "      <td>0.000000</td>\n",
       "      <td>0.500000</td>\n",
       "      <td>0.500000</td>\n",
       "    </tr>\n",
       "    <tr>\n",
       "      <th>75%</th>\n",
       "      <td>0.865239</td>\n",
       "      <td>0.994848</td>\n",
       "      <td>0.996599</td>\n",
       "      <td>0.998297</td>\n",
       "      <td>0.461402</td>\n",
       "      <td>1.000000</td>\n",
       "      <td>1.000000</td>\n",
       "      <td>0.500000</td>\n",
       "    </tr>\n",
       "    <tr>\n",
       "      <th>max</th>\n",
       "      <td>0.986060</td>\n",
       "      <td>0.999892</td>\n",
       "      <td>0.998017</td>\n",
       "      <td>0.999484</td>\n",
       "      <td>0.929490</td>\n",
       "      <td>1.000000</td>\n",
       "      <td>9.300000</td>\n",
       "      <td>1.000000</td>\n",
       "    </tr>\n",
       "  </tbody>\n",
       "</table>\n",
       "</div>"
      ],
      "text/plain": [
       "       cardiffnlp/twitter-roberta-base-sentiment  \\\n",
       "count                                1000.000000   \n",
       "mean                                    0.756861   \n",
       "std                                     0.125063   \n",
       "min                                     0.471294   \n",
       "25%                                     0.658056   \n",
       "50%                                     0.781722   \n",
       "75%                                     0.865239   \n",
       "max                                     0.986060   \n",
       "\n",
       "       distilbert-base-uncased-finetuned-sst-2-english  \\\n",
       "count                                      1000.000000   \n",
       "mean                                          0.931114   \n",
       "std                                           0.112422   \n",
       "min                                           0.500899   \n",
       "25%                                           0.929509   \n",
       "50%                                           0.981763   \n",
       "75%                                           0.994848   \n",
       "max                                           0.999892   \n",
       "\n",
       "       Seethal/sentiment_analysis_generic_dataset  \\\n",
       "count                                 1000.000000   \n",
       "mean                                     0.929027   \n",
       "std                                      0.125155   \n",
       "min                                      0.380350   \n",
       "25%                                      0.932804   \n",
       "50%                                      0.989260   \n",
       "75%                                      0.996599   \n",
       "max                                      0.998017   \n",
       "\n",
       "       siebert/sentiment-roberta-large-english  \\\n",
       "count                              1000.000000   \n",
       "mean                                  0.989808   \n",
       "std                                   0.029448   \n",
       "min                                   0.608697   \n",
       "25%                                   0.992812   \n",
       "50%                                   0.996690   \n",
       "75%                                   0.998297   \n",
       "max                                   0.999484   \n",
       "\n",
       "       nlptown/bert-base-multilingual-uncased-sentiment         flan  \\\n",
       "count                                       1000.000000  1000.000000   \n",
       "mean                                           0.409177     0.381000   \n",
       "std                                            0.121560     0.485876   \n",
       "min                                            0.224173     0.000000   \n",
       "25%                                            0.321185     0.000000   \n",
       "50%                                            0.385245     0.000000   \n",
       "75%                                            0.461402     1.000000   \n",
       "max                                            0.929490     1.000000   \n",
       "\n",
       "         chat_gpt  sentiment_manual  \n",
       "count  921.000000       1000.000000  \n",
       "mean     0.466178          0.547000  \n",
       "std      0.513009          0.267137  \n",
       "min      0.000000          0.000000  \n",
       "25%      0.000000          0.500000  \n",
       "50%      0.500000          0.500000  \n",
       "75%      1.000000          0.500000  \n",
       "max      9.300000          1.000000  "
      ]
     },
     "execution_count": 84,
     "metadata": {},
     "output_type": "execute_result"
    }
   ],
   "source": [
    "sampled_documents[models+ ['flan','chat_gpt', 'sentiment_manual']].describe()"
   ]
  },
  {
   "cell_type": "code",
   "execution_count": 85,
   "metadata": {},
   "outputs": [
    {
     "name": "stdout",
     "output_type": "stream",
     "text": [
      "Replaced 1 values with NaN.\n"
     ]
    }
   ],
   "source": [
    "# Filter out outliers from GPT\n",
    "gpt_outliers = sampled_documents[sampled_documents['chat_gpt'] > 1.0].shape[0]\n",
    "\n",
    "# Replace values over 1 with NaN\n",
    "sampled_documents.loc[sampled_documents['chat_gpt'] > 1.0, 'chat_gpt'] = np.nan\n",
    "\n",
    "# Print the number of replaced rows\n",
    "print(f\"Replaced {gpt_outliers} values with NaN.\")"
   ]
  },
  {
   "cell_type": "code",
   "execution_count": 78,
   "metadata": {},
   "outputs": [],
   "source": [
    "# Function to normalize scores with defined cut-off borders\n",
    "def normalize_score(score):\n",
    "    if score <= 0.33:\n",
    "        return 0.0\n",
    "    elif score <= 0.66:\n",
    "        return 0.5\n",
    "    else:\n",
    "        return 1.0\n",
    "\n",
    "# Apply the normalization for each sentiment score\n",
    "for model in models:\n",
    "    sampled_documents[model + '_norm'] = sampled_documents[model].apply(normalize_score)"
   ]
  },
  {
   "cell_type": "code",
   "execution_count": 90,
   "metadata": {},
   "outputs": [
    {
     "data": {
      "image/png": "[encoded data removed]",
      "text/plain": [
       "<Figure size 1600x900 with 2 Axes>"
      ]
     },
     "metadata": {},
     "output_type": "display_data"
    }
   ],
   "source": [
    "# Plot the results of the different sentiment annotations and add the manual annotations to the boxplot\n",
    "\n",
    "# Create the subplots\n",
    "fig, axes = plt.subplots(1, 2, figsize=(16, 9))\n",
    "\n",
    "# Boxplot for the original scores retrieved from the models\n",
    "sns.boxplot(ax=axes[0], data=sampled_documents[models + ['flan','chat_gpt','sentiment_manual']])\n",
    "axes[0].set_title('Continuous Sentiment Scores', fontsize=16)\n",
    "axes[0].set_xlabel('Models', fontsize=12)\n",
    "axes[0].set_ylabel('Sentiment Score', fontsize=12)\n",
    "axes[0].tick_params(axis='x', rotation=90)\n",
    "\n",
    "# Boxplot for the normalized scores\n",
    "sns.boxplot(ax=axes[1], data=sampled_documents[[model + '_norm' for model in models] + ['flan','chat_gpt','sentiment_manual']])\n",
    "axes[1].set_title('Categorical Sentiment Scores', fontsize=16)\n",
    "axes[1].set_xlabel('Models', fontsize=12)\n",
    "axes[1].set_ylabel('Sentiment Score', fontsize=12)\n",
    "axes[1].tick_params(axis='x', rotation=90)\n",
    "\n",
    "plt.tight_layout()\n",
    "plt.show()"
   ]
  },
  {
   "cell_type": "code",
   "execution_count": 87,
   "metadata": {},
   "outputs": [
    {
     "data": {
      "image/png": "[encoded data removed]",
      "text/plain": [
       "<Figure size 1000x1000 with 3 Axes>"
      ]
     },
     "metadata": {},
     "output_type": "display_data"
    }
   ],
   "source": [
    "# Since multiple models just have 0.0, 0.5 and 1.0 as an output\n",
    "df_hist = sampled_documents[['flan', 'chat_gpt', 'sentiment_manual']]\n",
    "\n",
    "plt.figure(figsize=(10,10))\n",
    "for i, col in enumerate(df_hist.columns):\n",
    "    plt.subplot(3, 1, i+1)\n",
    "    sns.histplot(df_hist[col], bins=10, kde=True)\n",
    "    plt.title(f\"Histogram of {col}\")\n",
    "    \n",
    "plt.tight_layout()\n",
    "plt.show()\n"
   ]
  },
  {
   "attachments": {},
   "cell_type": "markdown",
   "metadata": {},
   "source": [
    "\n",
    "From a processing speed perspective, the models differ in iterations per second (*it/s*):  \n",
    "\n",
    "On a Apple M1 Pro CPU with 10 cores and 32GB RAM.\n",
    "- cardiffnlp/twitter-roberta-base-sentiment:            25.5 it/s\n",
    "- distilbert-base-uncased-finetuned-sst-2-english:      42.5 it/s\n",
    "- Seethal/sentiment_analysis_generic_dataset:           45.0 it/s\n",
    "- siebert/sentiment-roberta-large-english:              8.9 it/s\n",
    "- nlptown/bert-base-multilingual-uncased-sentiment:     23.2 it/s\n",
    "- google/flan-t5-base:                                  8.5 it/s\n",
    "- GPT (via API):                                        1.5 it/s\n",
    "\n",
    "\n",
    "On a RTX3080 and 32GB RAM:\n",
    "- cardiffnlp/twitter-roberta-base-sentiment               51.19it/s \n",
    "- distilbert-base-uncased-finetuned-sst-2-english         99.83it/s\n",
    "- Seethal/sentiment_analysis_generic_dataset              104.57it/s\n",
    "- siebert/sentiment-roberta-large-english                 17.01it/s\n",
    "- nlptown/bert-base-multilingual-uncased-sentiment        51.48it/s\n",
    "- google/flan-t5-base:                                    10.46it/s\n",
    "- GPT (via API):                                          1.5 it/s\n",
    "\n",
    "*Seethal/sentiment_analysis_generic_dataset* is the fastest in terms of performance, *google/flan-t5-base* and *siebert/sentiment-roberta-large-english* are both slow.\n",
    "Since *GPT* is called by an API, the processing speed is even slower with around 1.5 it/s. In addition it is costly, around 2$ for 1,000 sentences with the \"text-davinci-003\" mode.  \n",
    "\n",
    "Also mentionable is the scaling of the models on different systems. All models except *google/flan-t5-base* (and of course the GPT API) doubled their performance if run on a GPU."
   ]
  },
  {
   "attachments": {},
   "cell_type": "markdown",
   "metadata": {},
   "source": [
    "#### Results\n",
    "The examination of different models for sentiment analysis has led to several noteworthy observations. Foremost among these is the superior performance of the Generative Pre-training Transformer (GPT) model in terms of congruence with our gold standard.  \n",
    "This is corroborated by our quantitative and visual analyses, with both the boxplot mean values of *'chat_gpt'* and *'sentiment_manual'*, and the histogram comparisons substantiating the superior alignment of GPT outputs with the gold standard.\n",
    "\n",
    "However, an important consideration in the context is the cost and computational efficiency associated with each model. Despite its promising performance, the GPT model necessitates an API call for each execution.  \n",
    "This introduces a latency that substantially slows down the overall processing speed, making it less practical for annotating the full dataset within the given constraints.\n",
    "\n",
    "Among the other models evaluated, the *'nlptown/bert-base-multilingual-uncased-sentiment'* model exhibits the most satisfactory performance. It has the smallest difference in mean value to 'sentiment_manual' compared to the rest of the models.  \n",
    "Furthermore, its processing speed is commendably efficient, positioning it in the mid-range among the models tested.  \n",
    "Consequently, this model strikes a balance between performance and computational efficiency, rendering it a suitable choice for our dataset annotation."
   ]
  },
  {
   "attachments": {},
   "cell_type": "markdown",
   "metadata": {},
   "source": [
    "## Full Dataset Annotation with the selected LLM\n",
    "\n",
    "Based on the comparison, *nlptown/bert-base-multilingual-uncased-sentiment* demonstrated best results to annotate the ESG documents.  \n",
    "Therefore this LLM with a zero-shot / direct request strategy is used to annotate all sentences."
   ]
  },
  {
   "cell_type": "code",
   "execution_count": 91,
   "metadata": {},
   "outputs": [],
   "source": [
    "# Craete new column to store the sentence sentiment\n",
    "documents['sentiment_llm_continuous'] = np.nan"
   ]
  },
  {
   "cell_type": "code",
   "execution_count": 93,
   "metadata": {},
   "outputs": [
    {
     "name": "stderr",
     "output_type": "stream",
     "text": [
      "Processing batches:   0%|          | 0/679 [00:00<?, ?it/s]"
     ]
    }
   ],
   "source": [
    "from transformers import pipeline\n",
    "import numpy as np\n",
    "\n",
    "def get_sentiment_scores(nlp, sentences):\n",
    "    results = nlp(sentences)\n",
    "    scores = [result['score'] for result in results]\n",
    "    return scores\n",
    "\n",
    "nlp_full = pipeline('sentiment-analysis', model='nlptown/bert-base-multilingual-uncased-sentiment', use_fast=True, truncation=True) # Model supports max. 512 tokens\n",
    "\n",
    "# Define batch size for the processing\n",
    "batch_size = 1000\n",
    "\n",
    "# Split the sentences into batches and get scores\n",
    "scores = []\n",
    "for i in tqdm(range(0, len(documents['sentence_tokens']), batch_size), desc=\"Processing batches\"):\n",
    "    batch = documents['sentence_tokens'][i:i+batch_size].tolist()\n",
    "    batch_scores = get_sentiment_scores(nlp_full, batch)\n",
    "    scores.extend(batch_scores)\n",
    "\n",
    "# Add scores to DataFrame\n",
    "documents['sentiment_llm_continuous'] = scores"
   ]
  },
  {
   "cell_type": "code",
   "execution_count": null,
   "metadata": {},
   "outputs": [],
   "source": [
    "# Check the calculated sentiment values with a histogram\n",
    "plt.figure(figsize=(10,6))\n",
    "sns.histplot(documents['sentiment_llm_continuous'], bins=10, kde=True)\n",
    "plt.title('Distribution of calculated Sentiment Values by LLM')\n",
    "plt.tight_layout()\n",
    "plt.show()"
   ]
  },
  {
   "cell_type": "code",
   "execution_count": null,
   "metadata": {},
   "outputs": [],
   "source": [
    "# Transform the continuous sentiments to 0.0, 0.5 and 1.0\n",
    "documents['sentiment_llm_categorial'] = sampled_documents['sentiment_llm_continuous'].apply(normalize_score)"
   ]
  },
  {
   "cell_type": "code",
   "execution_count": null,
   "metadata": {},
   "outputs": [],
   "source": [
    "# Reduce output columns\n",
    "documents_reduced = documents[['company','datatype','title','date','domain','esg_topics','internal','symbol','sentence_tokens','market_cap_in_usd_b','sector','industry','year_month' ,'year','month','sentiment_llm_continuous', 'sentiment_llm_categorial', 'original_index']]\n",
    "\n",
    "# Group by the 'original_index' and aggregate the columns\n",
    "documents_aggregated = documents_reduced.groupby('original_index').agg({\n",
    "    # Use 'first' function for all columns except for 'sentence_tokens' and 'sentence_sentiment_value_llm'\n",
    "    'company': 'first',  \n",
    "    'datatype': 'first',  \n",
    "    'title': 'first',  \n",
    "    'date': 'first',  \n",
    "    'domain': 'first',  \n",
    "    'esg_topics': 'first',  \n",
    "    'internal': 'first',  \n",
    "    'symbol': 'first',  \n",
    "    'sentence_tokens': list,  # Combine the 'sentence_tokens' into a list\n",
    "    'market_cap_in_usd_b': 'first',  \n",
    "    'sector': 'first',  \n",
    "    'industry': 'first',  \n",
    "    'year_month': 'first',  \n",
    "    'year': 'first',  \n",
    "    'month': 'first',  \n",
    "    'sentiment_llm_continuous': lambda x: [i if pd.notnull(i) else np.nan for i in x],  # Combine the 'sentence_sentiment_value_llm' into a list, substituting NaN where no manual sentiment was added\n",
    "    'sentiment_llm_categorial': lambda x: [i if pd.notnull(i) else np.nan for i in x]  \n",
    "})\n",
    "\n",
    "# Reset the index\n",
    "documents_aggregated = documents_aggregated.reset_index(drop=True)"
   ]
  },
  {
   "cell_type": "code",
   "execution_count": null,
   "metadata": {},
   "outputs": [],
   "source": [
    "# Save the full annotations to CSV (whole dataframe is too big to store on GitHub, Google Drive link provided)\n",
    "if not os.path.exists('./annotated/'):  # Check if the directory exists and create it if it doesn't\n",
    "    os.makedirs('./annotated/')\n",
    "documents_aggregated.to_csv(f'./annotated/full_llm_annotated.csv', index=False, sep='|')"
   ]
  },
  {
   "attachments": {},
   "cell_type": "markdown",
   "metadata": {},
   "source": [
    "To store the complete CSSV with the calculated sentiment values, Google Drive is used. The \"gold_standart.csv\" (1,000 manually annotated sentences) and the \"full_llm_annotated.csv\" can be found here:  \n",
    "https://drive.google.com/drive/folders/1ATtCPPll6n_qvfMBu4ka84E3DZDS7d11"
   ]
  }
 ],
 "metadata": {
  "kernelspec": {
   "display_name": "venv-nlp",
   "language": "python",
   "name": "python3"
  },
  "language_info": {
   "codemirror_mode": {
    "name": "ipython",
    "version": 3
   },
   "file_extension": ".py",
   "mimetype": "text/x-python",
   "name": "python",
   "nbconvert_exporter": "python",
   "pygments_lexer": "ipython3",
   "version": "3.10.10"
  },
  "orig_nbformat": 4
 },
 "nbformat": 4,
 "nbformat_minor": 2
}
