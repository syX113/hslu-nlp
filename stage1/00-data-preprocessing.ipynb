{
 "cells": [
  {
   "attachments": {},
   "cell_type": "markdown",
   "metadata": {},
   "source": [
    "## Stage 1: Preprocessing & Cleaning"
   ]
  },
  {
   "attachments": {},
   "cell_type": "markdown",
   "metadata": {},
   "source": [
    "### Setup & Data Loading"
   ]
  },
  {
   "cell_type": "code",
   "execution_count": 116,
   "metadata": {},
   "outputs": [
    {
     "name": "stderr",
     "output_type": "stream",
     "text": [
      "[nltk_data] Downloading package wordnet to /Users/tim/nltk_data...\n",
      "[nltk_data]   Package wordnet is already up-to-date!\n",
      "[nltk_data] Downloading package stopwords to /Users/tim/nltk_data...\n",
      "[nltk_data]   Package stopwords is already up-to-date!\n",
      "[nltk_data] Downloading package punkt to /Users/tim/nltk_data...\n",
      "[nltk_data]   Package punkt is already up-to-date!\n",
      "[nltk_data] Downloading package maxent_ne_chunker to\n",
      "[nltk_data]     /Users/tim/nltk_data...\n",
      "[nltk_data]   Package maxent_ne_chunker is already up-to-date!\n",
      "[nltk_data] Downloading package averaged_perceptron_tagger to\n",
      "[nltk_data]     /Users/tim/nltk_data...\n",
      "[nltk_data]   Package averaged_perceptron_tagger is already up-to-\n",
      "[nltk_data]       date!\n",
      "[nltk_data] Downloading package words to /Users/tim/nltk_data...\n",
      "[nltk_data]   Package words is already up-to-date!\n"
     ]
    },
    {
     "data": {
      "text/plain": [
       "True"
      ]
     },
     "execution_count": 116,
     "metadata": {},
     "output_type": "execute_result"
    }
   ],
   "source": [
    "# Imports\n",
    "import pandas as pd\n",
    "import re\n",
    "import string\n",
    "import nltk\n",
    "import requests\n",
    "import contractions\n",
    "from nltk.tree import Tree\n",
    "from nltk.corpus import stopwords\n",
    "from nltk.stem import WordNetLemmatizer\n",
    "from nltk.tokenize import word_tokenize, sent_tokenize\n",
    "from unidecode import unidecode\n",
    "from bs4 import BeautifulSoup\n",
    "nltk.download('wordnet')\n",
    "nltk.download('stopwords')\n",
    "nltk.download('punkt')\n",
    "nltk.download('maxent_ne_chunker')\n",
    "nltk.download('averaged_perceptron_tagger')\n",
    "nltk.download('words')"
   ]
  },
  {
   "cell_type": "code",
   "execution_count": 74,
   "metadata": {},
   "outputs": [],
   "source": [
    "# Load the data\n",
    "raw_data = pd.read_csv('../data/esg_documents_for_dax_companies.csv', delimiter = '|', index_col = 0)"
   ]
  },
  {
   "cell_type": "code",
   "execution_count": 75,
   "metadata": {},
   "outputs": [
    {
     "data": {
      "text/html": [
       "<div>\n",
       "<style scoped>\n",
       "    .dataframe tbody tr th:only-of-type {\n",
       "        vertical-align: middle;\n",
       "    }\n",
       "\n",
       "    .dataframe tbody tr th {\n",
       "        vertical-align: top;\n",
       "    }\n",
       "\n",
       "    .dataframe thead th {\n",
       "        text-align: right;\n",
       "    }\n",
       "</style>\n",
       "<table border=\"1\" class=\"dataframe\">\n",
       "  <thead>\n",
       "    <tr style=\"text-align: right;\">\n",
       "      <th></th>\n",
       "      <th>company</th>\n",
       "      <th>content</th>\n",
       "      <th>datatype</th>\n",
       "      <th>date</th>\n",
       "      <th>domain</th>\n",
       "      <th>esg_topics</th>\n",
       "      <th>internal</th>\n",
       "      <th>symbol</th>\n",
       "      <th>title</th>\n",
       "      <th>url</th>\n",
       "    </tr>\n",
       "  </thead>\n",
       "  <tbody>\n",
       "    <tr>\n",
       "      <th>0</th>\n",
       "      <td>Beiersdorf AG</td>\n",
       "      <td>Sustainability Highlight Report CARE BEYOND SK...</td>\n",
       "      <td>sustainability_report</td>\n",
       "      <td>2021-03-31</td>\n",
       "      <td>NaN</td>\n",
       "      <td>['CleanWater', 'GHGEmission', 'ProductLiabilit...</td>\n",
       "      <td>1</td>\n",
       "      <td>BEI</td>\n",
       "      <td>BeiersdorfAG Sustainability Report 2021</td>\n",
       "      <td>NaN</td>\n",
       "    </tr>\n",
       "    <tr>\n",
       "      <th>1</th>\n",
       "      <td>Deutsche Telekom AG</td>\n",
       "      <td>Corporate Responsibility Report 2021 2 Content...</td>\n",
       "      <td>sustainability_report</td>\n",
       "      <td>2021-03-31</td>\n",
       "      <td>NaN</td>\n",
       "      <td>['DataSecurity', 'Iso50001', 'GlobalWarming', ...</td>\n",
       "      <td>1</td>\n",
       "      <td>DTE</td>\n",
       "      <td>DeutscheTelekomAG Sustainability Report 2021</td>\n",
       "      <td>NaN</td>\n",
       "    </tr>\n",
       "    <tr>\n",
       "      <th>2</th>\n",
       "      <td>Vonovia SE</td>\n",
       "      <td>VONOVIA SE SUSTAINABILITY REPORT 2021 =For a S...</td>\n",
       "      <td>sustainability_report</td>\n",
       "      <td>2021-03-31</td>\n",
       "      <td>NaN</td>\n",
       "      <td>['Whistleblowing', 'DataSecurity', 'Vaccine', ...</td>\n",
       "      <td>1</td>\n",
       "      <td>VNA</td>\n",
       "      <td>VonoviaSE Sustainability Report 2021</td>\n",
       "      <td>NaN</td>\n",
       "    </tr>\n",
       "    <tr>\n",
       "      <th>3</th>\n",
       "      <td>Merck KGaA</td>\n",
       "      <td>Sustainability Report 2021 TABLE OF CONTENTS S...</td>\n",
       "      <td>sustainability_report</td>\n",
       "      <td>2021-03-31</td>\n",
       "      <td>NaN</td>\n",
       "      <td>['DataSecurity', 'DataMisuse', 'DrugResistance...</td>\n",
       "      <td>1</td>\n",
       "      <td>MRK</td>\n",
       "      <td>MerckKGaA Sustainability Report 2021</td>\n",
       "      <td>NaN</td>\n",
       "    </tr>\n",
       "    <tr>\n",
       "      <th>4</th>\n",
       "      <td>MTU</td>\n",
       "      <td>Our ideas and concepts FOR A SUSTAINABLE FUTUR...</td>\n",
       "      <td>sustainability_report</td>\n",
       "      <td>2020-03-31</td>\n",
       "      <td>NaN</td>\n",
       "      <td>['WorkLifeBalance', 'Corruption', 'AirQuality'...</td>\n",
       "      <td>1</td>\n",
       "      <td>MTX</td>\n",
       "      <td>MTUAeroEngines Sustainability Report 2020</td>\n",
       "      <td>NaN</td>\n",
       "    </tr>\n",
       "    <tr>\n",
       "      <th>5</th>\n",
       "      <td>E ONSE</td>\n",
       "      <td>#StandWithUkraine Sustainability Report 2021 C...</td>\n",
       "      <td>sustainability_report</td>\n",
       "      <td>2021-03-31</td>\n",
       "      <td>NaN</td>\n",
       "      <td>['DataSecurity', 'Iso50001', 'GlobalWarming', ...</td>\n",
       "      <td>1</td>\n",
       "      <td>EOAN</td>\n",
       "      <td>E.ONSE Sustainability Report 2021</td>\n",
       "      <td>NaN</td>\n",
       "    </tr>\n",
       "    <tr>\n",
       "      <th>6</th>\n",
       "      <td>RWE AG</td>\n",
       "      <td>Focus on tomorrow. Sustainability Report 2021 ...</td>\n",
       "      <td>sustainability_report</td>\n",
       "      <td>2021-03-31</td>\n",
       "      <td>NaN</td>\n",
       "      <td>['WorkLifeBalance', 'Corruption', 'Iso50001', ...</td>\n",
       "      <td>1</td>\n",
       "      <td>RWE</td>\n",
       "      <td>RWEAG Sustainability Report 2021</td>\n",
       "      <td>NaN</td>\n",
       "    </tr>\n",
       "    <tr>\n",
       "      <th>7</th>\n",
       "      <td>Heidelberg Cement AG</td>\n",
       "      <td>Annual Report 2021 HeidelbergCement at a glanc...</td>\n",
       "      <td>annual_report</td>\n",
       "      <td>2021-03-31</td>\n",
       "      <td>NaN</td>\n",
       "      <td>['WorkLifeBalance', 'Vaccine', 'DataSecurity',...</td>\n",
       "      <td>1</td>\n",
       "      <td>HEI</td>\n",
       "      <td>HeidelbergCementAG Annual Report 2021</td>\n",
       "      <td>NaN</td>\n",
       "    </tr>\n",
       "    <tr>\n",
       "      <th>8</th>\n",
       "      <td>Heidelberg Cement AG</td>\n",
       "      <td>Company Strategy &amp; Business &amp; Product &amp; Produc...</td>\n",
       "      <td>sustainability_report</td>\n",
       "      <td>2020-03-31</td>\n",
       "      <td>NaN</td>\n",
       "      <td>['CleanWater', 'Corruption', 'Whistleblowing',...</td>\n",
       "      <td>1</td>\n",
       "      <td>HEI</td>\n",
       "      <td>HeidelbergCementAG Sustainability Report 2020</td>\n",
       "      <td>NaN</td>\n",
       "    </tr>\n",
       "    <tr>\n",
       "      <th>9</th>\n",
       "      <td>Siemens AG</td>\n",
       "      <td>Sustainability 1 Siemens 2 Our 3 Governance – ...</td>\n",
       "      <td>sustainability_report</td>\n",
       "      <td>2020-03-31</td>\n",
       "      <td>NaN</td>\n",
       "      <td>['DataSecurity', 'Iso50001', 'EmployeeTurnover...</td>\n",
       "      <td>1</td>\n",
       "      <td>SIE</td>\n",
       "      <td>SiemensAG Sustainability Report 2020</td>\n",
       "      <td>NaN</td>\n",
       "    </tr>\n",
       "    <tr>\n",
       "      <th>10</th>\n",
       "      <td>Linde</td>\n",
       "      <td>Table of Contents Message from our CEO...........</td>\n",
       "      <td>sustainability_report</td>\n",
       "      <td>2020-03-31</td>\n",
       "      <td>NaN</td>\n",
       "      <td>['DataSecurity', 'GlobalWarming', 'AntiSlavery...</td>\n",
       "      <td>1</td>\n",
       "      <td>LIN</td>\n",
       "      <td>Linde Sustainability Report 2020</td>\n",
       "      <td>NaN</td>\n",
       "    </tr>\n",
       "    <tr>\n",
       "      <th>11</th>\n",
       "      <td>RWE AG</td>\n",
       "      <td>New ways for a sustainable future. Sustainabil...</td>\n",
       "      <td>sustainability_report</td>\n",
       "      <td>2020-03-31</td>\n",
       "      <td>NaN</td>\n",
       "      <td>['Whistleblowing', 'Corruption', 'DataSecurity...</td>\n",
       "      <td>1</td>\n",
       "      <td>RWE</td>\n",
       "      <td>RWEAG Sustainability Report 2020</td>\n",
       "      <td>NaN</td>\n",
       "    </tr>\n",
       "    <tr>\n",
       "      <th>12</th>\n",
       "      <td>Qiagen</td>\n",
       "      <td>SUSTAINABILITY Sample to Insight At QIAGEN, ou...</td>\n",
       "      <td>sustainability_report</td>\n",
       "      <td>2020-03-31</td>\n",
       "      <td>NaN</td>\n",
       "      <td>['Vaccine', 'GHGEmission', 'Governance', 'Acce...</td>\n",
       "      <td>1</td>\n",
       "      <td>QIA</td>\n",
       "      <td>QiagenN.V. Sustainability Report 2020</td>\n",
       "      <td>NaN</td>\n",
       "    </tr>\n",
       "    <tr>\n",
       "      <th>13</th>\n",
       "      <td>Henkel</td>\n",
       "      <td>Sustainability Report 2020 About this report T...</td>\n",
       "      <td>sustainability_report</td>\n",
       "      <td>p.DE-03-31</td>\n",
       "      <td>NaN</td>\n",
       "      <td>['Deforestation', 'Corruption', 'RoundtableOnS...</td>\n",
       "      <td>1</td>\n",
       "      <td>HNK</td>\n",
       "      <td>HenkelAG&amp;CoKGaA Sustainability Report p.DE</td>\n",
       "      <td>NaN</td>\n",
       "    </tr>\n",
       "    <tr>\n",
       "      <th>14</th>\n",
       "      <td>Linde</td>\n",
       "      <td>Making our world more productive Sustainable G...</td>\n",
       "      <td>annual_report</td>\n",
       "      <td>2021-03-31</td>\n",
       "      <td>NaN</td>\n",
       "      <td>['DataSecurity', 'Corruption', 'GHGEmission', ...</td>\n",
       "      <td>1</td>\n",
       "      <td>LIN</td>\n",
       "      <td>Linde Annual Report 2021</td>\n",
       "      <td>NaN</td>\n",
       "    </tr>\n",
       "  </tbody>\n",
       "</table>\n",
       "</div>"
      ],
      "text/plain": [
       "                 company                                            content   \n",
       "0          Beiersdorf AG  Sustainability Highlight Report CARE BEYOND SK...  \\\n",
       "1    Deutsche Telekom AG  Corporate Responsibility Report 2021 2 Content...   \n",
       "2             Vonovia SE  VONOVIA SE SUSTAINABILITY REPORT 2021 =For a S...   \n",
       "3             Merck KGaA  Sustainability Report 2021 TABLE OF CONTENTS S...   \n",
       "4                    MTU  Our ideas and concepts FOR A SUSTAINABLE FUTUR...   \n",
       "5                 E ONSE  #StandWithUkraine Sustainability Report 2021 C...   \n",
       "6                 RWE AG  Focus on tomorrow. Sustainability Report 2021 ...   \n",
       "7   Heidelberg Cement AG  Annual Report 2021 HeidelbergCement at a glanc...   \n",
       "8   Heidelberg Cement AG  Company Strategy & Business & Product & Produc...   \n",
       "9             Siemens AG  Sustainability 1 Siemens 2 Our 3 Governance – ...   \n",
       "10                 Linde  Table of Contents Message from our CEO...........   \n",
       "11                RWE AG  New ways for a sustainable future. Sustainabil...   \n",
       "12                Qiagen  SUSTAINABILITY Sample to Insight At QIAGEN, ou...   \n",
       "13                Henkel  Sustainability Report 2020 About this report T...   \n",
       "14                 Linde  Making our world more productive Sustainable G...   \n",
       "\n",
       "                 datatype        date domain   \n",
       "0   sustainability_report  2021-03-31    NaN  \\\n",
       "1   sustainability_report  2021-03-31    NaN   \n",
       "2   sustainability_report  2021-03-31    NaN   \n",
       "3   sustainability_report  2021-03-31    NaN   \n",
       "4   sustainability_report  2020-03-31    NaN   \n",
       "5   sustainability_report  2021-03-31    NaN   \n",
       "6   sustainability_report  2021-03-31    NaN   \n",
       "7           annual_report  2021-03-31    NaN   \n",
       "8   sustainability_report  2020-03-31    NaN   \n",
       "9   sustainability_report  2020-03-31    NaN   \n",
       "10  sustainability_report  2020-03-31    NaN   \n",
       "11  sustainability_report  2020-03-31    NaN   \n",
       "12  sustainability_report  2020-03-31    NaN   \n",
       "13  sustainability_report  p.DE-03-31    NaN   \n",
       "14          annual_report  2021-03-31    NaN   \n",
       "\n",
       "                                           esg_topics  internal symbol   \n",
       "0   ['CleanWater', 'GHGEmission', 'ProductLiabilit...         1    BEI  \\\n",
       "1   ['DataSecurity', 'Iso50001', 'GlobalWarming', ...         1    DTE   \n",
       "2   ['Whistleblowing', 'DataSecurity', 'Vaccine', ...         1    VNA   \n",
       "3   ['DataSecurity', 'DataMisuse', 'DrugResistance...         1    MRK   \n",
       "4   ['WorkLifeBalance', 'Corruption', 'AirQuality'...         1    MTX   \n",
       "5   ['DataSecurity', 'Iso50001', 'GlobalWarming', ...         1   EOAN   \n",
       "6   ['WorkLifeBalance', 'Corruption', 'Iso50001', ...         1    RWE   \n",
       "7   ['WorkLifeBalance', 'Vaccine', 'DataSecurity',...         1    HEI   \n",
       "8   ['CleanWater', 'Corruption', 'Whistleblowing',...         1    HEI   \n",
       "9   ['DataSecurity', 'Iso50001', 'EmployeeTurnover...         1    SIE   \n",
       "10  ['DataSecurity', 'GlobalWarming', 'AntiSlavery...         1    LIN   \n",
       "11  ['Whistleblowing', 'Corruption', 'DataSecurity...         1    RWE   \n",
       "12  ['Vaccine', 'GHGEmission', 'Governance', 'Acce...         1    QIA   \n",
       "13  ['Deforestation', 'Corruption', 'RoundtableOnS...         1    HNK   \n",
       "14  ['DataSecurity', 'Corruption', 'GHGEmission', ...         1    LIN   \n",
       "\n",
       "                                            title  url  \n",
       "0         BeiersdorfAG Sustainability Report 2021  NaN  \n",
       "1    DeutscheTelekomAG Sustainability Report 2021  NaN  \n",
       "2            VonoviaSE Sustainability Report 2021  NaN  \n",
       "3            MerckKGaA Sustainability Report 2021  NaN  \n",
       "4       MTUAeroEngines Sustainability Report 2020  NaN  \n",
       "5               E.ONSE Sustainability Report 2021  NaN  \n",
       "6                RWEAG Sustainability Report 2021  NaN  \n",
       "7           HeidelbergCementAG Annual Report 2021  NaN  \n",
       "8   HeidelbergCementAG Sustainability Report 2020  NaN  \n",
       "9            SiemensAG Sustainability Report 2020  NaN  \n",
       "10               Linde Sustainability Report 2020  NaN  \n",
       "11               RWEAG Sustainability Report 2020  NaN  \n",
       "12          QiagenN.V. Sustainability Report 2020  NaN  \n",
       "13     HenkelAG&CoKGaA Sustainability Report p.DE  NaN  \n",
       "14                       Linde Annual Report 2021  NaN  "
      ]
     },
     "execution_count": 75,
     "metadata": {},
     "output_type": "execute_result"
    }
   ],
   "source": [
    "# Check loaded data and reset index\n",
    "raw_data = raw_data.reset_index(drop=True)\n",
    "raw_data.head(15)"
   ]
  },
  {
   "attachments": {},
   "cell_type": "markdown",
   "metadata": {},
   "source": [
    "**Column descriptions**\n",
    "- symbol: stock symbol of the company\n",
    "- company: company name\n",
    "- date: publication date of document\n",
    "- title: document title\n",
    "- content: document content\n",
    "- datatype: document type\n",
    "- internal: is this a report by company (1) or a third-party document (0)\n",
    "- domain (optional): Web domain where the document was published\n",
    "- url (optional): URL where the document can be accessed\n",
    "- esg_topics (optional): ESG topics extracted from the data using our internal NLP"
   ]
  },
  {
   "cell_type": "code",
   "execution_count": 76,
   "metadata": {},
   "outputs": [
    {
     "data": {
      "text/plain": [
       "(11188, 10)"
      ]
     },
     "execution_count": 76,
     "metadata": {},
     "output_type": "execute_result"
    }
   ],
   "source": [
    "# Check shape (row and column amount)\n",
    "raw_data.shape"
   ]
  },
  {
   "cell_type": "code",
   "execution_count": 77,
   "metadata": {},
   "outputs": [
    {
     "data": {
      "text/plain": [
       "company       object\n",
       "content       object\n",
       "datatype      object\n",
       "date          object\n",
       "domain        object\n",
       "esg_topics    object\n",
       "internal       int64\n",
       "symbol        object\n",
       "title         object\n",
       "url           object\n",
       "dtype: object"
      ]
     },
     "execution_count": 77,
     "metadata": {},
     "output_type": "execute_result"
    }
   ],
   "source": [
    "# Check datatypes\n",
    "raw_data.dtypes"
   ]
  },
  {
   "attachments": {},
   "cell_type": "markdown",
   "metadata": {},
   "source": [
    "## Data Normalization & Cleaning"
   ]
  },
  {
   "attachments": {},
   "cell_type": "markdown",
   "metadata": {},
   "source": [
    "First, several steps are conducted to normalize the text. These include lowercase conversion, expanding abbreviations, removing stopwords, applying lemmatization (dimensionality reduction), removing URLs and email addresses and extra whitespaces."
   ]
  },
  {
   "cell_type": "code",
   "execution_count": 78,
   "metadata": {},
   "outputs": [],
   "source": [
    "cleaned_data = raw_data.copy(deep=True)"
   ]
  },
  {
   "cell_type": "code",
   "execution_count": 79,
   "metadata": {},
   "outputs": [
    {
     "name": "stdout",
     "output_type": "stream",
     "text": [
      "URLs removed: 13737\n",
      "Mail addresses removed: 523\n",
      "Extra whitespaces removed: 19457\n"
     ]
    }
   ],
   "source": [
    "def remove_urls(text):\n",
    "    urls = re.findall(r'http\\S+|www\\S+|https\\S+', text, flags=re.MULTILINE)\n",
    "    return re.sub(r'http\\S+|www\\S+|https\\S+', '', text, flags=re.MULTILINE), len(urls)\n",
    "\n",
    "def remove_emails(text):\n",
    "    mail_addresses = re.findall(r'\\S+@\\S+\\s?', text, flags=re.MULTILINE)\n",
    "    return re.sub(r'\\S+@\\S+\\s?', '', text, flags=re.MULTILINE), len(mail_addresses)\n",
    "\n",
    "def remove_extra_whitespace(text):\n",
    "    extra_spaces = re.findall(r'\\s{2,}', text)\n",
    "    return re.sub(r'\\s+', ' ', text).strip(), len(extra_spaces)\n",
    "\n",
    "cleaned_data['cleaned_content'] = cleaned_data['content'].astype(str) # Convert all texts to string\n",
    "cleaned_data['cleaned_content'] = cleaned_data['cleaned_content'].apply(lambda x: x.lower()) # Convert all texts to lower-case\n",
    "cleaned_data['cleaned_content'] = cleaned_data['cleaned_content'].apply(lambda x: unidecode(x, errors=\"preserve\")) # Remove diacritics / accented characters and unicode normalization\n",
    "cleaned_data['cleaned_content'], url_count = zip(*cleaned_data['cleaned_content'].apply(remove_urls)) # Remove URLs from texts\n",
    "cleaned_data['cleaned_content'], email_count = zip(*cleaned_data['cleaned_content'].apply(remove_emails)) # Remove e-mail addresses from texts\n",
    "cleaned_data['cleaned_content'], extra_space_count = zip(*cleaned_data['cleaned_content'].apply(remove_extra_whitespace)) # Remove extra whitespaces from texts\n",
    "\n",
    "print(\"URLs removed:\", sum(url_count))\n",
    "print(\"Mail addresses removed:\", sum(email_count))\n",
    "print(\"Extra whitespaces removed:\", sum(extra_space_count))"
   ]
  },
  {
   "cell_type": "code",
   "execution_count": 80,
   "metadata": {},
   "outputs": [
    {
     "name": "stdout",
     "output_type": "stream",
     "text": [
      "Contact information removed: 44477\n",
      "TOCs removed: 9878\n"
     ]
    }
   ],
   "source": [
    "def remove_contact_details(text):\n",
    "    # Remove phone numbers\n",
    "    phone_regex = r'[\\+\\(]?[1-9][0-9 .\\-\\(\\)]{8,}[0-9]'\n",
    "    phone_count = len(re.findall(phone_regex, text))\n",
    "    text = re.sub(phone_regex, '', text)\n",
    "\n",
    "    # Remove common contact-related phrases\n",
    "    contact_phrases_regex = r'\\b(?:Contact Person|Phone|Tel|Fax|Mobile|E?mail|Skype|Twitter|Facebook|LinkedIn|Website):\\b'\n",
    "    contact_phrases_count = len(re.findall(contact_phrases_regex, text, flags=re.IGNORECASE))\n",
    "    text = re.sub(contact_phrases_regex, '', text, flags=re.IGNORECASE)\n",
    "\n",
    "    total_count = phone_count + contact_phrases_count\n",
    "    return text, total_count\n",
    "\n",
    "def remove_table_of_contents(text):\n",
    "    # Remove common table of contents phrases\n",
    "    toc_phrases_regex = r'\\b(?:Table of Contents|Contents)\\b'\n",
    "    toc_phrases_count = len(re.findall(toc_phrases_regex, text, flags=re.IGNORECASE))\n",
    "    text = re.sub(toc_phrases_regex, '', text, flags=re.IGNORECASE)\n",
    "\n",
    "    # Remove content with numbering like \"1. Introduction\", \"1.1. Background\", \"A. Overview\", etc.\n",
    "    toc_entries_regex = r'(^|\\n)\\s*\\w+(\\.\\w+)*\\s+\\w+([\\w\\s]+)?'\n",
    "    toc_entries_count = len(re.findall(toc_entries_regex, text))\n",
    "    text = re.sub(toc_entries_regex, '', text)\n",
    "\n",
    "    total_count = toc_phrases_count + toc_entries_count\n",
    "    return text, total_count\n",
    "\n",
    "cleaned_data['cleaned_content'], contact_count = zip(*cleaned_data['cleaned_content'].apply(remove_contact_details))\n",
    "cleaned_data['cleaned_content'], toc_count = zip(*cleaned_data['cleaned_content'].apply(remove_table_of_contents))\n",
    "print(\"Contact information removed:\", sum(contact_count))\n",
    "print(\"TOCs removed:\", sum(toc_count))"
   ]
  },
  {
   "cell_type": "code",
   "execution_count": 81,
   "metadata": {},
   "outputs": [],
   "source": [
    "def expand_contractions(text):\n",
    "    expanded_text = []\n",
    "    for word in text.split():\n",
    "        expanded_text.append(contractions.fix(word))\n",
    "    expanded_text = ' '.join(expanded_text)\n",
    "    return contractions.fix(expanded_text)\n",
    "\n",
    "cleaned_data['cleaned_content'] = cleaned_data['cleaned_content'].apply(expand_contractions)"
   ]
  },
  {
   "cell_type": "code",
   "execution_count": 82,
   "metadata": {},
   "outputs": [
    {
     "data": {
      "text/plain": [
       "'Sustainability Highlight Report CARE BEYOND SKIN 2021 03 Foreword OUR SUSTAINABILITY COMMITMENT 06 Our Values, our Brands, our Strategy 07 Our Sustainability Agenda CARE BEYOND SKIN 08 Our Partnerships 09 Our Promise toward Consumers MINIMIZING OUR ENVIRONMENTAL FOOTPRINT 11 Our Targets Climate Care: Our Holistic Approach to Climate Protection 12 14 16 17 18 People and Nature in Balance – Innovative NIVEA Products Eucerin: Dermocosmetics Meets Sustainability La Prairie Combines Sustainability and Luxury Climate-neutral Production in Leipzig and Berlin KEY FOR NAVIGATION Jump to the table MAXIMIZING OUR SOCIAL IMPACT 20 Our Targets Our Engagement for Sustainable Palm Oil Cultivation in Indonesia 21 23 24 25 27 The Power of Human Touch – NIVEA’s New Social Mission Eucerin’s Social Mission for Greater Social Participation We Stand Strong for Women and Girls Worldwide Diversity and Inclusion as Key to Success OUTLOOK 30 Continuing our Sustainability Journey in 2022 ANNEX 33 Key Figures at a Glance 34 About this Report 35 Contact Persons 36 Imprint Page reference Web link Highlights 2021 of contents Foreword Dear Readers, At Beiersdorf, we recognize our role in rising to one of the greatest challenges of our time: tackling climate change. In 2021, we successfully reduced our carbon footprint – in absolute terms – for the third year in a row, while continuing our business growth. By the end of 2021, as our consumer business returned to pre-COVID-19 levels, we have reduced our carbon emissions by 12.7% (vs. 2018). We are proud of this result, because it proves business growth and decarbonization can go hand in hand. Decoupling human economic activity from natural resource consumption is perhaps the most challenging and ultimate goal of the global sustainability movement. It has inspired Beiersdorf’s ambitious Sustainability Agenda, with its clear focus on investment and innovation-led reduction of our overall environmental footprint. Vincent Warnery, Chairman of the Executive Board Zhengrong Liu, Member of the Executive Board I Human Resources Transforming our products, including their packaging and formulations, is one of the biggest levers to reduce CO2 emissions. It is something that we’ve committed extra investment and brainpower in recent years. In 2021, we pushed ourselves further, despite continuous economic headwinds caused by the pandemic. Thanks to the ingenuity of our experts and partners, we were able to demonstrate that superior skin care can be achieved in more sustainable ways. Our consumers across the world appreciate that: our new biodegradable shower formulations or mineral oil-free lip care products are just two examples that have been enjoying high popularity with global consumers. Feeling encouraged by the positive sentiment, we launched our “climate care” – bringing climate care to skin care – mission last year. We are anchoring climate protection at the center of our product transformation towards sustainability. You can read more about this and our “climate-neutralized” products in this report. We are proud of this result, because our cross-functional teams made tremendous efforts to turn ambition into reality. Innovating sustainably means exploring new materials and technologies, working in partnership with others alongside new, agile processes. Each reformulation or change to packaging material is preceded by intensive cross-functional collaboration. In the day-to-day setting, sustainability requirements and business KPIs are often not a perfect match. At Beiersdorf, Foreword we have chosen to address such tensions directly. An open attitude and the drive to innovate has hel ped our teams to find solutions. Where reconciliation was not easily possible, we did not shy away from making tough decisions to ensure our ambitious targets were being met. For example, manufacturing products with recycled plastics is more costly and technologically more demanding. But this hasn’t prevented us from increasing the share of recycled plastics in our packing from 1% to 7% with-in a year. Our goal for 2022 is going to be 15%. Achieving our 2015 commitment to make all NIVEA products 100% free of microplastics by the end of 2021 is another excellent example of long-term fruitful collaboration. However, today’s sustainability journey continues to set complex new tasks in front of us. Ensuring skin care performance during the reformulation process or mitigating the color impact of recycled materials are some of the latest challenges our industry faces. Securing the supply of new packaging and raw materials needed for sustainability in times of increasing disruptions in the global supply chain comes on top of an already long list. Beiersdorf’s sustainability community stepped up to these difficulties always in the same fashion: with even more agility, even closer collaboration, and even stronger personal engagement. We thank all of them sincerely for their hard work and dedication to push our sustainability journey forward. We are proud of this result, because we know the standards we apply in setting and measuring our targets are amongst the highest. Our climate target is in line with the latest climate science and is recognized by the “Science-based Target initiative”. By reducing our emissions by 30% in absolute terms by 2025 (vs. 2018), we are among the leading international compa nies in the fight against climate change. We calculate greenhouse gas emissions according to the strict requirements set by the GHG Protocol and we disclose our performance publicly. Our key performance indicators are subject to external verification by renowned, indepen dent partners. In our desire to continuously learn and improve, we regularly invite external experts to critically examine our strategy as well as action plans. A good example for this is our engagement in afforestation projects. Growing the world’s natural capacity to absorb carbon is essential and we are convinced we have a role to play in filling the gap between what is technologically possible in terms of own emission reduction and what the entire world immediately needs. Without financial support from the private sector, many climate projects in the developing world would not have a chance to be implemented. At the same time, we are aware of the controversy surrounding some of the “climate neutral” claims across different industries. We understand and support some of these key critical voices and our stance as Beiersdorf is clear: we prioritize our own ambitious reduction strategy, while at the same time we actively invest in climate projects that remove carbon from the atmosphere. We therefore select projects developed by partners with deep expertise and high international reputation. All our projects are certified according to the highest quality standards. In addition we always seek to support those projects that provide additional benefits to communities and bolster biodiversity. We have also been stepping up internal quality standards on sustainability management. Often neglected, this is something that requires significant investment. At Beiersdorf, we have been treating the continued professionalization and automation of our sustainability data management as a high priority throughout 2021. Our Sustainability Agenda Entrepreneur network into Europe. Together with Ashoka, we are com mitted to supporting five female social innovators who are leading projects that will positively impact the future of girls and women. With our partners CARE and Plan International we initiated ‘Empowering Girls’ mission and advanced well with our projects in Africa and Latin America. This important work addresses COVID-19 related challenges, which disproportionately affect girls and young women. Enjoy the report! We hope you enjoy reading about our 2021 highlights. We thank everyone for their commitment to, and passion for, our sustainability journey. As always, we welcome your feedback and comments. is holistic, including continuous initiatives to serve people and society. In 2021, we expanded our partnership with the Ashoka Social Kind regards Vincent Warnery Zhengrong Liu WE CARE BEYOND SKIN FOR OUR CONSUMERS WE CARE BEYOND SKIN FOR OUR CONSUMERS 06 CARE BEYOND SKIN OUR SUSTAINABILITY ENVIRONMENTAL FOOTPRINT OUR SOCIAL IMPACT Our Values, our Brands, our Strategy COMMITMENT Our Values, our Brands,our Strategy Since 1882 Beiersdorf has stood for innovative skin care. Our unique brands and high-quality skin and body care products set us apart, convincing millions of consumers worldwide – day after day. Every person is different and has their own needs. This naturally applies to skin care, too. Through our products, we respond to our consumersʼ individual expectations and wishes, while keeping global trends and regional characteristics firmly in view. This high proximity to people and markets helps us regularly set new milestones in the sector through our innovations, and continually expand our brand portfolio. We want to remain internationally successful in the future and do so in a sustainable way. Our corporate strategy C.A.R.E.+, which defines sustainability as one of our priorities, guides us in this endeavor, and our core values Care, Simplicity, Courage and Trust provide the compass for our actions. This shared understanding of values gives us the basis for implementing our strategy successfully over the long term. Care is especially important to us here. We apply this value far beyond our core business: Care comprises our responsibility toward people and the environment. This is why “Care Beyond Skin“ is our Corporate Purpose and at the same time the name of our Sustainability Agenda CARE BEYOND SKIN. Overview of 2021: 15,740 employees contributed daily to our success €6.1bn in sales revenues were generated in 2021 HEALING OINTMENT 07 CARE BEYOND SKIN Our Sustainability Agenda CARE BEYOND SKIN Our Sustainability Agenda CARE BEYOND SKIN Sustainability plays a central role in our business strategy C.A.R.E.+, which we have pursued since 2019. In view of this, since 2020 we have consistently implemented our Sustainability Agenda CARE BEYOND SKIN. The Agenda comprises a total of seven focus fields that reflect the impact of our activities along the entire value chain. CARE BEYOND SKIN also means that we take action – to care for people and the environment. We see this as our responsibility and want to make a contribution – not only to the consumers around the world who trust our brands and products but also to society and the environment. To achieve significant progress in the overall topic area of sustainability, all our employees, all corporate functions as well as the regional and country organizations pull together. Our joint ambitious sustainability goals, which we plan to achieve by 2025 and 2030 respectively, help us in this undertaking. OUR SUSTAINABILITY COMMITMENT For Consumer Health and Wellbeing • Trust and Transparency • Product Safety • Skin Health For Employees along our entire Value Chain • Health and Safety • Diversity • Human Rights For an Inclusive Society • Human Touch Projects • Fighting the Stigma of Skin Ailments • Girlsʼ Empowerment MINIMIZING OUR MAXIMIZING ENVIRONMENTAL FOOTPRINT OUR SOCIAL IMPACT For a Climate Positive Future • Reduction of GHG Emissions • Renewable Energy • Use of Renewable Raw Materials For Fully Circular Resources • Renewable and Biodegradable Ingredients • Refillable, Reusable or Recyclable Packaging • Recycled Content in Packaging • Zero Waste to Landfill • Waste Reduction For Sustainable Land Use • Responsible Sourcing • Sustainable Landscape and Smallholder Support For Regenerative Water Environments • Water Use in Production and Products • Water Use in Product Consumption • Clean Water Provision • Protected Marine Environments 08 CARE BEYOND SKIN OUR SUSTAINABILITY ENVIRONMENTAL FOOTPRINT OUR SOCIAL IMPACT Our Partnerships COMMITMENT Our Partnerships As a global company we do not act alone. Especially with regard to current challenges such as climate protection and upholding human rights, it is vital to look beyond the boundaries of our own company. Comprehensive collaboration and cooperation are therefore becoming increasingly important. From the sustainable procurement of raw materials through to improving working and living conditions, we want to make a difference, trigger change processes and play an active role in the overall transformation. For this reason, we actively engage in associations and sustainability initiatives, also across industry boundaries and national borders, and seek to enter strong and lasting partnerships. EUROPEAN BRANDS FORUM FOR SUSTAINABLE ASSOCIATION PALM OIL COSMETICS EUROPE ACTION FOR SUSTAINABLE SUSTAINABLE PACKAGING CERTIFIED DERIVATIVES SUSTAINABLE PALM OIL GLOBAL SHEA ALLIANCE GEMEINSAM RECYCELN PLAN INTERNATIONAL SEDEX MEMBER AIM PROGRESS09 CARE BEYOND SKIN OUR SUSTAINABILITY ENVIRONMENTAL FOOTPRINT OUR SOCIAL IMPACT Our Promise toward Consumers COMMITMENT Our Promise toward Consumers Together with our consumers, we choose to take the path toward a more sustainable future. This makes the CONSUMER Business Segment a vital cornerstone of our Sustainability Agenda. How we fulfill rising expectations It is our top priority to provide our consumers with outstanding skin care products that fully satisfy their very diverse expectations. Our product portfolio therefore promises quality, safety and sustainability. In this we will not only be measured by our words but by our specific actions. Our new packaging and product innovations are an excellent example of how we are meeting the increasing expectations of our consumers regarding sustainability aspects. Committed to 100% transparency Our consumers are increasingly interested in the sustainability and environmental compatibility of product formulas and packaging. In view of this, transparent communication is a key concern for us: It includes regular, candid communication about our sustainability activities and our product ranges. Among other initiatives, we have implemented the motto “100% transparency” in the presentation of the exact recycling proportions in our packaging, for example in the NIVEA Natural Balance series. Beiersdorf also joined the Eco-Beauty Score Consortium in 2021 in response to the need for greater transparency regarding the environmental impact of cosmetic products. The aim of this industry initiative is to develop an evaluation framework that reveals the environmental impact of a cosmetic product for consumers regarding its formula, packaging and application. We guarantee the highest quality and product safety With 140 years of skin care expertise, it is a matter of course for us to develop skin care products that meet the highest quality standards and are absolutely safe to use. Our consumers expect this from us, and we do everything we can to meet their demands. We use scientific methods of the highest standards to extensively research our products and active ingredients to better understand their effect on skin and hair and to ensure the excellent quality and safety of our products. Find more information on the Consumer Business Segment here 11 CARE BEYOND SKIN OUR SUSTAINABILITY ENVIRONMENTAL FOOTPRINT OUR SOCIAL IMPACT COMMITMENT Our Targets Our Targets Protecting nature and the environment is the focus of our Sustainability Agen da CARE BEYOND SKIN. In the ENVI RONMENT area, we have defined four focus fields in which we can and want to achieve a great deal. We have set ourselves ambitious targets to minimize our environmental footprint progressively in all areas. TARGET 4 TARGET 3 TARGET 2 TARGET 1 SDG 30% absolute reduction in Scope 1, 2 and 3 greenhouse gas emissions by 2025 (vs. 2018 base year) PROGRESS Project ongoing Climate-neutral production sites by 2030 PROGRESS Project ongoing 50% reduction in petroleum-based virgin plastics in our packaging by 2025 (vs. 2019 base year) PROGRESS Project ongoing 30% recyclate in our plastic packaging by 2025 (vs. 2019 base year) PROGRESS Project ongoing 100% of our packaging refillable, reusable or recyclable by 2025 PROGRESS Project ongoing 30% reduction in production facility waste by 2025 (vs. base year 2018) PROGRESS Project ongoing 100% of our main renewable raw materials to come from sustainable sources by 2025 PROGRESS Project ongoing Deforestation-free procurement of our main raw materials (incl. palm oil, soy, paper) by 2025 PROGRESS Project ongoing 100% FSC-certified paper by 20201 PROGRESS Target achieved 100 % palm (kernel) oil-based de rivatives from sustainably certified sources by 2020 PROGRESS Target achieved 25% reduction in our water consumption per manufactured product by 2025 (vs. 2018 base year) PROGRESS Project started NIVEA products 100% free of microplastics by the end of 2021 PROGRESS Target achieved Eucerin prodcuts 100% free of microplastics by the end of 2023 PROGRESS Project ongoing Exclusive use of biodegradable polymers in our European product formulations by the end of 2025 PROGRESS Project ongoing 1 Only primary packaging CARE BEYOND SKIN OUR SUSTAINABILITY ENVIRONMENTAL FOOTPRINT OUR SOCIAL IMPACT COMMITMENT Climate Care: Our Holistic Approach to Climate Protection FOR A CLIMATE POSITIVE FUTURE Climate Care: Our Holistic Approach to Climate Protection The fight against climate change is at the heart of our Sustainability Agenda and is the compass for our decisions. Under the umbrella of our “climate care” mission we pursue a holistic approach to drive climate protection forward at all levels. A large share of our emissions is attributable to raw material extraction and procurement, and to packaging. Our goal here is to leverage the full emissions reduction potential, progressively make our product formulas climate-friendlier, and at the same time maintain the high quality of our products. For us this is not a contradiction, but an incentive. Our Climate Roadmap In 2021, a team of experts evaluated our raw materials portfolio to identify those with the greatest impact on total emissions. The result is our internal Climate Road map for reducing CO2 emissions from product ingredients. It will help reduce our overall emissions by 30% by 2025. We are relying on the following measures, among others: • Switchover to plant-based raw materials with a lower CO2 footprint • Increasing our use of ingredients from non-fossil sources • Increasing our use of upcycled ingredients • Procuring our main renewable raw materials from certified sustainable cultivation • Close cooperation with our suppliers to initiate the switchover to renewable energy sources at their production sites All these already delivered results in 2021 that we are very proud of. On the following pages, we of fer you specific examples of our emissions-reduction measures: These demonstrate there is no conflict between sustainable and high-quality product development processes. On the contrary, the vision of climate-friendlier products is a major boost to our innovative drive. CARE BEYOND SKIN OUR SUSTAINABILITY ENVIRONMENTAL FOOTPRINT OUR SOCIAL IMPACT COMMITMENT Climate Care: Our Holistic Approach to Climate Protection Our Approach to Climate Neutralization In addition to our ambitious CO2 reduction targets, we are committed to take further steps. Under the umbrella of our “climate care” mission, we have started investing in projects that store carbon from the atmosphere to balance remaining product-based emissions. An example of these projects includes afforestation efforts that help mitigate climate change. Trees absorb CO2 from the atmosphere through photosynthesis, and the carbon is stored in their biomass, e.g., tree trunks, roots and leaves. We only select climate projects that are certified according to external international standards, such as the Verified Carbon Standard (VCS) or the Gold Standard. This ensures that our climate impact is real, measurable, permanent and third-party verified. Moreover, we focus on projects that provide additional benefits for biodiversity or local communities. The result is a balance between CO2 emissions and CO2 ab sorbed by nature. Whenever we follow this approach, we talk ab-out “climate-neutralized” instead of “climate-neutral” because we want to underline that our products are not completely climate-neutral once they leave our production sites. Instead, climate neutralization is a result of a subsequent action contributing to the fight against climate change. In 2021, our global skin care brand NIVEA launched its first climate neutralized products. They have a significantly reduced CO2 footprint and remaining emissions are balanced through certified climate projects. For example, the NIVEA shower gel range in Germany with round about 30 different products is available in stores as climate-neutralized since June 2021. In the coming years, we will launch additional climate-neutralized products, thereby making it easier for our consumers to make sustainable choices. CARE BEYOND SKIN People and Nature in Balance – Innovative NIVEA Products FOR FULLY CIRCULAR FOR A CLIMATE RESOURCES POSITIVE FUTURE People and Nature inBalance – Innovative NIVEA Products NIVEA is leading by example on our journey toward greater sustainability. Innovative product formulas and modern packaging make the NIVEA product portfolio a pioneer in the transformation of our overall company. Over the past year, NIVEA repeatedly set standards and launched several new products that deliver on our sustainability promise to our consumers. OUR SUSTAINABILITY ENVIRONMENTAL FOOTPRINT OUR SOCIAL IMPACT CARE BEYOND SKIN OUR SUSTAINABILITY ENVIRONMENTAL FOOTPRINT OUR SOCIAL IMPACT COMMITMENT People and Nature in Balance – Innovative NIVEA Products Fewer emissions by using renewable plastics In 2021, we launched our first climate-neutral products with the NIVEA Naturally Good face care range in about 30 countries. Both the jar and the lid of the face creams are made of certified renewable plastic, which enables a significant cut in emissions. The formulas in the range are also particularly sustainble: They are made from 99% natural and vegan ingredients and are free from microplastic.¹ Refilling instead of throwing away NIVEA is currently testing a new product format in the UK: NIVEA EcoRefill is the first refillable hand soap in the form of tabs, combining a sustainable product formula and a sustainable packaging design. The tab is dissolved in a refillable bottle by the consumer at home in tap water and then turns into liquid soap. The formula is 99% biodegradable and contains 97% naturally derived ingredients. The reusable packaging is made of 100% recycled material and the repurchasable tabs can be dissolved in it again and again, delivering significant savings in packaging material. Certified, recycled and recyclable Our new solid facial cleanser NIVEA MagicBAR is vegan and free of microplastics, which makes it possible for consumers to do without plastic packaging for the product. The ingredients are 99% of natural origin.² The packaging philosophy of this cleansing range is based on sustainably sour ced FSC-certified paper and recycled materials. All the packaging is also fully recyclable. We are proud to present NIVEA MagicBAR, our first natural cosmetics range bearing the Ecocert® Cosmos Natural seal. Innovative spray deodorant technology With NIVEA ECODEO, we marketlaunched an innovative spray deodorant in 2021 that is climatefriendlier3 compared to our standard deodorants and also intro duced the industryʼs first 100% recycled aluminum cans. Our ECODEO is based on the innovative Eco-Valve technology, in which nitrogen extracted from the air is the propellant: This saves emissions and also enables us to increase the active ingredient content in the spray cans. The result is that NIVEA ECODEO lasts twice as long as comparable products and thus contributes to lowering packaging waste. The key to success was our intensive cooperation with suppliers and partners. NIVEA worked together with Salford Valve Company Ltd. and Nussbaum Matzingen AG to develop this innovative, more sustainable solution. CARE BEYOND SKIN Eucerin: Dermocosmetics Meets Sustainability FOR FULLY CIRCULAR RESOURCES Eucerin: Dermocosmetics Meets Sustainability Eucerin pursues Beiersdorfʼs ambitious environmental sustainability goals and works continually to ensure the highest product quality, while reducing the negative impact of the products on the ecological balance. We continuously examine our products for their potential to save raw materials, or switch to more sustainable alternatives. Last year, we were able to implement numerous sustainability initiatives in the Eucerin product portfolio. Rethinking packaging – less plastic, more recycling Supporting the circular economy conserves natural resources. This is why we increasingly rely on reusable and recycled materials. Through these and further measures, we promote the use of sustainable raw materials without compromising on the effectiveness of our products. This also holds true for the switchover of our packaging, e.g., for our DermatoCLEAN and DERMO PURE facial cleansing products: Since 2021, these have consisted of 97% recycled PET (rPET). However, that was just the beginning: In the years to come, we will consistently convert further product ranges to rPET packaging. Where possible, we also reduce the use of plastic in our packaging. In 2021, for example, Eucerin switched its Hyaluron-Filler Concentrate over to cardboard packaging, thereby saving 80% plastic compared with the previous version. Goodbye to outer packaging and package inserts Above and beyond, this we have set ourselves the overarching goal of reducing our paper consumption. On the one hand, we are achieving this by doing away with outer packaging. In 2021, for example, we removed the outer packaging of our shampoos and the Atopi Control Lotion (400ml) and thus achieved an annual saving of 44 tonnes of MINIMIZING OUR OUR SUSTAINABILITY ENVIRONMENTAL FOOTPRINT COMMITMENT paper. Further products will follow year after year for which outer packaging is not absolutely necessary. A further step is that we have progressively eliminated our package inserts. Since mid-2021, all our cosmetic products have been produced very largely without package inserts; as a result, we have eliminated 20 million package inserts worldwide every year – the equivalent of 47 tonnes of paper. Further measures will follow over the coming years, such as switching to a lighter paper for products that still require outer packaging. Overall we will save more than 200 tonnes of paper annually by 2025 compared with the 2019 base year, meaning a signi ficant saving in our consumption of natural resources and ultimately in our CO2 emissions as well. MAXIMIZING OUR SOCIAL IMPACT CARE BEYOND SKIN OUR SUSTAINABILITY ENVIRONMENTAL FOOTPRINT OUR SOCIAL IMPACT La Prairie Combines Sustainability and Luxury COMMITMENT FOR FULLY CIRCULAR RESOURCES La Prairie Combines Sustainabilityand Luxury Our luxury brand La Prairie represents the epitome of exclusivity amd excellence. At the same time, it is shaped by its vision of creating a world of timeless beauty – now and in the future. With the Pure Gold Collection, La Prairie heralds a new era that blends timelessness, sustainability and luxury. The Pure Gold Collection – a timeless approach to beauty The products in the Pure Gold Collection reflect the close connection between La Prairieʼs vision of timelessness and the brand’s responsibility toward the environment. Since 2021, the products in this facial care collection have retailed in refillable brushed metal jars, which can be re used indefinitely. Only the glass flasks contained within are replaced when the formula has been exhausted – and these are fully recyclable. With this innovation, La Prairie paves the way for a more sustainable product portfolio, aligned with Beiersdorfʼs CARE BEYOND SKIN Sustainability Agenda. Engagement in research – preserving the beauty of glaciers La Prairieʼs engagement for the protection of nature goes beyond the sustainability of its products. Since 2019, the brand has cooperated with the Institute of Glaciology at the Swiss Federal Institute of Technology, Zurich (ETH Zurich). Both partners are united through their strong bond with their Swiss homeland, and their commitment to exploring and preserving timeless beauty. As a patron, La Prairie supports the university in two research projects investigating the effects of climate change on glaciers in the Swiss Alps. CARE BEYOND SKIN Climate-neutral Production in Leipzig and Berlin FOR A CLIMATE POSITIVE FUTURE Climate-neutral Production in Leipzig and Berlin For us, one thing is certain: Climate change is the greatest challenge of our age. We are tackling this with conviction and determination. To do this, we are taking measures along our entire value chain – not only in developing our products but also in designing our production facilities sustainably. Our production sites are an essential lever in lowering our energyrelated emissions. We are pursuing the goal of climate-neutral operations at all our plants by 2030. Laying the cornerstone in Leipzig A milestone on this journey was the laying of the foundation stone for the new Beiersdorf plant in Leipzig in September 2021. At our new cosmetics production center in the east of Germany, we are focusing on innovation and sustainability. Our new Leipzig plant meets high environmental standards and contributes through numerous aspects to the CARE BEYOND SKIN Sustainability Agenda: The plant is to be operated completely CO2neutrally thanks to the use of renewable energies. It is equipped with a photovoltaic system and charging stations for electric vehicles. Heat, wastewater and ethanol (used for the production of aerosols) can be recovered and reprocessed onsite in a specialized facility. In line with our own standards, we are striving for LEED Gold certi fication for this new building. OUR SUSTAINABILITY COMMITMENT Production at the new plant in Leipzig is scheduled to launch as early as 2022. State-of-the-art logistics hub In the immediate vicinity of the new Leipzig plant, Beiersdorf is planning a state-of-the-art logistics hub. We are explicitly aiming for CO2-neutral operations and sus tainability certification here, too. By greening its façades and roofs, and installing photovoltaic modules on the buildings themselves, we are setting a further example with this new logistics hub. Our existing plants are also becoming more sustainable. In Berlin, where we produce a variety of skin cleansing products such as shower gels and shampoos, production will be climate-neutral from 2022 onwards. Our “capital plant” will switch over fully to biomethane and green electricity at the beginning of 2022 and will thus reduce its CO2 footprint by a total of 99% compared with the 2018 base year. ENVIRONMENTAL FOOTPRINT OUR SOCIAL IMPACT WE CARE BEYOND SKIN FOR OUR SOCIETY We empower people. We encourage social cohesion. We think on a global and local community scale. WE CARE BEYOND SKIN FOR OUR SOCIETY 20 CARE BEYOND SKIN Our Targets Our Targets For us, CARE BEYOND SKIN also means working for a fairer, more inclusive society and strengthening social cohesion. This is why we are engaged in specific fields of action in the area of SOCIETY and have defined correspond ing goals – for our employees, everyone within our value chain and society as a whole. MINIMIZING OUR MAXIMIZING OUR SUSTAINABILITY ENVIRONMENTAL FOOTPRINT OUR SOCIAL IMPACT COMMITMENT TARGET 3 TARGET 2 TARGET 1 SDG Global Beiersdorf Diversity Targets by 2022 - 10% women in Executive Board - 35% women in Management Level 1–3 PROGRESS Project ongoing Beiersdorf Diversity Targets for Germany by 2022: - 35% women in Management Level 1 - 50% women in Management Level 2 PROGRESS Project ongoing Over 90% of suppliers are to accept Code of Conduct for business partners PROGRESS Target achieved By 2023, reach more than 300,000 people 100% transparency toward our consumers directly through our Girlsʼ Empowerment projects in Africa and Latin America PROGRESS PROGRESS Project ongoing Project ongoing By 2023, Eucerin will implement local social projects promoting the quality of life of people affected by skin diseases in at least 15 countries PROGRESS Project ongoing By 2025, NIVEAʼs skin-touch projects will have a positive impact on the individual health and wellbeing of more than 150,000 people, supported by a financial commitment of €20 million PROGRESS Project ongoing CARE BEYOND SKIN Our Engagement for Sustainable Palm Oil Cultivation in Indonesia FOR AN INCLUSIVE FOR SUSTAINABLE SOCIETY LAND USE Our Engagementfor Sustainable Palm Oil Cultivation in Indonesia Together with the WWF, we work to improve the living conditions of smallholder farmers in palm oil cultivation areas. Palm (kernel) oil-based raw materials are an indispensable ingredient in our high-quality cosmetic and personal care products. However, the conventional cultivation of oil palms endangers species-rich landscapes and ecosystems such as the rainforest. Our involvement in projects in Indonesia and Malaysia demonstrates our commitment to a sustainable palm oil cultivation and the local communities. OUR SUSTAINABILITY ENVIRONMENTAL FOOTPRINT OUR SOCIAL IMPACT CARE BEYOND SKIN OUR SUSTAINABILITY ENVIRONMENTAL FOOTPRINT OUR SOCIAL IMPACT COMMITMENT Our Engagement for Sustainable Palm Oil Cultivation in Indonesia The green heart of Borneo The island of Borneo harbors our planet’s second-largest rainforest. But here, not only large industries but also smallholder farmers are hacking down the virgin jungle for new oil palm plantations. For the WWF, this region is therefore an important area for nature conservation. As part of our Palm Sustainability Roadmap, together with WWF, we launched our smallholder farmer project in West Kalimantan, Indonesia, in 2018. The first project phase is expected to be completed in March 2022. Through our engagement we want to help ensure that the green heart of the island of Borneo will continue to beat in the future. We have already achieved a lot within the project period, from promoting sustainable palm oil cultivation to improving the living standards of around 4,500 people in three project villages, including 240 smallholder farmers and their families. Long-term holistic measures With the aim of promoting the sustainable cultivation of oil palms, the local people are trained to manage their plantations accordingly. Further training will be carried out to support the development of smallholder farmer associations. In addition, these farmers are able to purchase high-quality oil palm seedlings and and are supported in establishing contacts with local palm oil mills in order to gain better market access. The WWF and Beiersdorf see it as vital to strengthen these local communities holistically. For example, this includes the development of alternative sources of income that do not depend on the rainforest. We promote female craftswomen through specific training and encourage smallholder farmers to cultivate rubber sustainably. In addition, we support measures to improve the drinking water supply and are committed to a ”Green School“ concept that anchors environmental protection in schools. Our project highlights at a glance • Six new palm oil smallholder farmer groups were established • Largest association in West Kalimantan: The newly founded Palm Oil Farmersʼ Association has 216 farmers with 312 plantations • 211 land plots were legalized (a total of 265 ha, which corresponds to 70% of the plantations within the project) • 198 palm oil smallholders (both men and women) were trained in five training cycles • More than 30 students are attending the ”Green School“ CARE BEYOND SKIN OUR SUSTAINABILITY ENVIRONMENTAL FOOTPRINT OUR SOCIAL IMPACT COMMITMENT The Power of Human Touch – NIVEAʼs New Social Mission FOR AN INCLUSIVE SOCIETY The Power of Human Touch – NIVEA’s New Social Mission The hectic character of modern life, where people are “connected” yet disconnected, has become an obstacle to close relationships, physical touch and human bonding. The deficit of physical touch and lack of closeness have worsened in the COVID-19 pandemic. In January 2021, NIVEA therefore announced its Brand Purpose “Care for Human Touch to Inspire Togetherness.” Under this banner, the NIVEA brand is creating greater awareness of the health benefits of human touch and strengthening human bonds to alleviate the feeling of loneli ness. NIVEAʼs social mission “The Power of Human Touch” is a key instrument in turning these words into action. NIVEA strengthens the power of touch worldwide Under the mission statement “The Power of Human Touch,” NIVEA is supporting local projects worldwide to improve the quality of life of people at risk of loneliness, including premature babies, people with visual impairments, and elderly dementia patients. By 2025, NIVEA wants to invest €20 million in these projects around the world to make a positive impact on the health and wellbeing of over 150,000 individuals. NIVEA supports UNICEF UK Each year, more than 15 million children are born prematurely worldwide – and we know that touch is crucial to their development. Skin-to-skin contact is vital in neonatal units, where it is often known as kangaroo care. It helps parents bond with their baby, as well as supporting better physical and developmental outcomes for the baby. As international studies have shown, the kangaroo met hod benefits the entire mental and social development of the premature baby – right into adulthood. For this reason, NIVEA supports UNICEF UK’s work to ensure that babies on neonatal units get as much skin-to-skin contact as possible by funding UNICEF UK’s National Neonatal Project, an initiative designed to support 18 neonatal units in the UK to achieve Baby Friendly accreditation. Skin-to-skin contact is a part of UNICEF UK’s Baby Friendly standards and helps babies adjust to life outside the womb. CARE BEYOND SKIN Eucerinʼs Social Mission for Greater Social Participation FOR AN INCLUSIVE SOCIETY Eucerin’s Social Mission for Greater Social Participation “We believe in the life-changing power of dermatological skin care” – with this Brand Purpose, Eucerin affirms that our products can have a positive effect far beyond the skin’s surface. Skin diseases can have profound consequences: Many people with visible skin diseases suffer from the feeling of exclusion and stigmatization, which can lead to psychological and social stress. This is why we at Eucerin are committed to the social inclusion of people with skin diseases. For better quality of life and social participation In 2021 Eucerinʼs new global social mission was launched. By 2023, together with local professional organizations in at least 15 countries, Eucerin will implement projects for individuals and groups of all ages with visible skin diseases. In these projects, people are supported in confronting social exclusion with greater self-confidence, in order to regain their quality of life and social participation. Another concern is the alleviation of psychological stress through targeted measures and training. Last year, we already launched projects of this type in four countries. More self-confidence for people with ichthyosis An example of one of our ongoing projects is the cooperation between OUR SUSTAINABILITY COMMITMENT Eucerin and Aquaphor with the Foundation for Ichthyosis & Related Skin Types (FIRST) in the USA. Ichthyosis is a form of severe skin dryness with excessive dandruff. Those affected are often psychologically burdened and tend toward social withdrawal and frustration. This joint project aims to relieve and encourage teenagers and young adults suffering from ichthysosis. Targeted workshops give these sufferers the required skills and knowledge to deal with the disease personally, strengthen their self-confidence, promote their social integration and alleviate the psychological burden of the disease. ENVIRONMENTAL FOOTPRINT OUR SOCIAL IMPACT CARE BEYOND SKIN OUR SUSTAINABILITY ENVIRONMENTAL FOOTPRINT OUR SOCIAL IMPACT COMMITMENT We Stand Strong for Women and Girls Worldwide FOR AN INCLUSIVE SOCIETY We Stand Strong for Women and Girls Worldwide Young women and girls around the world are affected by unequal treatment – and this is made worse by crisis situations such as the COVID-19 pandemic. Young women and girls in particular often carry out activities in which they are exposed to a higher risk of infection, for example when providing care at home. In addition, in crises there is a growing risk that girls experience violence, are married off against their will and have to leave school prematurely. Aligned with our vision of an inclusive society, we want to counteract this. CARE BEYOND SKIN OUR SUSTAINABILITY ENVIRONMENTAL FOOTPRINT OUR SOCIAL IMPACT COMMITMENT We Stand Strong for Women and Girls Worldwide Susan Wasakania is a mother of five and earns her living by selling shoes and clothes. She dreams of giving disadvantaged girls and women in her village access to economic support by raising their awareness of the VSLA groups as part of the CARE project. Our strategic focus of empowering girls Empowering girls and young women is a focus of our Sustainability Agenda, because where girls grow up healthy, educated and free of violence, everyone benefits. By 2023, Beiersdorf aims to reach more than 300,000 people through “Empowering Girls” projects in Africa and Latin America. To achieve this, we are working closely together with two global NGOs, Plan International and CARE. The starting point of this commitment was our COVID-19 relief program launched in 2020, through which Beiersdorf is supporting people particularly affected by the pandemic. Our joint engagement with CARE Together with the NGO CARE, we launched projects in four African countries in 2021 to strengthen the healthcare and livelihoods of girls and women in particular. In Kenya, for example, CARE and Beiersdorf launched a health pro-gram through which we are sensitizing people to health issues and informing them regarding COVID-19 prevention via local radio channels and hygiene messages. At the same time, girls and young women, among other social groups, can access economic support in so-called Village Savings and Loan Associations (VSLAs). Here they acquire knowledge of financial topics such as loans and savings installments; this ensures that girls and women progressively become more independent and can raise their voices more confidently in family and social contexts. They are also learning new ways to provide for themselves and their families independently in times of the pandemic and beyond. Our commitment to Plan International Beiersdorf and Plan International are both committed to promoting and protecting girls and young women, to give them the opportunity of equality and self-determination in life. The focus is on six countries in South America and Africa that have been affected by COVID-19. The focus of our joint actions, through which we aim to initiate important changes step by step, is structured on three levels: access to education and mentoring, training for families and communities, and collaboration with governmental authorities. In doing so, we want to help the girls as well as the communities in which they live to better manage the medium-and long-term socioeconomic impacts of the COVID-19 pandemic. As part of a back-to-school campaign, “ZURI Guides” are being distributed in Colombia, for example: These are intended for children and adolescents and provide information on COVID-19 as well as activities on mathematics, communication and socioemotional support. Around 1,500 “ZURI Guides” have already been distributed to students in the project area since the project launch. CARE BEYOND SKIN Diversity and Inclusion as Key to Success FOR EMPLOYEES ALONG OUR ENTIRE VALUE CHAIN Diversity and Inclusion as Key to Success We celebrate diversity and see it both as the key to success and a prerequisite for mastering the challenges of tomorrow. Within our company-wide Diversity & Inclusion strategy, we successfully reached our first milestones in 2021 and launched several related initiatives. Starting over with our D&I Roadmap In the reporting year, we formulated a new Beiersdorf “Diversity & Inclusion Strategy Roadmap” to help us drive our strategy forward and deepen our culture of Diversity & Inclusion. In addition, we developed a KPI dashboard to contribute to full data transparency and thus make changes measurable and assessable. The implementation of our Roadmap is based on three strategic priorities: • Promoting leadership diversity • Promoting an inclusive culture • Promoting the representation of our consumers Gender balance in the spotlight In addition to international, cross-generational and cultural diversity, we are focusing on gender equality – and in particular, equal opportunities for women and men. We are working to strengthen the awareness of gen-der balance among all colleagues and supporting employees through our gender diversity initiative “en-COURAGE.” Within this context, we already held the fifth “Wo*men in Leadership Convention” in November 2021, under the banner of “Kickstart your inner potential.” Successful female leaders and external guests regularly report on their experiences OUR SUSTAINABILITY COMMITMENT in order to motivate, inspire and learn together. Right on time for International Womenʼs Day on March 8, 2021, we publicly announced our “Beiersdorf Gender Parity Ambition”: This states that by 2025 at the latest, we want to achieve a 50:50 gender parity ratio in assigning management positions below Executive Board level. ENVIRONMENTAL FOOTPRINT OUR SOCIAL IMPACT CARE BEYOND SKIN OUR SUSTAINABILITY ENVIRONMENTAL FOOTPRINT OUR SOCIAL IMPACT COMMITMENT Diversity and Inclusion as Key to Success Deepening knowledge In order to expand the knowledge framework surrounding the topic of Diversity & Inclusion, we implemented a variety of measures in the year under review. For example, these included the first pilot of “D&I-Inclusive Language Training,” which aimed to sensitize employees to a D&I-sensitive, nuanced use of language. The offer in this area was supplemented by workshops for managers to promote an inclusive culture as well as by a pilot course for our recruiters to formulate texts in job advertisements that integrate even more inclusive, gender-sensitive language in future. March 8 May 17–21 We celebrate diversity through numerous initiatives and events To promote our integrative culture holistically, we also rely on our employee networks – the “grassroots communities.” For instance, the community “wenited” was created in the reporting year, which works to promote the exchange and cohesion of international colleagues. The “#SisterhoodisPower” community established the digital #Powertalk series in 2021 among other initiatives, in which inspiring and successful leaders share their stories and thoughts. Also in 2021, the “Generation 50+” network launched learning July 22 International Global Diversity & Pride Day Womenʼs Day; Inclusion Week Germany announcement of Beiersdorf Gender Parity Ambition sessions on the subject of digitali zation for the first time. In addition, we carried out activities that included the annual “Global Diversity & Inclusion Week,” “Pride Day Germany” and – for the first time – the “Beiersdorf Pride Festival.” All events took place online and offered participants a colorful mix of discussion panels, workshops, personal experience reports and keynotes by internal and external speakers. 3,000 participants joined our digital events during Diversity & Inclusion Week August 4–5 November 23 Beiersdorf Fifth Wo*men Pride Festival in Leadership Convention WE CARE BEYOND SKIN FOR OUR FUTURE WE CARE BEYOND SKIN FOR OUR FUTURE 30 CARE BEYOND SKIN Continuing our Sustainability Journey in 2022 Continuing our SustainabilityJourney in 2022 Now that we are in 2022, we are eager to continue our journey to deliver on Beiersdorf’s CARE BEYOND SKIN Sustainability Agenda. As part of this, we will introduce new initiatives across our three impact areas: ENVIRONMENT, SOCIETY and CONSUMER. At the heart of our transformation is our “Climate Care” mission We have high aspirations and have set one of the most ambitious targets in the industry to tackle the enormous challenge we are all facing: climate change. Looking at where we stand today and the progress we have made on our reduction pathway, I am confident we can achieve our 2025 commitment of 30% absolute emissions reduction. However, there will be challenges ahead, and hard work, passion and an innovative spirit will be required every step of the way. The momentum for change I see in teams across the Beiersdorf network signals a very positive outlook for the year ahead. This motivation is essential to making our transformation for a more sustainable future a success. Following the launch of our first climate-neutralized products in 2021, we will continue this approach in 2022. We will introduce our “climate-neutralized” promise to more of our products, which have demonstrated good progress on emissions reduction. Our NIVEA Shower range, which is already one of our most sustainable, will continue its sustainability journey and we will optimize its packaging to further reduce its emissions. We will also be expanding the use of 100% recycled aluminum packaging across our deodorant range. I am very grateful to our R&D teams for their dedicated work in these areas. Looking beyond NIVEA, we will see big steps being taken also across our other brands in 2022: La Prairie will launch its new sustainability agenda and Hansa plast has just released its first “climate neutralized” product. At Eucerin, we will also see progress on a product level, supporting the delivery of Beiersdorf’s overall sustainability targets. We will foster transformation beyond our company boundaries What is also essential in 2022 is continued external and interdisciplinary collaboration. We will advance our work with key stakeholders, in particular suppliers, our NGO partners, and cross-industry initiatives, like the Eco-Beauty Score Consortium. Continuing our dedicated and holistic sustainability journey in 2022, I look forward to seeing Beiersdorf present itself as a leading light for our industry. Jean-François Pascal Vice President Corporate Sustainability 31 CARE BEYOND SKIN OUR SUSTAINABILITY ENVIRONMENTAL FOOTPRINT OUR SOCIAL IMPACT COMMITMENT Continuing our Sustainability Journey in 2022 We know that when it comes to driving real change, there is power in numbers. In January this year, we signed an open letter urging the UN to negotiate and implement a global treaty on plastic pollution. Along with other leading companies, we have called for a coordinated response to this growing crisis that will align businesses and governments. This question gains urgency with each day that passes, and we hope that 2022 will be the year that it is answered. A further key priority in 2022 will be our work within the Eco-Beauty Score Consortium, which aims to develop an industry-wide environmental impact assessment and scoring system for cosmetics products. Pursuing our transparency promise and target of enabling consumers to make sustainable choices, we are eager to support this initiative through our expertise in environmental impact assessment. Another important step for 2022 will be Beiersdorf’s engagement in a strategic partnership with the World Wide Fund for Nature (WWF Germany). In previous years, we have successfully worked together on dedicated projects around sustainable palm oil. Now, we are stepping up to a more holistic partnership with the central goal to further fuel our business transformation and strengthen our CARE BEYOND SKIN Sus tainability Agenda. We are the first company in our industry to take such an integrated approach with the WWF. In 2022, we will continue to thrive for our vision of an Inclusive Society By building on our strong engagements with our NGO partners Plan International, CARE, Ashoka and many more, we impact individuals, communities and society as a whole. Eucerin, for example, will launch new local projects that aim to fight the stigma of visible skin diseases and enhance the quality of life and societal participation of patients in different parts of the world. This mission is not only a testament to Eucerin’s life-changing power of dermatological skin care but also a true manifestation of CARE BEYOND SKIN. Continuing our dedicated and holistic sustainability journey in 2022, I look forward to seeing Beiersdorf present itself as a leading light for our industry. We hope you will follow along as our journey continues. ANNEX ANNEX 33 CARE BEYOND SKIN OUR SUSTAINABILITY ENVIRONMENTAL FOOTPRINT OUR SOCIAL IMPACT COMMITMENT Key Figures at a Glance Key Figures at a Glance Consumer Business Segment Unit 2020 2021 34 CARE BEYOND SKIN OUR SUSTAINABILITY ENVIRONMENTAL FOOTPRINT OUR SOCIAL IMPACT COMMITMENT About this Report About this Report Within the Consumer Business Segment, transparent reporting on our sustainability activities is firmly established. We have been reporting on strategic approaches, projects and measures in the area of sustainability since 2003. Our reporting aims to reach all stakeholders equally. To meet their different expectations and information needs, we use a variety of reporting formats. With the Sustainability Highlight Report “CARE BEYOND SKIN,” the Consumer Business Segment presents a selection of particularly outstanding projects from 2021. They exemplify how sustainability is an integral part at Beiersdorf and how it is driven forward by the passion of our employees around the world. Within the scope of our sustainability reporting, we have been publishing our Combined Non-financial Statement (NFS) for the Beiersdorf Group (Consumer Business Segment and tesa) and Beiersdorf AG within our Annual Report since 2020. It provides further information and key figures in accordance with the Non-Financial Reporting Directive (NFRD). The tesa Business Segment publishes its own Sustainabilty Report on its website. You can find the tesa Sustainability Report here <BR> Alongside transparency, comparability in our reporting is of great importannce to us. We follow internationally recognized reporting frameworks, including the guidelines of the Global Reporting Initiative (GRI). The corresponding GRI Index 2021 for the Consumer Business Segment is available for download from our website as a separate document. In the reporting year, we also disclosed information on climate-related opportunities and risks for the first time in accordance with the recommendations of the Task Force on Climate-Related Financial Disclosures (TCFD). Our commitment to sustainability is part of our day-to-day business and is constantly evolving. We provide up-to-date information on what we are currently working on and what progress we are making on our Sustainability website. Reports and additional information from previous years are available as well. CLICK HERE FOR OUR DOWNLOAD CENTER 35 CARE BEYOND SKIN OUR SUSTAINABILITY ENVIRONMENTAL FOOTPRINT OUR SOCIAL IMPACT Contact Persons Contact Persons Jean-François Pascal Dorle Bahr Vice President Corporate Sustainability Head of Environmental Sustainability Valerie Kruck Peer Petersen Global Head of CSR Head of Sustainable Innovation and Transformation Imprint OUR SUSTAINABILITY ENVIRONMENTAL FOOTPRINT OUR SOCIAL IMPACT Published by Beiersdorf Aktiengesellschaft Unnastrasse 48, 20245 Hamburg, Germany Editorial Team and Concept Corporate Sustainability Corp.Sustainability@Beiersdorf.com Design Berichtsmanufaktur GmbH, Hamburg Text Beiersdorf Corporate Communications, Corporate Sustainability Berichtsmanufaktur GmbH, Hamburg English Translation World2World Hamburg, Jim Blake Copyright GettyImages: Title: Uwe Krejci; p. 05, Westend61; p. 24, Natalie Abbey-Allan; p. 29, Westend61; iStock: p. 19, jacoblund; p. 20, PeopleImages; Shutterstock: p. 20, fizkes; Stocksy: p. 20, Victor Torres; Unsplash: p. 02, Genevieve Dallaire; p. 10, Trent Haaland; p. 11, Appolinary Kalashnikova; p. 11, Hans Eiskonen; p. 11, Anastasia Taioglou; p. 12, Meredith Petrick; p. 31, Ivan Bandura; p. 34, Dawid Liberadzki; Others: p. 21, Severianus Endi/WWF Indonesia; p. 22, Aldi Khatami/WWF Indonesia; p. 23, Acios; p. 25, Plan International/ Vincent Tremeau; p. 26, CARE/Job Mainye Further Information www.beiersdorf.com/sustainability/overview'"
      ]
     },
     "execution_count": 82,
     "metadata": {},
     "output_type": "execute_result"
    }
   ],
   "source": [
    "raw_data['content'][0]"
   ]
  },
  {
   "cell_type": "code",
   "execution_count": 83,
   "metadata": {},
   "outputs": [
    {
     "data": {
      "text/plain": [
       "', our brands, our strategy 07 our sustainability agenda care beyond skin 08 our partnerships 09 our promise toward consumers minimizing our environmental footprint 11 our targets climate care: our holistic approach to climate protection people and nature in balance - innovative nivea products eucerin: dermocosmetics meets sustainability la prairie combines sustainability and luxury climate-neutral production in leipzig and berlin key for navigation jump to the table maximizing our social impact 20 our targets our engagement for sustainable palm oil cultivation in indonesia the power of human touch - nivea\\'s new social mission eucerin\\'s social mission for greater social participation we stand strong for women and girls worldwide diversity and inclusion as key to success outlook 30 continuing our sustainability journey in 2022 annex 33 key figures at a glance 34 about this report 35 contact persons 36 imprint page reference web link highlights 2021 of foreword dear readers, at beiersdorf, we recognize our role in rising to one of the greatest challenges of our time: tackling climate change. in 2021, we successfully reduced our carbon footprint - in absolute terms - for the third year in a row, while continuing our business growth. by the end of 2021, as our consumer business returned to pre-covid-19 levels, we have reduced our carbon emissions by 12.7% (vs. 2018). we are proud of this result, because it proves business growth and decarbonization can go hand in hand. decoupling human economic activity from natural resource consumption is perhaps the most challenging and ultimate goal of the global sustainability movement. it has inspired beiersdorf\\'s ambitious sustainability agenda, with its clear focus on investment and innovation-led reduction of our overall environmental footprint. vincent warnery, chairman of the executive board zhengrong liu, member of the executive board i human resources transforming our products, including their packaging and formulations, is one of the biggest levers to reduce co2 emissions. it is something that we have committed extra investment and brainpower in recent years. in 2021, we pushed ourselves further, despite continuous economic headwinds caused by the pandemic. thanks to the ingenuity of our experts and partners, we were able to demonstrate that superior skin care can be achieved in more sustainable ways. our consumers across the world appreciate that: our new biodegradable shower formulations or mineral oil-free lip care products are just two examples that have been enjoying high popularity with global consumers. feeling encouraged by the positive sentiment, we launched our \"climate care\" - bringing climate care to skin care - mission last year. we are anchoring climate protection at the center of our product transformation towards sustainability. you can read more about this and our \"climate-neutralized\" products in this report. we are proud of this result, because our cross-functional teams made tremendous efforts to turn ambition into reality. innovating sustainably means exploring new materials and technologies, working in partnership with others alongside new, agile processes. each reformulation or change to packaging material is preceded by intensive cross-functional collaboration. in the day-to-day setting, sustainability requirements and business kpis are often not a perfect match. at beiersdorf, foreword we have chosen to address such tensions directly. an open attitude and the drive to innovate has hel ped our teams to find solutions. where reconciliation was not easily possible, we did not shy away from making tough decisions to ensure our ambitious targets were being met. for example, manufacturing products with recycled plastics is more costly and technologically more demanding. but this has not prevented us from increasing the share of recycled plastics in our packing from 1% to 7% with-in a year. our goal for 2022 is going to be 15%. achieving our 2015 commitment to make all nivea products 100% free of microplastics by the end of 2021 is another excellent example of long-term fruitful collaboration. however, today\\'s sustainability journey continues to set complex new tasks in front of us. ensuring skin care performance during the reformulation process or mitigating the color impact of recycled materials are some of the latest challenges our industry faces. securing the supply of new packaging and raw materials needed for sustainability in times of increasing disruptions in the global supply chain comes on top of an already long list. beiersdorf\\'s sustainability community stepped up to these difficulties always in the same fashion: with even more agility, even closer collaboration, and even stronger personal engagement. we thank all of them sincerely for their hard work and dedication to push our sustainability journey forward. we are proud of this result, because we know the standards we apply in setting and measuring our targets are amongst the highest. our climate target is in line with the latest climate science and is recognized by the \"science-based target initiative\". by reducing our emissions by 30% in absolute terms by 2025 (vs. 2018), we are among the leading international compa nies in the fight against climate change. we calculate greenhouse gas emissions according to the strict requirements set by the ghg protocol and we disclose our performance publicly. our key performance indicators are subject to external verification by renowned, indepen dent partners. in our desire to continuously learn and improve, we regularly invite external experts to critically examine our strategy as well as action plans. a good example for this is our engagement in afforestation projects. growing the world\\'s natural capacity to absorb carbon is essential and we are convinced we have a role to play in filling the gap between what is technologically possible in terms of own emission reduction and what the entire world immediately needs. without financial support from the private sector, many climate projects in the developing world would not have a chance to be implemented. at the same time, we are aware of the controversy surrounding some of the \"climate neutral\" claims across different industries. we understand and support some of these key critical voices and our stance as beiersdorf is clear: we prioritize our own ambitious reduction strategy, while at the same time we actively invest in climate projects that remove carbon from the atmosphere. we therefore select projects developed by partners with deep expertise and high international reputation. all our projects are certified according to the highest quality standards. in addition we always seek to support those projects that provide additional benefits to communities and bolster biodiversity. we have also been stepping up internal quality standards on sustainability management. often neglected, this is something that requires significant investment. at beiersdorf, we have been treating the continued professionalization and automation of our sustainability data management as a high priority throughout 2021. our sustainability agenda entrepreneur network into europe. together with ashoka, we are com mitted to supporting five female social innovators who are leading projects that will positively impact the future of girls and women. with our partners care and plan international we initiated \\'empowering girls\\' mission and advanced well with our projects in africa and latin america. this important work addresses covid-19 related challenges, which disproportionately affect girls and young women. enjoy the report! we hope you enjoy reading about our 2021 highlights. we thank everyone for their commitment to, and passion for, our sustainability journey. as always, we welcome your feedback and comments. is holistic, including continuous initiatives to serve people and society. in 2021, we expanded our partnership with the ashoka social kind regards vincent warnery zhengrong liu we care beyond skin for our consumers we care beyond skin for our consumers 06 care beyond skin our sustainability environmental footprint our social impact our values, our brands, our strategy commitment our values, our brands,our strategy since 1882 beiersdorf has stood for innovative skin care. our unique brands and high-quality skin and body care products set us apart, convincing millions of consumers worldwide - day after day. every person is different and has their own needs. this naturally applies to skin care, too. through our products, we respond to our consumers\\' individual expectations and wishes, while keeping global trends and regional characteristics firmly in view. this high proximity to people and markets helps us regularly set new milestones in the sector through our innovations, and continually expand our brand portfolio. we want to remain internationally successful in the future and do so in a sustainable way. our corporate strategy c.a.r.e.+, which defines sustainability as one of our priorities, guides us in this endeavor, and our core values care, simplicity, courage and trust provide the compass for our actions. this shared understanding of values gives us the basis for implementing our strategy successfully over the long term. care is especially important to us here. we apply this value far beyond our core business: care comprises our responsibility toward people and the environment. this is why \"care beyond skin\" is our corporate purpose and at the same time the name of our sustainability agenda care beyond skin. overview of 2021: 15,740 employees contributed daily to our success EUR6.1bn in sales revenues were generated in 2021 healing ointment 07 care beyond skin our sustainability agenda care beyond skin our sustainability agenda care beyond skin sustainability plays a central role in our business strategy c.a.r.e.+, which we have pursued since 2019. in view of this, since 2020 we have consistently implemented our sustainability agenda care beyond skin. the agenda comprises a total of seven focus fields that reflect the impact of our activities along the entire value chain. care beyond skin also means that we take action - to care for people and the environment. we see this as our responsibility and want to make a contribution - not only to the consumers around the world who trust our brands and products but also to society and the environment. to achieve significant progress in the overall topic area of sustainability, all our employees, all corporate functions as well as the regional and country organizations pull together. our joint ambitious sustainability goals, which we plan to achieve by 2025 and 2030 respectively, help us in this undertaking. our sustainability commitment for consumer health and wellbeing * trust and transparency * product safety * skin health for employees along our entire value chain * health and safety * diversity * human rights for an inclusive society * human touch projects * fighting the stigma of skin ailments * girls\\' empowerment minimizing our maximizing environmental footprint our social impact for a climate positive future * reduction of ghg emissions * renewable energy * use of renewable raw materials for fully circular resources * renewable and biodegradable ingredients * refillable, reusable or recyclable packaging * recycled content in packaging * zero waste to landfill * waste reduction for sustainable land use * responsible sourcing * sustainable landscape and smallholder support for regenerative water environments * water use in production and products * water use in product consumption * clean water provision * protected marine environments 08 care beyond skin our sustainability environmental footprint our social impact our partnerships commitment our partnerships as a global company we do not act alone. especially with regard to current challenges such as climate protection and upholding human rights, it is vital to look beyond the boundaries of our own company. comprehensive collaboration and cooperation are therefore becoming increasingly important. from the sustainable procurement of raw materials through to improving working and living conditions, we want to make a difference, trigger change processes and play an active role in the overall transformation. for this reason, we actively engage in associations and sustainability initiatives, also across industry boundaries and national borders, and seek to enter strong and lasting partnerships. european brands forum for sustainable association palm oil cosmetics europe action for sustainable sustainable packaging certified derivatives sustainable palm oil global shea alliance gemeinsam recyceln plan international sedex member aim progress09 care beyond skin our sustainability environmental footprint our social impact our promise toward consumers commitment our promise toward consumers together with our consumers, we choose to take the path toward a more sustainable future. this makes the consumer business segment a vital cornerstone of our sustainability agenda. how we fulfill rising expectations it is our top priority to provide our consumers with outstanding skin care products that fully satisfy their very diverse expectations. our product portfolio therefore promises quality, safety and sustainability. in this we will not only be measured by our words but by our specific actions. our new packaging and product innovations are an excellent example of how we are meeting the increasing expectations of our consumers regarding sustainability aspects. committed to 100% transparency our consumers are increasingly interested in the sustainability and environmental compatibility of product formulas and packaging. in view of this, transparent communication is a key concern for us: it includes regular, candid communication about our sustainability activities and our product ranges. among other initiatives, we have implemented the motto \"100% transparency\" in the presentation of the exact recycling proportions in our packaging, for example in the nivea natural balance series. beiersdorf also joined the eco-beauty score consortium in 2021 in response to the need for greater transparency regarding the environmental impact of cosmetic products. the aim of this industry initiative is to develop an evaluation framework that reveals the environmental impact of a cosmetic product for consumers regarding its formula, packaging and application. we guarantee the highest quality and product safety with 140 years of skin care expertise, it is a matter of course for us to develop skin care products that meet the highest quality standards and are absolutely safe to use. our consumers expect this from us, and we do everything we can to meet their demands. we use scientific methods of the highest standards to extensively research our products and active ingredients to better understand their effect on skin and hair and to ensure the excellent quality and safety of our products. find more information on the consumer business segment here 11 care beyond skin our sustainability environmental footprint our social impact commitment our targets our targets protecting nature and the environment is the focus of our sustainability agen da care beyond skin. in the envi ronment area, we have defined four focus fields in which we can and want to achieve a great deal. we have set ourselves ambitious targets to minimize our environmental footprint progressively in all areas. target 4 target 3 target 2 target 1 sdg 30% absolute reduction in scope 1, 2 and 3 greenhouse gas emissions by 2025 (vs. 2018 base year) progress project ongoing climate-neutral production sites by 2030 progress project ongoing 50% reduction in petroleum-based virgin plastics in our packaging by 2025 (vs. 2019 base year) progress project ongoing 30% recyclate in our plastic packaging by 2025 (vs. 2019 base year) progress project ongoing 100% of our packaging refillable, reusable or recyclable by 2025 progress project ongoing 30% reduction in production facility waste by 2025 (vs. base year 2018) progress project ongoing 100% of our main renewable raw materials to come from sustainable sources by 2025 progress project ongoing deforestation-free procurement of our main raw materials (incl. palm oil, soy, paper) by 2025 progress project ongoing 100% fsc-certified paper by 20201 progress target achieved 100 % palm (kernel) oil-based de rivatives from sustainably certified sources by 2020 progress target achieved 25% reduction in our water consumption per manufactured product by 2025 (vs. 2018 base year) progress project started nivea products 100% free of microplastics by the end of 2021 progress target achieved eucerin prodcuts 100% free of microplastics by the end of 2023 progress project ongoing exclusive use of biodegradable polymers in our european product formulations by the end of 2025 progress project ongoing 1 only primary packaging care beyond skin our sustainability environmental footprint our social impact commitment climate care: our holistic approach to climate protection for a climate positive future climate care: our holistic approach to climate protection the fight against climate change is at the heart of our sustainability agenda and is the compass for our decisions. under the umbrella of our \"climate care\" mission we pursue a holistic approach to drive climate protection forward at all levels. a large share of our emissions is attributable to raw material extraction and procurement, and to packaging. our goal here is to leverage the full emissions reduction potential, progressively make our product formulas climate-friendlier, and at the same time maintain the high quality of our products. for us this is not a contradiction, but an incentive. our climate roadmap in 2021, a team of experts evaluated our raw materials portfolio to identify those with the greatest impact on total emissions. the result is our internal climate road map for reducing co2 emissions from product ingredients. it will help reduce our overall emissions by 30% by 2025. we are relying on the following measures, among others: * switchover to plant-based raw materials with a lower co2 footprint * increasing our use of ingredients from non-fossil sources * increasing our use of upcycled ingredients * procuring our main renewable raw materials from certified sustainable cultivation * close cooperation with our suppliers to initiate the switchover to renewable energy sources at their production sites all these already delivered results in 2021 that we are very proud of. on the following pages, we of fer you specific examples of our emissions-reduction measures: these demonstrate there is no conflict between sustainable and high-quality product development processes. on the contrary, the vision of climate-friendlier products is a major boost to our innovative drive. care beyond skin our sustainability environmental footprint our social impact commitment climate care: our holistic approach to climate protection our approach to climate neutralization in addition to our ambitious co2 reduction targets, we are committed to take further steps. under the umbrella of our \"climate care\" mission, we have started investing in projects that store carbon from the atmosphere to balance remaining product-based emissions. an example of these projects includes afforestation efforts that help mitigate climate change. trees absorb co2 from the atmosphere through photosynthesis, and the carbon is stored in their biomass, e.g., tree trunks, roots and leaves. we only select climate projects that are certified according to external international standards, such as the verified carbon standard (vcs) or the gold standard. this ensures that our climate impact is real, measurable, permanent and third-party verified. moreover, we focus on projects that provide additional benefits for biodiversity or local communities. the result is a balance between co2 emissions and co2 ab sorbed by nature. whenever we follow this approach, we talk ab-out \"climate-neutralized\" instead of \"climate-neutral\" because we want to underline that our products are not completely climate-neutral once they leave our production sites. instead, climate neutralization is a result of a subsequent action contributing to the fight against climate change. in 2021, our global skin care brand nivea launched its first climate neutralized products. they have a significantly reduced co2 footprint and remaining emissions are balanced through certified climate projects. for example, the nivea shower gel range in germany with round about 30 different products is available in stores as climate-neutralized since june 2021. in the coming years, we will launch additional climate-neutralized products, thereby making it easier for our consumers to make sustainable choices. care beyond skin people and nature in balance - innovative nivea products for fully circular for a climate resources positive future people and nature inbalance - innovative nivea products nivea is leading by example on our journey toward greater sustainability. innovative product formulas and modern packaging make the nivea product portfolio a pioneer in the transformation of our overall company. over the past year, nivea repeatedly set standards and launched several new products that deliver on our sustainability promise to our consumers. our sustainability environmental footprint our social impact care beyond skin our sustainability environmental footprint our social impact commitment people and nature in balance - innovative nivea products fewer emissions by using renewable plastics in 2021, we launched our first climate-neutral products with the nivea naturally good face care range in about 30 countries. both the jar and the lid of the face creams are made of certified renewable plastic, which enables a significant cut in emissions. the formulas in the range are also particularly sustainble: they are made from 99% natural and vegan ingredients and are free from microplastic.1 refilling instead of throwing away nivea is currently testing a new product format in the uk: nivea ecorefill is the first refillable hand soap in the form of tabs, combining a sustainable product formula and a sustainable packaging design. the tab is dissolved in a refillable bottle by the consumer at home in tap water and then turns into liquid soap. the formula is 99% biodegradable and contains 97% naturally derived ingredients. the reusable packaging is made of 100% recycled material and the repurchasable tabs can be dissolved in it again and again, delivering significant savings in packaging material. certified, recycled and recyclable our new solid facial cleanser nivea magicbar is vegan and free of microplastics, which makes it possible for consumers to do without plastic packaging for the product. the ingredients are 99% of natural origin.2 the packaging philosophy of this cleansing range is based on sustainably sour ced fsc-certified paper and recycled materials. all the packaging is also fully recyclable. we are proud to present nivea magicbar, our first natural cosmetics range bearing the ecocert(r) cosmos natural seal. innovative spray deodorant technology with nivea ecodeo, we marketlaunched an innovative spray deodorant in 2021 that is climatefriendlier3 compared to our standard deodorants and also intro duced the industry\\'s first 100% recycled aluminum cans. our ecodeo is based on the innovative eco-valve technology, in which nitrogen extracted from the air is the propellant: this saves emissions and also enables us to increase the active ingredient content in the spray cans. the result is that nivea ecodeo lasts twice as long as comparable products and thus contributes to lowering packaging waste. the key to success was our intensive cooperation with suppliers and partners. nivea worked together with salford valve company ltd. and nussbaum matzingen ag to develop this innovative, more sustainable solution. care beyond skin eucerin: dermocosmetics meets sustainability for fully circular resources eucerin: dermocosmetics meets sustainability eucerin pursues beiersdorf\\'s ambitious environmental sustainability goals and works continually to ensure the highest product quality, while reducing the negative impact of the products on the ecological balance. we continuously examine our products for their potential to save raw materials, or switch to more sustainable alternatives. last year, we were able to implement numerous sustainability initiatives in the eucerin product portfolio. rethinking packaging - less plastic, more recycling supporting the circular economy conserves natural resources. this is why we increasingly rely on reusable and recycled materials. through these and further measures, we promote the use of sustainable raw materials without compromising on the effectiveness of our products. this also holds true for the switchover of our packaging, e.g., for our dermatoclean and dermo pure facial cleansing products: since 2021, these have consisted of 97% recycled pet (rpet). however, that was just the beginning: in the years to come, we will consistently convert further product ranges to rpet packaging. where possible, we also reduce the use of plastic in our packaging. in 2021, for example, eucerin switched its hyaluron-filler concentrate over to cardboard packaging, thereby saving 80% plastic compared with the previous version. goodbye to outer packaging and package inserts above and beyond, this we have set ourselves the overarching goal of reducing our paper consumption. on the one hand, we are achieving this by doing away with outer packaging. in 2021, for example, we removed the outer packaging of our shampoos and the atopi control lotion (400ml) and thus achieved an annual saving of 44 tonnes of minimizing our our sustainability environmental footprint commitment paper. further products will follow year after year for which outer packaging is not absolutely necessary. a further step is that we have progressively eliminated our package inserts. since mid-2021, all our cosmetic products have been produced very largely without package inserts; as a result, we have eliminated 20 million package inserts worldwide every year - the equivalent of 47 tonnes of paper. further measures will follow over the coming years, such as switching to a lighter paper for products that still require outer packaging. overall we will save more than 200 tonnes of paper annually by 2025 compared with the 2019 base year, meaning a signi ficant saving in our consumption of natural resources and ultimately in our co2 emissions as well. maximizing our social impact care beyond skin our sustainability environmental footprint our social impact la prairie combines sustainability and luxury commitment for fully circular resources la prairie combines sustainabilityand luxury our luxury brand la prairie represents the epitome of exclusivity amd excellence. at the same time, it is shaped by its vision of creating a world of timeless beauty - now and in the future. with the pure gold collection, la prairie heralds a new era that blends timelessness, sustainability and luxury. the pure gold collection - a timeless approach to beauty the products in the pure gold collection reflect the close connection between la prairie\\'s vision of timelessness and the brand\\'s responsibility toward the environment. since 2021, the products in this facial care collection have retailed in refillable brushed metal jars, which can be re used indefinitely. only the glass flasks contained within are replaced when the formula has been exhausted - and these are fully recyclable. with this innovation, la prairie paves the way for a more sustainable product portfolio, aligned with beiersdorf\\'s care beyond skin sustainability agenda. engagement in research - preserving the beauty of glaciers la prairie\\'s engagement for the protection of nature goes beyond the sustainability of its products. since 2019, the brand has cooperated with the institute of glaciology at the swiss federal institute of technology, zurich (eth zurich). both partners are united through their strong bond with their swiss homeland, and their commitment to exploring and preserving timeless beauty. as a patron, la prairie supports the university in two research projects investigating the effects of climate change on glaciers in the swiss alps. care beyond skin climate-neutral production in leipzig and berlin for a climate positive future climate-neutral production in leipzig and berlin for us, one thing is certain: climate change is the greatest challenge of our age. we are tackling this with conviction and determination. to do this, we are taking measures along our entire value chain - not only in developing our products but also in designing our production facilities sustainably. our production sites are an essential lever in lowering our energyrelated emissions. we are pursuing the goal of climate-neutral operations at all our plants by 2030. laying the cornerstone in leipzig a milestone on this journey was the laying of the foundation stone for the new beiersdorf plant in leipzig in september 2021. at our new cosmetics production center in the east of germany, we are focusing on innovation and sustainability. our new leipzig plant meets high environmental standards and contributes through numerous aspects to the care beyond skin sustainability agenda: the plant is to be operated completely co2neutrally thanks to the use of renewable energies. it is equipped with a photovoltaic system and charging stations for electric vehicles. heat, wastewater and ethanol (used for the production of aerosols) can be recovered and reprocessed onsite in a specialized facility. in line with our own standards, we are striving for leed gold certi fication for this new building. our sustainability commitment production at the new plant in leipzig is scheduled to launch as early as 2022. state-of-the-art logistics hub in the immediate vicinity of the new leipzig plant, beiersdorf is planning a state-of-the-art logistics hub. we are explicitly aiming for co2-neutral operations and sus tainability certification here, too. by greening its facades and roofs, and installing photovoltaic modules on the buildings themselves, we are setting a further example with this new logistics hub. our existing plants are also becoming more sustainable. in berlin, where we produce a variety of skin cleansing products such as shower gels and shampoos, production will be climate-neutral from 2022 onwards. our \"capital plant\" will switch over fully to biomethane and green electricity at the beginning of 2022 and will thus reduce its co2 footprint by a total of 99% compared with the 2018 base year. environmental footprint our social impact we care beyond skin for our society we empower people. we encourage social cohesion. we think on a global and local community scale. we care beyond skin for our society 20 care beyond skin our targets our targets for us, care beyond skin also means working for a fairer, more inclusive society and strengthening social cohesion. this is why we are engaged in specific fields of action in the area of society and have defined correspond ing goals - for our employees, everyone within our value chain and society as a whole. minimizing our maximizing our sustainability environmental footprint our social impact commitment target 3 target 2 target 1 sdg global beiersdorf diversity targets by 2022 - 10% women in executive board - 35% women in management level 1-3 progress project ongoing beiersdorf diversity targets for germany by 2022: - 35% women in management level 1 - 50% women in management level 2 progress project ongoing over 90% of suppliers are to accept code of conduct for business partners progress target achieved by 2023, reach more than 300,000 people 100% transparency toward our consumers directly through our girls\\' empowerment projects in africa and latin america progress progress project ongoing project ongoing by 2023, eucerin will implement local social projects promoting the quality of life of people affected by skin diseases in at least 15 countries progress project ongoing by 2025, nivea\\'s skin-touch projects will have a positive impact on the individual health and wellbeing of more than 150,000 people, supported by a financial commitment of EUR20 million progress project ongoing care beyond skin our engagement for sustainable palm oil cultivation in indonesia for an inclusive for sustainable society land use our engagementfor sustainable palm oil cultivation in indonesia together with the wwf, we work to improve the living conditions of smallholder farmers in palm oil cultivation areas. palm (kernel) oil-based raw materials are an indispensable ingredient in our high-quality cosmetic and personal care products. however, the conventional cultivation of oil palms endangers species-rich landscapes and ecosystems such as the rainforest. our involvement in projects in indonesia and malaysia demonstrates our commitment to a sustainable palm oil cultivation and the local communities. our sustainability environmental footprint our social impact care beyond skin our sustainability environmental footprint our social impact commitment our engagement for sustainable palm oil cultivation in indonesia the green heart of borneo the island of borneo harbors our planet\\'s second-largest rainforest. but here, not only large industries but also smallholder farmers are hacking down the virgin jungle for new oil palm plantations. for the wwf, this region is therefore an important area for nature conservation. as part of our palm sustainability roadmap, together with wwf, we launched our smallholder farmer project in west kalimantan, indonesia, in 2018. the first project phase is expected to be completed in march 2022. through our engagement we want to help ensure that the green heart of the island of borneo will continue to beat in the future. we have already achieved a lot within the project period, from promoting sustainable palm oil cultivation to improving the living standards of around 4,500 people in three project villages, including 240 smallholder farmers and their families. long-term holistic measures with the aim of promoting the sustainable cultivation of oil palms, the local people are trained to manage their plantations accordingly. further training will be carried out to support the development of smallholder farmer associations. in addition, these farmers are able to purchase high-quality oil palm seedlings and and are supported in establishing contacts with local palm oil mills in order to gain better market access. the wwf and beiersdorf see it as vital to strengthen these local communities holistically. for example, this includes the development of alternative sources of income that do not depend on the rainforest. we promote female craftswomen through specific training and encourage smallholder farmers to cultivate rubber sustainably. in addition, we support measures to improve the drinking water supply and are committed to a \"green school\" concept that anchors environmental protection in schools. our project highlights at a glance * six new palm oil smallholder farmer groups were established * largest association in west kalimantan: the newly founded palm oil farmers\\' association has 216 farmers with 312 plantations * 211 land plots were legalized (a total of 265 ha, which corresponds to 70% of the plantations within the project) * 198 palm oil smallholders (both men and women) were trained in five training cycles * more than 30 students are attending the \"green school\" care beyond skin our sustainability environmental footprint our social impact commitment the power of human touch - nivea\\'s new social mission for an inclusive society the power of human touch - nivea\\'s new social mission the hectic character of modern life, where people are \"connected\" yet disconnected, has become an obstacle to close relationships, physical touch and human bonding. the deficit of physical touch and lack of closeness have worsened in the covid-19 pandemic. in january 2021, nivea therefore announced its brand purpose \"care for human touch to inspire togetherness.\" under this banner, the nivea brand is creating greater awareness of the health benefits of human touch and strengthening human bonds to alleviate the feeling of loneli ness. nivea\\'s social mission \"the power of human touch\" is a key instrument in turning these words into action. nivea strengthens the power of touch worldwide under the mission statement \"the power of human touch,\" nivea is supporting local projects worldwide to improve the quality of life of people at risk of loneliness, including premature babies, people with visual impairments, and elderly dementia patients. by 2025, nivea wants to invest EUR20 million in these projects around the world to make a positive impact on the health and wellbeing of over 150,000 individuals. nivea supports unicef uk each year, more than 15 million children are born prematurely worldwide - and we know that touch is crucial to their development. skin-to-skin contact is vital in neonatal units, where it is often known as kangaroo care. it helps parents bond with their baby, as well as supporting better physical and developmental outcomes for the baby. as international studies have shown, the kangaroo met hod benefits the entire mental and social development of the premature baby - right into adulthood. for this reason, nivea supports unicef uk\\'s work to ensure that babies on neonatal units get as much skin-to-skin contact as possible by funding unicef uk\\'s national neonatal project, an initiative designed to support 18 neonatal units in the uk to achieve baby friendly accreditation. skin-to-skin contact is a part of unicef uk\\'s baby friendly standards and helps babies adjust to life outside the womb. care beyond skin eucerin\\'s social mission for greater social participation for an inclusive society eucerin\\'s social mission for greater social participation \"we believe in the life-changing power of dermatological skin care\" - with this brand purpose, eucerin affirms that our products can have a positive effect far beyond the skin\\'s surface. skin diseases can have profound consequences: many people with visible skin diseases suffer from the feeling of exclusion and stigmatization, which can lead to psychological and social stress. this is why we at eucerin are committed to the social inclusion of people with skin diseases. for better quality of life and social participation in 2021 eucerin\\'s new global social mission was launched. by 2023, together with local professional organizations in at least 15 countries, eucerin will implement projects for individuals and groups of all ages with visible skin diseases. in these projects, people are supported in confronting social exclusion with greater self-confidence, in order to regain their quality of life and social participation. another concern is the alleviation of psychological stress through targeted measures and training. last year, we already launched projects of this type in four countries. more self-confidence for people with ichthyosis an example of one of our ongoing projects is the cooperation between our sustainability commitment eucerin and aquaphor with the foundation for ichthyosis & related skin types (first) in the usa. ichthyosis is a form of severe skin dryness with excessive dandruff. those affected are often psychologically burdened and tend toward social withdrawal and frustration. this joint project aims to relieve and encourage teenagers and young adults suffering from ichthysosis. targeted workshops give these sufferers the required skills and knowledge to deal with the disease personally, strengthen their self-confidence, promote their social integration and alleviate the psychological burden of the disease. environmental footprint our social impact care beyond skin our sustainability environmental footprint our social impact commitment we stand strong for women and girls worldwide for an inclusive society we stand strong for women and girls worldwide young women and girls around the world are affected by unequal treatment - and this is made worse by crisis situations such as the covid-19 pandemic. young women and girls in particular often carry out activities in which they are exposed to a higher risk of infection, for example when providing care at home. in addition, in crises there is a growing risk that girls experience violence, are married off against their will and have to leave school prematurely. aligned with our vision of an inclusive society, we want to counteract this. care beyond skin our sustainability environmental footprint our social impact commitment we stand strong for women and girls worldwide susan wasakania is a mother of five and earns her living by selling shoes and clothes. she dreams of giving disadvantaged girls and women in her village access to economic support by raising their awareness of the vsla groups as part of the care project. our strategic focus of empowering girls empowering girls and young women is a focus of our sustainability agenda, because where girls grow up healthy, educated and free of violence, everyone benefits. by 2023, beiersdorf aims to reach more than 300,000 people through \"empowering girls\" projects in africa and latin america. to achieve this, we are working closely together with two global ngos, plan international and care. the starting point of this commitment was our covid-19 relief program launched in 2020, through which beiersdorf is supporting people particularly affected by the pandemic. our joint engagement with care together with the ngo care, we launched projects in four african countries in 2021 to strengthen the healthcare and livelihoods of girls and women in particular. in kenya, for example, care and beiersdorf launched a health pro-gram through which we are sensitizing people to health issues and informing them regarding covid-19 prevention via local radio channels and hygiene messages. at the same time, girls and young women, among other social groups, can access economic support in so-called village savings and loan associations (vslas). here they acquire knowledge of financial topics such as loans and savings installments; this ensures that girls and women progressively become more independent and can raise their voices more confidently in family and social contexts. they are also learning new ways to provide for themselves and their families independently in times of the pandemic and beyond. our commitment to plan international beiersdorf and plan international are both committed to promoting and protecting girls and young women, to give them the opportunity of equality and self-determination in life. the focus is on six countries in south america and africa that have been affected by covid-19. the focus of our joint actions, through which we aim to initiate important changes step by step, is structured on three levels: access to education and mentoring, training for families and communities, and collaboration with governmental authorities. in doing so, we want to help the girls as well as the communities in which they live to better manage the medium-and long-term socioeconomic impacts of the covid-19 pandemic. as part of a back-to-school campaign, \"zuri guides\" are being distributed in colombia, for example: these are intended for children and adolescents and provide information on covid-19 as well as activities on mathematics, communication and socioemotional support. around 1,500 \"zuri guides\" have already been distributed to students in the project area since the project launch. care beyond skin diversity and inclusion as key to success for employees along our entire value chain diversity and inclusion as key to success we celebrate diversity and see it both as the key to success and a prerequisite for mastering the challenges of tomorrow. within our company-wide diversity & inclusion strategy, we successfully reached our first milestones in 2021 and launched several related initiatives. starting over with our d&i roadmap in the reporting year, we formulated a new beiersdorf \"diversity & inclusion strategy roadmap\" to help us drive our strategy forward and deepen our culture of diversity & inclusion. in addition, we developed a kpi dashboard to contribute to full data transparency and thus make changes measurable and assessable. the implementation of our roadmap is based on three strategic priorities: * promoting leadership diversity * promoting an inclusive culture * promoting the representation of our consumers gender balance in the spotlight in addition to international, cross-generational and cultural diversity, we are focusing on gender equality - and in particular, equal opportunities for women and men. we are working to strengthen the awareness of gen-der balance among all colleagues and supporting employees through our gender diversity initiative \"en-courage.\" within this context, we already held the fifth \"wo*men in leadership convention\" in november 2021, under the banner of \"kickstart your inner potential.\" successful female leaders and external guests regularly report on their experiences our sustainability commitment in order to motivate, inspire and learn together. right on time for international women\\'s day on march 8, 2021, we publicly announced our \"beiersdorf gender parity ambition\": this states that by 2025 at the latest, we want to achieve a 50:50 gender parity ratio in assigning management positions below executive board level. environmental footprint our social impact care beyond skin our sustainability environmental footprint our social impact commitment diversity and inclusion as key to success deepening knowledge in order to expand the knowledge framework surrounding the topic of diversity & inclusion, we implemented a variety of measures in the year under review. for example, these included the first pilot of \"d&i-inclusive language training,\" which aimed to sensitize employees to a d&i-sensitive, nuanced use of language. the offer in this area was supplemented by workshops for managers to promote an inclusive culture as well as by a pilot course for our recruiters to formulate texts in job advertisements that integrate even more inclusive, gender-sensitive language in future. march 8 may 17-21 we celebrate diversity through numerous initiatives and events to promote our integrative culture holistically, we also rely on our employee networks - the \"grassroots communities.\" for instance, the community \"wenited\" was created in the reporting year, which works to promote the exchange and cohesion of international colleagues. the \"#sisterhoodispower\" community established the digital #powertalk series in 2021 among other initiatives, in which inspiring and successful leaders share their stories and thoughts. also in 2021, the \"generation 50+\" network launched learning july 22 international global diversity & pride day women\\'s day; inclusion week germany announcement of beiersdorf gender parity ambition sessions on the subject of digitali zation for the first time. in addition, we carried out activities that included the annual \"global diversity & inclusion week,\" \"pride day germany\" and - for the first time - the \"beiersdorf pride festival.\" all events took place online and offered participants a colorful mix of discussion panels, workshops, personal experience reports and keynotes by internal and external speakers. 3,000 participants joined our digital events during diversity & inclusion week august 4-5 november 23 beiersdorf fifth wo*men pride festival in leadership convention we care beyond skin for our future we care beyond skin for our future 30 care beyond skin continuing our sustainability journey in 2022 continuing our sustainabilityjourney in 2022 now that we are in 2022, we are eager to continue our journey to deliver on beiersdorf\\'s care beyond skin sustainability agenda. as part of this, we will introduce new initiatives across our three impact areas: environment, society and consumer. at the heart of our transformation is our \"climate care\" mission we have high aspirations and have set one of the most ambitious targets in the industry to tackle the enormous challenge we are all facing: climate change. looking at where we stand today and the progress we have made on our reduction pathway, i am confident we can achieve our 2025 commitment of 30% absolute emissions reduction. however, there will be challenges ahead, and hard work, passion and an innovative spirit will be required every step of the way. the momentum for change i see in teams across the beiersdorf network signals a very positive outlook for the year ahead. this motivation is essential to making our transformation for a more sustainable future a success. following the launch of our first climate-neutralized products in 2021, we will continue this approach in 2022. we will introduce our \"climate-neutralized\" promise to more of our products, which have demonstrated good progress on emissions reduction. our nivea shower range, which is already one of our most sustainable, will continue its sustainability journey and we will optimize its packaging to further reduce its emissions. we will also be expanding the use of 100% recycled aluminum packaging across our deodorant range. i am very grateful to our r&d teams for their dedicated work in these areas. looking beyond nivea, we will see big steps being taken also across our other brands in 2022: la prairie will launch its new sustainability agenda and hansa plast has just released its first \"climate neutralized\" product. at eucerin, we will also see progress on a product level, supporting the delivery of beiersdorf\\'s overall sustainability targets. we will foster transformation beyond our company boundaries what is also essential in 2022 is continued external and interdisciplinary collaboration. we will advance our work with key stakeholders, in particular suppliers, our ngo partners, and cross-industry initiatives, like the eco-beauty score consortium. continuing our dedicated and holistic sustainability journey in 2022, i look forward to seeing beiersdorf present itself as a leading light for our industry. jean-francois pascal vice president corporate sustainability 31 care beyond skin our sustainability environmental footprint our social impact commitment continuing our sustainability journey in 2022 we know that when it comes to driving real change, there is power in numbers. in january this year, we signed an open letter urging the un to negotiate and implement a global treaty on plastic pollution. along with other leading companies, we have called for a coordinated response to this growing crisis that will align businesses and governments. this question gains urgency with each day that passes, and we hope that 2022 will be the year that it is answered. a further key priority in 2022 will be our work within the eco-beauty score consortium, which aims to develop an industry-wide environmental impact assessment and scoring system for cosmetics products. pursuing our transparency promise and target of enabling consumers to make sustainable choices, we are eager to support this initiative through our expertise in environmental impact assessment. another important step for 2022 will be beiersdorf\\'s engagement in a strategic partnership with the world wide fund for nature (wwf germany). in previous years, we have successfully worked together on dedicated projects around sustainable palm oil. now, we are stepping up to a more holistic partnership with the central goal to further fuel our business transformation and strengthen our care beyond skin sus tainability agenda. we are the first company in our industry to take such an integrated approach with the wwf. in 2022, we will continue to thrive for our vision of an inclusive society by building on our strong engagements with our ngo partners plan international, care, ashoka and many more, we impact individuals, communities and society as a whole. eucerin, for example, will launch new local projects that aim to fight the stigma of visible skin diseases and enhance the quality of life and societal participation of patients in different parts of the world. this mission is not only a testament to eucerin\\'s life-changing power of dermatological skin care but also a true manifestation of care beyond skin. continuing our dedicated and holistic sustainability journey in 2022, i look forward to seeing beiersdorf present itself as a leading light for our industry. we hope you will follow along as our journey continues. annex annex 33 care beyond skin our sustainability environmental footprint our social impact commitment key figures at a glance key figures at a glance consumer business segment unit care beyond skin our sustainability environmental footprint our social impact commitment about this report about this report within the consumer business segment, transparent reporting on our sustainability activities is firmly established. we have been reporting on strategic approaches, projects and measures in the area of sustainability since 2003. our reporting aims to reach all stakeholders equally. to meet their different expectations and information needs, we use a variety of reporting formats. with the sustainability highlight report \"care beyond skin,\" the consumer business segment presents a selection of particularly outstanding projects from 2021. they exemplify how sustainability is an integral part at beiersdorf and how it is driven forward by the passion of our employees around the world. within the scope of our sustainability reporting, we have been publishing our combined non-financial statement (nfs) for the beiersdorf group (consumer business segment and tesa) and beiersdorf ag within our annual report since 2020. it provides further information and key figures in accordance with the non-financial reporting directive (nfrd). the tesa business segment publishes its own sustainabilty report on its website. you can find the tesa sustainability report here <br> alongside transparency, comparability in our reporting is of great importannce to us. we follow internationally recognized reporting frameworks, including the guidelines of the global reporting initiative (gri). the corresponding gri index 2021 for the consumer business segment is available for download from our website as a separate document. in the reporting year, we also disclosed information on climate-related opportunities and risks for the first time in accordance with the recommendations of the task force on climate-related financial disclosures (tcfd). our commitment to sustainability is part of our day-to-day business and is constantly evolving. we provide up-to-date information on what we are currently working on and what progress we are making on our sustainability website. reports and additional information from previous years are available as well. click here for our download center 35 care beyond skin our sustainability environmental footprint our social impact contact persons contact persons jean-francois pascal dorle bahr vice president corporate sustainability head of environmental sustainability valerie kruck peer petersen global head of csr head of sustainable innovation and transformation imprint our sustainability environmental footprint our social impact published by beiersdorf aktiengesellschaft unnastrasse 48, 20245 hamburg, germany editorial team and concept corporate sustainability design berichtsmanufaktur gmbh, hamburg text beiersdorf corporate communications, corporate sustainability berichtsmanufaktur gmbh, hamburg english translation world2world hamburg, jim blake copyright gettyimages: title: uwe krejci; p. 05, westend61; p. 24, natalie abbey-allan; p. 29, westend61; istock: p. 19, jacoblund; p. 20, peopleimages; shutterstock: p. 20, fizkes; stocksy: p. 20, victor torres; unsplash: p. 02, genevieve dallaire; p. 10, trent haaland; p. 11, appolinary kalashnikova; p. 11, hans eiskonen; p. 11, anastasia taioglou; p. 12, meredith petrick; p. 31, ivan bandura; p. 34, dawid liberadzki; others: p. 21, severianus endi/wwf indonesia; p. 22, aldi khatami/wwf indonesia; p. 23, acios; p. 25, plan international/ vincent tremeau; p. 26, care/job mainye further information'"
      ]
     },
     "execution_count": 83,
     "metadata": {},
     "output_type": "execute_result"
    }
   ],
   "source": [
    "cleaned_data['cleaned_content'][0]"
   ]
  },
  {
   "cell_type": "code",
   "execution_count": 84,
   "metadata": {},
   "outputs": [
    {
     "name": "stdout",
     "output_type": "stream",
     "text": [
      "Expanded custom abbreviations: 0\n"
     ]
    }
   ],
   "source": [
    "# Expand abbreviations\n",
    "# Basic idea from: https://stackoverflow.com/questions/19790188/expanding-english-language-contractions-in-python\n",
    "# Compile the regular expressions only once for efficiency\n",
    "specific_patterns = [\n",
    "    (re.compile(r\"won['’]t\"), \"will not\"),\n",
    "    (re.compile(r\"can['’]t\"), \"can not\"),\n",
    "]\n",
    "\n",
    "def decontracted(phrase):\n",
    "    count = 0\n",
    "\n",
    "    # Replace specific patterns\n",
    "    for pattern, replacement in specific_patterns:\n",
    "        matches = len(pattern.findall(phrase))\n",
    "        count += matches\n",
    "        phrase = pattern.sub(replacement, phrase)\n",
    "\n",
    "    return phrase, count\n",
    "\n",
    "# Apply the function to expand abbreviations\n",
    "cleaned_data['cleaned_content'], abbreviation_counts = zip(*cleaned_data['cleaned_content'].apply(decontracted))\n",
    "print(\"Expanded custom abbreviations:\", sum(abbreviation_counts))"
   ]
  },
  {
   "cell_type": "code",
   "execution_count": 85,
   "metadata": {},
   "outputs": [
    {
     "name": "stdout",
     "output_type": "stream",
     "text": [
      "Special characters removed: 1407434\n"
     ]
    }
   ],
   "source": [
    "# Remove special characters excl. punctuation since this is needed by the sentence tokenization\n",
    "def remove_non_alphanumeric(text):\n",
    "    special_chars = re.findall(r'[^a-zA-Z0-9\\s.,!?\\'\"]', text)\n",
    "    return re.sub(r'[^a-zA-Z0-9\\s.,!?\\'\"]', ' ', text), len(special_chars)\n",
    "\n",
    "cleaned_data['cleaned_content'], special_char_count = zip(*cleaned_data['cleaned_content'].apply(remove_non_alphanumeric))\n",
    "print(\"Special characters removed:\", sum(special_char_count))"
   ]
  },
  {
   "cell_type": "code",
   "execution_count": 86,
   "metadata": {},
   "outputs": [
    {
     "name": "stdout",
     "output_type": "stream",
     "text": [
      "Generated word token amount: 17798685\n"
     ]
    }
   ],
   "source": [
    "def tokenize_words(text):\n",
    "    # Remove numbers, digits, and punctuation\n",
    "    text = re.sub(r'\\b\\d+\\b', '', text)\n",
    "    text = re.sub(r'[^\\w\\s]', '', text)\n",
    "\n",
    "    # Tokenize words\n",
    "    tokens = word_tokenize(text)\n",
    "\n",
    "    # Lemmatize words\n",
    "    lemmatizer = WordNetLemmatizer()\n",
    "    tokens = [lemmatizer.lemmatize(token) for token in tokens]\n",
    "    \n",
    "    return tokens, len(tokens)\n",
    "\n",
    "cleaned_data['word_tokens'], word_token_count = zip(*cleaned_data['cleaned_content'].apply(tokenize_words))\n",
    "print(\"Generated word token amount:\", sum(word_token_count))"
   ]
  },
  {
   "cell_type": "code",
   "execution_count": 87,
   "metadata": {},
   "outputs": [
    {
     "name": "stdout",
     "output_type": "stream",
     "text": [
      "Generated sentence token amount: 727222\n"
     ]
    }
   ],
   "source": [
    "def tokenize_sentences(text):\n",
    "    # Tokenize sentences\n",
    "    tokens = sent_tokenize(text)\n",
    "    \n",
    "    return tokens, len(tokens)\n",
    "\n",
    "cleaned_data['sentence_tokens'], sentence_token_count = zip(*cleaned_data['cleaned_content'].apply(tokenize_sentences))\n",
    "print(\"Generated sentence token amount:\", sum(sentence_token_count))"
   ]
  },
  {
   "cell_type": "code",
   "execution_count": 88,
   "metadata": {},
   "outputs": [
    {
     "name": "stdout",
     "output_type": "stream",
     "text": [
      "Removed stopwords in word tokens 6459538\n",
      "Removed stopwords in sentence tokens 9233671\n"
     ]
    }
   ],
   "source": [
    "def remove_stopwords_from_word_tokens(tokens, custom_stopwords):\n",
    "\n",
    "    # Remove stopwords from tokens\n",
    "    filtered_tokens = [token for token in tokens if token.lower() not in custom_stopwords]\n",
    "    \n",
    "    return filtered_tokens, len(tokens) - len(filtered_tokens)\n",
    "\n",
    "def remove_stopwords_from_sentence_tokens(sentences_list, custom_stopwords):\n",
    "    filtered_sentences_list = []\n",
    "    total_removed_items_count = 0\n",
    "\n",
    "    for sentence in sentences_list:\n",
    "        # Tokenize the sentence into words\n",
    "        word_tokens = word_tokenize(sentence)\n",
    "\n",
    "        # Remove stopwords, digits, numbers, dates, and punctuation from word tokens\n",
    "        filtered_word_tokens = [\n",
    "            token for token in word_tokens\n",
    "            if token.lower() not in custom_stopwords\n",
    "            and not re.search(r'\\d', token)  # Remove tokens containing digits\n",
    "            and token not in string.punctuation  # Remove punctuation\n",
    "        ]\n",
    "\n",
    "        # Reconstruct the sentence without the removed words\n",
    "        filtered_sentence = ' '.join(filtered_word_tokens)\n",
    "        removed_items_count = len(word_tokens) - len(filtered_word_tokens)\n",
    "\n",
    "        filtered_sentences_list.append(filtered_sentence)\n",
    "        total_removed_items_count += removed_items_count\n",
    "\n",
    "    return filtered_sentences_list, total_removed_items_count\n",
    "\n",
    "# Define custom stopwords to add or remove\n",
    "custom_stopwords = {\n",
    "    'add': ['additional_stopword1', 'additional_stopword2'],\n",
    "    'remove': ['stopword_to_remove1', 'stopword_to_remove2']\n",
    "}\n",
    "\n",
    "# Combine stopwords to filter the content of the reports\n",
    "all_stopwords = set(stopwords.words('english'))\n",
    "all_stopwords |= set(custom_stopwords['add'])\n",
    "all_stopwords -= set(custom_stopwords['remove'])\n",
    "\n",
    "cleaned_data['word_tokens'], stopword_count_words = zip(*cleaned_data['word_tokens'].apply(remove_stopwords_from_word_tokens, custom_stopwords=all_stopwords))\n",
    "cleaned_data['sentence_tokens'], stopword_count_sentences = zip(*cleaned_data['sentence_tokens'].apply(remove_stopwords_from_sentence_tokens, custom_stopwords=all_stopwords))\n",
    "\n",
    "print(\"Removed stopwords in word tokens\", sum(stopword_count_words))\n",
    "print(\"Removed stopwords in sentence tokens\", sum(stopword_count_sentences))"
   ]
  },
  {
   "cell_type": "code",
   "execution_count": 93,
   "metadata": {},
   "outputs": [],
   "source": [
    "def pos_tagging_tokens(word_tokens, sentence_list):\n",
    "    # POS tagging for word tokens\n",
    "    pos_tagged_word_tokens = nltk.pos_tag(word_tokens)\n",
    "\n",
    "    # Create a dictionary to map word tokens to their POS tags\n",
    "    pos_tags_dict = dict(pos_tagged_word_tokens)\n",
    "\n",
    "    # POS tagging for sentence tokens\n",
    "    pos_tagged_sentence_list = []\n",
    "    for sentence in sentence_list:\n",
    "        tokenized_sentence = nltk.word_tokenize(sentence)\n",
    "        pos_tagged_sentence = [(token, pos_tags_dict[token]) for token in tokenized_sentence if token in pos_tags_dict]\n",
    "        pos_tagged_sentence_list.append(pos_tagged_sentence)\n",
    "\n",
    "    return pos_tagged_word_tokens, pos_tagged_sentence_list\n",
    "\n",
    "# Apply POS tagging\n",
    "pos_tags = cleaned_data.apply(lambda row: pos_tagging_tokens(row['word_tokens'], row['sentence_tokens']), axis=1)\n",
    "cleaned_data['pos_tagged_word_tokens'], cleaned_data['pos_tagged_sentence_tokens'] = zip(*pos_tags)\n"
   ]
  },
  {
   "cell_type": "code",
   "execution_count": 97,
   "metadata": {},
   "outputs": [
    {
     "name": "stdout",
     "output_type": "stream",
     "text": [
      "0    [[(strategy, NN), (sustainability, NN), (agend...\n",
      "1    [[(degmanagement, NN)], [(deutsche, NN), (tele...\n",
      "2    [[(sustainable, JJ), (future, NN)], [(vonovia,...\n",
      "3    [[(management, NN), (company, NN), (profile, N...\n",
      "4    [[(sustainability, NN), (mtu, NN), (far, RB), ...\n",
      "Name: pos_tagged_sentence_tokens, dtype: object\n"
     ]
    }
   ],
   "source": [
    "print(cleaned_data['pos_tagged_sentence_tokens'].head())"
   ]
  },
  {
   "cell_type": "code",
   "execution_count": 91,
   "metadata": {},
   "outputs": [
    {
     "name": "stdout",
     "output_type": "stream",
     "text": [
      "0    [(brand, NN), (strategy, NN), (sustainability,...\n",
      "1    [(degmanagement, NN), (fact, NN), (deutsche, N...\n",
      "2    [(sustainable, JJ), (future, NN), (vonovia, NN...\n",
      "3    [(management, NN), (employee, NN), (company, N...\n",
      "4    [(sustainability, NN), (mtu, NN), (go, VBP), (...\n",
      "Name: pos_tagged_word_tokens, dtype: object\n"
     ]
    }
   ],
   "source": [
    "print(cleaned_data['pos_tagged_word_tokens'].head())"
   ]
  },
  {
   "cell_type": "code",
   "execution_count": 98,
   "metadata": {},
   "outputs": [
    {
     "data": {
      "text/html": [
       "<div>\n",
       "<style scoped>\n",
       "    .dataframe tbody tr th:only-of-type {\n",
       "        vertical-align: middle;\n",
       "    }\n",
       "\n",
       "    .dataframe tbody tr th {\n",
       "        vertical-align: top;\n",
       "    }\n",
       "\n",
       "    .dataframe thead th {\n",
       "        text-align: right;\n",
       "    }\n",
       "</style>\n",
       "<table border=\"1\" class=\"dataframe\">\n",
       "  <thead>\n",
       "    <tr style=\"text-align: right;\">\n",
       "      <th></th>\n",
       "      <th>company</th>\n",
       "      <th>content</th>\n",
       "      <th>datatype</th>\n",
       "      <th>date</th>\n",
       "      <th>domain</th>\n",
       "      <th>esg_topics</th>\n",
       "      <th>internal</th>\n",
       "      <th>symbol</th>\n",
       "      <th>title</th>\n",
       "      <th>url</th>\n",
       "      <th>cleaned_content</th>\n",
       "      <th>word_tokens</th>\n",
       "      <th>sentence_tokens</th>\n",
       "      <th>pos_tagged_sentence_tokens</th>\n",
       "      <th>pos_tagged_word_tokens</th>\n",
       "    </tr>\n",
       "  </thead>\n",
       "  <tbody>\n",
       "    <tr>\n",
       "      <th>0</th>\n",
       "      <td>Beiersdorf AG</td>\n",
       "      <td>Sustainability Highlight Report CARE BEYOND SK...</td>\n",
       "      <td>sustainability_report</td>\n",
       "      <td>2021-03-31</td>\n",
       "      <td>NaN</td>\n",
       "      <td>['CleanWater', 'GHGEmission', 'ProductLiabilit...</td>\n",
       "      <td>1</td>\n",
       "      <td>BEI</td>\n",
       "      <td>BeiersdorfAG Sustainability Report 2021</td>\n",
       "      <td>NaN</td>\n",
       "      <td>, our brands, our strategy 07 our sustainabili...</td>\n",
       "      <td>[brand, strategy, sustainability, agenda, care...</td>\n",
       "      <td>[brands strategy sustainability agenda care be...</td>\n",
       "      <td>[[(strategy, NN), (sustainability, NN), (agend...</td>\n",
       "      <td>[(brand, NN), (strategy, NN), (sustainability,...</td>\n",
       "    </tr>\n",
       "    <tr>\n",
       "      <th>1</th>\n",
       "      <td>Deutsche Telekom AG</td>\n",
       "      <td>Corporate Responsibility Report 2021 2 Content...</td>\n",
       "      <td>sustainability_report</td>\n",
       "      <td>2021-03-31</td>\n",
       "      <td>NaN</td>\n",
       "      <td>['DataSecurity', 'Iso50001', 'GlobalWarming', ...</td>\n",
       "      <td>1</td>\n",
       "      <td>DTE</td>\n",
       "      <td>DeutscheTelekomAG Sustainability Report 2021</td>\n",
       "      <td>NaN</td>\n",
       "      <td>!degmanagement   facts!    from deutsche tele...</td>\n",
       "      <td>[degmanagement, fact, deutsche, telekom, cr, r...</td>\n",
       "      <td>[degmanagement facts, deutsche telekom, cr rep...</td>\n",
       "      <td>[[(degmanagement, NN)], [(deutsche, NN), (tele...</td>\n",
       "      <td>[(degmanagement, NN), (fact, NN), (deutsche, N...</td>\n",
       "    </tr>\n",
       "    <tr>\n",
       "      <th>2</th>\n",
       "      <td>Vonovia SE</td>\n",
       "      <td>VONOVIA SE SUSTAINABILITY REPORT 2021 =For a S...</td>\n",
       "      <td>sustainability_report</td>\n",
       "      <td>2021-03-31</td>\n",
       "      <td>NaN</td>\n",
       "      <td>['Whistleblowing', 'DataSecurity', 'Vaccine', ...</td>\n",
       "      <td>1</td>\n",
       "      <td>VNA</td>\n",
       "      <td>VonoviaSE Sustainability Report 2021</td>\n",
       "      <td>NaN</td>\n",
       "      <td>for a sustainable future. vonovia se sustaina...</td>\n",
       "      <td>[sustainable, future, vonovia, se, sustainabil...</td>\n",
       "      <td>[sustainable future, vonovia se sustainability...</td>\n",
       "      <td>[[(sustainable, JJ), (future, NN)], [(vonovia,...</td>\n",
       "      <td>[(sustainable, JJ), (future, NN), (vonovia, NN...</td>\n",
       "    </tr>\n",
       "    <tr>\n",
       "      <th>3</th>\n",
       "      <td>Merck KGaA</td>\n",
       "      <td>Sustainability Report 2021 TABLE OF CONTENTS S...</td>\n",
       "      <td>sustainability_report</td>\n",
       "      <td>2021-03-31</td>\n",
       "      <td>NaN</td>\n",
       "      <td>['DataSecurity', 'DataMisuse', 'DrugResistance...</td>\n",
       "      <td>1</td>\n",
       "      <td>MRK</td>\n",
       "      <td>MerckKGaA Sustainability Report 2021</td>\n",
       "      <td>NaN</td>\n",
       "      <td>management employees 4 company profile 115 a...</td>\n",
       "      <td>[management, employee, company, profile, attra...</td>\n",
       "      <td>[management employees company profile attracti...</td>\n",
       "      <td>[[(management, NN), (company, NN), (profile, N...</td>\n",
       "      <td>[(management, NN), (employee, NN), (company, N...</td>\n",
       "    </tr>\n",
       "    <tr>\n",
       "      <th>4</th>\n",
       "      <td>MTU</td>\n",
       "      <td>Our ideas and concepts FOR A SUSTAINABLE FUTUR...</td>\n",
       "      <td>sustainability_report</td>\n",
       "      <td>2020-03-31</td>\n",
       "      <td>NaN</td>\n",
       "      <td>['WorkLifeBalance', 'Corruption', 'AirQuality'...</td>\n",
       "      <td>1</td>\n",
       "      <td>MTX</td>\n",
       "      <td>MTUAeroEngines Sustainability Report 2020</td>\n",
       "      <td>NaN</td>\n",
       "      <td>, but sustainability at mtu goes far beyond cl...</td>\n",
       "      <td>[sustainability, mtu, go, far, beyond, climate...</td>\n",
       "      <td>[sustainability mtu goes far beyond climate ac...</td>\n",
       "      <td>[[(sustainability, NN), (mtu, NN), (far, RB), ...</td>\n",
       "      <td>[(sustainability, NN), (mtu, NN), (go, VBP), (...</td>\n",
       "    </tr>\n",
       "  </tbody>\n",
       "</table>\n",
       "</div>"
      ],
      "text/plain": [
       "               company                                            content   \n",
       "0        Beiersdorf AG  Sustainability Highlight Report CARE BEYOND SK...  \\\n",
       "1  Deutsche Telekom AG  Corporate Responsibility Report 2021 2 Content...   \n",
       "2           Vonovia SE  VONOVIA SE SUSTAINABILITY REPORT 2021 =For a S...   \n",
       "3           Merck KGaA  Sustainability Report 2021 TABLE OF CONTENTS S...   \n",
       "4                  MTU  Our ideas and concepts FOR A SUSTAINABLE FUTUR...   \n",
       "\n",
       "                datatype        date domain   \n",
       "0  sustainability_report  2021-03-31    NaN  \\\n",
       "1  sustainability_report  2021-03-31    NaN   \n",
       "2  sustainability_report  2021-03-31    NaN   \n",
       "3  sustainability_report  2021-03-31    NaN   \n",
       "4  sustainability_report  2020-03-31    NaN   \n",
       "\n",
       "                                          esg_topics  internal symbol   \n",
       "0  ['CleanWater', 'GHGEmission', 'ProductLiabilit...         1    BEI  \\\n",
       "1  ['DataSecurity', 'Iso50001', 'GlobalWarming', ...         1    DTE   \n",
       "2  ['Whistleblowing', 'DataSecurity', 'Vaccine', ...         1    VNA   \n",
       "3  ['DataSecurity', 'DataMisuse', 'DrugResistance...         1    MRK   \n",
       "4  ['WorkLifeBalance', 'Corruption', 'AirQuality'...         1    MTX   \n",
       "\n",
       "                                          title  url   \n",
       "0       BeiersdorfAG Sustainability Report 2021  NaN  \\\n",
       "1  DeutscheTelekomAG Sustainability Report 2021  NaN   \n",
       "2          VonoviaSE Sustainability Report 2021  NaN   \n",
       "3          MerckKGaA Sustainability Report 2021  NaN   \n",
       "4     MTUAeroEngines Sustainability Report 2020  NaN   \n",
       "\n",
       "                                     cleaned_content   \n",
       "0  , our brands, our strategy 07 our sustainabili...  \\\n",
       "1   !degmanagement   facts!    from deutsche tele...   \n",
       "2   for a sustainable future. vonovia se sustaina...   \n",
       "3    management employees 4 company profile 115 a...   \n",
       "4  , but sustainability at mtu goes far beyond cl...   \n",
       "\n",
       "                                         word_tokens   \n",
       "0  [brand, strategy, sustainability, agenda, care...  \\\n",
       "1  [degmanagement, fact, deutsche, telekom, cr, r...   \n",
       "2  [sustainable, future, vonovia, se, sustainabil...   \n",
       "3  [management, employee, company, profile, attra...   \n",
       "4  [sustainability, mtu, go, far, beyond, climate...   \n",
       "\n",
       "                                     sentence_tokens   \n",
       "0  [brands strategy sustainability agenda care be...  \\\n",
       "1  [degmanagement facts, deutsche telekom, cr rep...   \n",
       "2  [sustainable future, vonovia se sustainability...   \n",
       "3  [management employees company profile attracti...   \n",
       "4  [sustainability mtu goes far beyond climate ac...   \n",
       "\n",
       "                          pos_tagged_sentence_tokens   \n",
       "0  [[(strategy, NN), (sustainability, NN), (agend...  \\\n",
       "1  [[(degmanagement, NN)], [(deutsche, NN), (tele...   \n",
       "2  [[(sustainable, JJ), (future, NN)], [(vonovia,...   \n",
       "3  [[(management, NN), (company, NN), (profile, N...   \n",
       "4  [[(sustainability, NN), (mtu, NN), (far, RB), ...   \n",
       "\n",
       "                              pos_tagged_word_tokens  \n",
       "0  [(brand, NN), (strategy, NN), (sustainability,...  \n",
       "1  [(degmanagement, NN), (fact, NN), (deutsche, N...  \n",
       "2  [(sustainable, JJ), (future, NN), (vonovia, NN...  \n",
       "3  [(management, NN), (employee, NN), (company, N...  \n",
       "4  [(sustainability, NN), (mtu, NN), (go, VBP), (...  "
      ]
     },
     "execution_count": 98,
     "metadata": {},
     "output_type": "execute_result"
    }
   ],
   "source": [
    "cleaned_data.head()"
   ]
  },
  {
   "cell_type": "code",
   "execution_count": 110,
   "metadata": {},
   "outputs": [],
   "source": [
    "def extract_human_names(chunked_tokens):\n",
    "    names = []\n",
    "    for subtree in chunked_tokens.subtrees():\n",
    "        if subtree.label() == 'PERSON':\n",
    "            name = ' '.join([leaf[0] for leaf in subtree.leaves()])\n",
    "            names.append(name)\n",
    "    return names\n",
    "\n",
    "def remove_human_names(row):\n",
    "    pos_tagged_word_tokens = row['pos_tagged_word_tokens']\n",
    "    pos_tagged_sentence_tokens = row['pos_tagged_sentence_tokens']\n",
    "    \n",
    "    chunked_tokens = nltk.ne_chunk(pos_tagged_word_tokens)\n",
    "    human_names = extract_human_names(chunked_tokens)\n",
    "    human_names = set(human_names)\n",
    "\n",
    "    filtered_word_tokens = [token for token, _ in pos_tagged_word_tokens if token not in human_names]\n",
    "    filtered_pos_tagged_word_tokens = [(token, pos) for token, pos in pos_tagged_word_tokens if token not in human_names]\n",
    "\n",
    "    filtered_sentence_tokens = []\n",
    "    filtered_pos_tagged_sentence_tokens = []\n",
    "    \n",
    "    for pos_tagged_sentence in pos_tagged_sentence_tokens:\n",
    "        filtered_sentence = [token for token, _ in pos_tagged_sentence if token not in human_names]\n",
    "        filtered_pos_sentence = [(token, pos) for token, pos in pos_tagged_sentence if token not in human_names]\n",
    "        \n",
    "        filtered_sentence_tokens.append(filtered_sentence)\n",
    "        filtered_pos_tagged_sentence_tokens.append(filtered_pos_sentence)\n",
    "\n",
    "    return pd.Series({\n",
    "        'word_tokens': filtered_word_tokens,\n",
    "        'sentence_tokens': filtered_sentence_tokens,\n",
    "        'pos_tagged_word_tokens': filtered_pos_tagged_word_tokens,\n",
    "        'pos_tagged_sentence_tokens': filtered_pos_tagged_sentence_tokens\n",
    "    })\n",
    "\n",
    "# Apply the optimized function to all four columns\n",
    "cleaned_data.loc[:, ['word_tokens','sentence_tokens','pos_tagged_word_tokens','pos_tagged_sentence_tokens']] = cleaned_data.apply(remove_human_names, axis=1)"
   ]
  },
  {
   "cell_type": "code",
   "execution_count": 111,
   "metadata": {},
   "outputs": [
    {
     "name": "stdout",
     "output_type": "stream",
     "text": [
      "['brand', 'strategy', 'sustainability', 'agenda', 'care', 'beyond', 'skin', 'partnership', 'promise', 'toward', 'consumer', 'minimizing', 'environmental', 'footprint', 'target', 'climate', 'care', 'holistic', 'approach', 'climate', 'protection', 'people', 'nature', 'balance', 'innovative', 'nivea', 'product', 'eucerin', 'dermocosmetics', 'meet', 'sustainability', 'la', 'prairie', 'combine', 'sustainability', 'luxury', 'climate', 'neutral', 'production', 'leipzig', 'berlin', 'key', 'navigation', 'jump', 'table', 'maximizing', 'social', 'impact', 'target', 'engagement', 'sustainable', 'palm', 'oil', 'cultivation', 'indonesia', 'power', 'human', 'touch', 'niveas', 'new', 'social', 'mission', 'eucerins', 'social', 'mission', 'greater', 'social', 'participation', 'stand', 'strong', 'woman', 'girl', 'worldwide', 'diversity', 'inclusion', 'key', 'success', 'outlook', 'continuing', 'sustainability', 'journey', 'annex', 'key', 'figure', 'glance', 'report', 'contact', 'person', 'imprint', 'page', 'reference', 'web', 'link', 'highlight', 'foreword', 'dear', 'reader', 'beiersdorf', 'recognize', 'role', 'rising', 'one', 'greatest', 'challenge', 'time', 'tackling', 'climate', 'change', 'successfully', 'reduced', 'carbon', 'footprint', 'absolute', 'term', 'third', 'year', 'row', 'continuing', 'business', 'growth', 'end', 'consumer', 'business', 'returned', 'pre', 'covid', 'level', 'reduced', 'carbon', 'emission', 'v', 'proud', 'result', 'prof', 'business', 'growth', 'decarbonization', 'go', 'hand', 'hand', 'decoupling', 'human', 'economic', 'activity', 'natural', 'resource', 'consumption', 'perhaps', 'challenging', 'ultimate', 'goal', 'global', 'sustainability', 'movement', 'ha', 'inspired', 'beiersdorfs', 'ambitious', 'sustainability', 'agenda', 'clear', 'focus', 'investment', 'innovation', 'led', 'reduction', 'overall', 'environmental', 'footprint', 'vincent', 'warnery', 'chairman', 'executive', 'board', 'zhengrong', 'liu', 'member', 'executive', 'board', 'human', 'resource', 'transforming', 'product', 'including', 'packaging', 'formulation', 'one', 'biggest', 'lever', 'reduce', 'co2', 'emission', 'something', 'committed', 'extra', 'investment', 'brainpower', 'recent', 'year', 'pushed', 'despite', 'continuous', 'economic', 'headwind', 'caused', 'pandemic', 'thanks', 'ingenuity', 'expert', 'partner', 'able', 'demonstrate', 'superior', 'skin', 'care', 'achieved', 'sustainable', 'way', 'consumer', 'across', 'world', 'appreciate', 'new', 'biodegradable', 'shower', 'formulation', 'mineral', 'oil', 'free', 'lip', 'care', 'product', 'two', 'example', 'enjoying', 'high', 'popularity', 'global', 'consumer', 'feeling', 'encouraged', 'positive', 'sentiment', 'launched', 'climate', 'care', 'bringing', 'climate', 'care', 'skin', 'care', 'mission', 'last', 'year', 'anchoring', 'climate', 'protection', 'center', 'product', 'transformation', 'towards', 'sustainability', 'read', 'climate', 'neutralized', 'product', 'report', 'proud', 'result', 'cross', 'functional', 'team', 'made', 'tremendous', 'effort', 'turn', 'ambition', 'reality', 'innovating', 'sustainably', 'mean', 'exploring', 'new', 'material', 'technology', 'working', 'partnership', 'others', 'alongside', 'new', 'agile', 'process', 'reformulation', 'change', 'packaging', 'material', 'preceded', 'intensive', 'cross', 'functional', 'collaboration', 'day', 'day', 'setting', 'sustainability', 'requirement', 'business', 'kpis', 'often', 'perfect', 'match', 'beiersdorf', 'foreword', 'chosen', 'address', 'tension', 'directly', 'open', 'attitude', 'drive', 'innovate', 'ha', 'hel', 'ped', 'team', 'find', 'solution', 'reconciliation', 'wa', 'easily', 'possible', 'shy', 'away', 'making', 'tough', 'decision', 'ensure', 'ambitious', 'target', 'met', 'example', 'manufacturing', 'product', 'recycled', 'plastic', 'costly', 'technologically', 'demanding', 'ha', 'prevented', 'u', 'increasing', 'share', 'recycled', 'plastic', 'packing', 'year', 'goal', 'going', 'achieving', 'commitment', 'make', 'nivea', 'product', 'free', 'microplastics', 'end', 'another', 'excellent', 'example', 'long', 'term', 'fruitful', 'collaboration', 'however', 'today', 'sustainability', 'journey', 'continues', 'set', 'complex', 'new', 'task', 'front', 'u', 'ensuring', 'skin', 'care', 'performance', 'reformulation', 'process', 'mitigating', 'color', 'impact', 'recycled', 'material', 'latest', 'challenge', 'industry', 'face', 'securing', 'supply', 'new', 'packaging', 'raw', 'material', 'needed', 'sustainability', 'time', 'increasing', 'disruption', 'global', 'supply', 'chain', 'come', 'top', 'already', 'long', 'list', 'beiersdorfs', 'sustainability', 'community', 'stepped', 'difficulty', 'always', 'fashion', 'even', 'agility', 'even', 'closer', 'collaboration', 'even', 'stronger', 'personal', 'engagement', 'thank', 'sincerely', 'hard', 'work', 'dedication', 'push', 'sustainability', 'journey', 'forward', 'proud', 'result', 'know', 'standard', 'apply', 'setting', 'measuring', 'target', 'amongst', 'highest', 'climate', 'target', 'line', 'latest', 'climate', 'science', 'recognized', 'science', 'based', 'target', 'initiative', 'reducing', 'emission', 'absolute', 'term', 'v', 'among', 'leading', 'international', 'compa', 'ny', 'fight', 'climate', 'change', 'calculate', 'greenhouse', 'gas', 'emission', 'according', 'strict', 'requirement', 'set', 'ghg', 'protocol', 'disclose', 'performance', 'publicly', 'key', 'performance', 'indicator', 'subject', 'external', 'verification', 'renowned', 'indepen', 'dent', 'partner', 'desire', 'continuously', 'learn', 'improve', 'regularly', 'invite', 'external', 'expert', 'critically', 'examine', 'strategy', 'well', 'action', 'plan', 'good', 'example', 'engagement', 'afforestation', 'project', 'growing', 'world', 'natural', 'capacity', 'absorb', 'carbon', 'essential', 'convinced', 'role', 'play', 'filling', 'gap', 'technologically', 'possible', 'term', 'emission', 'reduction', 'entire', 'world', 'immediately', 'need', 'without', 'financial', 'support', 'private', 'sector', 'many', 'climate', 'project', 'developing', 'world', 'would', 'chance', 'implemented', 'time', 'aware', 'controversy', 'surrounding', 'climate', 'neutral', 'claim', 'across', 'different', 'industry', 'understand', 'support', 'key', 'critical', 'voice', 'stance', 'beiersdorf', 'clear', 'prioritize', 'ambitious', 'reduction', 'strategy', 'time', 'actively', 'invest', 'climate', 'project', 'remove', 'carbon', 'atmosphere', 'therefore', 'select', 'project', 'developed', 'partner', 'deep', 'expertise', 'high', 'international', 'reputation', 'project', 'certified', 'according', 'highest', 'quality', 'standard', 'addition', 'always', 'seek', 'support', 'project', 'provide', 'additional', 'benefit', 'community', 'bolster', 'biodiversity', 'also', 'stepping', 'internal', 'quality', 'standard', 'sustainability', 'management', 'often', 'neglected', 'something', 'requires', 'significant', 'investment', 'beiersdorf', 'treating', 'continued', 'professionalization', 'automation', 'sustainability', 'data', 'management', 'high', 'priority', 'throughout', 'sustainability', 'agenda', 'entrepreneur', 'network', 'europe', 'together', 'ashoka', 'com', 'mitted', 'supporting', 'five', 'female', 'social', 'innovator', 'leading', 'project', 'positively', 'impact', 'future', 'girl', 'woman', 'partner', 'care', 'plan', 'international', 'initiated', 'empowering', 'girl', 'mission', 'advanced', 'well', 'project', 'africa', 'latin', 'america', 'important', 'work', 'address', 'covid', 'related', 'challenge', 'disproportionately', 'affect', 'girl', 'young', 'woman', 'enjoy', 'report', 'hope', 'enjoy', 'reading', 'highlight', 'thank', 'everyone', 'commitment', 'passion', 'sustainability', 'journey', 'always', 'welcome', 'feedback', 'comment', 'holistic', 'including', 'continuous', 'initiative', 'serve', 'people', 'society', 'expanded', 'partnership', 'ashoka', 'social', 'kind', 'regard', 'vincent', 'warnery', 'zhengrong', 'liu', 'care', 'beyond', 'skin', 'consumer', 'care', 'beyond', 'skin', 'consumer', 'care', 'beyond', 'skin', 'sustainability', 'environmental', 'footprint', 'social', 'impact', 'value', 'brand', 'strategy', 'commitment', 'value', 'brandsour', 'strategy', 'since', 'beiersdorf', 'ha', 'stood', 'innovative', 'skin', 'care', 'unique', 'brand', 'high', 'quality', 'skin', 'body', 'care', 'product', 'set', 'u', 'apart', 'convincing', 'million', 'consumer', 'worldwide', 'day', 'day', 'every', 'person', 'different', 'ha', 'need', 'naturally', 'applies', 'skin', 'care', 'product', 'respond', 'consumer', 'individual', 'expectation', 'wish', 'keeping', 'global', 'trend', 'regional', 'characteristic', 'firmly', 'view', 'high', 'proximity', 'people', 'market', 'help', 'u', 'regularly', 'set', 'new', 'milestone', 'sector', 'innovation', 'continually', 'expand', 'brand', 'portfolio', 'want', 'remain', 'internationally', 'successful', 'future', 'sustainable', 'way', 'corporate', 'strategy', 'care', 'defines', 'sustainability', 'one', 'priority', 'guide', 'u', 'endeavor', 'core', 'value', 'care', 'simplicity', 'courage', 'trust', 'provide', 'compass', 'action', 'shared', 'understanding', 'value', 'give', 'u', 'basis', 'implementing', 'strategy', 'successfully', 'long', 'term', 'care', 'especially', 'important', 'u', 'apply', 'value', 'far', 'beyond', 'core', 'business', 'care', 'comprises', 'responsibility', 'toward', 'people', 'environment', 'care', 'beyond', 'skin', 'corporate', 'purpose', 'time', 'name', 'sustainability', 'agenda', 'care', 'beyond', 'skin', 'overview', 'employee', 'contributed', 'daily', 'success', 'EUR61bn', 'sale', 'revenue', 'generated', 'healing', 'ointment', 'care', 'beyond', 'skin', 'sustainability', 'agenda', 'care', 'beyond', 'skin', 'sustainability', 'agenda', 'care', 'beyond', 'skin', 'sustainability', 'play', 'central', 'role', 'business', 'strategy', 'care', 'pursued', 'since', 'view', 'since', 'consistently', 'implemented', 'sustainability', 'agenda', 'care', 'beyond', 'skin', 'agenda', 'comprises', 'total', 'seven', 'focus', 'field', 'reflect', 'impact', 'activity', 'along', 'entire', 'value', 'chain', 'care', 'beyond', 'skin', 'also', 'mean', 'take', 'action', 'care', 'people', 'environment', 'see', 'responsibility', 'want', 'make', 'contribution', 'consumer', 'around', 'world', 'trust', 'brand', 'product', 'also', 'society', 'environment', 'achieve', 'significant', 'progress', 'overall', 'topic', 'area', 'sustainability', 'employee', 'corporate', 'function', 'well', 'regional', 'country', 'organization', 'pull', 'together', 'joint', 'ambitious', 'sustainability', 'goal', 'plan', 'achieve', 'respectively', 'help', 'u', 'undertaking', 'sustainability', 'commitment', 'consumer', 'health', 'wellbeing', 'trust', 'transparency', 'product', 'safety', 'skin', 'health', 'employee', 'along', 'entire', 'value', 'chain', 'health', 'safety', 'diversity', 'human', 'right', 'inclusive', 'society', 'human', 'touch', 'project', 'fighting', 'stigma', 'skin', 'ailment', 'girl', 'empowerment', 'minimizing', 'maximizing', 'environmental', 'footprint', 'social', 'impact', 'climate', 'positive', 'future', 'reduction', 'ghg', 'emission', 'renewable', 'energy', 'use', 'renewable', 'raw', 'material', 'fully', 'circular', 'resource', 'renewable', 'biodegradable', 'ingredient', 'refillable', 'reusable', 'recyclable', 'packaging', 'recycled', 'content', 'packaging', 'zero', 'waste', 'landfill', 'waste', 'reduction', 'sustainable', 'land', 'use', 'responsible', 'sourcing', 'sustainable', 'landscape', 'smallholder', 'support', 'regenerative', 'water', 'environment', 'water', 'use', 'production', 'product', 'water', 'use', 'product', 'consumption', 'clean', 'water', 'provision', 'protected', 'marine', 'environment', 'care', 'beyond', 'skin', 'sustainability', 'environmental', 'footprint', 'social', 'impact', 'partnership', 'commitment', 'partnership', 'global', 'company', 'act', 'alone', 'especially', 'regard', 'current', 'challenge', 'climate', 'protection', 'upholding', 'human', 'right', 'vital', 'look', 'beyond', 'boundary', 'company', 'comprehensive', 'collaboration', 'cooperation', 'therefore', 'becoming', 'increasingly', 'important', 'sustainable', 'procurement', 'raw', 'material', 'improving', 'working', 'living', 'condition', 'want', 'make', 'difference', 'trigger', 'change', 'process', 'play', 'active', 'role', 'overall', 'transformation', 'reason', 'actively', 'engage', 'association', 'sustainability', 'initiative', 'also', 'across', 'industry', 'boundary', 'national', 'border', 'seek', 'enter', 'strong', 'lasting', 'partnership', 'european', 'brand', 'forum', 'sustainable', 'association', 'palm', 'oil', 'cosmetic', 'europe', 'action', 'sustainable', 'sustainable', 'packaging', 'certified', 'derivative', 'sustainable', 'palm', 'oil', 'global', 'shea', 'alliance', 'gemeinsam', 'recyceln', 'plan', 'international', 'sedex', 'member', 'aim', 'progress09', 'care', 'beyond', 'skin', 'sustainability', 'environmental', 'footprint', 'social', 'impact', 'promise', 'toward', 'consumer', 'commitment', 'promise', 'toward', 'consumer', 'together', 'consumer', 'choose', 'take', 'path', 'toward', 'sustainable', 'future', 'make', 'consumer', 'business', 'segment', 'vital', 'cornerstone', 'sustainability', 'agenda', 'fulfill', 'rising', 'expectation', 'top', 'priority', 'provide', 'consumer', 'outstanding', 'skin', 'care', 'product', 'fully', 'satisfy', 'diverse', 'expectation', 'product', 'portfolio', 'therefore', 'promise', 'quality', 'safety', 'sustainability', 'measured', 'word', 'specific', 'action', 'new', 'packaging', 'product', 'innovation', 'excellent', 'example', 'meeting', 'increasing', 'expectation', 'consumer', 'regarding', 'sustainability', 'aspect', 'committed', 'transparency', 'consumer', 'increasingly', 'interested', 'sustainability', 'environmental', 'compatibility', 'product', 'formula', 'packaging', 'view', 'transparent', 'communication', 'key', 'concern', 'u', 'includes', 'regular', 'candid', 'communication', 'sustainability', 'activity', 'product', 'range', 'among', 'initiative', 'implemented', 'motto', 'transparency', 'presentation', 'exact', 'recycling', 'proportion', 'packaging', 'example', 'nivea', 'natural', 'balance', 'series', 'beiersdorf', 'also', 'joined', 'eco', 'beauty', 'score', 'consortium', 'response', 'need', 'greater', 'transparency', 'regarding', 'environmental', 'impact', 'cosmetic', 'product', 'aim', 'industry', 'initiative', 'develop', 'evaluation', 'framework', 'reveals', 'environmental', 'impact', 'cosmetic', 'product', 'consumer', 'regarding', 'formula', 'packaging', 'application', 'guarantee', 'highest', 'quality', 'product', 'safety', 'year', 'skin', 'care', 'expertise', 'matter', 'course', 'u', 'develop', 'skin', 'care', 'product', 'meet', 'highest', 'quality', 'standard', 'absolutely', 'safe', 'use', 'consumer', 'expect', 'u', 'everything', 'meet', 'demand', 'use', 'scientific', 'method', 'highest', 'standard', 'extensively', 'research', 'product', 'active', 'ingredient', 'better', 'understand', 'effect', 'skin', 'hair', 'ensure', 'excellent', 'quality', 'safety', 'product', 'find', 'information', 'consumer', 'business', 'segment', 'care', 'beyond', 'skin', 'sustainability', 'environmental', 'footprint', 'social', 'impact', 'commitment', 'target', 'target', 'protecting', 'nature', 'environment', 'focus', 'sustainability', 'agen', 'da', 'care', 'beyond', 'skin', 'envi', 'ronment', 'area', 'defined', 'four', 'focus', 'field', 'want', 'achieve', 'great', 'deal', 'set', 'ambitious', 'target', 'minimize', 'environmental', 'footprint', 'progressively', 'area', 'target', 'target', 'target', 'target', 'sdg', 'absolute', 'reduction', 'scope', 'greenhouse', 'gas', 'emission', 'v', 'base', 'year', 'progress', 'project', 'ongoing', 'climate', 'neutral', 'production', 'site', 'progress', 'project', 'ongoing', 'reduction', 'petroleum', 'based', 'virgin', 'plastic', 'packaging', 'v', 'base', 'year', 'progress', 'project', 'ongoing', 'recyclate', 'plastic', 'packaging', 'v', 'base', 'year', 'progress', 'project', 'ongoing', 'packaging', 'refillable', 'reusable', 'recyclable', 'progress', 'project', 'ongoing', 'reduction', 'production', 'facility', 'waste', 'v', 'base', 'year', 'progress', 'project', 'ongoing', 'main', 'renewable', 'raw', 'material', 'come', 'sustainable', 'source', 'progress', 'project', 'ongoing', 'deforestation', 'free', 'procurement', 'main', 'raw', 'material', 'incl', 'palm', 'oil', 'soy', 'paper', 'progress', 'project', 'ongoing', 'fsc', 'certified', 'paper', 'progress', 'target', 'achieved', 'palm', 'kernel', 'oil', 'based', 'de', 'rivatives', 'sustainably', 'certified', 'source', 'progress', 'target', 'achieved', 'reduction', 'water', 'consumption', 'per', 'manufactured', 'product', 'v', 'base', 'year', 'progress', 'project', 'started', 'nivea', 'product', 'free', 'microplastics', 'end', 'progress', 'target', 'achieved', 'eucerin', 'prodcuts', 'free', 'microplastics', 'end', 'progress', 'project', 'ongoing', 'exclusive', 'use', 'biodegradable', 'polymer', 'european', 'product', 'formulation', 'end', 'progress', 'project', 'ongoing', 'primary', 'packaging', 'care', 'beyond', 'skin', 'sustainability', 'environmental', 'footprint', 'social', 'impact', 'commitment', 'climate', 'care', 'holistic', 'approach', 'climate', 'protection', 'climate', 'positive', 'future', 'climate', 'care', 'holistic', 'approach', 'climate', 'protection', 'fight', 'climate', 'change', 'heart', 'sustainability', 'agenda', 'compass', 'decision', 'umbrella', 'climate', 'care', 'mission', 'pursue', 'holistic', 'approach', 'drive', 'climate', 'protection', 'forward', 'level', 'large', 'share', 'emission', 'attributable', 'raw', 'material', 'extraction', 'procurement', 'packaging', 'goal', 'leverage', 'full', 'emission', 'reduction', 'potential', 'progressively', 'make', 'product', 'formula', 'climate', 'friendlier', 'time', 'maintain', 'high', 'quality', 'product', 'u', 'contradiction', 'incentive', 'climate', 'roadmap', 'team', 'expert', 'evaluated', 'raw', 'material', 'portfolio', 'identify', 'greatest', 'impact', 'total', 'emission', 'result', 'internal', 'climate', 'road', 'map', 'reducing', 'co2', 'emission', 'product', 'ingredient', 'help', 'reduce', 'overall', 'emission', 'relying', 'following', 'measure', 'among', 'others', 'switchover', 'plant', 'based', 'raw', 'material', 'lower', 'co2', 'footprint', 'increasing', 'use', 'ingredient', 'non', 'fossil', 'source', 'increasing', 'use', 'upcycled', 'ingredient', 'procuring', 'main', 'renewable', 'raw', 'material', 'certified', 'sustainable', 'cultivation', 'close', 'cooperation', 'supplier', 'initiate', 'switchover', 'renewable', 'energy', 'source', 'production', 'site', 'already', 'delivered', 'result', 'proud', 'following', 'page', 'fer', 'specific', 'example', 'emission', 'reduction', 'measure', 'demonstrate', 'conflict', 'sustainable', 'high', 'quality', 'product', 'development', 'process', 'contrary', 'vision', 'climate', 'friendlier', 'product', 'major', 'boost', 'innovative', 'drive', 'care', 'beyond', 'skin', 'sustainability', 'environmental', 'footprint', 'social', 'impact', 'commitment', 'climate', 'care', 'holistic', 'approach', 'climate', 'protection', 'approach', 'climate', 'neutralization', 'addition', 'ambitious', 'co2', 'reduction', 'target', 'committed', 'take', 'step', 'umbrella', 'climate', 'care', 'mission', 'started', 'investing', 'project', 'store', 'carbon', 'atmosphere', 'balance', 'remaining', 'product', 'based', 'emission', 'example', 'project', 'includes', 'afforestation', 'effort', 'help', 'mitigate', 'climate', 'change', 'tree', 'absorb', 'co2', 'atmosphere', 'photosynthesis', 'carbon', 'stored', 'biomass', 'eg', 'tree', 'trunk', 'root', 'leaf', 'select', 'climate', 'project', 'certified', 'according', 'external', 'international', 'standard', 'verified', 'carbon', 'standard', 'vcs', 'gold', 'standard', 'ensures', 'climate', 'impact', 'real', 'measurable', 'permanent', 'third', 'party', 'verified', 'moreover', 'focus', 'project', 'provide', 'additional', 'benefit', 'biodiversity', 'local', 'community', 'result', 'balance', 'co2', 'emission', 'co2', 'ab', 'sorbed', 'nature', 'whenever', 'follow', 'approach', 'talk', 'ab', 'climate', 'neutralized', 'instead', 'climate', 'neutral', 'want', 'underline', 'product', 'completely', 'climate', 'neutral', 'leave', 'production', 'site', 'instead', 'climate', 'neutralization', 'result', 'subsequent', 'action', 'contributing', 'fight', 'climate', 'change', 'global', 'skin', 'care', 'brand', 'nivea', 'launched', 'first', 'climate', 'neutralized', 'product', 'significantly', 'reduced', 'co2', 'footprint', 'remaining', 'emission', 'balanced', 'certified', 'climate', 'project', 'example', 'nivea', 'shower', 'gel', 'range', 'germany', 'round', 'different', 'product', 'available', 'store', 'climate', 'neutralized', 'since', 'june', 'coming', 'year', 'launch', 'additional', 'climate', 'neutralized', 'product', 'thereby', 'making', 'easier', 'consumer', 'make', 'sustainable', 'choice', 'care', 'beyond', 'skin', 'people', 'nature', 'balance', 'innovative', 'nivea', 'product', 'fully', 'circular', 'climate', 'resource', 'positive', 'future', 'people', 'nature', 'inbalance', 'innovative', 'nivea', 'product', 'nivea', 'leading', 'example', 'journey', 'toward', 'greater', 'sustainability', 'innovative', 'product', 'formula', 'modern', 'packaging', 'make', 'nivea', 'product', 'portfolio', 'pioneer', 'transformation', 'overall', 'company', 'past', 'year', 'nivea', 'repeatedly', 'set', 'standard', 'launched', 'several', 'new', 'product', 'deliver', 'sustainability', 'promise', 'consumer', 'sustainability', 'environmental', 'footprint', 'social', 'impact', 'care', 'beyond', 'skin', 'sustainability', 'environmental', 'footprint', 'social', 'impact', 'commitment', 'people', 'nature', 'balance', 'innovative', 'nivea', 'product', 'fewer', 'emission', 'using', 'renewable', 'plastic', 'launched', 'first', 'climate', 'neutral', 'product', 'nivea', 'naturally', 'good', 'face', 'care', 'range', 'country', 'jar', 'lid', 'face', 'cream', 'made', 'certified', 'renewable', 'plastic', 'enables', 'significant', 'cut', 'emission', 'formula', 'range', 'also', 'particularly', 'sustainble', 'made', 'natural', 'vegan', 'ingredient', 'free', 'microplastic', 'refilling', 'instead', 'throwing', 'away', 'nivea', 'currently', 'testing', 'new', 'product', 'format', 'uk', 'nivea', 'ecorefill', 'first', 'refillable', 'hand', 'soap', 'form', 'tab', 'combining', 'sustainable', 'product', 'formula', 'sustainable', 'packaging', 'design', 'tab', 'dissolved', 'refillable', 'bottle', 'consumer', 'home', 'tap', 'water', 'turn', 'liquid', 'soap', 'formula', 'biodegradable', 'contains', 'naturally', 'derived', 'ingredient', 'reusable', 'packaging', 'made', 'recycled', 'material', 'repurchasable', 'tab', 'dissolved', 'delivering', 'significant', 'saving', 'packaging', 'material', 'certified', 'recycled', 'recyclable', 'new', 'solid', 'facial', 'cleanser', 'nivea', 'magicbar', 'vegan', 'free', 'microplastics', 'make', 'possible', 'consumer', 'without', 'plastic', 'packaging', 'product', 'ingredient', 'natural', 'origin', 'packaging', 'philosophy', 'cleansing', 'range', 'based', 'sustainably', 'sour', 'ced', 'fsc', 'certified', 'paper', 'recycled', 'material', 'packaging', 'also', 'fully', 'recyclable', 'proud', 'present', 'nivea', 'magicbar', 'first', 'natural', 'cosmetic', 'range', 'bearing', 'ecocert', 'r', 'cosmos', 'natural', 'seal', 'innovative', 'spray', 'deodorant', 'technology', 'nivea', 'ecodeo', 'marketlaunched', 'innovative', 'spray', 'deodorant', 'climatefriendlier3', 'compared', 'standard', 'deodorant', 'also', 'intro', 'duced', 'industry', 'first', 'recycled', 'aluminum', 'ecodeo', 'based', 'innovative', 'eco', 'valve', 'technology', 'nitrogen', 'extracted', 'air', 'propellant', 'save', 'emission', 'also', 'enables', 'u', 'increase', 'active', 'ingredient', 'content', 'spray', 'result', 'nivea', 'ecodeo', 'last', 'twice', 'long', 'comparable', 'product', 'thus', 'contributes', 'lowering', 'packaging', 'waste', 'key', 'success', 'wa', 'intensive', 'cooperation', 'supplier', 'partner', 'nivea', 'worked', 'together', 'salford', 'valve', 'company', 'ltd', 'nussbaum', 'matzingen', 'ag', 'develop', 'innovative', 'sustainable', 'solution', 'care', 'beyond', 'skin', 'eucerin', 'dermocosmetics', 'meet', 'sustainability', 'fully', 'circular', 'resource', 'eucerin', 'dermocosmetics', 'meet', 'sustainability', 'eucerin', 'pursues', 'beiersdorfs', 'ambitious', 'environmental', 'sustainability', 'goal', 'work', 'continually', 'ensure', 'highest', 'product', 'quality', 'reducing', 'negative', 'impact', 'product', 'ecological', 'balance', 'continuously', 'examine', 'product', 'potential', 'save', 'raw', 'material', 'switch', 'sustainable', 'alternative', 'last', 'year', 'able', 'implement', 'numerous', 'sustainability', 'initiative', 'eucerin', 'product', 'portfolio', 'rethinking', 'packaging', 'le', 'plastic', 'recycling', 'supporting', 'circular', 'economy', 'conserve', 'natural', 'resource', 'increasingly', 'rely', 'reusable', 'recycled', 'material', 'measure', 'promote', 'use', 'sustainable', 'raw', 'material', 'without', 'compromising', 'effectiveness', 'product', 'also', 'hold', 'true', 'switchover', 'packaging', 'eg', 'dermatoclean', 'dermo', 'pure', 'facial', 'cleansing', 'product', 'since', 'consisted', 'recycled', 'pet', 'rpet', 'however', 'wa', 'beginning', 'year', 'come', 'consistently', 'convert', 'product', 'range', 'rpet', 'packaging', 'possible', 'also', 'reduce', 'use', 'plastic', 'packaging', 'example', 'eucerin', 'switched', 'hyaluron', 'filler', 'concentrate', 'cardboard', 'packaging', 'thereby', 'saving', 'plastic', 'compared', 'previous', 'version', 'goodbye', 'outer', 'packaging', 'package', 'insert', 'beyond', 'set', 'overarching', 'goal', 'reducing', 'paper', 'consumption', 'one', 'hand', 'achieving', 'away', 'outer', 'packaging', 'example', 'removed', 'outer', 'packaging', 'shampoo', 'atopi', 'control', 'lotion', '400ml', 'thus', 'achieved', 'annual', 'saving', 'tonne', 'minimizing', 'sustainability', 'environmental', 'footprint', 'commitment', 'paper', 'product', 'follow', 'year', 'year', 'outer', 'packaging', 'absolutely', 'necessary', 'step', 'progressively', 'eliminated', 'package', 'insert', 'since', 'mid', 'cosmetic', 'product', 'produced', 'largely', 'without', 'package', 'insert', 'result', 'eliminated', 'million', 'package', 'insert', 'worldwide', 'every', 'year', 'equivalent', 'tonne', 'paper', 'measure', 'follow', 'coming', 'year', 'switching', 'lighter', 'paper', 'product', 'still', 'require', 'outer', 'packaging', 'overall', 'save', 'tonne', 'paper', 'annually', 'compared', 'base', 'year', 'meaning', 'signi', 'ficant', 'saving', 'consumption', 'natural', 'resource', 'ultimately', 'co2', 'emission', 'well', 'maximizing', 'social', 'impact', 'care', 'beyond', 'skin', 'sustainability', 'environmental', 'footprint', 'social', 'impact', 'la', 'prairie', 'combine', 'sustainability', 'luxury', 'commitment', 'fully', 'circular', 'resource', 'la', 'prairie', 'combine', 'sustainabilityand', 'luxury', 'luxury', 'brand', 'la', 'prairie', 'represents', 'epitome', 'exclusivity', 'amd', 'excellence', 'time', 'shaped', 'vision', 'creating', 'world', 'timeless', 'beauty', 'future', 'pure', 'gold', 'collection', 'la', 'prairie', 'herald', 'new', 'era', 'blend', 'timelessness', 'sustainability', 'luxury', 'pure', 'gold', 'collection', 'timeless', 'approach', 'beauty', 'product', 'pure', 'gold', 'collection', 'reflect', 'close', 'connection', 'la', 'prairie', 'vision', 'timelessness', 'brand', 'responsibility', 'toward', 'environment', 'since', 'product', 'facial', 'care', 'collection', 'retailed', 'refillable', 'brushed', 'metal', 'jar', 'used', 'indefinitely', 'glass', 'flask', 'contained', 'within', 'replaced', 'formula', 'ha', 'exhausted', 'fully', 'recyclable', 'innovation', 'la', 'prairie', 'pave', 'way', 'sustainable', 'product', 'portfolio', 'aligned', 'beiersdorfs', 'care', 'beyond', 'skin', 'sustainability', 'agenda', 'engagement', 'research', 'preserving', 'beauty', 'glacier', 'la', 'prairie', 'engagement', 'protection', 'nature', 'go', 'beyond', 'sustainability', 'product', 'since', 'brand', 'ha', 'cooperated', 'institute', 'glaciology', 'swiss', 'federal', 'institute', 'technology', 'zurich', 'eth', 'zurich', 'partner', 'united', 'strong', 'bond', 'swiss', 'homeland', 'commitment', 'exploring', 'preserving', 'timeless', 'beauty', 'patron', 'la', 'prairie', 'support', 'university', 'two', 'research', 'project', 'investigating', 'effect', 'climate', 'change', 'glacier', 'swiss', 'alp', 'care', 'beyond', 'skin', 'climate', 'neutral', 'production', 'leipzig', 'berlin', 'climate', 'positive', 'future', 'climate', 'neutral', 'production', 'leipzig', 'berlin', 'u', 'one', 'thing', 'certain', 'climate', 'change', 'greatest', 'challenge', 'age', 'tackling', 'conviction', 'determination', 'taking', 'measure', 'along', 'entire', 'value', 'chain', 'developing', 'product', 'also', 'designing', 'production', 'facility', 'sustainably', 'production', 'site', 'essential', 'lever', 'lowering', 'energyrelated', 'emission', 'pursuing', 'goal', 'climate', 'neutral', 'operation', 'plant', 'laying', 'cornerstone', 'leipzig', 'milestone', 'journey', 'wa', 'laying', 'foundation', 'stone', 'new', 'beiersdorf', 'plant', 'leipzig', 'september', 'new', 'cosmetic', 'production', 'center', 'east', 'germany', 'focusing', 'innovation', 'sustainability', 'new', 'leipzig', 'plant', 'meet', 'high', 'environmental', 'standard', 'contributes', 'numerous', 'aspect', 'care', 'beyond', 'skin', 'sustainability', 'agenda', 'plant', 'operated', 'completely', 'co2neutrally', 'thanks', 'use', 'renewable', 'energy', 'equipped', 'photovoltaic', 'system', 'charging', 'station', 'electric', 'vehicle', 'heat', 'wastewater', 'ethanol', 'used', 'production', 'aerosol', 'recovered', 'reprocessed', 'onsite', 'specialized', 'facility', 'line', 'standard', 'striving', 'leed', 'gold', 'certi', 'fication', 'new', 'building', 'sustainability', 'commitment', 'production', 'new', 'plant', 'leipzig', 'scheduled', 'launch', 'early', 'state', 'art', 'logistics', 'hub', 'immediate', 'vicinity', 'new', 'leipzig', 'plant', 'beiersdorf', 'planning', 'state', 'art', 'logistics', 'hub', 'explicitly', 'aiming', 'co2', 'neutral', 'operation', 'sus', 'tainability', 'certification', 'greening', 'facade', 'roof', 'installing', 'photovoltaic', 'module', 'building', 'setting', 'example', 'new', 'logistics', 'hub', 'existing', 'plant', 'also', 'becoming', 'sustainable', 'berlin', 'produce', 'variety', 'skin', 'cleansing', 'product', 'shower', 'gel', 'shampoo', 'production', 'climate', 'neutral', 'onwards', 'capital', 'plant', 'switch', 'fully', 'biomethane', 'green', 'electricity', 'beginning', 'thus', 'reduce', 'co2', 'footprint', 'total', 'compared', 'base', 'year', 'environmental', 'footprint', 'social', 'impact', 'care', 'beyond', 'skin', 'society', 'empower', 'people', 'encourage', 'social', 'cohesion', 'think', 'global', 'local', 'community', 'scale', 'care', 'beyond', 'skin', 'society', 'care', 'beyond', 'skin', 'target', 'target', 'u', 'care', 'beyond', 'skin', 'also', 'mean', 'working', 'fairer', 'inclusive', 'society', 'strengthening', 'social', 'cohesion', 'engaged', 'specific', 'field', 'action', 'area', 'society', 'defined', 'correspond', 'ing', 'goal', 'employee', 'everyone', 'within', 'value', 'chain', 'society', 'whole', 'minimizing', 'maximizing', 'sustainability', 'environmental', 'footprint', 'social', 'impact', 'commitment', 'target', 'target', 'target', 'sdg', 'global', 'beiersdorf', 'diversity', 'target', 'woman', 'executive', 'board', 'woman', 'management', 'level', 'progress', 'project', 'ongoing', 'beiersdorf', 'diversity', 'target', 'germany', 'woman', 'management', 'level', 'woman', 'management', 'level', 'progress', 'project', 'ongoing', 'supplier', 'accept', 'code', 'conduct', 'business', 'partner', 'progress', 'target', 'achieved', 'reach', 'people', 'transparency', 'toward', 'consumer', 'directly', 'girl', 'empowerment', 'project', 'africa', 'latin', 'america', 'progress', 'progress', 'project', 'ongoing', 'project', 'ongoing', 'eucerin', 'implement', 'local', 'social', 'project', 'promoting', 'quality', 'life', 'people', 'affected', 'skin', 'disease', 'least', 'country', 'progress', 'project', 'ongoing', 'niveas', 'skin', 'touch', 'project', 'positive', 'impact', 'individual', 'health', 'wellbeing', 'people', 'supported', 'financial', 'commitment', 'EUR20', 'million', 'progress', 'project', 'ongoing', 'care', 'beyond', 'skin', 'engagement', 'sustainable', 'palm', 'oil', 'cultivation', 'indonesia', 'inclusive', 'sustainable', 'society', 'land', 'use', 'engagementfor', 'sustainable', 'palm', 'oil', 'cultivation', 'indonesia', 'together', 'wwf', 'work', 'improve', 'living', 'condition', 'smallholder', 'farmer', 'palm', 'oil', 'cultivation', 'area', 'palm', 'kernel', 'oil', 'based', 'raw', 'material', 'indispensable', 'ingredient', 'high', 'quality', 'cosmetic', 'personal', 'care', 'product', 'however', 'conventional', 'cultivation', 'oil', 'palm', 'endangers', 'specie', 'rich', 'landscape', 'ecosystem', 'rainforest', 'involvement', 'project', 'indonesia', 'malaysia', 'demonstrates', 'commitment', 'sustainable', 'palm', 'oil', 'cultivation', 'local', 'community', 'sustainability', 'environmental', 'footprint', 'social', 'impact', 'care', 'beyond', 'skin', 'sustainability', 'environmental', 'footprint', 'social', 'impact', 'commitment', 'engagement', 'sustainable', 'palm', 'oil', 'cultivation', 'indonesia', 'green', 'heart', 'borneo', 'island', 'borneo', 'harbor', 'planet', 'second', 'largest', 'rainforest', 'large', 'industry', 'also', 'smallholder', 'farmer', 'hacking', 'virgin', 'jungle', 'new', 'oil', 'palm', 'plantation', 'wwf', 'region', 'therefore', 'important', 'area', 'nature', 'conservation', 'part', 'palm', 'sustainability', 'roadmap', 'together', 'wwf', 'launched', 'smallholder', 'farmer', 'project', 'west', 'kalimantan', 'indonesia', 'first', 'project', 'phase', 'expected', 'completed', 'march', 'engagement', 'want', 'help', 'ensure', 'green', 'heart', 'island', 'borneo', 'continue', 'beat', 'future', 'already', 'achieved', 'lot', 'within', 'project', 'period', 'promoting', 'sustainable', 'palm', 'oil', 'cultivation', 'improving', 'living', 'standard', 'around', 'people', 'three', 'project', 'village', 'including', 'smallholder', 'farmer', 'family', 'long', 'term', 'holistic', 'measure', 'aim', 'promoting', 'sustainable', 'cultivation', 'oil', 'palm', 'local', 'people', 'trained', 'manage', 'plantation', 'accordingly', 'training', 'carried', 'support', 'development', 'smallholder', 'farmer', 'association', 'addition', 'farmer', 'able', 'purchase', 'high', 'quality', 'oil', 'palm', 'seedling', 'supported', 'establishing', 'contact', 'local', 'palm', 'oil', 'mill', 'order', 'gain', 'better', 'market', 'access', 'wwf', 'beiersdorf', 'see', 'vital', 'strengthen', 'local', 'community', 'holistically', 'example', 'includes', 'development', 'alternative', 'source', 'income', 'depend', 'rainforest', 'promote', 'female', 'craftswomen', 'specific', 'training', 'encourage', 'smallholder', 'farmer', 'cultivate', 'rubber', 'sustainably', 'addition', 'support', 'measure', 'improve', 'drinking', 'water', 'supply', 'committed', 'green', 'school', 'concept', 'anchor', 'environmental', 'protection', 'school', 'project', 'highlight', 'glance', 'six', 'new', 'palm', 'oil', 'smallholder', 'farmer', 'group', 'established', 'largest', 'association', 'west', 'kalimantan', 'newly', 'founded', 'palm', 'oil', 'farmer', 'association', 'ha', 'farmer', 'plantation', 'land', 'plot', 'legalized', 'total', 'ha', 'corresponds', 'plantation', 'within', 'project', 'palm', 'oil', 'smallholder', 'men', 'woman', 'trained', 'five', 'training', 'cycle', 'student', 'attending', 'green', 'school', 'care', 'beyond', 'skin', 'sustainability', 'environmental', 'footprint', 'social', 'impact', 'commitment', 'power', 'human', 'touch', 'niveas', 'new', 'social', 'mission', 'inclusive', 'society', 'power', 'human', 'touch', 'niveas', 'new', 'social', 'mission', 'hectic', 'character', 'modern', 'life', 'people', 'connected', 'yet', 'disconnected', 'ha', 'become', 'obstacle', 'close', 'relationship', 'physical', 'touch', 'human', 'bonding', 'deficit', 'physical', 'touch', 'lack', 'closeness', 'worsened', 'covid', 'pandemic', 'january', 'nivea', 'therefore', 'announced', 'brand', 'purpose', 'care', 'human', 'touch', 'inspire', 'togetherness', 'banner', 'nivea', 'brand', 'creating', 'greater', 'awareness', 'health', 'benefit', 'human', 'touch', 'strengthening', 'human', 'bond', 'alleviate', 'feeling', 'loneli', 'ness', 'niveas', 'social', 'mission', 'power', 'human', 'touch', 'key', 'instrument', 'turning', 'word', 'action', 'nivea', 'strengthens', 'power', 'touch', 'worldwide', 'mission', 'statement', 'power', 'human', 'touch', 'nivea', 'supporting', 'local', 'project', 'worldwide', 'improve', 'quality', 'life', 'people', 'risk', 'loneliness', 'including', 'premature', 'baby', 'people', 'visual', 'impairment', 'elderly', 'dementia', 'patient', 'nivea', 'want', 'invest', 'EUR20', 'million', 'project', 'around', 'world', 'make', 'positive', 'impact', 'health', 'wellbeing', 'individual', 'nivea', 'support', 'unicef', 'uk', 'year', 'million', 'child', 'born', 'prematurely', 'worldwide', 'know', 'touch', 'crucial', 'development', 'skin', 'skin', 'contact', 'vital', 'neonatal', 'unit', 'often', 'known', 'kangaroo', 'care', 'help', 'parent', 'bond', 'baby', 'well', 'supporting', 'better', 'physical', 'developmental', 'outcome', 'baby', 'international', 'study', 'shown', 'kangaroo', 'met', 'hod', 'benefit', 'entire', 'mental', 'social', 'development', 'premature', 'baby', 'right', 'adulthood', 'reason', 'nivea', 'support', 'unicef', 'uk', 'work', 'ensure', 'baby', 'neonatal', 'unit', 'get', 'much', 'skin', 'skin', 'contact', 'possible', 'funding', 'unicef', 'uk', 'national', 'neonatal', 'project', 'initiative', 'designed', 'support', 'neonatal', 'unit', 'uk', 'achieve', 'baby', 'friendly', 'accreditation', 'skin', 'skin', 'contact', 'part', 'unicef', 'uk', 'baby', 'friendly', 'standard', 'help', 'baby', 'adjust', 'life', 'outside', 'womb', 'care', 'beyond', 'skin', 'eucerins', 'social', 'mission', 'greater', 'social', 'participation', 'inclusive', 'society', 'eucerins', 'social', 'mission', 'greater', 'social', 'participation', 'believe', 'life', 'changing', 'power', 'dermatological', 'skin', 'care', 'brand', 'purpose', 'eucerin', 'affirms', 'product', 'positive', 'effect', 'far', 'beyond', 'skin', 'surface', 'skin', 'disease', 'profound', 'consequence', 'many', 'people', 'visible', 'skin', 'disease', 'suffer', 'feeling', 'exclusion', 'stigmatization', 'lead', 'psychological', 'social', 'stress', 'eucerin', 'committed', 'social', 'inclusion', 'people', 'skin', 'disease', 'better', 'quality', 'life', 'social', 'participation', 'eucerins', 'new', 'global', 'social', 'mission', 'wa', 'launched', 'together', 'local', 'professional', 'organization', 'least', 'country', 'eucerin', 'implement', 'project', 'individual', 'group', 'age', 'visible', 'skin', 'disease', 'project', 'people', 'supported', 'confronting', 'social', 'exclusion', 'greater', 'self', 'confidence', 'order', 'regain', 'quality', 'life', 'social', 'participation', 'another', 'concern', 'alleviation', 'psychological', 'stress', 'targeted', 'measure', 'training', 'last', 'year', 'already', 'launched', 'project', 'type', 'four', 'country', 'self', 'confidence', 'people', 'ichthyosis', 'example', 'one', 'ongoing', 'project', 'cooperation', 'sustainability', 'commitment', 'eucerin', 'aquaphor', 'foundation', 'ichthyosis', 'related', 'skin', 'type', 'first', 'usa', 'ichthyosis', 'form', 'severe', 'skin', 'dryness', 'excessive', 'dandruff', 'affected', 'often', 'psychologically', 'burdened', 'tend', 'toward', 'social', 'withdrawal', 'frustration', 'joint', 'project', 'aim', 'relieve', 'encourage', 'teenager', 'young', 'adult', 'suffering', 'ichthysosis', 'targeted', 'workshop', 'give', 'sufferer', 'required', 'skill', 'knowledge', 'deal', 'disease', 'personally', 'strengthen', 'self', 'confidence', 'promote', 'social', 'integration', 'alleviate', 'psychological', 'burden', 'disease', 'environmental', 'footprint', 'social', 'impact', 'care', 'beyond', 'skin', 'sustainability', 'environmental', 'footprint', 'social', 'impact', 'commitment', 'stand', 'strong', 'woman', 'girl', 'worldwide', 'inclusive', 'society', 'stand', 'strong', 'woman', 'girl', 'worldwide', 'young', 'woman', 'girl', 'around', 'world', 'affected', 'unequal', 'treatment', 'made', 'worse', 'crisis', 'situation', 'covid', 'pandemic', 'young', 'woman', 'girl', 'particular', 'often', 'carry', 'activity', 'exposed', 'higher', 'risk', 'infection', 'example', 'providing', 'care', 'home', 'addition', 'crisis', 'growing', 'risk', 'girl', 'experience', 'violence', 'married', 'leave', 'school', 'prematurely', 'aligned', 'vision', 'inclusive', 'society', 'want', 'counteract', 'care', 'beyond', 'skin', 'sustainability', 'environmental', 'footprint', 'social', 'impact', 'commitment', 'stand', 'strong', 'woman', 'girl', 'worldwide', 'susan', 'wasakania', 'mother', 'five', 'earns', 'living', 'selling', 'shoe', 'clothes', 'dream', 'giving', 'disadvantaged', 'girl', 'woman', 'village', 'access', 'economic', 'support', 'raising', 'awareness', 'vsla', 'group', 'part', 'care', 'project', 'strategic', 'focus', 'empowering', 'girl', 'empowering', 'girl', 'young', 'woman', 'focus', 'sustainability', 'agenda', 'girl', 'grow', 'healthy', 'educated', 'free', 'violence', 'everyone', 'benefit', 'beiersdorf', 'aim', 'reach', 'people', 'empowering', 'girl', 'project', 'africa', 'latin', 'america', 'achieve', 'working', 'closely', 'together', 'two', 'global', 'ngo', 'plan', 'international', 'care', 'starting', 'point', 'commitment', 'wa', 'covid', 'relief', 'program', 'launched', 'beiersdorf', 'supporting', 'people', 'particularly', 'affected', 'pandemic', 'joint', 'engagement', 'care', 'together', 'ngo', 'care', 'launched', 'project', 'four', 'african', 'country', 'strengthen', 'healthcare', 'livelihood', 'girl', 'woman', 'particular', 'kenya', 'example', 'care', 'beiersdorf', 'launched', 'health', 'pro', 'gram', 'sensitizing', 'people', 'health', 'issue', 'informing', 'regarding', 'covid', 'prevention', 'via', 'local', 'radio', 'channel', 'hygiene', 'message', 'time', 'girl', 'young', 'woman', 'among', 'social', 'group', 'access', 'economic', 'support', 'called', 'village', 'saving', 'loan', 'association', 'vslas', 'acquire', 'knowledge', 'financial', 'topic', 'loan', 'saving', 'installment', 'ensures', 'girl', 'woman', 'progressively', 'become', 'independent', 'raise', 'voice', 'confidently', 'family', 'social', 'context', 'also', 'learning', 'new', 'way', 'provide', 'family', 'independently', 'time', 'pandemic', 'beyond', 'commitment', 'plan', 'international', 'beiersdorf', 'plan', 'international', 'committed', 'promoting', 'protecting', 'girl', 'young', 'woman', 'give', 'opportunity', 'equality', 'self', 'determination', 'life', 'focus', 'six', 'country', 'south', 'america', 'africa', 'affected', 'covid', 'focus', 'joint', 'action', 'aim', 'initiate', 'important', 'change', 'step', 'step', 'structured', 'three', 'level', 'access', 'education', 'mentoring', 'training', 'family', 'community', 'collaboration', 'governmental', 'authority', 'want', 'help', 'girl', 'well', 'community', 'live', 'better', 'manage', 'medium', 'long', 'term', 'socioeconomic', 'impact', 'covid', 'pandemic', 'part', 'back', 'school', 'campaign', 'zuri', 'guide', 'distributed', 'colombia', 'example', 'intended', 'child', 'adolescent', 'provide', 'information', 'covid', 'well', 'activity', 'mathematics', 'communication', 'socioemotional', 'support', 'around', 'zuri', 'guide', 'already', 'distributed', 'student', 'project', 'area', 'since', 'project', 'launch', 'care', 'beyond', 'skin', 'diversity', 'inclusion', 'key', 'success', 'employee', 'along', 'entire', 'value', 'chain', 'diversity', 'inclusion', 'key', 'success', 'celebrate', 'diversity', 'see', 'key', 'success', 'prerequisite', 'mastering', 'challenge', 'tomorrow', 'within', 'company', 'wide', 'diversity', 'inclusion', 'strategy', 'successfully', 'reached', 'first', 'milestone', 'launched', 'several', 'related', 'initiative', 'starting', 'roadmap', 'reporting', 'year', 'formulated', 'new', 'beiersdorf', 'diversity', 'inclusion', 'strategy', 'roadmap', 'help', 'u', 'drive', 'strategy', 'forward', 'deepen', 'culture', 'diversity', 'inclusion', 'addition', 'developed', 'kpi', 'dashboard', 'contribute', 'full', 'data', 'transparency', 'thus', 'make', 'change', 'measurable', 'assessable', 'implementation', 'roadmap', 'based', 'three', 'strategic', 'priority', 'promoting', 'leadership', 'diversity', 'promoting', 'inclusive', 'culture', 'promoting', 'representation', 'consumer', 'gender', 'balance', 'spotlight', 'addition', 'international', 'cross', 'generational', 'cultural', 'diversity', 'focusing', 'gender', 'equality', 'particular', 'equal', 'opportunity', 'woman', 'men', 'working', 'strengthen', 'awareness', 'gen', 'der', 'balance', 'among', 'colleague', 'supporting', 'employee', 'gender', 'diversity', 'initiative', 'en', 'courage', 'within', 'context', 'already', 'held', 'fifth', 'wo', 'men', 'leadership', 'convention', 'november', 'banner', 'kickstart', 'inner', 'potential', 'successful', 'female', 'leader', 'external', 'guest', 'regularly', 'report', 'experience', 'sustainability', 'commitment', 'order', 'motivate', 'inspire', 'learn', 'together', 'right', 'time', 'international', 'woman', 'day', 'march', 'publicly', 'announced', 'beiersdorf', 'gender', 'parity', 'ambition', 'state', 'latest', 'want', 'achieve', 'gender', 'parity', 'ratio', 'assigning', 'management', 'position', 'executive', 'board', 'level', 'environmental', 'footprint', 'social', 'impact', 'care', 'beyond', 'skin', 'sustainability', 'environmental', 'footprint', 'social', 'impact', 'commitment', 'diversity', 'inclusion', 'key', 'success', 'deepening', 'knowledge', 'order', 'expand', 'knowledge', 'framework', 'surrounding', 'topic', 'diversity', 'inclusion', 'implemented', 'variety', 'measure', 'year', 'review', 'example', 'included', 'first', 'pilot', 'inclusive', 'language', 'training', 'aimed', 'sensitize', 'employee', 'sensitive', 'nuanced', 'use', 'language', 'offer', 'area', 'wa', 'supplemented', 'workshop', 'manager', 'promote', 'inclusive', 'culture', 'well', 'pilot', 'course', 'recruiter', 'formulate', 'text', 'job', 'advertisement', 'integrate', 'even', 'inclusive', 'gender', 'sensitive', 'language', 'future', 'march', 'may', 'celebrate', 'diversity', 'numerous', 'initiative', 'event', 'promote', 'integrative', 'culture', 'holistically', 'also', 'rely', 'employee', 'network', 'grassroots', 'community', 'instance', 'community', 'wenited', 'wa', 'created', 'reporting', 'year', 'work', 'promote', 'exchange', 'cohesion', 'international', 'colleague', 'sisterhoodispower', 'community', 'established', 'digital', 'powertalk', 'series', 'among', 'initiative', 'inspiring', 'successful', 'leader', 'share', 'story', 'thought', 'also', 'generation', 'network', 'launched', 'learning', 'july', 'international', 'global', 'diversity', 'pride', 'day', 'woman', 'day', 'inclusion', 'week', 'germany', 'announcement', 'beiersdorf', 'gender', 'parity', 'ambition', 'session', 'subject', 'digitali', 'zation', 'first', 'time', 'addition', 'carried', 'activity', 'included', 'annual', 'global', 'diversity', 'inclusion', 'week', 'pride', 'day', 'germany', 'first', 'time', 'beiersdorf', 'pride', 'festival', 'event', 'took', 'place', 'online', 'offered', 'participant', 'colorful', 'mix', 'discussion', 'panel', 'workshop', 'personal', 'experience', 'report', 'keynote', 'internal', 'external', 'speaker', 'participant', 'joined', 'digital', 'event', 'diversity', 'inclusion', 'week', 'august', 'november', 'beiersdorf', 'fifth', 'wo', 'men', 'pride', 'festival', 'leadership', 'convention', 'care', 'beyond', 'skin', 'future', 'care', 'beyond', 'skin', 'future', 'care', 'beyond', 'skin', 'continuing', 'sustainability', 'journey', 'continuing', 'sustainabilityjourney', 'eager', 'continue', 'journey', 'deliver', 'beiersdorfs', 'care', 'beyond', 'skin', 'sustainability', 'agenda', 'part', 'introduce', 'new', 'initiative', 'across', 'three', 'impact', 'area', 'environment', 'society', 'consumer', 'heart', 'transformation', 'climate', 'care', 'mission', 'high', 'aspiration', 'set', 'one', 'ambitious', 'target', 'industry', 'tackle', 'enormous', 'challenge', 'facing', 'climate', 'change', 'looking', 'stand', 'today', 'progress', 'made', 'reduction', 'pathway', 'confident', 'achieve', 'commitment', 'absolute', 'emission', 'reduction', 'however', 'challenge', 'ahead', 'hard', 'work', 'passion', 'innovative', 'spirit', 'required', 'every', 'step', 'way', 'momentum', 'change', 'see', 'team', 'across', 'beiersdorf', 'network', 'signal', 'positive', 'outlook', 'year', 'ahead', 'motivation', 'essential', 'making', 'transformation', 'sustainable', 'future', 'success', 'following', 'launch', 'first', 'climate', 'neutralized', 'product', 'continue', 'approach', 'introduce', 'climate', 'neutralized', 'promise', 'product', 'demonstrated', 'good', 'progress', 'emission', 'reduction', 'nivea', 'shower', 'range', 'already', 'one', 'sustainable', 'continue', 'sustainability', 'journey', 'optimize', 'packaging', 'reduce', 'emission', 'also', 'expanding', 'use', 'recycled', 'aluminum', 'packaging', 'across', 'deodorant', 'range', 'grateful', 'r', 'team', 'dedicated', 'work', 'area', 'looking', 'beyond', 'nivea', 'see', 'big', 'step', 'taken', 'also', 'across', 'brand', 'la', 'prairie', 'launch', 'new', 'sustainability', 'agenda', 'hansa', 'plast', 'ha', 'released', 'first', 'climate', 'neutralized', 'product', 'eucerin', 'also', 'see', 'progress', 'product', 'level', 'supporting', 'delivery', 'beiersdorfs', 'overall', 'sustainability', 'target', 'foster', 'transformation', 'beyond', 'company', 'boundary', 'also', 'essential', 'continued', 'external', 'interdisciplinary', 'collaboration', 'advance', 'work', 'key', 'stakeholder', 'particular', 'supplier', 'ngo', 'partner', 'cross', 'industry', 'initiative', 'like', 'eco', 'beauty', 'score', 'consortium', 'continuing', 'dedicated', 'holistic', 'sustainability', 'journey', 'look', 'forward', 'seeing', 'beiersdorf', 'present', 'leading', 'light', 'industry', 'jean', 'francois', 'pascal', 'vice', 'president', 'corporate', 'sustainability', 'care', 'beyond', 'skin', 'sustainability', 'environmental', 'footprint', 'social', 'impact', 'commitment', 'continuing', 'sustainability', 'journey', 'know', 'come', 'driving', 'real', 'change', 'power', 'number', 'january', 'year', 'signed', 'open', 'letter', 'urging', 'un', 'negotiate', 'implement', 'global', 'treaty', 'plastic', 'pollution', 'along', 'leading', 'company', 'called', 'coordinated', 'response', 'growing', 'crisis', 'align', 'business', 'government', 'question', 'gain', 'urgency', 'day', 'pass', 'hope', 'year', 'answered', 'key', 'priority', 'work', 'within', 'eco', 'beauty', 'score', 'consortium', 'aim', 'develop', 'industry', 'wide', 'environmental', 'impact', 'assessment', 'scoring', 'system', 'cosmetic', 'product', 'pursuing', 'transparency', 'promise', 'target', 'enabling', 'consumer', 'make', 'sustainable', 'choice', 'eager', 'support', 'initiative', 'expertise', 'environmental', 'impact', 'assessment', 'another', 'important', 'step', 'beiersdorfs', 'engagement', 'strategic', 'partnership', 'world', 'wide', 'fund', 'nature', 'wwf', 'germany', 'previous', 'year', 'successfully', 'worked', 'together', 'dedicated', 'project', 'around', 'sustainable', 'palm', 'oil', 'stepping', 'holistic', 'partnership', 'central', 'goal', 'fuel', 'business', 'transformation', 'strengthen', 'care', 'beyond', 'skin', 'sus', 'tainability', 'agenda', 'first', 'company', 'industry', 'take', 'integrated', 'approach', 'wwf', 'continue', 'thrive', 'vision', 'inclusive', 'society', 'building', 'strong', 'engagement', 'ngo', 'partner', 'plan', 'international', 'care', 'ashoka', 'many', 'impact', 'individual', 'community', 'society', 'whole', 'eucerin', 'example', 'launch', 'new', 'local', 'project', 'aim', 'fight', 'stigma', 'visible', 'skin', 'disease', 'enhance', 'quality', 'life', 'societal', 'participation', 'patient', 'different', 'part', 'world', 'mission', 'testament', 'eucerins', 'life', 'changing', 'power', 'dermatological', 'skin', 'care', 'also', 'true', 'manifestation', 'care', 'beyond', 'skin', 'continuing', 'dedicated', 'holistic', 'sustainability', 'journey', 'look', 'forward', 'seeing', 'beiersdorf', 'present', 'leading', 'light', 'industry', 'hope', 'follow', 'along', 'journey', 'continues', 'annex', 'annex', 'care', 'beyond', 'skin', 'sustainability', 'environmental', 'footprint', 'social', 'impact', 'commitment', 'key', 'figure', 'glance', 'key', 'figure', 'glance', 'consumer', 'business', 'segment', 'unit', 'care', 'beyond', 'skin', 'sustainability', 'environmental', 'footprint', 'social', 'impact', 'commitment', 'report', 'report', 'within', 'consumer', 'business', 'segment', 'transparent', 'reporting', 'sustainability', 'activity', 'firmly', 'established', 'reporting', 'strategic', 'approach', 'project', 'measure', 'area', 'sustainability', 'since', 'reporting', 'aim', 'reach', 'stakeholder', 'equally', 'meet', 'different', 'expectation', 'information', 'need', 'use', 'variety', 'reporting', 'format', 'sustainability', 'highlight', 'report', 'care', 'beyond', 'skin', 'consumer', 'business', 'segment', 'present', 'selection', 'particularly', 'outstanding', 'project', 'exemplify', 'sustainability', 'integral', 'part', 'beiersdorf', 'driven', 'forward', 'passion', 'employee', 'around', 'world', 'within', 'scope', 'sustainability', 'reporting', 'publishing', 'combined', 'non', 'financial', 'statement', 'nfs', 'beiersdorf', 'group', 'consumer', 'business', 'segment', 'tesa', 'beiersdorf', 'ag', 'within', 'annual', 'report', 'since', 'provides', 'information', 'key', 'figure', 'accordance', 'non', 'financial', 'reporting', 'directive', 'nfrd', 'tesa', 'business', 'segment', 'publishes', 'sustainabilty', 'report', 'website', 'find', 'tesa', 'sustainability', 'report', 'br', 'alongside', 'transparency', 'comparability', 'reporting', 'great', 'importannce', 'u', 'follow', 'internationally', 'recognized', 'reporting', 'framework', 'including', 'guideline', 'global', 'reporting', 'initiative', 'gri', 'corresponding', 'gri', 'index', 'consumer', 'business', 'segment', 'available', 'download', 'website', 'separate', 'document', 'reporting', 'year', 'also', 'disclosed', 'information', 'climate', 'related', 'opportunity', 'risk', 'first', 'time', 'accordance', 'recommendation', 'task', 'force', 'climate', 'related', 'financial', 'disclosure', 'tcfd', 'commitment', 'sustainability', 'part', 'day', 'day', 'business', 'constantly', 'evolving', 'provide', 'date', 'information', 'currently', 'working', 'progress', 'making', 'sustainability', 'website', 'report', 'additional', 'information', 'previous', 'year', 'available', 'well', 'click', 'download', 'center', 'care', 'beyond', 'skin', 'sustainability', 'environmental', 'footprint', 'social', 'impact', 'contact', 'person', 'contact', 'person', 'jean', 'francois', 'pascal', 'dorle', 'bahr', 'vice', 'president', 'corporate', 'sustainability', 'head', 'environmental', 'sustainability', 'valerie', 'kruck', 'peer', 'petersen', 'global', 'head', 'csr', 'head', 'sustainable', 'innovation', 'transformation', 'imprint', 'sustainability', 'environmental', 'footprint', 'social', 'impact', 'published', 'beiersdorf', 'aktiengesellschaft', 'unnastrasse', 'hamburg', 'germany', 'editorial', 'team', 'concept', 'corporate', 'sustainability', 'design', 'berichtsmanufaktur', 'gmbh', 'hamburg', 'text', 'beiersdorf', 'corporate', 'communication', 'corporate', 'sustainability', 'berichtsmanufaktur', 'gmbh', 'hamburg', 'english', 'translation', 'world2world', 'hamburg', 'jim', 'blake', 'copyright', 'gettyimages', 'title', 'uwe', 'krejci', 'p', 'westend61', 'p', 'natalie', 'abbey', 'allan', 'p', 'westend61', 'istock', 'p', 'jacoblund', 'p', 'peopleimages', 'shutterstock', 'p', 'fizkes', 'stocksy', 'p', 'victor', 'torres', 'unsplash', 'p', 'genevieve', 'dallaire', 'p', 'trent', 'haaland', 'p', 'appolinary', 'kalashnikova', 'p', 'han', 'eiskonen', 'p', 'anastasia', 'taioglou', 'p', 'meredith', 'petrick', 'p', 'ivan', 'bandura', 'p', 'dawid', 'liberadzki', 'others', 'p', 'severianus', 'endi', 'wwf', 'indonesia', 'p', 'aldi', 'khatami', 'wwf', 'indonesia', 'p', 'acios', 'p', 'plan', 'international', 'vincent', 'tremeau', 'p', 'care', 'job', 'mainye', 'information']\n"
     ]
    }
   ],
   "source": [
    "print(cleaned_data['word_tokens'][0])"
   ]
  },
  {
   "cell_type": "code",
   "execution_count": 112,
   "metadata": {},
   "outputs": [
    {
     "data": {
      "text/html": [
       "<div>\n",
       "<style scoped>\n",
       "    .dataframe tbody tr th:only-of-type {\n",
       "        vertical-align: middle;\n",
       "    }\n",
       "\n",
       "    .dataframe tbody tr th {\n",
       "        vertical-align: top;\n",
       "    }\n",
       "\n",
       "    .dataframe thead th {\n",
       "        text-align: right;\n",
       "    }\n",
       "</style>\n",
       "<table border=\"1\" class=\"dataframe\">\n",
       "  <thead>\n",
       "    <tr style=\"text-align: right;\">\n",
       "      <th></th>\n",
       "      <th>word_tokens</th>\n",
       "      <th>sentence_tokens</th>\n",
       "      <th>pos_tagged_word_tokens</th>\n",
       "      <th>pos_tagged_sentence_tokens</th>\n",
       "    </tr>\n",
       "  </thead>\n",
       "  <tbody>\n",
       "    <tr>\n",
       "      <th>0</th>\n",
       "      <td>[brand, strategy, sustainability, agenda, care...</td>\n",
       "      <td>[[strategy, sustainability, agenda, care, beyo...</td>\n",
       "      <td>[(brand, NN), (strategy, NN), (sustainability,...</td>\n",
       "      <td>[[(strategy, NN), (sustainability, NN), (agend...</td>\n",
       "    </tr>\n",
       "    <tr>\n",
       "      <th>1</th>\n",
       "      <td>[degmanagement, fact, deutsche, telekom, cr, r...</td>\n",
       "      <td>[[degmanagement], [deutsche, telekom], [cr, re...</td>\n",
       "      <td>[(degmanagement, NN), (fact, NN), (deutsche, N...</td>\n",
       "      <td>[[(degmanagement, NN)], [(deutsche, NN), (tele...</td>\n",
       "    </tr>\n",
       "    <tr>\n",
       "      <th>2</th>\n",
       "      <td>[sustainable, future, vonovia, se, sustainabil...</td>\n",
       "      <td>[[sustainable, future], [vonovia, se, sustaina...</td>\n",
       "      <td>[(sustainable, JJ), (future, NN), (vonovia, NN...</td>\n",
       "      <td>[[(sustainable, JJ), (future, NN)], [(vonovia,...</td>\n",
       "    </tr>\n",
       "    <tr>\n",
       "      <th>3</th>\n",
       "      <td>[management, employee, company, profile, attra...</td>\n",
       "      <td>[[management, company, profile, attractive, em...</td>\n",
       "      <td>[(management, NN), (employee, NN), (company, N...</td>\n",
       "      <td>[[(management, NN), (company, NN), (profile, N...</td>\n",
       "    </tr>\n",
       "    <tr>\n",
       "      <th>4</th>\n",
       "      <td>[sustainability, mtu, go, far, beyond, climate...</td>\n",
       "      <td>[[sustainability, mtu, far, beyond, climate, a...</td>\n",
       "      <td>[(sustainability, NN), (mtu, NN), (go, VBP), (...</td>\n",
       "      <td>[[(sustainability, NN), (mtu, NN), (far, RB), ...</td>\n",
       "    </tr>\n",
       "  </tbody>\n",
       "</table>\n",
       "</div>"
      ],
      "text/plain": [
       "                                         word_tokens   \n",
       "0  [brand, strategy, sustainability, agenda, care...  \\\n",
       "1  [degmanagement, fact, deutsche, telekom, cr, r...   \n",
       "2  [sustainable, future, vonovia, se, sustainabil...   \n",
       "3  [management, employee, company, profile, attra...   \n",
       "4  [sustainability, mtu, go, far, beyond, climate...   \n",
       "\n",
       "                                     sentence_tokens   \n",
       "0  [[strategy, sustainability, agenda, care, beyo...  \\\n",
       "1  [[degmanagement], [deutsche, telekom], [cr, re...   \n",
       "2  [[sustainable, future], [vonovia, se, sustaina...   \n",
       "3  [[management, company, profile, attractive, em...   \n",
       "4  [[sustainability, mtu, far, beyond, climate, a...   \n",
       "\n",
       "                              pos_tagged_word_tokens   \n",
       "0  [(brand, NN), (strategy, NN), (sustainability,...  \\\n",
       "1  [(degmanagement, NN), (fact, NN), (deutsche, N...   \n",
       "2  [(sustainable, JJ), (future, NN), (vonovia, NN...   \n",
       "3  [(management, NN), (employee, NN), (company, N...   \n",
       "4  [(sustainability, NN), (mtu, NN), (go, VBP), (...   \n",
       "\n",
       "                          pos_tagged_sentence_tokens  \n",
       "0  [[(strategy, NN), (sustainability, NN), (agend...  \n",
       "1  [[(degmanagement, NN)], [(deutsche, NN), (tele...  \n",
       "2  [[(sustainable, JJ), (future, NN)], [(vonovia,...  \n",
       "3  [[(management, NN), (company, NN), (profile, N...  \n",
       "4  [[(sustainability, NN), (mtu, NN), (far, RB), ...  "
      ]
     },
     "execution_count": 112,
     "metadata": {},
     "output_type": "execute_result"
    }
   ],
   "source": [
    "cleaned_data.head()"
   ]
  },
  {
   "attachments": {},
   "cell_type": "markdown",
   "metadata": {},
   "source": [
    "## Data Enrichment"
   ]
  },
  {
   "cell_type": "markdown",
   "metadata": {},
   "source": []
  },
  {
   "cell_type": "code",
   "execution_count": 1,
   "metadata": {},
   "outputs": [
    {
     "ename": "NameError",
     "evalue": "name 'requests' is not defined",
     "output_type": "error",
     "traceback": [
      "\u001b[0;31m---------------------------------------------------------------------------\u001b[0m",
      "\u001b[0;31mNameError\u001b[0m                                 Traceback (most recent call last)",
      "Cell \u001b[0;32mIn[1], line 2\u001b[0m\n\u001b[1;32m      1\u001b[0m url \u001b[39m=\u001b[39m \u001b[39m'\u001b[39m\u001b[39mhttps://disfold.com/stock-index/dax/companies/\u001b[39m\u001b[39m'\u001b[39m\n\u001b[0;32m----> 2\u001b[0m response \u001b[39m=\u001b[39m requests\u001b[39m.\u001b[39mget(url)\n\u001b[1;32m      4\u001b[0m soup \u001b[39m=\u001b[39m BeautifulSoup(response\u001b[39m.\u001b[39mcontent, \u001b[39m'\u001b[39m\u001b[39mhtml.parser\u001b[39m\u001b[39m'\u001b[39m)\n\u001b[1;32m      6\u001b[0m table \u001b[39m=\u001b[39m soup\u001b[39m.\u001b[39mfind(\u001b[39m'\u001b[39m\u001b[39mtable\u001b[39m\u001b[39m'\u001b[39m)\n",
      "\u001b[0;31mNameError\u001b[0m: name 'requests' is not defined"
     ]
    }
   ],
   "source": [
    "url = 'https://disfold.com/stock-index/dax/companies/'\n",
    "response = requests.get(url)\n",
    "\n",
    "soup = BeautifulSoup(response.content, 'html.parser')\n",
    "\n",
    "table = soup.find('table')\n",
    "data = []\n",
    "for row in table.find_all('tr'):\n",
    "    cols = row.find_all('td')\n",
    "    cols = [col.text.strip() for col in cols]\n",
    "    data.append(cols)\n",
    "\n",
    "def clean_scraped_data(data):\n",
    "    cleaned_data = []\n",
    "    \n",
    "    for row in data:\n",
    "        # Remove empty rows\n",
    "        if len(row) > 0:\n",
    "            # Remove the '$' and ',' signs from the market cap and convert it to float\n",
    "            market_cap = float(row[3].replace('$', '').replace(',', '').replace('B', ''))\n",
    "            cleaned_data.append([row[1], row[2], market_cap, row[4], row[5], row[6]])\n",
    "    \n",
    "    df = pd.DataFrame(cleaned_data, columns=['Company Name', 'Ticker Symbol', 'Market Cap [in B$]', 'Country', 'Industry Sector', 'Industry'])\n",
    "    \n",
    "    return df\n",
    "\n",
    "df = clean_scraped_data(data)\n",
    "df.to_csv('../data/dax_company_sectors.csv', index=False)\n",
    "df.head(10)"
   ]
  },
  {
   "cell_type": "code",
   "execution_count": null,
   "metadata": {},
   "outputs": [],
   "source": []
  }
 ],
 "metadata": {
  "kernelspec": {
   "display_name": "venv-nlp",
   "language": "python",
   "name": "python3"
  },
  "language_info": {
   "codemirror_mode": {
    "name": "ipython",
    "version": 3
   },
   "file_extension": ".py",
   "mimetype": "text/x-python",
   "name": "python",
   "nbconvert_exporter": "python",
   "pygments_lexer": "ipython3",
   "version": "3.10.10"
  },
  "orig_nbformat": 4
 },
 "nbformat": 4,
 "nbformat_minor": 2
}
