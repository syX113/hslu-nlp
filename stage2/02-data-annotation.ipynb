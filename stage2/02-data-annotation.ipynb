{
 "cells": [
  {
   "attachments": {},
   "cell_type": "markdown",
   "metadata": {},
   "source": [
    "# Stage 2: Data Annotation"
   ]
  },
  {
   "attachments": {},
   "cell_type": "markdown",
   "metadata": {},
   "source": [
    "In this notebook, several Large Language Model (LLM) are tested to perform sentiment annotation on the ESG document dataset, assigning scores of 0 for negative, 0.5 for neutral, and 1 for positive sentiment.  \n",
    "The workflow involves manually creating a \"gold standard\" by annotating ~500 sentences, afterward setting up 2-3 LLMs for trial annotations, and experimenting with prompting strategies (zero-shot/few-shot) that we'll evaluate against the \"gold standard\"."
   ]
  },
  {
   "attachments": {},
   "cell_type": "markdown",
   "metadata": {},
   "source": [
    "## Setup & Data Loading"
   ]
  },
  {
   "cell_type": "code",
   "execution_count": 147,
   "metadata": {},
   "outputs": [],
   "source": [
    "# Imports\n",
    "import os\n",
    "import re\n",
    "import ast\n",
    "import time\n",
    "import pandas as pd\n",
    "import numpy as np\n",
    "import openai\n",
    "import seaborn as sns\n",
    "import matplotlib.pyplot as plt\n",
    "from transformers import pipeline\n",
    "from transformers import AutoModelForSeq2SeqLM, AutoTokenizer, AutoModelForSequenceClassification\n",
    "from tqdm import tqdm\n",
    "tqdm.pandas()"
   ]
  },
  {
   "cell_type": "code",
   "execution_count": 148,
   "metadata": {},
   "outputs": [],
   "source": [
    "# Load the preprocessed data\n",
    "cleaned_data = pd.read_csv('../data/checkpoints/enriched_cleaned_data.csv', delimiter = '|')"
   ]
  },
  {
   "cell_type": "code",
   "execution_count": 149,
   "metadata": {},
   "outputs": [],
   "source": [
    "# Define a function to convert a string representation of a list to a list datatype\n",
    "def string_to_list(string):\n",
    "    try:\n",
    "        return ast.literal_eval(string)\n",
    "    except (ValueError, SyntaxError):\n",
    "        print('List conversion failed')\n",
    "        return []\n",
    "\n",
    "def set_datatypes(df):\n",
    "    # Convert the string representations of the lists to the correct 'list' datatype\n",
    "    df['word_tokens'] = df['word_tokens'].apply(string_to_list)\n",
    "    df['sentence_tokens'] = df['sentence_tokens'].apply(string_to_list)\n",
    "    df['pos_tagged_word_tokens'] = df['pos_tagged_word_tokens'].apply(string_to_list)\n",
    "    df['pos_tagged_sentence_tokens'] = df['pos_tagged_sentence_tokens'].apply(string_to_list)\n",
    "    df['esg_topics'] = df['esg_topics'].apply(string_to_list)\n",
    "    \n",
    "    # Convert date to correct datatype\n",
    "    df['date'] = pd.to_datetime(df['date'])\n",
    "\n",
    "    # Derive year and month to aggregate\n",
    "    df['year_month'] = df['date'].apply(lambda x: x.strftime('%Y-%m'))\n",
    "    df['year'] = df['date'].apply(lambda x: x.strftime('%Y'))\n",
    "    df['month'] = df['date'].apply(lambda x: x.strftime('%m'))\n",
    "\n",
    "    return df"
   ]
  },
  {
   "cell_type": "code",
   "execution_count": 150,
   "metadata": {},
   "outputs": [],
   "source": [
    "# Set the correct datatypes, e.g. lists and datetime\n",
    "cleaned_data = set_datatypes(cleaned_data)"
   ]
  },
  {
   "cell_type": "code",
   "execution_count": 151,
   "metadata": {},
   "outputs": [],
   "source": [
    "# Define function to save intermediary steps in a file\n",
    "def csv_checkpoint(df, filename='checkpoint'):\n",
    "    \"\"\"\n",
    "    Saves a DataFrame to a CSV file and loads it back into a DataFrame.\n",
    "\n",
    "    Args:\n",
    "        df (pandas.DataFrame): The DataFrame to save and load.\n",
    "        filename (str): The name of the CSV file to save the DataFrame to (default: 'checkpoint').\n",
    "\n",
    "    Returns:\n",
    "        pandas.DataFrame: The loaded DataFrame.\n",
    "    \"\"\"\n",
    "    if not os.path.exists('./checkpoints/'):  # Check if the directory exists and create it if it doesn't\n",
    "        os.makedirs('./checkpoints/')\n",
    "\n",
    "    # Save DataFrame to CSV\n",
    "    df.to_csv(f'./checkpoints/{filename}.csv', index=False, sep='|')  # Save DataFrame to CSV with specified filename\n",
    "    print(f'Saved DataFrame to {filename}.csv')\n",
    "\n",
    "    # Load CSV back into DataFrame\n",
    "    df = pd.read_csv(f'./checkpoints/{filename}.csv', delimiter='|')  # Load CSV back into DataFrame\n",
    "    print(f'Loaded DataFrame from {filename}.csv')\n",
    "\n",
    "    return df"
   ]
  },
  {
   "attachments": {},
   "cell_type": "markdown",
   "metadata": {},
   "source": [
    "## Manual sentence sentiment annotation"
   ]
  },
  {
   "attachments": {},
   "cell_type": "markdown",
   "metadata": {},
   "source": [
    "To define a \"gold standard\" for the sentiment, 500 randomly sampled sentences are manually annotate with:  \n",
    "**0 = negative, 0.5 = neutral, 1 = positive**"
   ]
  },
  {
   "cell_type": "code",
   "execution_count": 200,
   "metadata": {},
   "outputs": [],
   "source": [
    "# Crate a deep copy so no reload from CSV files is necessary is something goes wrong\n",
    "documents = cleaned_data.copy(deep=True)"
   ]
  },
  {
   "cell_type": "code",
   "execution_count": 201,
   "metadata": {},
   "outputs": [],
   "source": [
    "# Explode the dataset based on the sentence tokens, so each row contains one sentence\n",
    "documents = documents.explode('sentence_tokens')\n",
    "\n",
    "# Drop rows with no sentence\n",
    "documents = documents.dropna(subset=['sentence_tokens'])\n",
    "documents = documents[documents['sentence_tokens'].str.strip() != '']\n",
    "\n",
    "# Preserve original index, so a later aggregation is possible but rows have unique index\n",
    "documents['original_index'] = documents.index\n",
    "\n",
    "# Reset the index\n",
    "documents = documents.reset_index(drop=True)"
   ]
  },
  {
   "attachments": {},
   "cell_type": "markdown",
   "metadata": {},
   "source": [
    "The ratio of internal and external documents is quite imbalanced (see EDA).  \n",
    "Therefore an oversampling for interal sentences is considered to get a ratio of 20/80 (internal/external) sentences."
   ]
  },
  {
   "cell_type": "code",
   "execution_count": 202,
   "metadata": {},
   "outputs": [],
   "source": [
    "# Separate the DataFrame into internal/external sentences with a defined ratio\n",
    "internal = documents[documents['internal'] == 1]\n",
    "external = documents[documents['internal'] == 0]\n",
    "\n",
    "# Determine the number of samples from each group, 1000 sentences in total\n",
    "n_internal = int(0.2 * 1000)  # 20% of samples\n",
    "n_external = 1000 - n_internal  # Remaining samples\n",
    "\n",
    "# Sample 1000 random sentences with a seed, so a re-run samples the same sentences\n",
    "sampled_internal = internal.sample(n=n_internal, random_state=42)\n",
    "sampled_external = external.sample(n=n_external, random_state=42)\n",
    "\n",
    "# Concatenate and shuffle the samples the DataFrames, reset the index\n",
    "sampled_documents = pd.concat([sampled_internal, sampled_external])\n",
    "sampled_documents = sampled_documents.sample(frac=1, random_state=42)\n",
    "sampled_documents = sampled_documents.reset_index(drop=True)"
   ]
  },
  {
   "cell_type": "code",
   "execution_count": 203,
   "metadata": {},
   "outputs": [
    {
     "name": "stdout",
     "output_type": "stream",
     "text": [
      "Will start annotating...\n"
     ]
    }
   ],
   "source": [
    "# Craete new column to store the sentence sentiment\n",
    "sampled_documents['sentiment_manual'] = np.nan\n",
    "\n",
    "annotate = input(\"Do you want to annotate? (y/n): \")\n",
    "annotate = True if annotate.lower() == 'y' else False\n",
    "\n",
    "if not annotate:\n",
    "    gold_standard = pd.read_csv('./annotated/gold_standard.csv', delimiter = '|')\n",
    "    if 'sentiment_manual' in gold_standard.columns:\n",
    "        sampled_documents['sentiment_manual'] = gold_standard['sentiment_manual']\n",
    "        print(\"Gold standard loaded\")\n",
    "    else:\n",
    "        print(\"'sentiment_manual' column not found in the CSV file.\")\n",
    "else:\n",
    "    print(\"Will start annotating...\")"
   ]
  },
  {
   "cell_type": "code",
   "execution_count": 204,
   "metadata": {},
   "outputs": [
    {
     "data": {
      "text/html": [
       "<div>\n",
       "<style scoped>\n",
       "    .dataframe tbody tr th:only-of-type {\n",
       "        vertical-align: middle;\n",
       "    }\n",
       "\n",
       "    .dataframe tbody tr th {\n",
       "        vertical-align: top;\n",
       "    }\n",
       "\n",
       "    .dataframe thead th {\n",
       "        text-align: right;\n",
       "    }\n",
       "</style>\n",
       "<table border=\"1\" class=\"dataframe\">\n",
       "  <thead>\n",
       "    <tr style=\"text-align: right;\">\n",
       "      <th></th>\n",
       "      <th>title</th>\n",
       "      <th>sentence_tokens</th>\n",
       "      <th>internal</th>\n",
       "      <th>sentiment_manual</th>\n",
       "    </tr>\n",
       "  </thead>\n",
       "  <tbody>\n",
       "    <tr>\n",
       "      <th>0</th>\n",
       "      <td>The Room Where It Happens: A quiet summer for ...</td>\n",
       "      <td>see please check junk folder</td>\n",
       "      <td>0</td>\n",
       "      <td>NaN</td>\n",
       "    </tr>\n",
       "    <tr>\n",
       "      <th>1</th>\n",
       "      <td>PRESS RELEASE: E.ON SE: E.ON delivers strong f...</td>\n",
       "      <td>primary reasons cooler weather first half oper...</td>\n",
       "      <td>0</td>\n",
       "      <td>NaN</td>\n",
       "    </tr>\n",
       "    <tr>\n",
       "      <th>2</th>\n",
       "      <td>Automotive Over-the-Air ( OTA) Market to Garne...</td>\n",
       "      <td>interested procure data actionable strategy in...</td>\n",
       "      <td>0</td>\n",
       "      <td>NaN</td>\n",
       "    </tr>\n",
       "    <tr>\n",
       "      <th>3</th>\n",
       "      <td>At 11.2% CAGR, Global Herbal Medicine Market S...</td>\n",
       "      <td>rising number patients suffering chronic illne...</td>\n",
       "      <td>0</td>\n",
       "      <td>NaN</td>\n",
       "    </tr>\n",
       "    <tr>\n",
       "      <th>4</th>\n",
       "      <td>Nordic Nanovector ASA Announces Proposed Board...</td>\n",
       "      <td>nhl indication substantial unmet medical need ...</td>\n",
       "      <td>0</td>\n",
       "      <td>NaN</td>\n",
       "    </tr>\n",
       "  </tbody>\n",
       "</table>\n",
       "</div>"
      ],
      "text/plain": [
       "                                               title   \n",
       "0  The Room Where It Happens: A quiet summer for ...  \\\n",
       "1  PRESS RELEASE: E.ON SE: E.ON delivers strong f...   \n",
       "2  Automotive Over-the-Air ( OTA) Market to Garne...   \n",
       "3  At 11.2% CAGR, Global Herbal Medicine Market S...   \n",
       "4  Nordic Nanovector ASA Announces Proposed Board...   \n",
       "\n",
       "                                     sentence_tokens  internal   \n",
       "0                       see please check junk folder         0  \\\n",
       "1  primary reasons cooler weather first half oper...         0   \n",
       "2  interested procure data actionable strategy in...         0   \n",
       "3  rising number patients suffering chronic illne...         0   \n",
       "4  nhl indication substantial unmet medical need ...         0   \n",
       "\n",
       "   sentiment_manual  \n",
       "0               NaN  \n",
       "1               NaN  \n",
       "2               NaN  \n",
       "3               NaN  \n",
       "4               NaN  "
      ]
     },
     "execution_count": 204,
     "metadata": {},
     "output_type": "execute_result"
    }
   ],
   "source": [
    "# Check the sampled data\n",
    "sampled_documents[['title','sentence_tokens','internal','sentiment_manual']].head()"
   ]
  },
  {
   "attachments": {},
   "cell_type": "markdown",
   "metadata": {},
   "source": [
    "Within a loop, all sentences are manually annotated.  \n",
    "With a \"+\" a sentence is flagged as positive (1.0), a \"-\" marks a negative (0.0) sentence and \"Enter\" (no value) flags the sentence as neutral (0.5)."
   ]
  },
  {
   "cell_type": "code",
   "execution_count": 205,
   "metadata": {},
   "outputs": [
    {
     "name": "stdout",
     "output_type": "stream",
     "text": [
      "Title: The Room Where It Happens: A quiet summer for lobbyists? Nope\n",
      "Sentence Nr. 0: see please check junk folder\n",
      "\n"
     ]
    },
    {
     "ename": "KeyboardInterrupt",
     "evalue": "Interrupted by user",
     "output_type": "error",
     "traceback": [
      "\u001b[0;31m---------------------------------------------------------------------------\u001b[0m",
      "\u001b[0;31mKeyboardInterrupt\u001b[0m                         Traceback (most recent call last)",
      "Cell \u001b[0;32mIn[205], line 11\u001b[0m\n\u001b[1;32m      8\u001b[0m \u001b[39mprint\u001b[39m(\u001b[39mf\u001b[39m\u001b[39m\"\u001b[39m\u001b[39mTitle: \u001b[39m\u001b[39m{\u001b[39;00mrow[\u001b[39m'\u001b[39m\u001b[39mtitle\u001b[39m\u001b[39m'\u001b[39m]\u001b[39m}\u001b[39;00m\u001b[39m\\n\u001b[39;00m\u001b[39mSentence Nr. \u001b[39m\u001b[39m{\u001b[39;00midx\u001b[39m}\u001b[39;00m\u001b[39m: \u001b[39m\u001b[39m{\u001b[39;00mrow[\u001b[39m'\u001b[39m\u001b[39msentence_tokens\u001b[39m\u001b[39m'\u001b[39m]\u001b[39m}\u001b[39;00m\u001b[39m\\n\u001b[39;00m\u001b[39m\"\u001b[39m)\n\u001b[1;32m     10\u001b[0m \u001b[39m# Wait for user input\u001b[39;00m\n\u001b[0;32m---> 11\u001b[0m sentiment \u001b[39m=\u001b[39m \u001b[39minput\u001b[39;49m(\u001b[39m\"\u001b[39;49m\u001b[39mEnter sentiment value (+ for 1.0, - for 0.0, Enter for 0.5): \u001b[39;49m\u001b[39m\"\u001b[39;49m)\n\u001b[1;32m     13\u001b[0m \u001b[39m# Check if the input is valid\u001b[39;00m\n\u001b[1;32m     14\u001b[0m \u001b[39mif\u001b[39;00m sentiment \u001b[39m==\u001b[39m \u001b[39m'\u001b[39m\u001b[39m+\u001b[39m\u001b[39m'\u001b[39m:\n",
      "File \u001b[0;32m~/.pyenv/versions/3.10.10/envs/venv-nlp/lib/python3.10/site-packages/ipykernel/kernelbase.py:1191\u001b[0m, in \u001b[0;36mKernel.raw_input\u001b[0;34m(self, prompt)\u001b[0m\n\u001b[1;32m   1189\u001b[0m     msg \u001b[39m=\u001b[39m \u001b[39m\"\u001b[39m\u001b[39mraw_input was called, but this frontend does not support input requests.\u001b[39m\u001b[39m\"\u001b[39m\n\u001b[1;32m   1190\u001b[0m     \u001b[39mraise\u001b[39;00m StdinNotImplementedError(msg)\n\u001b[0;32m-> 1191\u001b[0m \u001b[39mreturn\u001b[39;00m \u001b[39mself\u001b[39;49m\u001b[39m.\u001b[39;49m_input_request(\n\u001b[1;32m   1192\u001b[0m     \u001b[39mstr\u001b[39;49m(prompt),\n\u001b[1;32m   1193\u001b[0m     \u001b[39mself\u001b[39;49m\u001b[39m.\u001b[39;49m_parent_ident[\u001b[39m\"\u001b[39;49m\u001b[39mshell\u001b[39;49m\u001b[39m\"\u001b[39;49m],\n\u001b[1;32m   1194\u001b[0m     \u001b[39mself\u001b[39;49m\u001b[39m.\u001b[39;49mget_parent(\u001b[39m\"\u001b[39;49m\u001b[39mshell\u001b[39;49m\u001b[39m\"\u001b[39;49m),\n\u001b[1;32m   1195\u001b[0m     password\u001b[39m=\u001b[39;49m\u001b[39mFalse\u001b[39;49;00m,\n\u001b[1;32m   1196\u001b[0m )\n",
      "File \u001b[0;32m~/.pyenv/versions/3.10.10/envs/venv-nlp/lib/python3.10/site-packages/ipykernel/kernelbase.py:1234\u001b[0m, in \u001b[0;36mKernel._input_request\u001b[0;34m(self, prompt, ident, parent, password)\u001b[0m\n\u001b[1;32m   1231\u001b[0m \u001b[39mexcept\u001b[39;00m \u001b[39mKeyboardInterrupt\u001b[39;00m:\n\u001b[1;32m   1232\u001b[0m     \u001b[39m# re-raise KeyboardInterrupt, to truncate traceback\u001b[39;00m\n\u001b[1;32m   1233\u001b[0m     msg \u001b[39m=\u001b[39m \u001b[39m\"\u001b[39m\u001b[39mInterrupted by user\u001b[39m\u001b[39m\"\u001b[39m\n\u001b[0;32m-> 1234\u001b[0m     \u001b[39mraise\u001b[39;00m \u001b[39mKeyboardInterrupt\u001b[39;00m(msg) \u001b[39mfrom\u001b[39;00m \u001b[39mNone\u001b[39;00m\n\u001b[1;32m   1235\u001b[0m \u001b[39mexcept\u001b[39;00m \u001b[39mException\u001b[39;00m:\n\u001b[1;32m   1236\u001b[0m     \u001b[39mself\u001b[39m\u001b[39m.\u001b[39mlog\u001b[39m.\u001b[39mwarning(\u001b[39m\"\u001b[39m\u001b[39mInvalid Message:\u001b[39m\u001b[39m\"\u001b[39m, exc_info\u001b[39m=\u001b[39m\u001b[39mTrue\u001b[39;00m)\n",
      "\u001b[0;31mKeyboardInterrupt\u001b[0m: Interrupted by user"
     ]
    }
   ],
   "source": [
    "if annotate:\n",
    "\n",
    "    # Loop the samples to annotate them\n",
    "    for idx, row in sampled_documents.iterrows():\n",
    "        # Loop until valid input is received\n",
    "        while True:\n",
    "            # Print the title of the document and the sentence\n",
    "            print(f\"Title: {row['title']}\\nSentence Nr. {idx}: {row['sentence_tokens']}\\n\")\n",
    "\n",
    "            # Wait for user input\n",
    "            sentiment = input(\"Enter sentiment value (+ for 1.0, - for 0.0, Enter for 0.5): \")\n",
    "\n",
    "            # Check if the input is valid\n",
    "            if sentiment == '+':\n",
    "                sampled_documents.at[idx, 'sentiment_manual'] = 1.0\n",
    "                break\n",
    "            elif sentiment == '-':\n",
    "                sampled_documents.at[idx, 'sentiment_manual'] = 0.0\n",
    "                break\n",
    "            elif sentiment == '':\n",
    "                sampled_documents.at[idx, 'sentiment_manual'] = 0.5\n",
    "                break\n",
    "            else:\n",
    "                print(\"Invalid input. Please try again.\")"
   ]
  },
  {
   "attachments": {},
   "cell_type": "markdown",
   "metadata": {},
   "source": [
    "*Print outs of all sentences deleted due to readability of the notebook*"
   ]
  },
  {
   "cell_type": "code",
   "execution_count": 13,
   "metadata": {},
   "outputs": [
    {
     "name": "stdout",
     "output_type": "stream",
     "text": [
      "Saved DataFrame to sampled_documents.csv\n",
      "Loaded DataFrame from sampled_documents.csv\n"
     ]
    }
   ],
   "source": [
    "# Save the manual annotations to CSV (whole dataframe is too big to store on GitHub, therefore only sentences and manual annotations are stored)\n",
    "if not os.path.exists('./annotated/'):  # Check if the directory exists and create it if it doesn't\n",
    "    os.makedirs('./annotated/')\n",
    "sampled_documents[['sentiment_manual', 'sentence_tokens']].to_csv(f'./annotated/gold_standard.csv', index=False, sep='|')\n",
    "\n",
    "csv_checkpoint(sampled_documents, 'sampled_documents');"
   ]
  },
  {
   "cell_type": "code",
   "execution_count": 14,
   "metadata": {},
   "outputs": [
    {
     "data": {
      "text/html": [
       "<div>\n",
       "<style scoped>\n",
       "    .dataframe tbody tr th:only-of-type {\n",
       "        vertical-align: middle;\n",
       "    }\n",
       "\n",
       "    .dataframe tbody tr th {\n",
       "        vertical-align: top;\n",
       "    }\n",
       "\n",
       "    .dataframe thead th {\n",
       "        text-align: right;\n",
       "    }\n",
       "</style>\n",
       "<table border=\"1\" class=\"dataframe\">\n",
       "  <thead>\n",
       "    <tr style=\"text-align: right;\">\n",
       "      <th></th>\n",
       "      <th>company</th>\n",
       "      <th>datatype</th>\n",
       "      <th>date</th>\n",
       "      <th>domain</th>\n",
       "      <th>esg_topics</th>\n",
       "      <th>internal</th>\n",
       "      <th>symbol</th>\n",
       "      <th>title</th>\n",
       "      <th>cleaned_content</th>\n",
       "      <th>word_tokens</th>\n",
       "      <th>...</th>\n",
       "      <th>pos_tagged_sentence_tokens</th>\n",
       "      <th>market_cap_in_usd_b</th>\n",
       "      <th>sector</th>\n",
       "      <th>industry</th>\n",
       "      <th>sentiment_value</th>\n",
       "      <th>year_month</th>\n",
       "      <th>year</th>\n",
       "      <th>month</th>\n",
       "      <th>original_index</th>\n",
       "      <th>sentiment_manual</th>\n",
       "    </tr>\n",
       "  </thead>\n",
       "  <tbody>\n",
       "    <tr>\n",
       "      <th>529113</th>\n",
       "      <td>Qiagen</td>\n",
       "      <td>thinktank</td>\n",
       "      <td>2022-03-17</td>\n",
       "      <td>thelancet</td>\n",
       "      <td>[GenderDiversity, Privacy]</td>\n",
       "      <td>0</td>\n",
       "      <td>QIA</td>\n",
       "      <td>Transcript levels in plasma contribute substan...</td>\n",
       "      <td>aa remain underrepresented alzheimers disease ...</td>\n",
       "      <td>[aa, remain, underrepresented, alzheimers, dis...</td>\n",
       "      <td>...</td>\n",
       "      <td>[[(aa, NN), (remain, VBP), (underrepresented, ...</td>\n",
       "      <td>11.38</td>\n",
       "      <td>Healthcare</td>\n",
       "      <td>Diagnostics &amp; Research</td>\n",
       "      <td>0.100772</td>\n",
       "      <td>2022-03</td>\n",
       "      <td>2022</td>\n",
       "      <td>03</td>\n",
       "      <td>7601</td>\n",
       "      <td>0.0</td>\n",
       "    </tr>\n",
       "    <tr>\n",
       "      <th>339673</th>\n",
       "      <td>Beiersdorf</td>\n",
       "      <td>general</td>\n",
       "      <td>2021-04-27</td>\n",
       "      <td>cyclingweekly</td>\n",
       "      <td>[Compliance, Recycling, CustomerService, Gende...</td>\n",
       "      <td>0</td>\n",
       "      <td>BEI</td>\n",
       "      <td>Absolutely everything you need to go bikepacki...</td>\n",
       "      <td>get know area far intimately staying accommoda...</td>\n",
       "      <td>[get, know, area, far, intimately, staying, ac...</td>\n",
       "      <td>...</td>\n",
       "      <td>[[], [(get, VB), (know, VBP), (area, NN), (far...</td>\n",
       "      <td>25.99</td>\n",
       "      <td>Consumer Staples</td>\n",
       "      <td>Household &amp; Personal Products</td>\n",
       "      <td>0.314033</td>\n",
       "      <td>2021-04</td>\n",
       "      <td>2021</td>\n",
       "      <td>04</td>\n",
       "      <td>2774</td>\n",
       "      <td>1.0</td>\n",
       "    </tr>\n",
       "    <tr>\n",
       "      <th>390711</th>\n",
       "      <td>Deutsche Bank</td>\n",
       "      <td>general</td>\n",
       "      <td>2022-09-26</td>\n",
       "      <td>phocuswire</td>\n",
       "      <td>[HumanCapital, Social, Recruiting, Misinformat...</td>\n",
       "      <td>0</td>\n",
       "      <td>DBK</td>\n",
       "      <td>STARTUP STAGE: Tripshifu connects experienced ...</td>\n",
       "      <td>founded february currently five employee idea ...</td>\n",
       "      <td>[founded, february, currently, five, employee,...</td>\n",
       "      <td>...</td>\n",
       "      <td>[[(founded, VBN), (february, JJ), (currently, ...</td>\n",
       "      <td>24.97</td>\n",
       "      <td>Financials</td>\n",
       "      <td>Banks</td>\n",
       "      <td>0.249278</td>\n",
       "      <td>2022-09</td>\n",
       "      <td>2022</td>\n",
       "      <td>09</td>\n",
       "      <td>4228</td>\n",
       "      <td>0.5</td>\n",
       "    </tr>\n",
       "    <tr>\n",
       "      <th>354554</th>\n",
       "      <td>Continental</td>\n",
       "      <td>general</td>\n",
       "      <td>2021-10-05</td>\n",
       "      <td>ecochunk</td>\n",
       "      <td>[RussianFederation]</td>\n",
       "      <td>0</td>\n",
       "      <td>CON</td>\n",
       "      <td>Automotive Aftermarket Market by Global Busine...</td>\n",
       "      <td>recording estimating analysing market data rep...</td>\n",
       "      <td>[recording, estimating, analysing, market, dat...</td>\n",
       "      <td>...</td>\n",
       "      <td>[[(recording, VBG), (estimating, VBG), (analys...</td>\n",
       "      <td>13.27</td>\n",
       "      <td>Consumer Discretionary</td>\n",
       "      <td>Auto Parts</td>\n",
       "      <td>0.280167</td>\n",
       "      <td>2021-10</td>\n",
       "      <td>2021</td>\n",
       "      <td>10</td>\n",
       "      <td>3046</td>\n",
       "      <td>1.0</td>\n",
       "    </tr>\n",
       "    <tr>\n",
       "      <th>420428</th>\n",
       "      <td>Deutsche Telekom</td>\n",
       "      <td>business</td>\n",
       "      <td>2022-08-09</td>\n",
       "      <td>smashingmagazine</td>\n",
       "      <td>[CorporateCulture, HumanCapital, Environment, ...</td>\n",
       "      <td>0</td>\n",
       "      <td>DTE</td>\n",
       "      <td>Smashing Podcast Episode 50 With Marko Dugonji...</td>\n",
       "      <td>ask affect change ux design large organization...</td>\n",
       "      <td>[ask, affect, change, ux, design, large, organ...</td>\n",
       "      <td>...</td>\n",
       "      <td>[[(ask, JJ), (affect, VBP), (change, NN), (ux,...</td>\n",
       "      <td>101.78</td>\n",
       "      <td>Communication Services</td>\n",
       "      <td>Telecom Services</td>\n",
       "      <td>0.203908</td>\n",
       "      <td>2022-08</td>\n",
       "      <td>2022</td>\n",
       "      <td>08</td>\n",
       "      <td>4946</td>\n",
       "      <td>0.5</td>\n",
       "    </tr>\n",
       "  </tbody>\n",
       "</table>\n",
       "<p>5 rows × 22 columns</p>\n",
       "</div>"
      ],
      "text/plain": [
       "                 company   datatype       date            domain   \n",
       "529113            Qiagen  thinktank 2022-03-17         thelancet  \\\n",
       "339673        Beiersdorf    general 2021-04-27     cyclingweekly   \n",
       "390711     Deutsche Bank    general 2022-09-26        phocuswire   \n",
       "354554       Continental    general 2021-10-05          ecochunk   \n",
       "420428  Deutsche Telekom   business 2022-08-09  smashingmagazine   \n",
       "\n",
       "                                               esg_topics  internal symbol   \n",
       "529113                         [GenderDiversity, Privacy]         0    QIA  \\\n",
       "339673  [Compliance, Recycling, CustomerService, Gende...         0    BEI   \n",
       "390711  [HumanCapital, Social, Recruiting, Misinformat...         0    DBK   \n",
       "354554                                [RussianFederation]         0    CON   \n",
       "420428  [CorporateCulture, HumanCapital, Environment, ...         0    DTE   \n",
       "\n",
       "                                                    title   \n",
       "529113  Transcript levels in plasma contribute substan...  \\\n",
       "339673  Absolutely everything you need to go bikepacki...   \n",
       "390711  STARTUP STAGE: Tripshifu connects experienced ...   \n",
       "354554  Automotive Aftermarket Market by Global Busine...   \n",
       "420428  Smashing Podcast Episode 50 With Marko Dugonji...   \n",
       "\n",
       "                                          cleaned_content   \n",
       "529113  aa remain underrepresented alzheimers disease ...  \\\n",
       "339673  get know area far intimately staying accommoda...   \n",
       "390711  founded february currently five employee idea ...   \n",
       "354554  recording estimating analysing market data rep...   \n",
       "420428  ask affect change ux design large organization...   \n",
       "\n",
       "                                              word_tokens  ...   \n",
       "529113  [aa, remain, underrepresented, alzheimers, dis...  ...  \\\n",
       "339673  [get, know, area, far, intimately, staying, ac...  ...   \n",
       "390711  [founded, february, currently, five, employee,...  ...   \n",
       "354554  [recording, estimating, analysing, market, dat...  ...   \n",
       "420428  [ask, affect, change, ux, design, large, organ...  ...   \n",
       "\n",
       "                               pos_tagged_sentence_tokens market_cap_in_usd_b   \n",
       "529113  [[(aa, NN), (remain, VBP), (underrepresented, ...               11.38  \\\n",
       "339673  [[], [(get, VB), (know, VBP), (area, NN), (far...               25.99   \n",
       "390711  [[(founded, VBN), (february, JJ), (currently, ...               24.97   \n",
       "354554  [[(recording, VBG), (estimating, VBG), (analys...               13.27   \n",
       "420428  [[(ask, JJ), (affect, VBP), (change, NN), (ux,...              101.78   \n",
       "\n",
       "                        sector                       industry sentiment_value   \n",
       "529113              Healthcare         Diagnostics & Research        0.100772  \\\n",
       "339673        Consumer Staples  Household & Personal Products        0.314033   \n",
       "390711              Financials                          Banks        0.249278   \n",
       "354554  Consumer Discretionary                     Auto Parts        0.280167   \n",
       "420428  Communication Services               Telecom Services        0.203908   \n",
       "\n",
       "       year_month  year month original_index sentiment_manual  \n",
       "529113    2022-03  2022    03           7601              0.0  \n",
       "339673    2021-04  2021    04           2774              1.0  \n",
       "390711    2022-09  2022    09           4228              0.5  \n",
       "354554    2021-10  2021    10           3046              1.0  \n",
       "420428    2022-08  2022    08           4946              0.5  \n",
       "\n",
       "[5 rows x 22 columns]"
      ]
     },
     "execution_count": 14,
     "metadata": {},
     "output_type": "execute_result"
    }
   ],
   "source": [
    "# Check the manually annotated data\n",
    "sampled_documents[sampled_documents['sentiment_manual'].notnull()].head()"
   ]
  },
  {
   "attachments": {},
   "cell_type": "markdown",
   "metadata": {},
   "source": [
    "The manually added annotations for 1,000 samples are correctly stored in the column \"sentiment_manual\""
   ]
  },
  {
   "attachments": {},
   "cell_type": "markdown",
   "metadata": {},
   "source": [
    "## LLM Annotation Tests"
   ]
  },
  {
   "attachments": {},
   "cell_type": "markdown",
   "metadata": {},
   "source": [
    "### Test LLM's with prompting strategies (zero-shot and few-shot)\n",
    "To test different prompting strategies, ChatGPT and FLAN-T5 is used. The documentation of the GPT parameters from OpenAI can be found here: https://platform.openai.com/docs/api-reference/completions/create"
   ]
  },
  {
   "cell_type": "code",
   "execution_count": 54,
   "metadata": {},
   "outputs": [],
   "source": [
    "# Check if API key file exists\n",
    "API_KEY = open('api_key.txt', 'r').read().strip() if os.path.exists('api_key.txt') else input(\"Please enter your OpenAI/ChatGPT API key: \").strip()\n",
    "if len(API_KEY) <= 20: raise ValueError(\"Invalid OpenAI API key. Please ensure your API key is correct.\")\n",
    "\n",
    "# Set up the OpenAI API client\n",
    "openai.api_key = API_KEY\n",
    "sample_text = \"Nike has focused on reducing its waste and using renewable energy, while Adidas has created a greener supply chain and pledged that, by 2025, nine out of 10 Adidas articles will be made from sustainable materials.\""
   ]
  },
  {
   "attachments": {},
   "cell_type": "markdown",
   "metadata": {},
   "source": [
    "First, a simple direct request:"
   ]
  },
  {
   "cell_type": "code",
   "execution_count": 55,
   "metadata": {},
   "outputs": [
    {
     "name": "stdout",
     "output_type": "stream",
     "text": [
      "1.0\n"
     ]
    }
   ],
   "source": [
    "prompt = 'Determine the sentiment in the following text regarding sustainability practices (0.0 for negative, 0.5 for neutral and 1.0 for positive). Output only the value:'\n",
    "response = openai.Completion.create(model=\"text-davinci-003\", prompt=f'{prompt}\\n\\n {sample_text}', temperature=0.0, max_tokens=10)\n",
    "print(response.choices[0].text.strip())"
   ]
  },
  {
   "attachments": {},
   "cell_type": "markdown",
   "metadata": {},
   "source": [
    "As a second test framing the task in a scenario:"
   ]
  },
  {
   "cell_type": "code",
   "execution_count": 60,
   "metadata": {},
   "outputs": [
    {
     "name": "stdout",
     "output_type": "stream",
     "text": [
      "1.0\n"
     ]
    }
   ],
   "source": [
    "prompt = 'You are an AI trained in sentiment analysis. Provide a sentiment score for the following statement about sustainability (0.0 for negative, 0.5 for neutral, and 1.0 for positive):'\n",
    "response = openai.Completion.create(model=\"text-davinci-003\", prompt=f'{prompt}\\n\\n {sample_text}', temperature=0.0, max_tokens=10)\n",
    "print(response.choices[0].text.strip())"
   ]
  },
  {
   "attachments": {},
   "cell_type": "markdown",
   "metadata": {},
   "source": [
    "Explaining the Consequence:"
   ]
  },
  {
   "cell_type": "code",
   "execution_count": 61,
   "metadata": {},
   "outputs": [
    {
     "name": "stdout",
     "output_type": "stream",
     "text": [
      "1.0\n"
     ]
    }
   ],
   "source": [
    "prompt = 'Consider the following text. If the statement portrays a negative view of sustainability, assign a value of 0.0; if it is neutral, assign 0.5; and if it is positive, assign 1.0:'\n",
    "response = openai.Completion.create(model=\"text-davinci-003\", prompt=f'{prompt}\\n\\n {sample_text}', temperature=0.0, max_tokens=10)\n",
    "print(response.choices[0].text.strip())"
   ]
  },
  {
   "attachments": {},
   "cell_type": "markdown",
   "metadata": {},
   "source": [
    "Directing the model's role:"
   ]
  },
  {
   "cell_type": "code",
   "execution_count": 62,
   "metadata": {},
   "outputs": [
    {
     "name": "stdout",
     "output_type": "stream",
     "text": [
      "1.0\n"
     ]
    }
   ],
   "source": [
    "prompt = 'As an AI with sentiment analysis capabilities, analyze the sentiment of the following statement on sustainability (0.0 for negative, 0.5 for neutral, and 1.0 for positive):'\n",
    "response = openai.Completion.create(model=\"text-davinci-003\", prompt=f'{prompt}\\n\\n {sample_text}', temperature=0.0, max_tokens=10)\n",
    "print(response.choices[0].text.strip())"
   ]
  },
  {
   "attachments": {},
   "cell_type": "markdown",
   "metadata": {},
   "source": [
    "Create the prompts using the few-shot Strategy where the model is provided with some examples to learn from, starting with a direct request:"
   ]
  },
  {
   "cell_type": "code",
   "execution_count": 63,
   "metadata": {},
   "outputs": [
    {
     "name": "stdout",
     "output_type": "stream",
     "text": [
      "1.0\n"
     ]
    }
   ],
   "source": [
    "prompt = 'Similar to how the sentiment of the text \"The company has failed in all its sustainability efforts\" would be 0.0, and \"The company has exceeded all its sustainability targets\" would be 1.0, determine the sentiment of the following text:'\n",
    "response = openai.Completion.create(model=\"text-davinci-003\", prompt=f'{prompt}\\n\\n {sample_text}', max_tokens=10)\n",
    "print(response.choices[0].text.strip())"
   ]
  },
  {
   "attachments": {},
   "cell_type": "markdown",
   "metadata": {},
   "source": [
    "Sequential Examples:"
   ]
  },
  {
   "cell_type": "code",
   "execution_count": 64,
   "metadata": {},
   "outputs": [
    {
     "name": "stdout",
     "output_type": "stream",
     "text": [
      "1.0\n"
     ]
    }
   ],
   "source": [
    "prompt = 'The sentiment of the text \"The company is sustainability efforts are non-existent\" is 0.0. \\n \\\n",
    "The sentiment of the text \"The company is doing a decent job in sustainability efforts\" is 0.5. \\n \\\n",
    "The sentiment of the text \"The company is sustainability efforts are excellent\" is 1.0. \\n \\\n",
    "Based on this, determine the sentiment of the following text:'\n",
    "\n",
    "prompt = 'Similar to how the sentiment of the text \"The company has failed in all its sustainability efforts\" would be 0.0, and \"The company has exceeded all its sustainability targets\" would be 1.0, determine the sentiment of the following text:'\n",
    "response = openai.Completion.create(model=\"text-davinci-003\", prompt=f'{prompt}\\n\\n {sample_text}', max_tokens=10)\n",
    "print(response.choices[0].text.strip())"
   ]
  },
  {
   "attachments": {},
   "cell_type": "markdown",
   "metadata": {},
   "source": [
    "Multiple Example Statements:"
   ]
  },
  {
   "cell_type": "code",
   "execution_count": 65,
   "metadata": {},
   "outputs": [
    {
     "name": "stdout",
     "output_type": "stream",
     "text": [
      "1.0\n"
     ]
    }
   ],
   "source": [
    "prompt = 'Consider the following examples: \\n \\\n",
    "Text: \"The company has completely failed in its sustainability efforts\", Sentiment: 0.0. \\n \\\n",
    "Text: \"The companys sustainability efforts are reasonable\", Sentiment: 0.5.  \\n \\\n",
    "Text: \"The company is leading the industry in sustainability efforts\", Sentiment: 1.0.  \\n \\\n",
    "Now, determine the sentiment of the following text:'\n",
    "\n",
    "prompt = 'Similar to how the sentiment of the text \"The company has failed in all its sustainability efforts\" would be 0.0, and \"The company has exceeded all its sustainability targets\" would be 1.0, determine the sentiment of the following text:'\n",
    "response = openai.Completion.create(model=\"text-davinci-003\", prompt=f'{prompt}\\n\\n {sample_text}', max_tokens=10)\n",
    "print(response.choices[0].text.strip())"
   ]
  },
  {
   "attachments": {},
   "cell_type": "markdown",
   "metadata": {},
   "source": [
    "Setting up Google's FLAN model (https://huggingface.co/docs/transformers/model_doc/flan-t5) as a second LLM to test the different prompts."
   ]
  },
  {
   "cell_type": "code",
   "execution_count": 69,
   "metadata": {},
   "outputs": [],
   "source": [
    "# Initializing the model and the tokenizer\n",
    "model = AutoModelForSeq2SeqLM.from_pretrained(\"google/flan-t5-base\")\n",
    "tokenizer = AutoTokenizer.from_pretrained(\"google/flan-t5-base\", max_length=100)"
   ]
  },
  {
   "attachments": {},
   "cell_type": "markdown",
   "metadata": {},
   "source": [
    "Testing a zero-shot direct request:"
   ]
  },
  {
   "cell_type": "code",
   "execution_count": 71,
   "metadata": {},
   "outputs": [
    {
     "name": "stdout",
     "output_type": "stream",
     "text": [
      "<pad> 1.0</s>\n"
     ]
    }
   ],
   "source": [
    "prompt = 'Determine the sentiment in the following text regarding sustainability practices (0.0 for negative, 0.5 for neutral and 1.0 for positive). Output only the value:'\n",
    "input_text = f'{prompt} {sample_text}'\n",
    "input_ids = tokenizer(input_text, return_tensors=\"pt\").input_ids\n",
    "outputs = model.generate(input_ids)\n",
    "print(tokenizer.decode(outputs[0]))"
   ]
  },
  {
   "cell_type": "code",
   "execution_count": 74,
   "metadata": {},
   "outputs": [
    {
     "name": "stdout",
     "output_type": "stream",
     "text": [
      "<pad> positive</s>\n"
     ]
    }
   ],
   "source": [
    "prompt = 'The sentiment of the text \"The company is sustainability efforts are non-existent\" is 0.0. \\n \\\n",
    "The sentiment of the text \"The company is doing a decent job in sustainability efforts\" is 0.5. \\n \\\n",
    "The sentiment of the text \"The company is sustainability efforts are excellent\" is 1.0. \\n \\\n",
    "Based on this, determine the sentiment of the following text:'\n",
    "input_text = f'{prompt} {sample_text}'\n",
    "input_ids = tokenizer(input_text, return_tensors=\"pt\").input_ids\n",
    "outputs = model.generate(input_ids)\n",
    "print(tokenizer.decode(outputs[0]))"
   ]
  },
  {
   "cell_type": "code",
   "execution_count": 75,
   "metadata": {},
   "outputs": [
    {
     "name": "stdout",
     "output_type": "stream",
     "text": [
      "<pad> 1.0</s>\n"
     ]
    }
   ],
   "source": [
    "prompt = 'Consider the following examples: \\n \\\n",
    "Text: \"The company has completely failed in its sustainability efforts\", Sentiment: 0.0. \\n \\\n",
    "Text: \"The companys sustainability efforts are reasonable\", Sentiment: 0.5.  \\n \\\n",
    "Text: \"The company is leading the industry in sustainability efforts\", Sentiment: 1.0.  \\n \\\n",
    "Now, determine the sentiment of the following text:'\n",
    "input_text = f'{prompt} {sample_text}'\n",
    "input_ids = tokenizer(input_text, return_tensors=\"pt\").input_ids\n",
    "outputs = model.generate(input_ids)\n",
    "print(tokenizer.decode(outputs[0]))"
   ]
  },
  {
   "attachments": {},
   "cell_type": "markdown",
   "metadata": {},
   "source": [
    "Zero-shot strategies, where the model receives no prior examples, are more direct and succinct. These strategies involve formulating a straightforward request, framing the request in a specific context or scenario, defining the consequences of the sentiment, or defining the model's role explicitly.  \n",
    "Few-shot strategies, on the other hand, leverage the learning capacity of the GPT/FLAN models by providing a set of examples in the prompt. They can be designed by providing direct, sequential, or multiple example statements, or by embedding the examples within the request itself.  \n",
    "\n",
    "The selection of strategy largely depends on the complexity of the task and the nuances of the text involved. While zero-shot strategies are quicker and more straightforward, few-shot strategies can offer a more nuanced understanding of the task and potentially improve the model's performance.  \n",
    "They help the model generalize the sentiment classification pattern from the examples provided. Therefore, a balance of both strategies, depending on the specific use case and requirements, can result in more accurate and reliable sentiment analysis outcomes.\n",
    "\n",
    "tl;dr: More provided information leads to better results but takes more time in terms of computation and formulating."
   ]
  },
  {
   "attachments": {},
   "cell_type": "markdown",
   "metadata": {},
   "source": [
    "### Predicting the Sentiment with different Models"
   ]
  },
  {
   "attachments": {},
   "cell_type": "markdown",
   "metadata": {},
   "source": [
    "Huggingface offers a huge variety of pre-trained models for NLP tasks, including already finetuned models for sentiment analysis:  \n",
    "https://huggingface.co/models?pipeline_tag=text-classification&sort=likes&search=sentiment\n",
    "\n",
    "\n",
    "First, a fe are tested \"by hand\" to get a feeling of the predicted scores, the outputs and the model's capabilities:"
   ]
  },
  {
   "cell_type": "code",
   "execution_count": 76,
   "metadata": {},
   "outputs": [],
   "source": [
    "# Generic function to run a Huggingface pipeline and extract the sentiment value\n",
    "def get_sentiment_score_single(sentence, pipeline):\n",
    "    return pipeline(sentence)[0]"
   ]
  },
  {
   "cell_type": "code",
   "execution_count": 77,
   "metadata": {},
   "outputs": [
    {
     "name": "stdout",
     "output_type": "stream",
     "text": [
      "{'label': 'LABEL_2', 'score': 0.8181973695755005}\n"
     ]
    }
   ],
   "source": [
    "# Intializing a RoBERTa model\n",
    "roberta_l = pipeline(\"sentiment-analysis\", model=\"cardiffnlp/twitter-roberta-base-sentiment\")\n",
    "print(get_sentiment_score_single(sample_text, roberta_l))"
   ]
  },
  {
   "cell_type": "code",
   "execution_count": 78,
   "metadata": {},
   "outputs": [
    {
     "name": "stdout",
     "output_type": "stream",
     "text": [
      "{'label': 'POSITIVE', 'score': 0.9074537754058838}\n"
     ]
    }
   ],
   "source": [
    "distilbert = pipeline(\"sentiment-analysis\", model=\"distilbert-base-uncased-finetuned-sst-2-english\")\n",
    "print(get_sentiment_score_single(sample_text, distilbert))"
   ]
  },
  {
   "cell_type": "code",
   "execution_count": 79,
   "metadata": {},
   "outputs": [
    {
     "name": "stdout",
     "output_type": "stream",
     "text": [
      "{'label': 'LABEL_1', 'score': 0.9849261045455933}\n"
     ]
    }
   ],
   "source": [
    "sentiment_analysis_generic = pipeline(\"sentiment-analysis\", model=\"Seethal/sentiment_analysis_generic_dataset\")\n",
    "print(get_sentiment_score_single(sample_text, sentiment_analysis_generic))"
   ]
  },
  {
   "attachments": {},
   "cell_type": "markdown",
   "metadata": {},
   "source": [
    "In the following code snippet, multiple models from Huggingface can be specified to predict the sentiment of all sampled sentences.  \n",
    "The sentiment value is stored and can be used for later comparison. The models were choosen quite heuristic, based on the likes and download count."
   ]
  },
  {
   "cell_type": "code",
   "execution_count": 81,
   "metadata": {},
   "outputs": [
    {
     "name": "stdout",
     "output_type": "stream",
     "text": [
      "Running sentiment analysis with model: cardiffnlp/twitter-roberta-base-sentiment\n"
     ]
    },
    {
     "name": "stderr",
     "output_type": "stream",
     "text": [
      "100%|██████████| 1000/1000 [00:39<00:00, 25.53it/s]\n"
     ]
    },
    {
     "name": "stdout",
     "output_type": "stream",
     "text": [
      "Running sentiment analysis with model: distilbert-base-uncased-finetuned-sst-2-english\n"
     ]
    },
    {
     "name": "stderr",
     "output_type": "stream",
     "text": [
      "100%|██████████| 1000/1000 [00:23<00:00, 42.68it/s]\n"
     ]
    },
    {
     "name": "stdout",
     "output_type": "stream",
     "text": [
      "Running sentiment analysis with model: Seethal/sentiment_analysis_generic_dataset\n"
     ]
    },
    {
     "name": "stderr",
     "output_type": "stream",
     "text": [
      "100%|██████████| 1000/1000 [00:22<00:00, 45.07it/s]\n"
     ]
    },
    {
     "name": "stdout",
     "output_type": "stream",
     "text": [
      "Running sentiment analysis with model: siebert/sentiment-roberta-large-english\n"
     ]
    },
    {
     "name": "stderr",
     "output_type": "stream",
     "text": [
      "100%|██████████| 1000/1000 [01:52<00:00,  8.91it/s]\n"
     ]
    },
    {
     "name": "stdout",
     "output_type": "stream",
     "text": [
      "Running sentiment analysis with model: nlptown/bert-base-multilingual-uncased-sentiment\n"
     ]
    },
    {
     "name": "stderr",
     "output_type": "stream",
     "text": [
      "100%|██████████| 1000/1000 [00:42<00:00, 23.26it/s]\n"
     ]
    }
   ],
   "source": [
    "TOKENIZERS_PARALLELISM=True\n",
    "\n",
    "# List of Huggingface models to use\n",
    "models = ['cardiffnlp/twitter-roberta-base-sentiment','distilbert-base-uncased-finetuned-sst-2-english', 'Seethal/sentiment_analysis_generic_dataset','siebert/sentiment-roberta-large-english', 'nlptown/bert-base-multilingual-uncased-sentiment']\n",
    "\n",
    "def get_sentiment_score(nlp, sentence):\n",
    "    result = nlp(sentence)[0]\n",
    "    score = result['score']\n",
    "    return score\n",
    "\n",
    "# Apply each model to the dataframe and store the results in a new column\n",
    "for model in models:\n",
    "    print(f'Running sentiment analysis with model: {model}')\n",
    "    nlp = pipeline('sentiment-analysis', model=model, use_fast=True) \n",
    "    sampled_documents[model] = sampled_documents['sentence_tokens'].progress_apply(lambda x: get_sentiment_score(nlp, x))"
   ]
  },
  {
   "cell_type": "code",
   "execution_count": 85,
   "metadata": {},
   "outputs": [],
   "source": [
    "# Function for Google's FLAN model\n",
    "def get_sentiment_flan(sentence, prompt, model, tokenizer):\n",
    "    input_text = f'{prompt} {sentence}'\n",
    "    input_ids = tokenizer(input_text, return_tensors=\"pt\").input_ids\n",
    "    outputs = model.generate(input_ids)\n",
    "    sentiment = tokenizer.decode(outputs[0])\n",
    "    \n",
    "    # Extract float using regex\n",
    "    match = re.search(r'\\d+\\.\\d+', sentiment)  # Extract only sentiment value\n",
    "    if match:\n",
    "        sentiment = float(match.group())\n",
    "    else:\n",
    "        sentiment = np.nan \n",
    "    \n",
    "    return sentiment\n",
    "\n",
    "# Function for OpenAI's text-davinci model\n",
    "def get_sentiment_gpt(sentence, prompt):\n",
    "    response = openai.Completion.create(\n",
    "        model=\"text-davinci-003\",\n",
    "        prompt=f'{prompt}\\n\\n{sentence}',\n",
    "        max_tokens=10)\n",
    "\n",
    "    # Extract float using regex\n",
    "    result_text = response.choices[0].text.strip()\n",
    "    match = re.search(r'\\d+\\.\\d+', result_text)  # Extract only sentiment value\n",
    "    if match:\n",
    "        response = float(match.group())\n",
    "    else:\n",
    "        response = np.nan \n",
    "    \n",
    "    return response"
   ]
  },
  {
   "cell_type": "code",
   "execution_count": 90,
   "metadata": {},
   "outputs": [
    {
     "name": "stdout",
     "output_type": "stream",
     "text": [
      "Running sentiment analysis with Google FLAN model\n"
     ]
    },
    {
     "name": "stderr",
     "output_type": "stream",
     "text": [
      "  0%|          | 0/1000 [00:00<?, ?it/s]/Users/tim/.pyenv/versions/3.10.10/envs/venv-nlp/lib/python3.10/site-packages/transformers/generation/utils.py:1346: UserWarning: Using `max_length`'s default (20) to control the generation length. This behaviour is deprecated and will be removed from the config in v5 of Transformers -- we recommend using `max_new_tokens` to control the maximum length of the generation.\n",
      "  warnings.warn(\n",
      "100%|██████████| 1000/1000 [01:56<00:00,  8.59it/s]\n"
     ]
    }
   ],
   "source": [
    "# Running the sentiment analysis with pre-defined functions/prompts for FLAN and ChatGPT\n",
    "model = AutoModelForSeq2SeqLM.from_pretrained(\"google/flan-t5-base\")\n",
    "tokenizer = AutoTokenizer.from_pretrained(\"google/flan-t5-base\", max_length=100)\n",
    "\n",
    "prompt_all_samples = 'Determine the sentiment in the following text regarding sustainability practices (0.0 for negative, 1.0 for positive). Output only the value as a decimal value between 0.0 and 1.0:'\n",
    "\n",
    "print('Running sentiment analysis with Google FLAN model')\n",
    "sampled_documents['flan'] = sampled_documents['sentence_tokens'].progress_apply(lambda x: get_sentiment_flan(x, prompt_all_samples, model, tokenizer))"
   ]
  },
  {
   "cell_type": "code",
   "execution_count": 92,
   "metadata": {},
   "outputs": [
    {
     "name": "stdout",
     "output_type": "stream",
     "text": [
      "Processing block 1 out of 20, attempt 1\n"
     ]
    },
    {
     "name": "stderr",
     "output_type": "stream",
     "text": [
      "100%|██████████| 50/50 [01:11<00:00,  1.42s/it]\n"
     ]
    },
    {
     "name": "stdout",
     "output_type": "stream",
     "text": [
      "Processing block 2 out of 20, attempt 1\n"
     ]
    },
    {
     "name": "stderr",
     "output_type": "stream",
     "text": [
      "100%|██████████| 50/50 [01:02<00:00,  1.25s/it]\n"
     ]
    },
    {
     "name": "stdout",
     "output_type": "stream",
     "text": [
      "Processing block 3 out of 20, attempt 1\n"
     ]
    },
    {
     "name": "stderr",
     "output_type": "stream",
     "text": [
      "100%|██████████| 50/50 [01:08<00:00,  1.37s/it]\n"
     ]
    },
    {
     "name": "stdout",
     "output_type": "stream",
     "text": [
      "Processing block 4 out of 20, attempt 1\n"
     ]
    },
    {
     "name": "stderr",
     "output_type": "stream",
     "text": [
      "100%|██████████| 50/50 [01:07<00:00,  1.34s/it]\n"
     ]
    },
    {
     "name": "stdout",
     "output_type": "stream",
     "text": [
      "Processing block 5 out of 20, attempt 1\n"
     ]
    },
    {
     "name": "stderr",
     "output_type": "stream",
     "text": [
      " 92%|█████████▏| 46/50 [01:03<00:05,  1.39s/it]\n"
     ]
    },
    {
     "name": "stdout",
     "output_type": "stream",
     "text": [
      "An error occurred while processing block 5 on attempt 1: The server had an error while processing your request. Sorry about that!\n",
      "Processing block 5 out of 20, attempt 2\n"
     ]
    },
    {
     "name": "stderr",
     "output_type": "stream",
     "text": [
      " 82%|████████▏ | 41/50 [00:56<00:12,  1.37s/it]\n"
     ]
    },
    {
     "name": "stdout",
     "output_type": "stream",
     "text": [
      "An error occurred while processing block 5 on attempt 2: The server had an error while processing your request. Sorry about that!\n",
      "Processing block 5 out of 20, attempt 3\n"
     ]
    },
    {
     "name": "stderr",
     "output_type": "stream",
     "text": [
      "  6%|▌         | 3/50 [00:02<00:46,  1.02it/s]\n"
     ]
    },
    {
     "name": "stdout",
     "output_type": "stream",
     "text": [
      "An error occurred while processing block 5 on attempt 3: The server had an error while processing your request. Sorry about that!\n",
      "Failed to process block 5 after 3 attempts. Moving on to the next block.\n",
      "Processing block 6 out of 20, attempt 1\n"
     ]
    },
    {
     "name": "stderr",
     "output_type": "stream",
     "text": [
      "100%|██████████| 50/50 [01:14<00:00,  1.49s/it]\n"
     ]
    },
    {
     "name": "stdout",
     "output_type": "stream",
     "text": [
      "Processing block 7 out of 20, attempt 1\n"
     ]
    },
    {
     "name": "stderr",
     "output_type": "stream",
     "text": [
      " 28%|██▊       | 14/50 [00:18<00:47,  1.33s/it]\n"
     ]
    },
    {
     "name": "stdout",
     "output_type": "stream",
     "text": [
      "An error occurred while processing block 7 on attempt 1: The server had an error while processing your request. Sorry about that!\n",
      "Processing block 7 out of 20, attempt 2\n"
     ]
    },
    {
     "name": "stderr",
     "output_type": "stream",
     "text": [
      " 18%|█▊        | 9/50 [00:11<00:52,  1.29s/it]\n"
     ]
    },
    {
     "name": "stdout",
     "output_type": "stream",
     "text": [
      "An error occurred while processing block 7 on attempt 2: The server had an error while processing your request. Sorry about that!\n",
      "Processing block 7 out of 20, attempt 3\n"
     ]
    },
    {
     "name": "stderr",
     "output_type": "stream",
     "text": [
      " 20%|██        | 10/50 [00:14<00:57,  1.44s/it]\n"
     ]
    },
    {
     "name": "stdout",
     "output_type": "stream",
     "text": [
      "An error occurred while processing block 7 on attempt 3: The server had an error while processing your request. Sorry about that!\n",
      "Failed to process block 7 after 3 attempts. Moving on to the next block.\n",
      "Processing block 8 out of 20, attempt 1\n"
     ]
    },
    {
     "name": "stderr",
     "output_type": "stream",
     "text": [
      " 26%|██▌       | 13/50 [00:16<00:47,  1.29s/it]\n"
     ]
    },
    {
     "name": "stdout",
     "output_type": "stream",
     "text": [
      "An error occurred while processing block 8 on attempt 1: The server had an error while processing your request. Sorry about that!\n",
      "Processing block 8 out of 20, attempt 2\n"
     ]
    },
    {
     "name": "stderr",
     "output_type": "stream",
     "text": [
      " 42%|████▏     | 21/50 [00:28<00:39,  1.35s/it]\n"
     ]
    },
    {
     "name": "stdout",
     "output_type": "stream",
     "text": [
      "An error occurred while processing block 8 on attempt 2: The server had an error while processing your request. Sorry about that!\n",
      "Processing block 8 out of 20, attempt 3\n"
     ]
    },
    {
     "name": "stderr",
     "output_type": "stream",
     "text": [
      "  4%|▍         | 2/50 [00:01<00:35,  1.34it/s]\n"
     ]
    },
    {
     "name": "stdout",
     "output_type": "stream",
     "text": [
      "An error occurred while processing block 8 on attempt 3: The server had an error while processing your request. Sorry about that!\n",
      "Failed to process block 8 after 3 attempts. Moving on to the next block.\n",
      "Processing block 9 out of 20, attempt 1\n"
     ]
    },
    {
     "name": "stderr",
     "output_type": "stream",
     "text": [
      " 14%|█▍        | 7/50 [00:12<01:16,  1.78s/it]\n"
     ]
    },
    {
     "name": "stdout",
     "output_type": "stream",
     "text": [
      "An error occurred while processing block 9 on attempt 1: The server had an error while processing your request. Sorry about that!\n",
      "Processing block 9 out of 20, attempt 2\n"
     ]
    },
    {
     "name": "stderr",
     "output_type": "stream",
     "text": [
      " 26%|██▌       | 13/50 [00:20<00:59,  1.60s/it]\n"
     ]
    },
    {
     "name": "stdout",
     "output_type": "stream",
     "text": [
      "An error occurred while processing block 9 on attempt 2: The server had an error while processing your request. Sorry about that!\n",
      "Processing block 9 out of 20, attempt 3\n"
     ]
    },
    {
     "name": "stderr",
     "output_type": "stream",
     "text": [
      "  6%|▌         | 3/50 [00:02<00:46,  1.02it/s]\n"
     ]
    },
    {
     "name": "stdout",
     "output_type": "stream",
     "text": [
      "An error occurred while processing block 9 on attempt 3: The server had an error while processing your request. Sorry about that!\n",
      "Failed to process block 9 after 3 attempts. Moving on to the next block.\n",
      "Processing block 10 out of 20, attempt 1\n"
     ]
    },
    {
     "name": "stderr",
     "output_type": "stream",
     "text": [
      " 16%|█▌        | 8/50 [00:10<00:55,  1.31s/it]\n"
     ]
    },
    {
     "name": "stdout",
     "output_type": "stream",
     "text": [
      "An error occurred while processing block 10 on attempt 1: The server had an error while processing your request. Sorry about that!\n",
      "Processing block 10 out of 20, attempt 2\n"
     ]
    },
    {
     "name": "stderr",
     "output_type": "stream",
     "text": [
      "  2%|▏         | 1/50 [00:00<00:10,  4.66it/s]\n"
     ]
    },
    {
     "name": "stdout",
     "output_type": "stream",
     "text": [
      "An error occurred while processing block 10 on attempt 2: The server had an error while processing your request. Sorry about that!\n",
      "Processing block 10 out of 20, attempt 3\n"
     ]
    },
    {
     "name": "stderr",
     "output_type": "stream",
     "text": [
      "  2%|▏         | 1/50 [00:00<00:10,  4.67it/s]\n"
     ]
    },
    {
     "name": "stdout",
     "output_type": "stream",
     "text": [
      "An error occurred while processing block 10 on attempt 3: The server had an error while processing your request. Sorry about that!\n",
      "Failed to process block 10 after 3 attempts. Moving on to the next block.\n",
      "Processing block 11 out of 20, attempt 1\n"
     ]
    },
    {
     "name": "stderr",
     "output_type": "stream",
     "text": [
      "  8%|▊         | 4/50 [00:04<00:46,  1.01s/it]\n"
     ]
    },
    {
     "name": "stdout",
     "output_type": "stream",
     "text": [
      "An error occurred while processing block 11 on attempt 1: The server had an error while processing your request. Sorry about that!\n",
      "Processing block 11 out of 20, attempt 2\n"
     ]
    },
    {
     "name": "stderr",
     "output_type": "stream",
     "text": [
      " 18%|█▊        | 9/50 [00:12<00:55,  1.35s/it]\n"
     ]
    },
    {
     "name": "stdout",
     "output_type": "stream",
     "text": [
      "An error occurred while processing block 11 on attempt 2: The server had an error while processing your request. Sorry about that!\n",
      "Processing block 11 out of 20, attempt 3\n"
     ]
    },
    {
     "name": "stderr",
     "output_type": "stream",
     "text": [
      " 40%|████      | 20/50 [00:29<00:44,  1.47s/it]\n"
     ]
    },
    {
     "name": "stdout",
     "output_type": "stream",
     "text": [
      "An error occurred while processing block 11 on attempt 3: The server had an error while processing your request. Sorry about that!\n",
      "Failed to process block 11 after 3 attempts. Moving on to the next block.\n",
      "Processing block 12 out of 20, attempt 1\n"
     ]
    },
    {
     "name": "stderr",
     "output_type": "stream",
     "text": [
      "100%|██████████| 50/50 [01:10<00:00,  1.41s/it]\n"
     ]
    },
    {
     "name": "stdout",
     "output_type": "stream",
     "text": [
      "Processing block 13 out of 20, attempt 1\n"
     ]
    },
    {
     "name": "stderr",
     "output_type": "stream",
     "text": [
      "100%|██████████| 50/50 [01:11<00:00,  1.42s/it]\n"
     ]
    },
    {
     "name": "stdout",
     "output_type": "stream",
     "text": [
      "Processing block 14 out of 20, attempt 1\n"
     ]
    },
    {
     "name": "stderr",
     "output_type": "stream",
     "text": [
      "100%|██████████| 50/50 [01:13<00:00,  1.46s/it]\n"
     ]
    },
    {
     "name": "stdout",
     "output_type": "stream",
     "text": [
      "Processing block 15 out of 20, attempt 1\n"
     ]
    },
    {
     "name": "stderr",
     "output_type": "stream",
     "text": [
      "  6%|▌         | 3/50 [00:03<00:57,  1.21s/it]\n"
     ]
    },
    {
     "name": "stdout",
     "output_type": "stream",
     "text": [
      "An error occurred while processing block 15 on attempt 1: The server had an error while processing your request. Sorry about that!\n",
      "Processing block 15 out of 20, attempt 2\n"
     ]
    },
    {
     "name": "stderr",
     "output_type": "stream",
     "text": [
      " 42%|████▏     | 21/50 [00:34<00:47,  1.64s/it]\n"
     ]
    },
    {
     "name": "stdout",
     "output_type": "stream",
     "text": [
      "An error occurred while processing block 15 on attempt 2: The server had an error while processing your request. Sorry about that!\n",
      "Processing block 15 out of 20, attempt 3\n"
     ]
    },
    {
     "name": "stderr",
     "output_type": "stream",
     "text": [
      "100%|██████████| 50/50 [01:12<00:00,  1.45s/it]\n"
     ]
    },
    {
     "name": "stdout",
     "output_type": "stream",
     "text": [
      "Processing block 16 out of 20, attempt 1\n"
     ]
    },
    {
     "name": "stderr",
     "output_type": "stream",
     "text": [
      "100%|██████████| 50/50 [01:13<00:00,  1.48s/it]\n"
     ]
    },
    {
     "name": "stdout",
     "output_type": "stream",
     "text": [
      "Processing block 17 out of 20, attempt 1\n"
     ]
    },
    {
     "name": "stderr",
     "output_type": "stream",
     "text": [
      "100%|██████████| 50/50 [01:16<00:00,  1.52s/it]\n"
     ]
    },
    {
     "name": "stdout",
     "output_type": "stream",
     "text": [
      "Processing block 18 out of 20, attempt 1\n"
     ]
    },
    {
     "name": "stderr",
     "output_type": "stream",
     "text": [
      "100%|██████████| 50/50 [01:11<00:00,  1.43s/it]\n"
     ]
    },
    {
     "name": "stdout",
     "output_type": "stream",
     "text": [
      "Processing block 19 out of 20, attempt 1\n"
     ]
    },
    {
     "name": "stderr",
     "output_type": "stream",
     "text": [
      "100%|██████████| 50/50 [01:09<00:00,  1.39s/it]\n"
     ]
    },
    {
     "name": "stdout",
     "output_type": "stream",
     "text": [
      "Processing block 20 out of 20, attempt 1\n"
     ]
    },
    {
     "name": "stderr",
     "output_type": "stream",
     "text": [
      "100%|██████████| 50/50 [01:09<00:00,  1.38s/it]\n"
     ]
    }
   ],
   "source": [
    "# Split the dataframe into 10 computation blocks, so if the API fails just one specfic subset can be retried\n",
    "blocks = np.array_split(sampled_documents, 25)\n",
    "\n",
    "# Max retries per block\n",
    "max_retries = 4\n",
    "\n",
    "for i, block in enumerate(blocks):\n",
    "    for attempt in range(max_retries):\n",
    "        try:\n",
    "            print(f\"Processing block {i+1} out of {len(blocks)}, attempt {attempt+1}\")\n",
    "            block['chat_gpt'] = block['sentence_tokens'].progress_apply(lambda x: get_sentiment_gpt(x, prompt_all_samples))\n",
    "            \n",
    "            # Append processed block to the results dataframe\n",
    "            results_df = pd.concat([results_df, block])\n",
    "            # Break the retry loop as the block has been processed successfully\n",
    "            break\n",
    "\n",
    "        except Exception as e:\n",
    "            print(f\"An API error occurred while processing block {i+1} on attempt {attempt+1}: {e} \\n Waiting 5 seconds before retry...\")\n",
    "            time.sleep(5)  # Wait for specified delay before next attempt\n",
    "            if attempt + 1 == max_retries:\n",
    "                print(f\"Failed to process block {i+1} after {max_retries} attempts. Moving on to the next block.\")\n",
    "                \n",
    "# Now results_df has all the processed data\n",
    "sampled_documents = results_df"
   ]
  },
  {
   "cell_type": "code",
   "execution_count": 95,
   "metadata": {},
   "outputs": [],
   "source": [
    "# Function to re-process just a subset with the GPT API\n",
    "def reprocess_blocks(block_numbers, blocks, max_retries=3):\n",
    "    reprocessed_blocks = {}\n",
    "    for block_number in block_numbers:\n",
    "        block = blocks[block_number]\n",
    "        for attempt in range(max_retries):\n",
    "            try:\n",
    "                print(f\"Reprocessing block {block_number}, attempt {attempt+1}\")\n",
    "                block['chat_gpt'] = block['sentence_tokens'].progress_apply(lambda x: get_sentiment_gpt(x, prompt_all_samples))\n",
    "                # If processing is successful, add the processed block to the dict\n",
    "                reprocessed_blocks[block_number] = block\n",
    "                break\n",
    "            except Exception as e:\n",
    "                print(f\"An error occurred while reprocessing block {block_number+1} on attempt {attempt+1}: {e}\")\n",
    "                if attempt + 1 == max_retries:\n",
    "                    print(f\"Failed to reprocess block {block_number+1} after {max_retries} attempts.\")\n",
    "    return reprocessed_blocks"
   ]
  },
  {
   "cell_type": "code",
   "execution_count": 98,
   "metadata": {},
   "outputs": [
    {
     "name": "stdout",
     "output_type": "stream",
     "text": [
      "Reprocessing block 12, attempt 1\n"
     ]
    },
    {
     "name": "stderr",
     "output_type": "stream",
     "text": [
      "100%|██████████| 50/50 [01:11<00:00,  1.43s/it]\n"
     ]
    }
   ],
   "source": [
    "# Retry blocks\n",
    "retry = False # Only run the cell if needed\n",
    "\n",
    "if retry:\n",
    "    reprocessed_blocks = reprocess_blocks([11], blocks)\n",
    "\n",
    "    # Replace the old blocks with the reprocessed ones\n",
    "    for block_number, reprocessed_block in reprocessed_blocks.items():\n",
    "        blocks[block_number] = reprocessed_block\n",
    "\n",
    "    sampled_documents = pd.concat(blocks)"
   ]
  },
  {
   "attachments": {},
   "cell_type": "markdown",
   "metadata": {},
   "source": [
    "## Comparison of the different LLM"
   ]
  },
  {
   "cell_type": "code",
   "execution_count": 99,
   "metadata": {},
   "outputs": [
    {
     "data": {
      "text/html": [
       "<div>\n",
       "<style scoped>\n",
       "    .dataframe tbody tr th:only-of-type {\n",
       "        vertical-align: middle;\n",
       "    }\n",
       "\n",
       "    .dataframe tbody tr th {\n",
       "        vertical-align: top;\n",
       "    }\n",
       "\n",
       "    .dataframe thead th {\n",
       "        text-align: right;\n",
       "    }\n",
       "</style>\n",
       "<table border=\"1\" class=\"dataframe\">\n",
       "  <thead>\n",
       "    <tr style=\"text-align: right;\">\n",
       "      <th></th>\n",
       "      <th>cardiffnlp/twitter-roberta-base-sentiment</th>\n",
       "      <th>distilbert-base-uncased-finetuned-sst-2-english</th>\n",
       "      <th>Seethal/sentiment_analysis_generic_dataset</th>\n",
       "      <th>siebert/sentiment-roberta-large-english</th>\n",
       "      <th>nlptown/bert-base-multilingual-uncased-sentiment</th>\n",
       "      <th>flan</th>\n",
       "      <th>chat_gpt</th>\n",
       "      <th>sentiment_manual</th>\n",
       "    </tr>\n",
       "  </thead>\n",
       "  <tbody>\n",
       "    <tr>\n",
       "      <th>529113</th>\n",
       "      <td>0.868482</td>\n",
       "      <td>0.968752</td>\n",
       "      <td>0.986274</td>\n",
       "      <td>0.995720</td>\n",
       "      <td>0.374006</td>\n",
       "      <td>0.0</td>\n",
       "      <td>0.0</td>\n",
       "      <td>0.0</td>\n",
       "    </tr>\n",
       "    <tr>\n",
       "      <th>339673</th>\n",
       "      <td>0.694643</td>\n",
       "      <td>0.994828</td>\n",
       "      <td>0.832007</td>\n",
       "      <td>0.998569</td>\n",
       "      <td>0.290113</td>\n",
       "      <td>0.0</td>\n",
       "      <td>NaN</td>\n",
       "      <td>1.0</td>\n",
       "    </tr>\n",
       "    <tr>\n",
       "      <th>390711</th>\n",
       "      <td>0.676100</td>\n",
       "      <td>0.997667</td>\n",
       "      <td>0.985466</td>\n",
       "      <td>0.998429</td>\n",
       "      <td>0.679434</td>\n",
       "      <td>1.0</td>\n",
       "      <td>1.0</td>\n",
       "      <td>0.5</td>\n",
       "    </tr>\n",
       "    <tr>\n",
       "      <th>354554</th>\n",
       "      <td>0.691235</td>\n",
       "      <td>0.997449</td>\n",
       "      <td>0.997484</td>\n",
       "      <td>0.995504</td>\n",
       "      <td>0.563777</td>\n",
       "      <td>1.0</td>\n",
       "      <td>0.0</td>\n",
       "      <td>1.0</td>\n",
       "    </tr>\n",
       "    <tr>\n",
       "      <th>420428</th>\n",
       "      <td>0.557583</td>\n",
       "      <td>0.753011</td>\n",
       "      <td>0.983506</td>\n",
       "      <td>0.997035</td>\n",
       "      <td>0.355870</td>\n",
       "      <td>0.0</td>\n",
       "      <td>1.0</td>\n",
       "      <td>0.5</td>\n",
       "    </tr>\n",
       "    <tr>\n",
       "      <th>457123</th>\n",
       "      <td>0.466555</td>\n",
       "      <td>0.860434</td>\n",
       "      <td>0.988677</td>\n",
       "      <td>0.920602</td>\n",
       "      <td>0.700592</td>\n",
       "      <td>0.0</td>\n",
       "      <td>0.5</td>\n",
       "      <td>1.0</td>\n",
       "    </tr>\n",
       "    <tr>\n",
       "      <th>669146</th>\n",
       "      <td>0.861617</td>\n",
       "      <td>0.999638</td>\n",
       "      <td>0.993177</td>\n",
       "      <td>0.997528</td>\n",
       "      <td>0.451193</td>\n",
       "      <td>0.0</td>\n",
       "      <td>1.0</td>\n",
       "      <td>1.0</td>\n",
       "    </tr>\n",
       "    <tr>\n",
       "      <th>452818</th>\n",
       "      <td>0.616002</td>\n",
       "      <td>0.985258</td>\n",
       "      <td>0.640174</td>\n",
       "      <td>0.998287</td>\n",
       "      <td>0.288888</td>\n",
       "      <td>1.0</td>\n",
       "      <td>0.0</td>\n",
       "      <td>0.5</td>\n",
       "    </tr>\n",
       "    <tr>\n",
       "      <th>265897</th>\n",
       "      <td>0.572065</td>\n",
       "      <td>0.999541</td>\n",
       "      <td>0.996951</td>\n",
       "      <td>0.995354</td>\n",
       "      <td>0.538699</td>\n",
       "      <td>1.0</td>\n",
       "      <td>1.0</td>\n",
       "      <td>0.5</td>\n",
       "    </tr>\n",
       "    <tr>\n",
       "      <th>236198</th>\n",
       "      <td>0.832328</td>\n",
       "      <td>0.968791</td>\n",
       "      <td>0.995347</td>\n",
       "      <td>0.996854</td>\n",
       "      <td>0.436993</td>\n",
       "      <td>0.0</td>\n",
       "      <td>1.0</td>\n",
       "      <td>0.5</td>\n",
       "    </tr>\n",
       "    <tr>\n",
       "      <th>534476</th>\n",
       "      <td>0.525455</td>\n",
       "      <td>0.973281</td>\n",
       "      <td>0.987187</td>\n",
       "      <td>0.977841</td>\n",
       "      <td>0.239755</td>\n",
       "      <td>0.0</td>\n",
       "      <td>NaN</td>\n",
       "      <td>0.5</td>\n",
       "    </tr>\n",
       "    <tr>\n",
       "      <th>217704</th>\n",
       "      <td>0.501499</td>\n",
       "      <td>0.980261</td>\n",
       "      <td>0.982307</td>\n",
       "      <td>0.997890</td>\n",
       "      <td>0.453422</td>\n",
       "      <td>0.0</td>\n",
       "      <td>0.0</td>\n",
       "      <td>1.0</td>\n",
       "    </tr>\n",
       "    <tr>\n",
       "      <th>584821</th>\n",
       "      <td>0.882594</td>\n",
       "      <td>0.721648</td>\n",
       "      <td>0.996898</td>\n",
       "      <td>0.988039</td>\n",
       "      <td>0.276765</td>\n",
       "      <td>0.0</td>\n",
       "      <td>0.0</td>\n",
       "      <td>0.5</td>\n",
       "    </tr>\n",
       "    <tr>\n",
       "      <th>654475</th>\n",
       "      <td>0.912963</td>\n",
       "      <td>0.829093</td>\n",
       "      <td>0.858733</td>\n",
       "      <td>0.991787</td>\n",
       "      <td>0.389708</td>\n",
       "      <td>0.0</td>\n",
       "      <td>0.0</td>\n",
       "      <td>0.5</td>\n",
       "    </tr>\n",
       "    <tr>\n",
       "      <th>412589</th>\n",
       "      <td>0.895866</td>\n",
       "      <td>0.979533</td>\n",
       "      <td>0.997253</td>\n",
       "      <td>0.993950</td>\n",
       "      <td>0.256310</td>\n",
       "      <td>1.0</td>\n",
       "      <td>1.0</td>\n",
       "      <td>1.0</td>\n",
       "    </tr>\n",
       "  </tbody>\n",
       "</table>\n",
       "</div>"
      ],
      "text/plain": [
       "        cardiffnlp/twitter-roberta-base-sentiment   \n",
       "529113                                   0.868482  \\\n",
       "339673                                   0.694643   \n",
       "390711                                   0.676100   \n",
       "354554                                   0.691235   \n",
       "420428                                   0.557583   \n",
       "457123                                   0.466555   \n",
       "669146                                   0.861617   \n",
       "452818                                   0.616002   \n",
       "265897                                   0.572065   \n",
       "236198                                   0.832328   \n",
       "534476                                   0.525455   \n",
       "217704                                   0.501499   \n",
       "584821                                   0.882594   \n",
       "654475                                   0.912963   \n",
       "412589                                   0.895866   \n",
       "\n",
       "        distilbert-base-uncased-finetuned-sst-2-english   \n",
       "529113                                         0.968752  \\\n",
       "339673                                         0.994828   \n",
       "390711                                         0.997667   \n",
       "354554                                         0.997449   \n",
       "420428                                         0.753011   \n",
       "457123                                         0.860434   \n",
       "669146                                         0.999638   \n",
       "452818                                         0.985258   \n",
       "265897                                         0.999541   \n",
       "236198                                         0.968791   \n",
       "534476                                         0.973281   \n",
       "217704                                         0.980261   \n",
       "584821                                         0.721648   \n",
       "654475                                         0.829093   \n",
       "412589                                         0.979533   \n",
       "\n",
       "        Seethal/sentiment_analysis_generic_dataset   \n",
       "529113                                    0.986274  \\\n",
       "339673                                    0.832007   \n",
       "390711                                    0.985466   \n",
       "354554                                    0.997484   \n",
       "420428                                    0.983506   \n",
       "457123                                    0.988677   \n",
       "669146                                    0.993177   \n",
       "452818                                    0.640174   \n",
       "265897                                    0.996951   \n",
       "236198                                    0.995347   \n",
       "534476                                    0.987187   \n",
       "217704                                    0.982307   \n",
       "584821                                    0.996898   \n",
       "654475                                    0.858733   \n",
       "412589                                    0.997253   \n",
       "\n",
       "        siebert/sentiment-roberta-large-english   \n",
       "529113                                 0.995720  \\\n",
       "339673                                 0.998569   \n",
       "390711                                 0.998429   \n",
       "354554                                 0.995504   \n",
       "420428                                 0.997035   \n",
       "457123                                 0.920602   \n",
       "669146                                 0.997528   \n",
       "452818                                 0.998287   \n",
       "265897                                 0.995354   \n",
       "236198                                 0.996854   \n",
       "534476                                 0.977841   \n",
       "217704                                 0.997890   \n",
       "584821                                 0.988039   \n",
       "654475                                 0.991787   \n",
       "412589                                 0.993950   \n",
       "\n",
       "        nlptown/bert-base-multilingual-uncased-sentiment  flan  chat_gpt   \n",
       "529113                                          0.374006   0.0       0.0  \\\n",
       "339673                                          0.290113   0.0       NaN   \n",
       "390711                                          0.679434   1.0       1.0   \n",
       "354554                                          0.563777   1.0       0.0   \n",
       "420428                                          0.355870   0.0       1.0   \n",
       "457123                                          0.700592   0.0       0.5   \n",
       "669146                                          0.451193   0.0       1.0   \n",
       "452818                                          0.288888   1.0       0.0   \n",
       "265897                                          0.538699   1.0       1.0   \n",
       "236198                                          0.436993   0.0       1.0   \n",
       "534476                                          0.239755   0.0       NaN   \n",
       "217704                                          0.453422   0.0       0.0   \n",
       "584821                                          0.276765   0.0       0.0   \n",
       "654475                                          0.389708   0.0       0.0   \n",
       "412589                                          0.256310   1.0       1.0   \n",
       "\n",
       "        sentiment_manual  \n",
       "529113               0.0  \n",
       "339673               1.0  \n",
       "390711               0.5  \n",
       "354554               1.0  \n",
       "420428               0.5  \n",
       "457123               1.0  \n",
       "669146               1.0  \n",
       "452818               0.5  \n",
       "265897               0.5  \n",
       "236198               0.5  \n",
       "534476               0.5  \n",
       "217704               1.0  \n",
       "584821               0.5  \n",
       "654475               0.5  \n",
       "412589               1.0  "
      ]
     },
     "execution_count": 99,
     "metadata": {},
     "output_type": "execute_result"
    }
   ],
   "source": [
    "sampled_documents[models+ ['flan','chat_gpt', 'sentiment_manual']].head(15)"
   ]
  },
  {
   "cell_type": "code",
   "execution_count": 100,
   "metadata": {},
   "outputs": [
    {
     "data": {
      "text/html": [
       "<div>\n",
       "<style scoped>\n",
       "    .dataframe tbody tr th:only-of-type {\n",
       "        vertical-align: middle;\n",
       "    }\n",
       "\n",
       "    .dataframe tbody tr th {\n",
       "        vertical-align: top;\n",
       "    }\n",
       "\n",
       "    .dataframe thead th {\n",
       "        text-align: right;\n",
       "    }\n",
       "</style>\n",
       "<table border=\"1\" class=\"dataframe\">\n",
       "  <thead>\n",
       "    <tr style=\"text-align: right;\">\n",
       "      <th></th>\n",
       "      <th>cardiffnlp/twitter-roberta-base-sentiment</th>\n",
       "      <th>distilbert-base-uncased-finetuned-sst-2-english</th>\n",
       "      <th>Seethal/sentiment_analysis_generic_dataset</th>\n",
       "      <th>siebert/sentiment-roberta-large-english</th>\n",
       "      <th>nlptown/bert-base-multilingual-uncased-sentiment</th>\n",
       "      <th>flan</th>\n",
       "      <th>chat_gpt</th>\n",
       "      <th>sentiment_manual</th>\n",
       "    </tr>\n",
       "  </thead>\n",
       "  <tbody>\n",
       "    <tr>\n",
       "      <th>count</th>\n",
       "      <td>1000.000000</td>\n",
       "      <td>1000.000000</td>\n",
       "      <td>1000.000000</td>\n",
       "      <td>1000.000000</td>\n",
       "      <td>1000.000000</td>\n",
       "      <td>1000.000000</td>\n",
       "      <td>756.000000</td>\n",
       "      <td>1000.000000</td>\n",
       "    </tr>\n",
       "    <tr>\n",
       "      <th>mean</th>\n",
       "      <td>0.759190</td>\n",
       "      <td>0.935724</td>\n",
       "      <td>0.930137</td>\n",
       "      <td>0.986258</td>\n",
       "      <td>0.403941</td>\n",
       "      <td>0.331000</td>\n",
       "      <td>0.480754</td>\n",
       "      <td>0.547000</td>\n",
       "    </tr>\n",
       "    <tr>\n",
       "      <th>std</th>\n",
       "      <td>0.129370</td>\n",
       "      <td>0.102596</td>\n",
       "      <td>0.123103</td>\n",
       "      <td>0.044772</td>\n",
       "      <td>0.127175</td>\n",
       "      <td>0.470809</td>\n",
       "      <td>0.439781</td>\n",
       "      <td>0.267137</td>\n",
       "    </tr>\n",
       "    <tr>\n",
       "      <th>min</th>\n",
       "      <td>0.451272</td>\n",
       "      <td>0.512680</td>\n",
       "      <td>0.411689</td>\n",
       "      <td>0.512829</td>\n",
       "      <td>0.221268</td>\n",
       "      <td>0.000000</td>\n",
       "      <td>0.000000</td>\n",
       "      <td>0.000000</td>\n",
       "    </tr>\n",
       "    <tr>\n",
       "      <th>25%</th>\n",
       "      <td>0.669902</td>\n",
       "      <td>0.930057</td>\n",
       "      <td>0.936870</td>\n",
       "      <td>0.990823</td>\n",
       "      <td>0.310282</td>\n",
       "      <td>0.000000</td>\n",
       "      <td>0.000000</td>\n",
       "      <td>0.500000</td>\n",
       "    </tr>\n",
       "    <tr>\n",
       "      <th>50%</th>\n",
       "      <td>0.790775</td>\n",
       "      <td>0.982915</td>\n",
       "      <td>0.989535</td>\n",
       "      <td>0.996029</td>\n",
       "      <td>0.374248</td>\n",
       "      <td>0.000000</td>\n",
       "      <td>0.500000</td>\n",
       "      <td>0.500000</td>\n",
       "    </tr>\n",
       "    <tr>\n",
       "      <th>75%</th>\n",
       "      <td>0.870134</td>\n",
       "      <td>0.995019</td>\n",
       "      <td>0.996488</td>\n",
       "      <td>0.998183</td>\n",
       "      <td>0.457630</td>\n",
       "      <td>1.000000</td>\n",
       "      <td>1.000000</td>\n",
       "      <td>0.500000</td>\n",
       "    </tr>\n",
       "    <tr>\n",
       "      <th>max</th>\n",
       "      <td>0.966721</td>\n",
       "      <td>0.999862</td>\n",
       "      <td>0.998032</td>\n",
       "      <td>0.999484</td>\n",
       "      <td>0.923573</td>\n",
       "      <td>1.000000</td>\n",
       "      <td>1.000000</td>\n",
       "      <td>1.000000</td>\n",
       "    </tr>\n",
       "  </tbody>\n",
       "</table>\n",
       "</div>"
      ],
      "text/plain": [
       "       cardiffnlp/twitter-roberta-base-sentiment   \n",
       "count                                1000.000000  \\\n",
       "mean                                    0.759190   \n",
       "std                                     0.129370   \n",
       "min                                     0.451272   \n",
       "25%                                     0.669902   \n",
       "50%                                     0.790775   \n",
       "75%                                     0.870134   \n",
       "max                                     0.966721   \n",
       "\n",
       "       distilbert-base-uncased-finetuned-sst-2-english   \n",
       "count                                      1000.000000  \\\n",
       "mean                                          0.935724   \n",
       "std                                           0.102596   \n",
       "min                                           0.512680   \n",
       "25%                                           0.930057   \n",
       "50%                                           0.982915   \n",
       "75%                                           0.995019   \n",
       "max                                           0.999862   \n",
       "\n",
       "       Seethal/sentiment_analysis_generic_dataset   \n",
       "count                                 1000.000000  \\\n",
       "mean                                     0.930137   \n",
       "std                                      0.123103   \n",
       "min                                      0.411689   \n",
       "25%                                      0.936870   \n",
       "50%                                      0.989535   \n",
       "75%                                      0.996488   \n",
       "max                                      0.998032   \n",
       "\n",
       "       siebert/sentiment-roberta-large-english   \n",
       "count                              1000.000000  \\\n",
       "mean                                  0.986258   \n",
       "std                                   0.044772   \n",
       "min                                   0.512829   \n",
       "25%                                   0.990823   \n",
       "50%                                   0.996029   \n",
       "75%                                   0.998183   \n",
       "max                                   0.999484   \n",
       "\n",
       "       nlptown/bert-base-multilingual-uncased-sentiment         flan   \n",
       "count                                       1000.000000  1000.000000  \\\n",
       "mean                                           0.403941     0.331000   \n",
       "std                                            0.127175     0.470809   \n",
       "min                                            0.221268     0.000000   \n",
       "25%                                            0.310282     0.000000   \n",
       "50%                                            0.374248     0.000000   \n",
       "75%                                            0.457630     1.000000   \n",
       "max                                            0.923573     1.000000   \n",
       "\n",
       "         chat_gpt  sentiment_manual  \n",
       "count  756.000000       1000.000000  \n",
       "mean     0.480754          0.547000  \n",
       "std      0.439781          0.267137  \n",
       "min      0.000000          0.000000  \n",
       "25%      0.000000          0.500000  \n",
       "50%      0.500000          0.500000  \n",
       "75%      1.000000          0.500000  \n",
       "max      1.000000          1.000000  "
      ]
     },
     "execution_count": 100,
     "metadata": {},
     "output_type": "execute_result"
    }
   ],
   "source": [
    "sampled_documents[models+ ['flan','chat_gpt', 'sentiment_manual']].describe()"
   ]
  },
  {
   "cell_type": "code",
   "execution_count": 101,
   "metadata": {},
   "outputs": [],
   "source": [
    "# Function to normalize scores with defined cut-off borders\n",
    "def normalize_score(score):\n",
    "    if score <= 0.33:\n",
    "        return 0.0\n",
    "    elif score <= 0.66:\n",
    "        return 0.5\n",
    "    else:\n",
    "        return 1.0\n",
    "\n",
    "# Apply the normalization for each sentiment score\n",
    "for model in models:\n",
    "    sampled_documents[model + '_norm'] = sampled_documents[model].apply(normalize_score)"
   ]
  },
  {
   "cell_type": "code",
   "execution_count": 207,
   "metadata": {},
   "outputs": [
    {
     "ename": "KeyError",
     "evalue": "\"['cardiffnlp/twitter-roberta-base-sentiment', 'distilbert-base-uncased-finetuned-sst-2-english', 'Seethal/sentiment_analysis_generic_dataset', 'siebert/sentiment-roberta-large-english', 'nlptown/bert-base-multilingual-uncased-sentiment', 'flan', 'chat_gpt'] not in index\"",
     "output_type": "error",
     "traceback": [
      "\u001b[0;31m---------------------------------------------------------------------------\u001b[0m",
      "\u001b[0;31mKeyError\u001b[0m                                  Traceback (most recent call last)",
      "Cell \u001b[0;32mIn[207], line 7\u001b[0m\n\u001b[1;32m      4\u001b[0m fig, axes \u001b[39m=\u001b[39m plt\u001b[39m.\u001b[39msubplots(\u001b[39m1\u001b[39m, \u001b[39m2\u001b[39m, figsize\u001b[39m=\u001b[39m(\u001b[39m16\u001b[39m, \u001b[39m9\u001b[39m))\n\u001b[1;32m      6\u001b[0m \u001b[39m# Boxplot for the original scores retrieved from the models\u001b[39;00m\n\u001b[0;32m----> 7\u001b[0m sns\u001b[39m.\u001b[39mboxplot(ax\u001b[39m=\u001b[39maxes[\u001b[39m0\u001b[39m], data\u001b[39m=\u001b[39msampled_documents[models \u001b[39m+\u001b[39;49m [\u001b[39m'\u001b[39;49m\u001b[39mflan\u001b[39;49m\u001b[39m'\u001b[39;49m,\u001b[39m'\u001b[39;49m\u001b[39mchat_gpt\u001b[39;49m\u001b[39m'\u001b[39;49m,\u001b[39m'\u001b[39;49m\u001b[39msentiment_manual\u001b[39;49m\u001b[39m'\u001b[39;49m]])\n\u001b[1;32m      8\u001b[0m axes[\u001b[39m0\u001b[39m]\u001b[39m.\u001b[39mset_title(\u001b[39m'\u001b[39m\u001b[39mOriginal Sentiment Scores\u001b[39m\u001b[39m'\u001b[39m, fontsize\u001b[39m=\u001b[39m\u001b[39m16\u001b[39m)\n\u001b[1;32m      9\u001b[0m axes[\u001b[39m0\u001b[39m]\u001b[39m.\u001b[39mset_xlabel(\u001b[39m'\u001b[39m\u001b[39mModels\u001b[39m\u001b[39m'\u001b[39m, fontsize\u001b[39m=\u001b[39m\u001b[39m12\u001b[39m)\n",
      "File \u001b[0;32m~/.pyenv/versions/3.10.10/envs/venv-nlp/lib/python3.10/site-packages/pandas/core/frame.py:3767\u001b[0m, in \u001b[0;36mDataFrame.__getitem__\u001b[0;34m(self, key)\u001b[0m\n\u001b[1;32m   3765\u001b[0m     \u001b[39mif\u001b[39;00m is_iterator(key):\n\u001b[1;32m   3766\u001b[0m         key \u001b[39m=\u001b[39m \u001b[39mlist\u001b[39m(key)\n\u001b[0;32m-> 3767\u001b[0m     indexer \u001b[39m=\u001b[39m \u001b[39mself\u001b[39;49m\u001b[39m.\u001b[39;49mcolumns\u001b[39m.\u001b[39;49m_get_indexer_strict(key, \u001b[39m\"\u001b[39;49m\u001b[39mcolumns\u001b[39;49m\u001b[39m\"\u001b[39;49m)[\u001b[39m1\u001b[39m]\n\u001b[1;32m   3769\u001b[0m \u001b[39m# take() does not accept boolean indexers\u001b[39;00m\n\u001b[1;32m   3770\u001b[0m \u001b[39mif\u001b[39;00m \u001b[39mgetattr\u001b[39m(indexer, \u001b[39m\"\u001b[39m\u001b[39mdtype\u001b[39m\u001b[39m\"\u001b[39m, \u001b[39mNone\u001b[39;00m) \u001b[39m==\u001b[39m \u001b[39mbool\u001b[39m:\n",
      "File \u001b[0;32m~/.pyenv/versions/3.10.10/envs/venv-nlp/lib/python3.10/site-packages/pandas/core/indexes/base.py:5876\u001b[0m, in \u001b[0;36mIndex._get_indexer_strict\u001b[0;34m(self, key, axis_name)\u001b[0m\n\u001b[1;32m   5873\u001b[0m \u001b[39melse\u001b[39;00m:\n\u001b[1;32m   5874\u001b[0m     keyarr, indexer, new_indexer \u001b[39m=\u001b[39m \u001b[39mself\u001b[39m\u001b[39m.\u001b[39m_reindex_non_unique(keyarr)\n\u001b[0;32m-> 5876\u001b[0m \u001b[39mself\u001b[39;49m\u001b[39m.\u001b[39;49m_raise_if_missing(keyarr, indexer, axis_name)\n\u001b[1;32m   5878\u001b[0m keyarr \u001b[39m=\u001b[39m \u001b[39mself\u001b[39m\u001b[39m.\u001b[39mtake(indexer)\n\u001b[1;32m   5879\u001b[0m \u001b[39mif\u001b[39;00m \u001b[39misinstance\u001b[39m(key, Index):\n\u001b[1;32m   5880\u001b[0m     \u001b[39m# GH 42790 - Preserve name from an Index\u001b[39;00m\n",
      "File \u001b[0;32m~/.pyenv/versions/3.10.10/envs/venv-nlp/lib/python3.10/site-packages/pandas/core/indexes/base.py:5938\u001b[0m, in \u001b[0;36mIndex._raise_if_missing\u001b[0;34m(self, key, indexer, axis_name)\u001b[0m\n\u001b[1;32m   5935\u001b[0m     \u001b[39mraise\u001b[39;00m \u001b[39mKeyError\u001b[39;00m(\u001b[39mf\u001b[39m\u001b[39m\"\u001b[39m\u001b[39mNone of [\u001b[39m\u001b[39m{\u001b[39;00mkey\u001b[39m}\u001b[39;00m\u001b[39m] are in the [\u001b[39m\u001b[39m{\u001b[39;00maxis_name\u001b[39m}\u001b[39;00m\u001b[39m]\u001b[39m\u001b[39m\"\u001b[39m)\n\u001b[1;32m   5937\u001b[0m not_found \u001b[39m=\u001b[39m \u001b[39mlist\u001b[39m(ensure_index(key)[missing_mask\u001b[39m.\u001b[39mnonzero()[\u001b[39m0\u001b[39m]]\u001b[39m.\u001b[39munique())\n\u001b[0;32m-> 5938\u001b[0m \u001b[39mraise\u001b[39;00m \u001b[39mKeyError\u001b[39;00m(\u001b[39mf\u001b[39m\u001b[39m\"\u001b[39m\u001b[39m{\u001b[39;00mnot_found\u001b[39m}\u001b[39;00m\u001b[39m not in index\u001b[39m\u001b[39m\"\u001b[39m)\n",
      "\u001b[0;31mKeyError\u001b[0m: \"['cardiffnlp/twitter-roberta-base-sentiment', 'distilbert-base-uncased-finetuned-sst-2-english', 'Seethal/sentiment_analysis_generic_dataset', 'siebert/sentiment-roberta-large-english', 'nlptown/bert-base-multilingual-uncased-sentiment', 'flan', 'chat_gpt'] not in index\""
     ]
    },
    {
     "data": {
      "image/png": "[encoded data removed]",
      "text/plain": [
       "<Figure size 1600x900 with 2 Axes>"
      ]
     },
     "metadata": {},
     "output_type": "display_data"
    }
   ],
   "source": [
    "# Plot the results of the different sentiment annotations and add the manual annotations to the boxplot\n",
    "\n",
    "# Create the subplots\n",
    "fig, axes = plt.subplots(1, 2, figsize=(16, 9))\n",
    "\n",
    "# Boxplot for the original scores retrieved from the models\n",
    "sns.boxplot(ax=axes[0], data=sampled_documents[models + ['flan','chat_gpt','sentiment_manual']])\n",
    "axes[0].set_title('Original Sentiment Scores', fontsize=16)\n",
    "axes[0].set_xlabel('Models', fontsize=12)\n",
    "axes[0].set_ylabel('Sentiment Score', fontsize=12)\n",
    "axes[0].tick_params(axis='x', rotation=90)\n",
    "\n",
    "# Boxplot for the normalized scores\n",
    "sns.boxplot(ax=axes[1], data=sampled_documents[[model + '_norm' for model in models] + ['flan','chat_gpt','sentiment_manual']])\n",
    "axes[1].set_title('Continuous Sentiment Scores', fontsize=16)\n",
    "axes[1].set_xlabel('Models', fontsize=12)\n",
    "axes[1].set_ylabel('Categorical Sentiment Score', fontsize=12)\n",
    "axes[1].tick_params(axis='x', rotation=90)\n",
    "\n",
    "plt.tight_layout()\n",
    "plt.show()"
   ]
  },
  {
   "cell_type": "code",
   "execution_count": 105,
   "metadata": {},
   "outputs": [
    {
     "data": {
      "image/png": "[encoded data removed]",
      "text/plain": [
       "<Figure size 1000x1000 with 3 Axes>"
      ]
     },
     "metadata": {},
     "output_type": "display_data"
    }
   ],
   "source": [
    "# Since multiple models just have 0.0, 0.5 and 1.0 as an output\n",
    "df_hist = sampled_documents[['flan', 'chat_gpt', 'sentiment_manual']]\n",
    "\n",
    "plt.figure(figsize=(10,10))\n",
    "for i, col in enumerate(df_hist.columns):\n",
    "    plt.subplot(3, 1, i+1)\n",
    "    sns.histplot(df_hist[col], bins=10, kde=True)\n",
    "    plt.title(f\"Histogram of {col}\")\n",
    "    \n",
    "plt.tight_layout()\n",
    "plt.show()\n"
   ]
  },
  {
   "attachments": {},
   "cell_type": "markdown",
   "metadata": {},
   "source": [
    "\n",
    "From a processing speed perspective, the models differ in iterations per second (*it/s*):  \n",
    "\n",
    "- cardiffnlp/twitter-roberta-base-sentiment:            25.5 it/s\n",
    "- distilbert-base-uncased-finetuned-sst-2-english:      42.5 it/s\n",
    "- Seethal/sentiment_analysis_generic_dataset:         45.0 it/s\n",
    "- siebert/sentiment-roberta-large-english:              8.9 it/s\n",
    "- nlptown/bert-base-multilingual-uncased-sentiment:     23.2 it/s\n",
    "- google/flan-t5-base:                                  8.5 it/s\n",
    "- GPT (via API):                                        1.5 it/s\n",
    "\n",
    "*Seethal/sentiment_analysis_generic_dataset* is the fastest in terms of performance, *google/flan-t5-base* and *siebert/sentiment-roberta-large-english* are both around 8-9 it/s (slowest).  \n",
    "Since *GPT* is called by an API, the processing speed is even slower with around 1.5 it/s. In addition it is costly, around 2$ for 1,000 sentences with the \"text-davinci-003\" mode.  \n",
    "The models were tested on a Apple M1 Pro CPU with 10 cores and 32GB RAM."
   ]
  },
  {
   "attachments": {},
   "cell_type": "markdown",
   "metadata": {},
   "source": [
    "The examination of different models for sentiment analysis has led to several noteworthy observations. Foremost among these is the superior performance of the Generative Pre-training Transformer (GPT) model in terms of congruence with our gold standard.  \n",
    "This is corroborated by our quantitative and visual analyses, with both the boxplot mean values of *'chat_gpt'* and *'sentiment_manual'*, and the histogram comparisons substantiating the superior alignment of GPT outputs with the gold standard.\n",
    "\n",
    "However, an important consideration in the context is the cost and computational efficiency associated with each model. Despite its promising performance, the GPT model necessitates an API call for each execution.  \n",
    "This introduces a latency that substantially slows down the overall processing speed, making it less practical for annotating the full dataset within the given constraints.\n",
    "\n",
    "Among the other models evaluated, the *'nlptown/bert-base-multilingual-uncased-sentiment'* model exhibits the most satisfactory performance. It has the smallest difference in mean value to 'sentiment_manual' compared to the rest of the models.  \n",
    "Furthermore, its processing speed is commendably efficient, positioning it in the mid-range among the models tested.  \n",
    "Consequently, this model strikes a balance between performance and computational efficiency, rendering it a suitable choice for our dataset annotation."
   ]
  },
  {
   "attachments": {},
   "cell_type": "markdown",
   "metadata": {},
   "source": [
    "## Full Dataset Annotation with the selected LLM\n",
    "\n",
    "Based on the comparison, *nlptown/bert-base-multilingual-uncased-sentiment* demonstrated best results to annotate the ESG documents.  \n",
    "Therefore this LLM with a zero-shot / direct request strategy is used to annotate all sentences."
   ]
  },
  {
   "cell_type": "code",
   "execution_count": 106,
   "metadata": {},
   "outputs": [],
   "source": [
    "# Craete new column to store the sentence sentiment\n",
    "documents['sentiment_llm'] = np.nan"
   ]
  },
  {
   "cell_type": "code",
   "execution_count": null,
   "metadata": {},
   "outputs": [],
   "source": [
    "from transformers import pipeline\n",
    "import numpy as np\n",
    "\n",
    "def get_sentiment_scores(nlp, sentences):\n",
    "    results = nlp(sentences)\n",
    "    scores = [result['score'] for result in results]\n",
    "    return scores\n",
    "\n",
    "nlp_full = pipeline('sentiment-analysis', model='nlptown/bert-base-multilingual-uncased-sentiment', use_fast=True, truncation=True) # Model supports max. 512 tokens\n",
    "\n",
    "# Define batch size for the processing\n",
    "batch_size = 1000\n",
    "\n",
    "# Split the sentences into batches and get scores\n",
    "scores = []\n",
    "for i in tqdm(range(0, len(documents['sentence_tokens'].sample(1000)), batch_size), desc=\"Processing batches\"):\n",
    "    batch = documents['sentence_tokens'][i:i+batch_size].tolist()\n",
    "    batch_scores = get_sentiment_scores(nlp_full, batch)\n",
    "    scores.extend(batch_scores)\n",
    "\n",
    "# Add scores to DataFrame\n",
    "documents['sentiment_llm'] = scores"
   ]
  },
  {
   "cell_type": "code",
   "execution_count": null,
   "metadata": {},
   "outputs": [],
   "source": [
    "# Check the calculated sentiment values with a histogram\n",
    "plt.figure(figsize=(10,6))\n",
    "sns.histplot(documents['sentiment_llm'], bins=10, kde=True)\n",
    "plt.title('Distribution of calculated Sentiment Values by LLM')\n",
    "plt.tight_layout()\n",
    "plt.show()"
   ]
  },
  {
   "cell_type": "code",
   "execution_count": null,
   "metadata": {},
   "outputs": [],
   "source": [
    "# Reduce output columns\n",
    "documents_reduced = documents[['company','datatype','title','date','domain','esg_topics','internal','symbol','sentence_tokens','market_cap_in_usd_b','sector','industry','year_month' ,'year','month','sentiment_llm', 'original_index']]\n",
    "\n",
    "# Group by the 'original_index' and aggregate the columns\n",
    "documents_aggregated = documents_reduced.groupby('original_index').agg({\n",
    "    # Use 'first' function for all columns except for 'sentence_tokens' and 'sentence_sentiment_value_llm'\n",
    "    'company': 'first',  \n",
    "    'datatype': 'first',  \n",
    "    'title': 'first',  \n",
    "    'date': 'first',  \n",
    "    'domain': 'first',  \n",
    "    'esg_topics': 'first',  \n",
    "    'internal': 'first',  \n",
    "    'symbol': 'first',  \n",
    "    'sentence_tokens': list,  # Combine the 'sentence_tokens' into a list\n",
    "    'market_cap_in_usd_b': 'first',  \n",
    "    'sector': 'first',  \n",
    "    'industry': 'first',  \n",
    "    'year_month': 'first',  \n",
    "    'year': 'first',  \n",
    "    'month': 'first',  \n",
    "    'sentiment_llm': lambda x: [i if pd.notnull(i) else np.nan for i in x]  # Combine the 'sentence_sentiment_value_llm' into a list, substituting NaN where no manual sentiment was added\n",
    "})\n",
    "\n",
    "# Reset the index\n",
    "documents_aggregated = documents_aggregated.reset_index(drop=True)"
   ]
  },
  {
   "cell_type": "code",
   "execution_count": null,
   "metadata": {},
   "outputs": [],
   "source": [
    "# Save the full annotations to CSV (whole dataframe is too big to store on GitHub, Google Drive link provided)\n",
    "if not os.path.exists('./annotated/'):  # Check if the directory exists and create it if it doesn't\n",
    "    os.makedirs('./annotated/')\n",
    "documents_aggregated.to_csv(f'./annotated/full_llm_annotated.csv', index=False, sep='|')"
   ]
  },
  {
   "attachments": {},
   "cell_type": "markdown",
   "metadata": {},
   "source": [
    "To store the complete CSSV with the calculated sentiment values, Google Drive is used. The \"gold_standart.csv\" (1,000 manually annotated sentences) and the \"full_llm_annotated.csv\" can be found here:  \n",
    "https://drive.google.com/drive/folders/1ATtCPPll6n_qvfMBu4ka84E3DZDS7d11"
   ]
  }
 ],
 "metadata": {
  "kernelspec": {
   "display_name": "venv-nlp",
   "language": "python",
   "name": "python3"
  },
  "language_info": {
   "codemirror_mode": {
    "name": "ipython",
    "version": 3
   },
   "file_extension": ".py",
   "mimetype": "text/x-python",
   "name": "python",
   "nbconvert_exporter": "python",
   "pygments_lexer": "ipython3",
   "version": "3.10.10"
  },
  "orig_nbformat": 4
 },
 "nbformat": 4,
 "nbformat_minor": 2
}
