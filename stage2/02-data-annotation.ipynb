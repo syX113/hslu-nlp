{
 "cells": [
  {
   "attachments": {},
   "cell_type": "markdown",
   "metadata": {},
   "source": [
    "# Stage 2: Data Annotation"
   ]
  },
  {
   "attachments": {},
   "cell_type": "markdown",
   "metadata": {},
   "source": [
    "In this notebook, several Large Language Model (LLM) are tested to perform sentiment annotation on the ESG document dataset, assigning scores of 0 for negative, 0.5 for neutral, and 1 for positive sentiment.  \n",
    "The workflow involves manually creating a \"gold standard\" by annotating ~500 sentences, setting up 2-3 LLMs for trial annotations, and experimenting with prompting strategies (zero-shot/few-shot) that we'll evaluate against the \"gold standard\".  \n",
    "As a last step, all sentences are annotated with a sentiment value."
   ]
  },
  {
   "attachments": {},
   "cell_type": "markdown",
   "metadata": {},
   "source": [
    "## Setup & Data Loading"
   ]
  },
  {
   "cell_type": "code",
   "execution_count": 5,
   "metadata": {},
   "outputs": [],
   "source": [
    "# Imports\n",
    "import os\n",
    "import re\n",
    "import ast\n",
    "import time\n",
    "import pandas as pd\n",
    "import numpy as np\n",
    "import openai\n",
    "import seaborn as sns\n",
    "import matplotlib.pyplot as plt\n",
    "from transformers import pipeline\n",
    "from transformers import AutoModelForSeq2SeqLM, AutoTokenizer, AutoModelForSequenceClassification\n",
    "from tqdm import tqdm\n",
    "tqdm.pandas()"
   ]
  },
  {
   "cell_type": "code",
   "execution_count": 6,
   "metadata": {},
   "outputs": [],
   "source": [
    "# Load the preprocessed data\n",
    "cleaned_data = pd.read_csv('../stage1/output/stage1_output.csv', delimiter = '|')"
   ]
  },
  {
   "cell_type": "code",
   "execution_count": 7,
   "metadata": {},
   "outputs": [],
   "source": [
    "# Define a function to convert a string representation of a list to a list datatype\n",
    "def string_to_list(string):\n",
    "    try:\n",
    "        return ast.literal_eval(string)\n",
    "    except (ValueError, SyntaxError):\n",
    "        print('List conversion failed')\n",
    "        return []\n",
    "\n",
    "def set_datatypes(df):\n",
    "    # Convert the string representations of the lists to the correct 'list' datatype\n",
    "    df['word_tokens'] = df['word_tokens'].apply(string_to_list)\n",
    "    df['sentence_tokens'] = df['sentence_tokens'].apply(string_to_list)\n",
    "    df['pos_tagged_word_tokens'] = df['pos_tagged_word_tokens'].apply(string_to_list)\n",
    "    df['pos_tagged_sentence_tokens'] = df['pos_tagged_sentence_tokens'].apply(string_to_list)\n",
    "    df['esg_topics'] = df['esg_topics'].apply(string_to_list)\n",
    "    \n",
    "    # Convert date to correct datatype\n",
    "    df['date'] = pd.to_datetime(df['date'])\n",
    "\n",
    "    # Derive year and month to aggregate\n",
    "    df['year_month'] = df['date'].apply(lambda x: x.strftime('%Y-%m'))\n",
    "    df['year'] = df['date'].apply(lambda x: x.strftime('%Y'))\n",
    "    df['month'] = df['date'].apply(lambda x: x.strftime('%m'))\n",
    "\n",
    "    return df"
   ]
  },
  {
   "cell_type": "code",
   "execution_count": 8,
   "metadata": {},
   "outputs": [],
   "source": [
    "# Set the correct datatypes, e.g. lists and datetime\n",
    "cleaned_data = set_datatypes(cleaned_data)"
   ]
  },
  {
   "cell_type": "code",
   "execution_count": 9,
   "metadata": {},
   "outputs": [],
   "source": [
    "# Define function to save intermediary steps in a file\n",
    "def csv_checkpoint(df, filename='checkpoint'):\n",
    "    \"\"\"\n",
    "    Saves a DataFrame to a CSV file and loads it back into a DataFrame.\n",
    "\n",
    "    Args:\n",
    "        df (pandas.DataFrame): The DataFrame to save and load.\n",
    "        filename (str): The name of the CSV file to save the DataFrame to (default: 'checkpoint').\n",
    "\n",
    "    Returns:\n",
    "        pandas.DataFrame: The loaded DataFrame.\n",
    "    \"\"\"\n",
    "    if not os.path.exists('./checkpoints/'):  # Check if the directory exists and create it if it doesn't\n",
    "        os.makedirs('./checkpoints/')\n",
    "\n",
    "    # Save DataFrame to CSV\n",
    "    df.to_csv(f'./checkpoints/{filename}.csv', index=False, sep='|')  # Save DataFrame to CSV with specified filename\n",
    "    print(f'Saved DataFrame to {filename}.csv')\n",
    "\n",
    "    # Load CSV back into DataFrame\n",
    "    df = pd.read_csv(f'./checkpoints/{filename}.csv', delimiter='|')  # Load CSV back into DataFrame\n",
    "    print(f'Loaded DataFrame from {filename}.csv')\n",
    "\n",
    "    return df"
   ]
  },
  {
   "attachments": {},
   "cell_type": "markdown",
   "metadata": {},
   "source": [
    "## Manual sentence sentiment annotation"
   ]
  },
  {
   "attachments": {},
   "cell_type": "markdown",
   "metadata": {},
   "source": [
    "To define a \"gold standard\" for the sentiment, 500 randomly sampled sentences are manually annotate with:  \n",
    "**0 = negative, 0.5 = neutral, 1 = positive**"
   ]
  },
  {
   "cell_type": "code",
   "execution_count": 10,
   "metadata": {},
   "outputs": [],
   "source": [
    "# Crate a deep copy so no reload from CSV files is necessary is something goes wrong\n",
    "documents = cleaned_data.copy(deep=True)"
   ]
  },
  {
   "cell_type": "code",
   "execution_count": 11,
   "metadata": {},
   "outputs": [],
   "source": [
    "# Explode the dataset based on the sentence tokens, so each row contains one sentence\n",
    "documents = documents.explode('sentence_tokens')\n",
    "\n",
    "# Drop rows with no sentence\n",
    "documents = documents.dropna(subset=['sentence_tokens'])\n",
    "documents = documents[documents['sentence_tokens'].str.strip() != '']\n",
    "\n",
    "# Preserve original index, so a later aggregation is possible but rows have unique index\n",
    "documents['original_index'] = documents.index\n",
    "\n",
    "# Reset the index\n",
    "documents = documents.reset_index(drop=True)"
   ]
  },
  {
   "attachments": {},
   "cell_type": "markdown",
   "metadata": {},
   "source": [
    "The ratio of internal and external documents is quite imbalanced (see EDA).  \n",
    "Therefore an oversampling for interal sentences is considered to get a ratio of 20/80 (internal/external) sentences."
   ]
  },
  {
   "cell_type": "code",
   "execution_count": 12,
   "metadata": {},
   "outputs": [],
   "source": [
    "# Separate the DataFrame into internal/external sentences with a defined ratio\n",
    "internal = documents[documents['internal'] == 1]\n",
    "external = documents[documents['internal'] == 0]\n",
    "\n",
    "# Determine the number of samples from each group, 1000 sentences in total\n",
    "n_internal = int(0.2 * 1000)  # 20% of samples\n",
    "n_external = 1000 - n_internal  # Remaining samples\n",
    "\n",
    "# Sample 1000 random sentences with a seed, so a re-run samples the same sentences\n",
    "sampled_internal = internal.sample(n=n_internal, random_state=42)\n",
    "sampled_external = external.sample(n=n_external, random_state=42)\n",
    "\n",
    "# Concatenate and shuffle the samples the DataFrames, reset the index\n",
    "sampled_documents = pd.concat([sampled_internal, sampled_external])\n",
    "sampled_documents = sampled_documents.sample(frac=1, random_state=42)\n",
    "sampled_documents = sampled_documents.reset_index(drop=True)"
   ]
  },
  {
   "cell_type": "code",
   "execution_count": 13,
   "metadata": {},
   "outputs": [
    {
     "name": "stdout",
     "output_type": "stream",
     "text": [
      "Gold standard loaded\n"
     ]
    }
   ],
   "source": [
    "# Craete new column to store the sentence sentiment\n",
    "sampled_documents['sentiment_manual'] = np.nan\n",
    "\n",
    "#annotate = input(\"Do you want to annotate? (y/n): \")\n",
    "#annotate = True if annotate.lower() == 'y' else False\n",
    "annotate = False\n",
    "\n",
    "if not annotate:\n",
    "    gold_standard = pd.read_csv('./annotated/gold_standard.csv', delimiter = '|')\n",
    "    if 'sentiment_manual' in gold_standard.columns:\n",
    "        sampled_documents['sentiment_manual'] = gold_standard['sentiment_manual']\n",
    "        print(\"Gold standard loaded\")\n",
    "    else:\n",
    "        print(\"'sentiment_manual' column not found in the CSV file.\")\n",
    "else:\n",
    "    print(\"Will start annotating...\")"
   ]
  },
  {
   "cell_type": "code",
   "execution_count": 14,
   "metadata": {},
   "outputs": [
    {
     "data": {
      "text/html": [
       "<div>\n",
       "<style scoped>\n",
       "    .dataframe tbody tr th:only-of-type {\n",
       "        vertical-align: middle;\n",
       "    }\n",
       "\n",
       "    .dataframe tbody tr th {\n",
       "        vertical-align: top;\n",
       "    }\n",
       "\n",
       "    .dataframe thead th {\n",
       "        text-align: right;\n",
       "    }\n",
       "</style>\n",
       "<table border=\"1\" class=\"dataframe\">\n",
       "  <thead>\n",
       "    <tr style=\"text-align: right;\">\n",
       "      <th></th>\n",
       "      <th>title</th>\n",
       "      <th>sentence_tokens</th>\n",
       "      <th>internal</th>\n",
       "      <th>sentiment_manual</th>\n",
       "    </tr>\n",
       "  </thead>\n",
       "  <tbody>\n",
       "    <tr>\n",
       "      <th>0</th>\n",
       "      <td>Bank of England: UK recovery gathering pace on...</td>\n",
       "      <td>operational decision interpreted change stance...</td>\n",
       "      <td>0</td>\n",
       "      <td>0.0</td>\n",
       "    </tr>\n",
       "    <tr>\n",
       "      <th>1</th>\n",
       "      <td>Trust is the Bedrock Beneath Every Lead With W...</td>\n",
       "      <td>one major reason single business blow public t...</td>\n",
       "      <td>0</td>\n",
       "      <td>1.0</td>\n",
       "    </tr>\n",
       "    <tr>\n",
       "      <th>2</th>\n",
       "      <td>How the war in Ukraine helped the FBI crack a ...</td>\n",
       "      <td>among data recovered fbi unique credentials in...</td>\n",
       "      <td>0</td>\n",
       "      <td>0.5</td>\n",
       "    </tr>\n",
       "    <tr>\n",
       "      <th>3</th>\n",
       "      <td>Neven Maguire's Christmas recipes: I like some...</td>\n",
       "      <td>leave cool cut quarters toss back cooking juices</td>\n",
       "      <td>0</td>\n",
       "      <td>1.0</td>\n",
       "    </tr>\n",
       "    <tr>\n",
       "      <th>4</th>\n",
       "      <td>Gradient Ventures Leads $ 6.3 Million Investme...</td>\n",
       "      <td>proprietary technology plugs internal systems ...</td>\n",
       "      <td>0</td>\n",
       "      <td>0.5</td>\n",
       "    </tr>\n",
       "  </tbody>\n",
       "</table>\n",
       "</div>"
      ],
      "text/plain": [
       "                                               title  \\\n",
       "0  Bank of England: UK recovery gathering pace on...   \n",
       "1  Trust is the Bedrock Beneath Every Lead With W...   \n",
       "2  How the war in Ukraine helped the FBI crack a ...   \n",
       "3  Neven Maguire's Christmas recipes: I like some...   \n",
       "4  Gradient Ventures Leads $ 6.3 Million Investme...   \n",
       "\n",
       "                                     sentence_tokens  internal  \\\n",
       "0  operational decision interpreted change stance...         0   \n",
       "1  one major reason single business blow public t...         0   \n",
       "2  among data recovered fbi unique credentials in...         0   \n",
       "3   leave cool cut quarters toss back cooking juices         0   \n",
       "4  proprietary technology plugs internal systems ...         0   \n",
       "\n",
       "   sentiment_manual  \n",
       "0               0.0  \n",
       "1               1.0  \n",
       "2               0.5  \n",
       "3               1.0  \n",
       "4               0.5  "
      ]
     },
     "execution_count": 14,
     "metadata": {},
     "output_type": "execute_result"
    }
   ],
   "source": [
    "# Check the sampled data\n",
    "sampled_documents[['title','sentence_tokens','internal','sentiment_manual']].head()"
   ]
  },
  {
   "attachments": {},
   "cell_type": "markdown",
   "metadata": {},
   "source": [
    "Within a loop, all sentences are manually annotated.  \n",
    "With a \"+\" a sentence is flagged as positive (1.0), a \"-\" marks a negative (0.0) sentence and \"Enter\" (no value) flags the sentence as neutral (0.5)."
   ]
  },
  {
   "cell_type": "code",
   "execution_count": 15,
   "metadata": {},
   "outputs": [],
   "source": [
    "if annotate:\n",
    "\n",
    "    # Loop the samples to annotate them\n",
    "    for idx, row in sampled_documents.iterrows():\n",
    "        # Loop until valid input is received\n",
    "        while True:\n",
    "            # Print the title of the document and the sentence\n",
    "            print(f\"Title: {row['title']}\\nSentence Nr. {idx}: {row['sentence_tokens']}\\n\")\n",
    "\n",
    "            # Wait for user input\n",
    "            sentiment = input(\"Enter sentiment value (+ for 1.0, - for 0.0, Enter for 0.5): \")\n",
    "\n",
    "            # Check if the input is valid\n",
    "            if sentiment == '+':\n",
    "                sampled_documents.at[idx, 'sentiment_manual'] = 1.0\n",
    "                break\n",
    "            elif sentiment == '-':\n",
    "                sampled_documents.at[idx, 'sentiment_manual'] = 0.0\n",
    "                break\n",
    "            elif sentiment == '':\n",
    "                sampled_documents.at[idx, 'sentiment_manual'] = 0.5\n",
    "                break\n",
    "            else:\n",
    "                print(\"Invalid input. Please try again.\")"
   ]
  },
  {
   "attachments": {},
   "cell_type": "markdown",
   "metadata": {},
   "source": [
    "*Print outs of all sentences deleted due to readability of the notebook*"
   ]
  },
  {
   "cell_type": "code",
   "execution_count": null,
   "metadata": {},
   "outputs": [],
   "source": [
    "# Save the manual annotations to CSV (whole dataframe is too big to store on GitHub, therefore only sentences and manual annotations are stored)\n",
    "if not os.path.exists('./annotated/'):  # Check if the directory exists and create it if it doesn't\n",
    "    os.makedirs('./annotated/')\n",
    "sampled_documents[['sentiment_manual', 'sentence_tokens']].to_csv(f'./annotated/gold_standard.csv', index=False, sep='|')\n",
    "\n",
    "csv_checkpoint(sampled_documents, 'sampled_documents');"
   ]
  },
  {
   "cell_type": "code",
   "execution_count": 14,
   "metadata": {},
   "outputs": [
    {
     "data": {
      "text/html": [
       "<div>\n",
       "<style scoped>\n",
       "    .dataframe tbody tr th:only-of-type {\n",
       "        vertical-align: middle;\n",
       "    }\n",
       "\n",
       "    .dataframe tbody tr th {\n",
       "        vertical-align: top;\n",
       "    }\n",
       "\n",
       "    .dataframe thead th {\n",
       "        text-align: right;\n",
       "    }\n",
       "</style>\n",
       "<table border=\"1\" class=\"dataframe\">\n",
       "  <thead>\n",
       "    <tr style=\"text-align: right;\">\n",
       "      <th></th>\n",
       "      <th>company</th>\n",
       "      <th>datatype</th>\n",
       "      <th>date</th>\n",
       "      <th>domain</th>\n",
       "      <th>esg_topics</th>\n",
       "      <th>internal</th>\n",
       "      <th>symbol</th>\n",
       "      <th>title</th>\n",
       "      <th>cleaned_content</th>\n",
       "      <th>word_tokens</th>\n",
       "      <th>...</th>\n",
       "      <th>pos_tagged_sentence_tokens</th>\n",
       "      <th>market_cap_in_usd_b</th>\n",
       "      <th>sector</th>\n",
       "      <th>industry</th>\n",
       "      <th>st1_sentiment_continuous</th>\n",
       "      <th>year_month</th>\n",
       "      <th>year</th>\n",
       "      <th>month</th>\n",
       "      <th>original_index</th>\n",
       "      <th>sentiment_manual</th>\n",
       "    </tr>\n",
       "  </thead>\n",
       "  <tbody>\n",
       "    <tr>\n",
       "      <th>0</th>\n",
       "      <td>Deutsche Bank</td>\n",
       "      <td>business</td>\n",
       "      <td>2021-05-06</td>\n",
       "      <td>cnbc</td>\n",
       "      <td>[Vaccine, Social]</td>\n",
       "      <td>0</td>\n",
       "      <td>DBK</td>\n",
       "      <td>Bank of England: UK recovery gathering pace on...</td>\n",
       "      <td>bank england thursday youk economy track stron...</td>\n",
       "      <td>[bank, england, thursday, youk, economy, track...</td>\n",
       "      <td>...</td>\n",
       "      <td>[[(bank, NN), (england, NN), (thursday, JJ)], ...</td>\n",
       "      <td>24.97</td>\n",
       "      <td>Financials</td>\n",
       "      <td>Banks</td>\n",
       "      <td>0.113356</td>\n",
       "      <td>2021-05</td>\n",
       "      <td>2021</td>\n",
       "      <td>05</td>\n",
       "      <td>4181</td>\n",
       "      <td>0.0</td>\n",
       "    </tr>\n",
       "    <tr>\n",
       "      <th>1</th>\n",
       "      <td>Merck</td>\n",
       "      <td>tech</td>\n",
       "      <td>2022-02-16</td>\n",
       "      <td>chatbotslife</td>\n",
       "      <td>[Fraud, CorporateBehavior, Monopolization, Cor...</td>\n",
       "      <td>0</td>\n",
       "      <td>MRK</td>\n",
       "      <td>Trust is the Bedrock Beneath Every Lead With W...</td>\n",
       "      <td>trust build reputation culture sale loyalty ti...</td>\n",
       "      <td>[trust, build, reputation, culture, sale, loya...</td>\n",
       "      <td>...</td>\n",
       "      <td>[[(trust, JJ), (reputation, NN), (culture, NN)...</td>\n",
       "      <td>87.64</td>\n",
       "      <td>Healthcare</td>\n",
       "      <td>Drug Manufacturers—Specialty &amp; Generic</td>\n",
       "      <td>0.042822</td>\n",
       "      <td>2022-02</td>\n",
       "      <td>2022</td>\n",
       "      <td>02</td>\n",
       "      <td>6808</td>\n",
       "      <td>1.0</td>\n",
       "    </tr>\n",
       "    <tr>\n",
       "      <th>2</th>\n",
       "      <td>Porsche</td>\n",
       "      <td>business</td>\n",
       "      <td>2022-11-01</td>\n",
       "      <td>marketwatch</td>\n",
       "      <td>[Fraud, RussianFederation, MoneyLaundering, Cy...</td>\n",
       "      <td>0</td>\n",
       "      <td>PAH3</td>\n",
       "      <td>How the war in Ukraine helped the FBI crack a ...</td>\n",
       "      <td>connected theft login credential around world ...</td>\n",
       "      <td>[connected, theft, login, credential, around, ...</td>\n",
       "      <td>...</td>\n",
       "      <td>[[(connected, VBN), (theft, NN), (login, NN), ...</td>\n",
       "      <td>16.65</td>\n",
       "      <td>Consumer Discretionary</td>\n",
       "      <td>Auto Manufacturers</td>\n",
       "      <td>-0.135204</td>\n",
       "      <td>2022-11</td>\n",
       "      <td>2022</td>\n",
       "      <td>11</td>\n",
       "      <td>7058</td>\n",
       "      <td>0.5</td>\n",
       "    </tr>\n",
       "    <tr>\n",
       "      <th>3</th>\n",
       "      <td>Beiersdorf</td>\n",
       "      <td>general</td>\n",
       "      <td>2021-12-23</td>\n",
       "      <td>irishexaminer</td>\n",
       "      <td>[Meat]</td>\n",
       "      <td>0</td>\n",
       "      <td>BEI</td>\n",
       "      <td>Neven Maguire's Christmas recipes: I like some...</td>\n",
       "      <td>picture key successful christmas kitchen accor...</td>\n",
       "      <td>[picture, key, successful, christmas, kitchen,...</td>\n",
       "      <td>...</td>\n",
       "      <td>[[], [(picture, NN), (key, JJ), (successful, J...</td>\n",
       "      <td>25.99</td>\n",
       "      <td>Consumer Staples</td>\n",
       "      <td>Household &amp; Personal Products</td>\n",
       "      <td>0.147823</td>\n",
       "      <td>2021-12</td>\n",
       "      <td>2021</td>\n",
       "      <td>12</td>\n",
       "      <td>2592</td>\n",
       "      <td>1.0</td>\n",
       "    </tr>\n",
       "    <tr>\n",
       "      <th>4</th>\n",
       "      <td>Zalando</td>\n",
       "      <td>tech</td>\n",
       "      <td>2022-07-13</td>\n",
       "      <td>aithority</td>\n",
       "      <td>[WorkerCrisis, Social, ThredUP]</td>\n",
       "      <td>0</td>\n",
       "      <td>ZAL</td>\n",
       "      <td>Gradient Ventures Leads $ 6.3 Million Investme...</td>\n",
       "      <td>aipowered predictive software platform invento...</td>\n",
       "      <td>[aipowered, predictive, software, platform, in...</td>\n",
       "      <td>...</td>\n",
       "      <td>[[(aipowered, VBN), (predictive, JJ), (softwar...</td>\n",
       "      <td>10.41</td>\n",
       "      <td>Consumer Discretionary</td>\n",
       "      <td>Internet Retail</td>\n",
       "      <td>0.228994</td>\n",
       "      <td>2022-07</td>\n",
       "      <td>2022</td>\n",
       "      <td>07</td>\n",
       "      <td>10939</td>\n",
       "      <td>0.5</td>\n",
       "    </tr>\n",
       "  </tbody>\n",
       "</table>\n",
       "<p>5 rows × 22 columns</p>\n",
       "</div>"
      ],
      "text/plain": [
       "         company  datatype       date         domain  \\\n",
       "0  Deutsche Bank  business 2021-05-06           cnbc   \n",
       "1          Merck      tech 2022-02-16   chatbotslife   \n",
       "2        Porsche  business 2022-11-01    marketwatch   \n",
       "3     Beiersdorf   general 2021-12-23  irishexaminer   \n",
       "4        Zalando      tech 2022-07-13      aithority   \n",
       "\n",
       "                                          esg_topics  internal symbol  \\\n",
       "0                                  [Vaccine, Social]         0    DBK   \n",
       "1  [Fraud, CorporateBehavior, Monopolization, Cor...         0    MRK   \n",
       "2  [Fraud, RussianFederation, MoneyLaundering, Cy...         0   PAH3   \n",
       "3                                             [Meat]         0    BEI   \n",
       "4                    [WorkerCrisis, Social, ThredUP]         0    ZAL   \n",
       "\n",
       "                                               title  \\\n",
       "0  Bank of England: UK recovery gathering pace on...   \n",
       "1  Trust is the Bedrock Beneath Every Lead With W...   \n",
       "2  How the war in Ukraine helped the FBI crack a ...   \n",
       "3  Neven Maguire's Christmas recipes: I like some...   \n",
       "4  Gradient Ventures Leads $ 6.3 Million Investme...   \n",
       "\n",
       "                                     cleaned_content  \\\n",
       "0  bank england thursday youk economy track stron...   \n",
       "1  trust build reputation culture sale loyalty ti...   \n",
       "2  connected theft login credential around world ...   \n",
       "3  picture key successful christmas kitchen accor...   \n",
       "4  aipowered predictive software platform invento...   \n",
       "\n",
       "                                         word_tokens  ...  \\\n",
       "0  [bank, england, thursday, youk, economy, track...  ...   \n",
       "1  [trust, build, reputation, culture, sale, loya...  ...   \n",
       "2  [connected, theft, login, credential, around, ...  ...   \n",
       "3  [picture, key, successful, christmas, kitchen,...  ...   \n",
       "4  [aipowered, predictive, software, platform, in...  ...   \n",
       "\n",
       "                          pos_tagged_sentence_tokens market_cap_in_usd_b  \\\n",
       "0  [[(bank, NN), (england, NN), (thursday, JJ)], ...               24.97   \n",
       "1  [[(trust, JJ), (reputation, NN), (culture, NN)...               87.64   \n",
       "2  [[(connected, VBN), (theft, NN), (login, NN), ...               16.65   \n",
       "3  [[], [(picture, NN), (key, JJ), (successful, J...               25.99   \n",
       "4  [[(aipowered, VBN), (predictive, JJ), (softwar...               10.41   \n",
       "\n",
       "                   sector                                industry  \\\n",
       "0              Financials                                   Banks   \n",
       "1              Healthcare  Drug Manufacturers—Specialty & Generic   \n",
       "2  Consumer Discretionary                      Auto Manufacturers   \n",
       "3        Consumer Staples           Household & Personal Products   \n",
       "4  Consumer Discretionary                         Internet Retail   \n",
       "\n",
       "  st1_sentiment_continuous year_month  year month original_index  \\\n",
       "0                 0.113356    2021-05  2021    05           4181   \n",
       "1                 0.042822    2022-02  2022    02           6808   \n",
       "2                -0.135204    2022-11  2022    11           7058   \n",
       "3                 0.147823    2021-12  2021    12           2592   \n",
       "4                 0.228994    2022-07  2022    07          10939   \n",
       "\n",
       "  sentiment_manual  \n",
       "0              0.0  \n",
       "1              1.0  \n",
       "2              0.5  \n",
       "3              1.0  \n",
       "4              0.5  \n",
       "\n",
       "[5 rows x 22 columns]"
      ]
     },
     "execution_count": 14,
     "metadata": {},
     "output_type": "execute_result"
    }
   ],
   "source": [
    "# Check the manually annotated data\n",
    "sampled_documents[sampled_documents['sentiment_manual'].notnull()].head()"
   ]
  },
  {
   "attachments": {},
   "cell_type": "markdown",
   "metadata": {},
   "source": [
    "The manually added annotations for 1,000 samples are correctly stored in the column \"sentiment_manual\""
   ]
  },
  {
   "attachments": {},
   "cell_type": "markdown",
   "metadata": {},
   "source": [
    "## LLM Annotation Tests"
   ]
  },
  {
   "attachments": {},
   "cell_type": "markdown",
   "metadata": {},
   "source": [
    "### Test LLM's with prompting strategies (zero-shot and few-shot)\n",
    "To test different prompting strategies, ChatGPT and FLAN-T5 is used. The documentation of the GPT parameters from OpenAI can be found here: https://platform.openai.com/docs/api-reference/completions/create"
   ]
  },
  {
   "cell_type": "code",
   "execution_count": 16,
   "metadata": {},
   "outputs": [],
   "source": [
    "# Check if API key file exists\n",
    "API_KEY = open('api_key.txt', 'r').read().strip() if os.path.exists('api_key.txt') else input(\"Please enter your OpenAI/ChatGPT API key: \").strip()\n",
    "if len(API_KEY) <= 20: raise ValueError(\"Invalid OpenAI API key. Please ensure your API key is correct.\")\n",
    "\n",
    "# Set up the OpenAI API client\n",
    "openai.api_key = API_KEY\n",
    "sample_text = \"Nike has focused on reducing its waste and using renewable energy, while Adidas has created a greener supply chain and pledged that, by 2025, nine out of 10 Adidas articles will be made from sustainable materials.\""
   ]
  },
  {
   "attachments": {},
   "cell_type": "markdown",
   "metadata": {},
   "source": [
    "First, a simple direct request:"
   ]
  },
  {
   "cell_type": "code",
   "execution_count": 17,
   "metadata": {},
   "outputs": [
    {
     "name": "stdout",
     "output_type": "stream",
     "text": [
      "1.0\n"
     ]
    }
   ],
   "source": [
    "prompt = 'Determine the sentiment in the following text regarding sustainability practices (0.0 for negative, 0.5 for neutral and 1.0 for positive). Output only the value:'\n",
    "response = openai.Completion.create(model=\"text-davinci-003\", prompt=f'{prompt}\\n\\n {sample_text}', temperature=0.0, max_tokens=10)\n",
    "print(response.choices[0].text.strip())"
   ]
  },
  {
   "attachments": {},
   "cell_type": "markdown",
   "metadata": {},
   "source": [
    "As a second test framing the task in a scenario:"
   ]
  },
  {
   "cell_type": "code",
   "execution_count": 18,
   "metadata": {},
   "outputs": [
    {
     "name": "stdout",
     "output_type": "stream",
     "text": [
      "1.0\n"
     ]
    }
   ],
   "source": [
    "prompt = 'You are an AI trained in sentiment analysis. Provide a sentiment score for the following statement about sustainability (0.0 for negative, 0.5 for neutral, and 1.0 for positive):'\n",
    "response = openai.Completion.create(model=\"text-davinci-003\", prompt=f'{prompt}\\n\\n {sample_text}', temperature=0.0, max_tokens=10)\n",
    "print(response.choices[0].text.strip())"
   ]
  },
  {
   "attachments": {},
   "cell_type": "markdown",
   "metadata": {},
   "source": [
    "Explaining the Consequence:"
   ]
  },
  {
   "cell_type": "code",
   "execution_count": 19,
   "metadata": {},
   "outputs": [
    {
     "name": "stdout",
     "output_type": "stream",
     "text": [
      "1.0\n"
     ]
    }
   ],
   "source": [
    "prompt = 'Consider the following text. If the statement portrays a negative view of sustainability, assign a value of 0.0; if it is neutral, assign 0.5; and if it is positive, assign 1.0:'\n",
    "response = openai.Completion.create(model=\"text-davinci-003\", prompt=f'{prompt}\\n\\n {sample_text}', temperature=0.0, max_tokens=10)\n",
    "print(response.choices[0].text.strip())"
   ]
  },
  {
   "attachments": {},
   "cell_type": "markdown",
   "metadata": {},
   "source": [
    "Directing the model's role:"
   ]
  },
  {
   "cell_type": "code",
   "execution_count": 20,
   "metadata": {},
   "outputs": [
    {
     "name": "stdout",
     "output_type": "stream",
     "text": [
      "1.0\n"
     ]
    }
   ],
   "source": [
    "prompt = 'As an AI with sentiment analysis capabilities, analyze the sentiment of the following statement on sustainability (0.0 for negative, 0.5 for neutral, and 1.0 for positive):'\n",
    "response = openai.Completion.create(model=\"text-davinci-003\", prompt=f'{prompt}\\n\\n {sample_text}', temperature=0.0, max_tokens=10)\n",
    "print(response.choices[0].text.strip())"
   ]
  },
  {
   "attachments": {},
   "cell_type": "markdown",
   "metadata": {},
   "source": [
    "Create the prompts using the few-shot Strategy where the model is provided with some examples to learn from, starting with a direct request:"
   ]
  },
  {
   "cell_type": "code",
   "execution_count": 21,
   "metadata": {},
   "outputs": [
    {
     "name": "stdout",
     "output_type": "stream",
     "text": [
      "1.0\n"
     ]
    }
   ],
   "source": [
    "prompt = 'Similar to how the sentiment of the text \"The company has failed in all its sustainability efforts\" would be 0.0, and \"The company has exceeded all its sustainability targets\" would be 1.0, determine the sentiment of the following text:'\n",
    "response = openai.Completion.create(model=\"text-davinci-003\", prompt=f'{prompt}\\n\\n {sample_text}', max_tokens=10)\n",
    "print(response.choices[0].text.strip())"
   ]
  },
  {
   "attachments": {},
   "cell_type": "markdown",
   "metadata": {},
   "source": [
    "Sequential Examples:"
   ]
  },
  {
   "cell_type": "code",
   "execution_count": 22,
   "metadata": {},
   "outputs": [
    {
     "name": "stdout",
     "output_type": "stream",
     "text": [
      "1.0\n"
     ]
    }
   ],
   "source": [
    "prompt = 'The sentiment of the text \"The company is sustainability efforts are non-existent\" is 0.0. \\n \\\n",
    "The sentiment of the text \"The company is doing a decent job in sustainability efforts\" is 0.5. \\n \\\n",
    "The sentiment of the text \"The company is sustainability efforts are excellent\" is 1.0. \\n \\\n",
    "Based on this, determine the sentiment of the following text:'\n",
    "\n",
    "prompt = 'Similar to how the sentiment of the text \"The company has failed in all its sustainability efforts\" would be 0.0, and \"The company has exceeded all its sustainability targets\" would be 1.0, determine the sentiment of the following text:'\n",
    "response = openai.Completion.create(model=\"text-davinci-003\", prompt=f'{prompt}\\n\\n {sample_text}', max_tokens=10)\n",
    "print(response.choices[0].text.strip())"
   ]
  },
  {
   "attachments": {},
   "cell_type": "markdown",
   "metadata": {},
   "source": [
    "Multiple Example Statements:"
   ]
  },
  {
   "cell_type": "code",
   "execution_count": 23,
   "metadata": {},
   "outputs": [
    {
     "name": "stdout",
     "output_type": "stream",
     "text": [
      "1.0\n"
     ]
    }
   ],
   "source": [
    "prompt = 'Consider the following examples: \\n \\\n",
    "Text: \"The company has completely failed in its sustainability efforts\", Sentiment: 0.0. \\n \\\n",
    "Text: \"The companys sustainability efforts are reasonable\", Sentiment: 0.5.  \\n \\\n",
    "Text: \"The company is leading the industry in sustainability efforts\", Sentiment: 1.0.  \\n \\\n",
    "Now, determine the sentiment of the following text:'\n",
    "\n",
    "prompt = 'Similar to how the sentiment of the text \"The company has failed in all its sustainability efforts\" would be 0.0, and \"The company has exceeded all its sustainability targets\" would be 1.0, determine the sentiment of the following text:'\n",
    "response = openai.Completion.create(model=\"text-davinci-003\", prompt=f'{prompt}\\n\\n {sample_text}', max_tokens=10)\n",
    "print(response.choices[0].text.strip())"
   ]
  },
  {
   "attachments": {},
   "cell_type": "markdown",
   "metadata": {},
   "source": [
    "Setting up Google's FLAN model (https://huggingface.co/docs/transformers/model_doc/flan-t5) as a second LLM to test the different prompts."
   ]
  },
  {
   "cell_type": "code",
   "execution_count": 24,
   "metadata": {},
   "outputs": [],
   "source": [
    "# Initializing the model and the tokenizer\n",
    "model = AutoModelForSeq2SeqLM.from_pretrained(\"google/flan-t5-base\")\n",
    "tokenizer = AutoTokenizer.from_pretrained(\"google/flan-t5-base\", max_length=100)"
   ]
  },
  {
   "attachments": {},
   "cell_type": "markdown",
   "metadata": {},
   "source": [
    "Testing a zero-shot direct request:"
   ]
  },
  {
   "cell_type": "code",
   "execution_count": 25,
   "metadata": {},
   "outputs": [
    {
     "name": "stdout",
     "output_type": "stream",
     "text": [
      "<pad> 1.0</s>\n"
     ]
    },
    {
     "name": "stderr",
     "output_type": "stream",
     "text": [
      "/home/tim/miniconda3/envs/venv-hslu-nlp/lib/python3.10/site-packages/transformers/generation/utils.py:1346: UserWarning: Using `max_length`'s default (20) to control the generation length. This behaviour is deprecated and will be removed from the config in v5 of Transformers -- we recommend using `max_new_tokens` to control the maximum length of the generation.\n",
      "  warnings.warn(\n"
     ]
    }
   ],
   "source": [
    "prompt = 'Determine the sentiment in the following text regarding sustainability practices (0.0 for negative, 0.5 for neutral and 1.0 for positive). Output only the value:'\n",
    "input_text = f'{prompt} {sample_text}'\n",
    "input_ids = tokenizer(input_text, return_tensors=\"pt\").input_ids\n",
    "outputs = model.generate(input_ids)\n",
    "print(tokenizer.decode(outputs[0]))"
   ]
  },
  {
   "cell_type": "code",
   "execution_count": 26,
   "metadata": {},
   "outputs": [
    {
     "name": "stdout",
     "output_type": "stream",
     "text": [
      "<pad> positive</s>\n"
     ]
    }
   ],
   "source": [
    "prompt = 'The sentiment of the text \"The company is sustainability efforts are non-existent\" is 0.0. \\n \\\n",
    "The sentiment of the text \"The company is doing a decent job in sustainability efforts\" is 0.5. \\n \\\n",
    "The sentiment of the text \"The company is sustainability efforts are excellent\" is 1.0. \\n \\\n",
    "Based on this, determine the sentiment of the following text:'\n",
    "input_text = f'{prompt} {sample_text}'\n",
    "input_ids = tokenizer(input_text, return_tensors=\"pt\").input_ids\n",
    "outputs = model.generate(input_ids)\n",
    "print(tokenizer.decode(outputs[0]))"
   ]
  },
  {
   "cell_type": "code",
   "execution_count": 27,
   "metadata": {},
   "outputs": [
    {
     "name": "stdout",
     "output_type": "stream",
     "text": [
      "<pad> 1.0</s>\n"
     ]
    }
   ],
   "source": [
    "prompt = 'Consider the following examples: \\n \\\n",
    "Text: \"The company has completely failed in its sustainability efforts\", Sentiment: 0.0. \\n \\\n",
    "Text: \"The companys sustainability efforts are reasonable\", Sentiment: 0.5.  \\n \\\n",
    "Text: \"The company is leading the industry in sustainability efforts\", Sentiment: 1.0.  \\n \\\n",
    "Now, determine the sentiment of the following text:'\n",
    "input_text = f'{prompt} {sample_text}'\n",
    "input_ids = tokenizer(input_text, return_tensors=\"pt\").input_ids\n",
    "outputs = model.generate(input_ids)\n",
    "print(tokenizer.decode(outputs[0]))"
   ]
  },
  {
   "attachments": {},
   "cell_type": "markdown",
   "metadata": {},
   "source": [
    "Zero-shot strategies, where the model receives no prior examples, are more direct and succinct. These strategies involve formulating a straightforward request, framing the request in a specific context or scenario, defining the consequences of the sentiment, or defining the model's role explicitly.  \n",
    "Few-shot strategies, on the other hand, leverage the learning capacity of the GPT/FLAN models by providing a set of examples in the prompt. They can be designed by providing direct, sequential, or multiple example statements, or by embedding the examples within the request itself.  \n",
    "\n",
    "The selection of strategy largely depends on the complexity of the task and the nuances of the text involved. While zero-shot strategies are quicker and more straightforward, few-shot strategies can offer a more nuanced understanding of the task and potentially improve the model's performance.  \n",
    "They help the model generalize the sentiment classification pattern from the examples provided. Therefore, a balance of both strategies, depending on the specific use case and requirements, can result in more accurate and reliable sentiment analysis outcomes.\n",
    "\n",
    "tl;dr: More provided information leads to better results but takes more time in terms of computation and formulating."
   ]
  },
  {
   "attachments": {},
   "cell_type": "markdown",
   "metadata": {},
   "source": [
    "### Predicting the Sentiment with different Models"
   ]
  },
  {
   "attachments": {},
   "cell_type": "markdown",
   "metadata": {},
   "source": [
    "Huggingface offers a huge variety of pre-trained models for NLP tasks, including already finetuned models for sentiment analysis:  \n",
    "https://huggingface.co/models?pipeline_tag=text-classification&sort=likes&search=sentiment\n",
    "\n",
    "\n",
    "First, a fe are tested \"by hand\" to get a feeling of the predicted scores, the outputs and the model's capabilities:"
   ]
  },
  {
   "cell_type": "code",
   "execution_count": 28,
   "metadata": {},
   "outputs": [],
   "source": [
    "# Generic function to run a Huggingface pipeline and extract the sentiment value\n",
    "def get_sentiment_score_single(sentence, pipeline):\n",
    "    return pipeline(sentence)[0]"
   ]
  },
  {
   "cell_type": "code",
   "execution_count": 29,
   "metadata": {},
   "outputs": [
    {
     "name": "stdout",
     "output_type": "stream",
     "text": [
      "{'label': 'LABEL_2', 'score': 0.8181973695755005}\n"
     ]
    }
   ],
   "source": [
    "# Intializing a RoBERTa model\n",
    "roberta_l = pipeline(\"sentiment-analysis\", model=\"cardiffnlp/twitter-roberta-base-sentiment\")\n",
    "print(get_sentiment_score_single(sample_text, roberta_l))"
   ]
  },
  {
   "cell_type": "code",
   "execution_count": 30,
   "metadata": {},
   "outputs": [
    {
     "name": "stdout",
     "output_type": "stream",
     "text": [
      "{'label': 'POSITIVE', 'score': 0.907453179359436}\n"
     ]
    }
   ],
   "source": [
    "distilbert = pipeline(\"sentiment-analysis\", model=\"distilbert-base-uncased-finetuned-sst-2-english\")\n",
    "print(get_sentiment_score_single(sample_text, distilbert))"
   ]
  },
  {
   "cell_type": "code",
   "execution_count": 31,
   "metadata": {},
   "outputs": [
    {
     "name": "stdout",
     "output_type": "stream",
     "text": [
      "{'label': 'LABEL_1', 'score': 0.9849261045455933}\n"
     ]
    }
   ],
   "source": [
    "sentiment_analysis_generic = pipeline(\"sentiment-analysis\", model=\"Seethal/sentiment_analysis_generic_dataset\")\n",
    "print(get_sentiment_score_single(sample_text, sentiment_analysis_generic))"
   ]
  },
  {
   "attachments": {},
   "cell_type": "markdown",
   "metadata": {},
   "source": [
    "In the following code snippet, multiple models from Huggingface can be specified to predict the sentiment of all sampled sentences.  \n",
    "The sentiment value is stored and can be used for later comparison. The models were choosen quite heuristic, based on the likes and download count."
   ]
  },
  {
   "cell_type": "code",
   "execution_count": 32,
   "metadata": {},
   "outputs": [
    {
     "name": "stdout",
     "output_type": "stream",
     "text": [
      "Running sentiment analysis with model: cardiffnlp/twitter-roberta-base-sentiment\n"
     ]
    },
    {
     "name": "stderr",
     "output_type": "stream",
     "text": [
      "100%|██████████| 1000/1000 [00:18<00:00, 53.66it/s]\n"
     ]
    },
    {
     "name": "stdout",
     "output_type": "stream",
     "text": [
      "Running sentiment analysis with model: distilbert-base-uncased-finetuned-sst-2-english\n"
     ]
    },
    {
     "name": "stderr",
     "output_type": "stream",
     "text": [
      "100%|██████████| 1000/1000 [00:09<00:00, 103.46it/s]\n"
     ]
    },
    {
     "name": "stdout",
     "output_type": "stream",
     "text": [
      "Running sentiment analysis with model: Seethal/sentiment_analysis_generic_dataset\n"
     ]
    },
    {
     "name": "stderr",
     "output_type": "stream",
     "text": [
      "100%|██████████| 1000/1000 [00:09<00:00, 107.50it/s]\n"
     ]
    },
    {
     "name": "stdout",
     "output_type": "stream",
     "text": [
      "Running sentiment analysis with model: siebert/sentiment-roberta-large-english\n"
     ]
    },
    {
     "name": "stderr",
     "output_type": "stream",
     "text": [
      "100%|██████████| 1000/1000 [01:00<00:00, 16.57it/s]\n"
     ]
    },
    {
     "name": "stdout",
     "output_type": "stream",
     "text": [
      "Running sentiment analysis with model: nlptown/bert-base-multilingual-uncased-sentiment\n"
     ]
    },
    {
     "name": "stderr",
     "output_type": "stream",
     "text": [
      "100%|██████████| 1000/1000 [00:18<00:00, 52.96it/s]\n"
     ]
    }
   ],
   "source": [
    "TOKENIZERS_PARALLELISM=True\n",
    "\n",
    "# List of Huggingface models to use\n",
    "models = ['cardiffnlp/twitter-roberta-base-sentiment','distilbert-base-uncased-finetuned-sst-2-english', 'Seethal/sentiment_analysis_generic_dataset','siebert/sentiment-roberta-large-english', 'nlptown/bert-base-multilingual-uncased-sentiment']\n",
    "\n",
    "def get_sentiment_score(nlp, sentence):\n",
    "    # Truncate to 512 tokens (max input tokens)\n",
    "    sentence = sentence[:512]\n",
    "    result = nlp(sentence)[0]\n",
    "    score = result['score']\n",
    "    return score\n",
    "\n",
    "# Apply each model to the dataframe and store the results in a new column\n",
    "for model in models:\n",
    "    print(f'Running sentiment analysis with model: {model}')\n",
    "    nlp = pipeline('sentiment-analysis', model=model, use_fast=True) \n",
    "    sampled_documents[model] = sampled_documents['sentence_tokens'].progress_apply(lambda x: get_sentiment_score(nlp, x))"
   ]
  },
  {
   "cell_type": "code",
   "execution_count": 33,
   "metadata": {},
   "outputs": [],
   "source": [
    "# Function for Google's FLAN model\n",
    "def get_sentiment_flan(sentence, prompt, model, tokenizer):\n",
    "    sentence = sentence[:480] # Max input 512 - prompt\n",
    "    input_text = f'{prompt} {sentence}'\n",
    "    input_ids = tokenizer(input_text, return_tensors=\"pt\").input_ids\n",
    "    outputs = model.generate(input_ids)\n",
    "    sentiment = tokenizer.decode(outputs[0])\n",
    "    \n",
    "    # Extract float using regex\n",
    "    match = re.search(r'\\d+\\.\\d+', sentiment)  # Extract only sentiment value\n",
    "    if match:\n",
    "        sentiment = float(match.group())\n",
    "    else:\n",
    "        sentiment = np.nan \n",
    "    \n",
    "    return sentiment\n",
    "\n",
    "# Function for OpenAI's text-davinci model\n",
    "def get_sentiment_gpt(sentence, prompt):\n",
    "    response = openai.Completion.create(\n",
    "        model=\"text-davinci-003\",\n",
    "        prompt=f'{prompt}\\n\\n{sentence}',\n",
    "        max_tokens=10)\n",
    "\n",
    "    # Extract float using regex\n",
    "    result_text = response.choices[0].text.strip()\n",
    "    match = re.search(r'\\d+\\.\\d+', result_text)  # Extract only sentiment value\n",
    "    if match:\n",
    "        response = float(match.group())\n",
    "    else:\n",
    "        response = np.nan \n",
    "    \n",
    "    return response"
   ]
  },
  {
   "cell_type": "code",
   "execution_count": 34,
   "metadata": {},
   "outputs": [
    {
     "name": "stdout",
     "output_type": "stream",
     "text": [
      "Running sentiment analysis with Google FLAN model\n"
     ]
    },
    {
     "name": "stderr",
     "output_type": "stream",
     "text": [
      "  0%|          | 0/1000 [00:00<?, ?it/s]/home/tim/miniconda3/envs/venv-hslu-nlp/lib/python3.10/site-packages/transformers/generation/utils.py:1346: UserWarning: Using `max_length`'s default (20) to control the generation length. This behaviour is deprecated and will be removed from the config in v5 of Transformers -- we recommend using `max_new_tokens` to control the maximum length of the generation.\n",
      "  warnings.warn(\n",
      "100%|██████████| 1000/1000 [01:35<00:00, 10.44it/s]\n"
     ]
    }
   ],
   "source": [
    "# Running the sentiment analysis with pre-defined functions/prompts for FLAN and ChatGPT\n",
    "model = AutoModelForSeq2SeqLM.from_pretrained(\"google/flan-t5-base\")\n",
    "tokenizer = AutoTokenizer.from_pretrained(\"google/flan-t5-base\", max_length=100)\n",
    "\n",
    "prompt_all_samples = 'Determine the sentiment in the following text regarding sustainability practices (0.0 for negative, 1.0 for positive). Output only the value as a decimal value between 0.0 and 1.0:'\n",
    "\n",
    "print('Running sentiment analysis with Google FLAN model')\n",
    "sampled_documents['flan'] = sampled_documents['sentence_tokens'].progress_apply(lambda x: get_sentiment_flan(x, prompt_all_samples, model, tokenizer))"
   ]
  },
  {
   "cell_type": "code",
   "execution_count": null,
   "metadata": {},
   "outputs": [
    {
     "name": "stdout",
     "output_type": "stream",
     "text": [
      "Processing block 1 out of 25, attempt 1\n"
     ]
    },
    {
     "name": "stderr",
     "output_type": "stream",
     "text": [
      "100%|██████████| 40/40 [00:29<00:00,  1.34it/s]\n"
     ]
    },
    {
     "name": "stdout",
     "output_type": "stream",
     "text": [
      "Processing block 2 out of 25, attempt 1\n"
     ]
    },
    {
     "name": "stderr",
     "output_type": "stream",
     "text": [
      "100%|██████████| 40/40 [00:33<00:00,  1.20it/s]\n"
     ]
    },
    {
     "name": "stdout",
     "output_type": "stream",
     "text": [
      "Processing block 3 out of 25, attempt 1\n"
     ]
    },
    {
     "name": "stderr",
     "output_type": "stream",
     "text": [
      "100%|██████████| 40/40 [00:32<00:00,  1.23it/s]\n"
     ]
    },
    {
     "name": "stdout",
     "output_type": "stream",
     "text": [
      "Processing block 4 out of 25, attempt 1\n"
     ]
    },
    {
     "name": "stderr",
     "output_type": "stream",
     "text": [
      "100%|██████████| 40/40 [00:34<00:00,  1.16it/s]\n"
     ]
    },
    {
     "name": "stdout",
     "output_type": "stream",
     "text": [
      "Processing block 5 out of 25, attempt 1\n"
     ]
    },
    {
     "name": "stderr",
     "output_type": "stream",
     "text": [
      "100%|██████████| 40/40 [00:33<00:00,  1.20it/s]\n"
     ]
    },
    {
     "name": "stdout",
     "output_type": "stream",
     "text": [
      "Processing block 6 out of 25, attempt 1\n"
     ]
    },
    {
     "name": "stderr",
     "output_type": "stream",
     "text": [
      "100%|██████████| 40/40 [00:34<00:00,  1.15it/s]\n"
     ]
    },
    {
     "name": "stdout",
     "output_type": "stream",
     "text": [
      "Processing block 7 out of 25, attempt 1\n"
     ]
    },
    {
     "name": "stderr",
     "output_type": "stream",
     "text": [
      "100%|██████████| 40/40 [00:33<00:00,  1.21it/s]\n"
     ]
    },
    {
     "name": "stdout",
     "output_type": "stream",
     "text": [
      "Processing block 8 out of 25, attempt 1\n"
     ]
    },
    {
     "name": "stderr",
     "output_type": "stream",
     "text": [
      "100%|██████████| 40/40 [00:34<00:00,  1.15it/s]\n"
     ]
    },
    {
     "name": "stdout",
     "output_type": "stream",
     "text": [
      "Processing block 9 out of 25, attempt 1\n"
     ]
    },
    {
     "name": "stderr",
     "output_type": "stream",
     "text": [
      "100%|██████████| 40/40 [00:37<00:00,  1.07it/s]\n"
     ]
    },
    {
     "name": "stdout",
     "output_type": "stream",
     "text": [
      "Processing block 10 out of 25, attempt 1\n"
     ]
    },
    {
     "name": "stderr",
     "output_type": "stream",
     "text": [
      "100%|██████████| 40/40 [00:35<00:00,  1.12it/s]\n"
     ]
    },
    {
     "name": "stdout",
     "output_type": "stream",
     "text": [
      "Processing block 11 out of 25, attempt 1\n"
     ]
    },
    {
     "name": "stderr",
     "output_type": "stream",
     "text": [
      "100%|██████████| 40/40 [00:36<00:00,  1.10it/s]\n"
     ]
    },
    {
     "name": "stdout",
     "output_type": "stream",
     "text": [
      "Processing block 12 out of 25, attempt 1\n"
     ]
    },
    {
     "name": "stderr",
     "output_type": "stream",
     "text": [
      "100%|██████████| 40/40 [00:42<00:00,  1.06s/it]\n"
     ]
    },
    {
     "name": "stdout",
     "output_type": "stream",
     "text": [
      "Processing block 13 out of 25, attempt 1\n"
     ]
    },
    {
     "name": "stderr",
     "output_type": "stream",
     "text": [
      "100%|██████████| 40/40 [00:51<00:00,  1.28s/it]\n"
     ]
    },
    {
     "name": "stdout",
     "output_type": "stream",
     "text": [
      "Processing block 14 out of 25, attempt 1\n"
     ]
    },
    {
     "name": "stderr",
     "output_type": "stream",
     "text": [
      "100%|██████████| 40/40 [00:49<00:00,  1.23s/it]\n"
     ]
    },
    {
     "name": "stdout",
     "output_type": "stream",
     "text": [
      "Processing block 15 out of 25, attempt 1\n"
     ]
    },
    {
     "name": "stderr",
     "output_type": "stream",
     "text": [
      "100%|██████████| 40/40 [00:43<00:00,  1.08s/it]\n"
     ]
    },
    {
     "name": "stdout",
     "output_type": "stream",
     "text": [
      "Processing block 16 out of 25, attempt 1\n"
     ]
    },
    {
     "name": "stderr",
     "output_type": "stream",
     "text": [
      "100%|██████████| 40/40 [00:34<00:00,  1.15it/s]\n"
     ]
    },
    {
     "name": "stdout",
     "output_type": "stream",
     "text": [
      "Processing block 17 out of 25, attempt 1\n"
     ]
    },
    {
     "name": "stderr",
     "output_type": "stream",
     "text": [
      "100%|██████████| 40/40 [00:41<00:00,  1.03s/it]\n"
     ]
    },
    {
     "name": "stdout",
     "output_type": "stream",
     "text": [
      "Processing block 18 out of 25, attempt 1\n"
     ]
    },
    {
     "name": "stderr",
     "output_type": "stream",
     "text": [
      "100%|██████████| 40/40 [00:32<00:00,  1.24it/s]\n"
     ]
    },
    {
     "name": "stdout",
     "output_type": "stream",
     "text": [
      "Processing block 19 out of 25, attempt 1\n"
     ]
    },
    {
     "name": "stderr",
     "output_type": "stream",
     "text": [
      "100%|██████████| 40/40 [00:40<00:00,  1.00s/it]\n"
     ]
    },
    {
     "name": "stdout",
     "output_type": "stream",
     "text": [
      "Processing block 20 out of 25, attempt 1\n"
     ]
    },
    {
     "name": "stderr",
     "output_type": "stream",
     "text": [
      "100%|██████████| 40/40 [00:41<00:00,  1.03s/it]\n"
     ]
    },
    {
     "name": "stdout",
     "output_type": "stream",
     "text": [
      "Processing block 21 out of 25, attempt 1\n"
     ]
    },
    {
     "name": "stderr",
     "output_type": "stream",
     "text": [
      "100%|██████████| 40/40 [00:39<00:00,  1.01it/s]\n"
     ]
    },
    {
     "name": "stdout",
     "output_type": "stream",
     "text": [
      "Processing block 22 out of 25, attempt 1\n"
     ]
    },
    {
     "name": "stderr",
     "output_type": "stream",
     "text": [
      "100%|██████████| 40/40 [00:39<00:00,  1.01it/s]\n"
     ]
    },
    {
     "name": "stdout",
     "output_type": "stream",
     "text": [
      "Processing block 23 out of 25, attempt 1\n"
     ]
    },
    {
     "name": "stderr",
     "output_type": "stream",
     "text": [
      "100%|██████████| 40/40 [00:34<00:00,  1.15it/s]\n"
     ]
    },
    {
     "name": "stdout",
     "output_type": "stream",
     "text": [
      "Processing block 24 out of 25, attempt 1\n"
     ]
    },
    {
     "name": "stderr",
     "output_type": "stream",
     "text": [
      "100%|██████████| 40/40 [00:41<00:00,  1.04s/it]\n"
     ]
    },
    {
     "name": "stdout",
     "output_type": "stream",
     "text": [
      "Processing block 25 out of 25, attempt 1\n"
     ]
    },
    {
     "name": "stderr",
     "output_type": "stream",
     "text": [
      "100%|██████████| 40/40 [00:42<00:00,  1.07s/it]\n"
     ]
    }
   ],
   "source": [
    "# Split the dataframe into 10 computation blocks, so if the API fails just one specfic subset can be retried\n",
    "blocks = np.array_split(sampled_documents, 25)\n",
    "\n",
    "# Max retries per block\n",
    "max_retries = 4\n",
    "\n",
    "# Initialize an empty DataFrame to store results\n",
    "results_df = pd.DataFrame()\n",
    "\n",
    "for i, block in enumerate(blocks):\n",
    "    for attempt in range(max_retries):\n",
    "        try:\n",
    "            print(f\"Processing block {i+1} out of {len(blocks)}, attempt {attempt+1}\")\n",
    "            block['chat_gpt'] = block['sentence_tokens'].progress_apply(lambda x: get_sentiment_gpt(x, prompt_all_samples))\n",
    "            \n",
    "            # Append processed block to the results dataframe\n",
    "            results_df = pd.concat([results_df, block])\n",
    "            # Break the retry loop as the block has been processed successfully\n",
    "            break\n",
    "\n",
    "        except Exception as e:\n",
    "            print(f\"An API error occurred while processing block {i+1} on attempt {attempt+1}: {e} \\n Waiting 5 seconds before retry...\")\n",
    "            time.sleep(5)  # Wait for specified delay before next attempt\n",
    "            if attempt + 1 == max_retries:\n",
    "                print(f\"Failed to process block {i+1} after {max_retries} attempts. Moving on to the next block.\")\n",
    "                \n",
    "# Now results_df has all the processed data\n",
    "sampled_documents = results_df"
   ]
  },
  {
   "cell_type": "code",
   "execution_count": null,
   "metadata": {},
   "outputs": [],
   "source": [
    "# Function to re-process just a subset (aka block) with the GPT API\n",
    "def reprocess_blocks(block_numbers, blocks, max_retries=4):\n",
    "    reprocessed_blocks = {}\n",
    "    for block_number in block_numbers:\n",
    "        block = blocks[block_number]\n",
    "        for attempt in range(max_retries):\n",
    "            try:\n",
    "                print(f\"Reprocessing block {block_number}, attempt {attempt+1}\")\n",
    "                block['chat_gpt'] = block['sentence_tokens'].progress_apply(lambda x: get_sentiment_gpt(x, prompt_all_samples))\n",
    "                # If processing is successful, add the processed block to the dict\n",
    "                reprocessed_blocks[block_number] = block\n",
    "                break\n",
    "            except Exception as e:\n",
    "                print(f\"An error occurred while reprocessing block {block_number+1} on attempt {attempt+1}: {e}\")\n",
    "                if attempt + 1 == max_retries:\n",
    "                    print(f\"Failed to reprocess block {block_number+1} after {max_retries} attempts.\")\n",
    "    return reprocessed_blocks"
   ]
  },
  {
   "cell_type": "code",
   "execution_count": null,
   "metadata": {},
   "outputs": [],
   "source": [
    "# Retry blocks\n",
    "retry = False # Only run the cell if needed\n",
    "\n",
    "if retry:\n",
    "    reprocessed_blocks = reprocess_blocks([11], blocks)\n",
    "\n",
    "    # Replace the old blocks with the reprocessed ones\n",
    "    for block_number, reprocessed_block in reprocessed_blocks.items():\n",
    "        blocks[block_number] = reprocessed_block\n",
    "\n",
    "    sampled_documents = pd.concat(blocks)"
   ]
  },
  {
   "attachments": {},
   "cell_type": "markdown",
   "metadata": {},
   "source": [
    "## Comparison of the different LLM"
   ]
  },
  {
   "cell_type": "code",
   "execution_count": 33,
   "metadata": {},
   "outputs": [
    {
     "data": {
      "text/html": [
       "<div>\n",
       "<style scoped>\n",
       "    .dataframe tbody tr th:only-of-type {\n",
       "        vertical-align: middle;\n",
       "    }\n",
       "\n",
       "    .dataframe tbody tr th {\n",
       "        vertical-align: top;\n",
       "    }\n",
       "\n",
       "    .dataframe thead th {\n",
       "        text-align: right;\n",
       "    }\n",
       "</style>\n",
       "<table border=\"1\" class=\"dataframe\">\n",
       "  <thead>\n",
       "    <tr style=\"text-align: right;\">\n",
       "      <th></th>\n",
       "      <th>cardiffnlp/twitter-roberta-base-sentiment</th>\n",
       "      <th>distilbert-base-uncased-finetuned-sst-2-english</th>\n",
       "      <th>Seethal/sentiment_analysis_generic_dataset</th>\n",
       "      <th>siebert/sentiment-roberta-large-english</th>\n",
       "      <th>nlptown/bert-base-multilingual-uncased-sentiment</th>\n",
       "      <th>flan</th>\n",
       "      <th>chat_gpt</th>\n",
       "      <th>sentiment_manual</th>\n",
       "    </tr>\n",
       "  </thead>\n",
       "  <tbody>\n",
       "    <tr>\n",
       "      <th>0</th>\n",
       "      <td>0.895298</td>\n",
       "      <td>0.898615</td>\n",
       "      <td>0.997523</td>\n",
       "      <td>0.992136</td>\n",
       "      <td>0.315069</td>\n",
       "      <td>0.0</td>\n",
       "      <td>0.0</td>\n",
       "      <td>0.0</td>\n",
       "    </tr>\n",
       "    <tr>\n",
       "      <th>1</th>\n",
       "      <td>0.823458</td>\n",
       "      <td>0.998840</td>\n",
       "      <td>0.991668</td>\n",
       "      <td>0.998858</td>\n",
       "      <td>0.540298</td>\n",
       "      <td>0.0</td>\n",
       "      <td>0.0</td>\n",
       "      <td>1.0</td>\n",
       "    </tr>\n",
       "    <tr>\n",
       "      <th>2</th>\n",
       "      <td>0.848484</td>\n",
       "      <td>0.990918</td>\n",
       "      <td>0.997223</td>\n",
       "      <td>0.989236</td>\n",
       "      <td>0.359297</td>\n",
       "      <td>0.0</td>\n",
       "      <td>0.0</td>\n",
       "      <td>0.5</td>\n",
       "    </tr>\n",
       "    <tr>\n",
       "      <th>3</th>\n",
       "      <td>0.892139</td>\n",
       "      <td>0.986177</td>\n",
       "      <td>0.991894</td>\n",
       "      <td>0.991217</td>\n",
       "      <td>0.515630</td>\n",
       "      <td>0.0</td>\n",
       "      <td>0.0</td>\n",
       "      <td>1.0</td>\n",
       "    </tr>\n",
       "    <tr>\n",
       "      <th>4</th>\n",
       "      <td>0.818257</td>\n",
       "      <td>0.912395</td>\n",
       "      <td>0.997829</td>\n",
       "      <td>0.991451</td>\n",
       "      <td>0.449205</td>\n",
       "      <td>0.0</td>\n",
       "      <td>1.0</td>\n",
       "      <td>0.5</td>\n",
       "    </tr>\n",
       "    <tr>\n",
       "      <th>5</th>\n",
       "      <td>0.697198</td>\n",
       "      <td>0.965466</td>\n",
       "      <td>0.911639</td>\n",
       "      <td>0.993879</td>\n",
       "      <td>0.439970</td>\n",
       "      <td>1.0</td>\n",
       "      <td>1.0</td>\n",
       "      <td>1.0</td>\n",
       "    </tr>\n",
       "    <tr>\n",
       "      <th>6</th>\n",
       "      <td>0.528819</td>\n",
       "      <td>0.990694</td>\n",
       "      <td>0.870896</td>\n",
       "      <td>0.997714</td>\n",
       "      <td>0.404064</td>\n",
       "      <td>0.0</td>\n",
       "      <td>NaN</td>\n",
       "      <td>1.0</td>\n",
       "    </tr>\n",
       "    <tr>\n",
       "      <th>7</th>\n",
       "      <td>0.726601</td>\n",
       "      <td>0.992128</td>\n",
       "      <td>0.909975</td>\n",
       "      <td>0.987261</td>\n",
       "      <td>0.521357</td>\n",
       "      <td>0.0</td>\n",
       "      <td>0.0</td>\n",
       "      <td>0.5</td>\n",
       "    </tr>\n",
       "    <tr>\n",
       "      <th>8</th>\n",
       "      <td>0.771303</td>\n",
       "      <td>0.989248</td>\n",
       "      <td>0.957685</td>\n",
       "      <td>0.988421</td>\n",
       "      <td>0.315957</td>\n",
       "      <td>0.0</td>\n",
       "      <td>0.0</td>\n",
       "      <td>0.5</td>\n",
       "    </tr>\n",
       "    <tr>\n",
       "      <th>9</th>\n",
       "      <td>0.810089</td>\n",
       "      <td>0.955576</td>\n",
       "      <td>0.997293</td>\n",
       "      <td>0.998471</td>\n",
       "      <td>0.277970</td>\n",
       "      <td>1.0</td>\n",
       "      <td>0.5</td>\n",
       "      <td>0.5</td>\n",
       "    </tr>\n",
       "    <tr>\n",
       "      <th>10</th>\n",
       "      <td>0.823937</td>\n",
       "      <td>0.636703</td>\n",
       "      <td>0.996263</td>\n",
       "      <td>0.977208</td>\n",
       "      <td>0.373558</td>\n",
       "      <td>0.0</td>\n",
       "      <td>NaN</td>\n",
       "      <td>0.5</td>\n",
       "    </tr>\n",
       "    <tr>\n",
       "      <th>11</th>\n",
       "      <td>0.924981</td>\n",
       "      <td>0.966201</td>\n",
       "      <td>0.997590</td>\n",
       "      <td>0.986439</td>\n",
       "      <td>0.320606</td>\n",
       "      <td>0.0</td>\n",
       "      <td>0.0</td>\n",
       "      <td>1.0</td>\n",
       "    </tr>\n",
       "    <tr>\n",
       "      <th>12</th>\n",
       "      <td>0.506107</td>\n",
       "      <td>0.998569</td>\n",
       "      <td>0.994367</td>\n",
       "      <td>0.998260</td>\n",
       "      <td>0.512312</td>\n",
       "      <td>0.0</td>\n",
       "      <td>1.0</td>\n",
       "      <td>0.5</td>\n",
       "    </tr>\n",
       "    <tr>\n",
       "      <th>13</th>\n",
       "      <td>0.686388</td>\n",
       "      <td>0.971123</td>\n",
       "      <td>0.994943</td>\n",
       "      <td>0.998435</td>\n",
       "      <td>0.344237</td>\n",
       "      <td>1.0</td>\n",
       "      <td>1.0</td>\n",
       "      <td>0.5</td>\n",
       "    </tr>\n",
       "    <tr>\n",
       "      <th>14</th>\n",
       "      <td>0.815949</td>\n",
       "      <td>0.991969</td>\n",
       "      <td>0.995291</td>\n",
       "      <td>0.994120</td>\n",
       "      <td>0.328456</td>\n",
       "      <td>0.0</td>\n",
       "      <td>0.0</td>\n",
       "      <td>1.0</td>\n",
       "    </tr>\n",
       "  </tbody>\n",
       "</table>\n",
       "</div>"
      ],
      "text/plain": [
       "    cardiffnlp/twitter-roberta-base-sentiment  \\\n",
       "0                                    0.895298   \n",
       "1                                    0.823458   \n",
       "2                                    0.848484   \n",
       "3                                    0.892139   \n",
       "4                                    0.818257   \n",
       "5                                    0.697198   \n",
       "6                                    0.528819   \n",
       "7                                    0.726601   \n",
       "8                                    0.771303   \n",
       "9                                    0.810089   \n",
       "10                                   0.823937   \n",
       "11                                   0.924981   \n",
       "12                                   0.506107   \n",
       "13                                   0.686388   \n",
       "14                                   0.815949   \n",
       "\n",
       "    distilbert-base-uncased-finetuned-sst-2-english  \\\n",
       "0                                          0.898615   \n",
       "1                                          0.998840   \n",
       "2                                          0.990918   \n",
       "3                                          0.986177   \n",
       "4                                          0.912395   \n",
       "5                                          0.965466   \n",
       "6                                          0.990694   \n",
       "7                                          0.992128   \n",
       "8                                          0.989248   \n",
       "9                                          0.955576   \n",
       "10                                         0.636703   \n",
       "11                                         0.966201   \n",
       "12                                         0.998569   \n",
       "13                                         0.971123   \n",
       "14                                         0.991969   \n",
       "\n",
       "    Seethal/sentiment_analysis_generic_dataset  \\\n",
       "0                                     0.997523   \n",
       "1                                     0.991668   \n",
       "2                                     0.997223   \n",
       "3                                     0.991894   \n",
       "4                                     0.997829   \n",
       "5                                     0.911639   \n",
       "6                                     0.870896   \n",
       "7                                     0.909975   \n",
       "8                                     0.957685   \n",
       "9                                     0.997293   \n",
       "10                                    0.996263   \n",
       "11                                    0.997590   \n",
       "12                                    0.994367   \n",
       "13                                    0.994943   \n",
       "14                                    0.995291   \n",
       "\n",
       "    siebert/sentiment-roberta-large-english  \\\n",
       "0                                  0.992136   \n",
       "1                                  0.998858   \n",
       "2                                  0.989236   \n",
       "3                                  0.991217   \n",
       "4                                  0.991451   \n",
       "5                                  0.993879   \n",
       "6                                  0.997714   \n",
       "7                                  0.987261   \n",
       "8                                  0.988421   \n",
       "9                                  0.998471   \n",
       "10                                 0.977208   \n",
       "11                                 0.986439   \n",
       "12                                 0.998260   \n",
       "13                                 0.998435   \n",
       "14                                 0.994120   \n",
       "\n",
       "    nlptown/bert-base-multilingual-uncased-sentiment  flan  chat_gpt  \\\n",
       "0                                           0.315069   0.0       0.0   \n",
       "1                                           0.540298   0.0       0.0   \n",
       "2                                           0.359297   0.0       0.0   \n",
       "3                                           0.515630   0.0       0.0   \n",
       "4                                           0.449205   0.0       1.0   \n",
       "5                                           0.439970   1.0       1.0   \n",
       "6                                           0.404064   0.0       NaN   \n",
       "7                                           0.521357   0.0       0.0   \n",
       "8                                           0.315957   0.0       0.0   \n",
       "9                                           0.277970   1.0       0.5   \n",
       "10                                          0.373558   0.0       NaN   \n",
       "11                                          0.320606   0.0       0.0   \n",
       "12                                          0.512312   0.0       1.0   \n",
       "13                                          0.344237   1.0       1.0   \n",
       "14                                          0.328456   0.0       0.0   \n",
       "\n",
       "    sentiment_manual  \n",
       "0                0.0  \n",
       "1                1.0  \n",
       "2                0.5  \n",
       "3                1.0  \n",
       "4                0.5  \n",
       "5                1.0  \n",
       "6                1.0  \n",
       "7                0.5  \n",
       "8                0.5  \n",
       "9                0.5  \n",
       "10               0.5  \n",
       "11               1.0  \n",
       "12               0.5  \n",
       "13               0.5  \n",
       "14               1.0  "
      ]
     },
     "execution_count": 33,
     "metadata": {},
     "output_type": "execute_result"
    }
   ],
   "source": [
    "sampled_documents[models+ ['flan','chat_gpt', 'sentiment_manual']].head(15)"
   ]
  },
  {
   "cell_type": "code",
   "execution_count": 34,
   "metadata": {},
   "outputs": [
    {
     "data": {
      "text/html": [
       "<div>\n",
       "<style scoped>\n",
       "    .dataframe tbody tr th:only-of-type {\n",
       "        vertical-align: middle;\n",
       "    }\n",
       "\n",
       "    .dataframe tbody tr th {\n",
       "        vertical-align: top;\n",
       "    }\n",
       "\n",
       "    .dataframe thead th {\n",
       "        text-align: right;\n",
       "    }\n",
       "</style>\n",
       "<table border=\"1\" class=\"dataframe\">\n",
       "  <thead>\n",
       "    <tr style=\"text-align: right;\">\n",
       "      <th></th>\n",
       "      <th>cardiffnlp/twitter-roberta-base-sentiment</th>\n",
       "      <th>distilbert-base-uncased-finetuned-sst-2-english</th>\n",
       "      <th>Seethal/sentiment_analysis_generic_dataset</th>\n",
       "      <th>siebert/sentiment-roberta-large-english</th>\n",
       "      <th>nlptown/bert-base-multilingual-uncased-sentiment</th>\n",
       "      <th>flan</th>\n",
       "      <th>chat_gpt</th>\n",
       "      <th>sentiment_manual</th>\n",
       "    </tr>\n",
       "  </thead>\n",
       "  <tbody>\n",
       "    <tr>\n",
       "      <th>count</th>\n",
       "      <td>1000.000000</td>\n",
       "      <td>1000.000000</td>\n",
       "      <td>1000.000000</td>\n",
       "      <td>1000.000000</td>\n",
       "      <td>1000.000000</td>\n",
       "      <td>1000.000000</td>\n",
       "      <td>922.000000</td>\n",
       "      <td>1000.000000</td>\n",
       "    </tr>\n",
       "    <tr>\n",
       "      <th>mean</th>\n",
       "      <td>0.750599</td>\n",
       "      <td>0.941678</td>\n",
       "      <td>0.936243</td>\n",
       "      <td>0.988232</td>\n",
       "      <td>0.411771</td>\n",
       "      <td>0.339000</td>\n",
       "      <td>0.457104</td>\n",
       "      <td>0.547000</td>\n",
       "    </tr>\n",
       "    <tr>\n",
       "      <th>std</th>\n",
       "      <td>0.124813</td>\n",
       "      <td>0.101760</td>\n",
       "      <td>0.113147</td>\n",
       "      <td>0.038330</td>\n",
       "      <td>0.129229</td>\n",
       "      <td>0.473607</td>\n",
       "      <td>0.428220</td>\n",
       "      <td>0.267137</td>\n",
       "    </tr>\n",
       "    <tr>\n",
       "      <th>min</th>\n",
       "      <td>0.447531</td>\n",
       "      <td>0.507595</td>\n",
       "      <td>0.347998</td>\n",
       "      <td>0.523486</td>\n",
       "      <td>0.220949</td>\n",
       "      <td>0.000000</td>\n",
       "      <td>0.000000</td>\n",
       "      <td>0.000000</td>\n",
       "    </tr>\n",
       "    <tr>\n",
       "      <th>25%</th>\n",
       "      <td>0.651421</td>\n",
       "      <td>0.944984</td>\n",
       "      <td>0.944617</td>\n",
       "      <td>0.991484</td>\n",
       "      <td>0.317767</td>\n",
       "      <td>0.000000</td>\n",
       "      <td>0.000000</td>\n",
       "      <td>0.500000</td>\n",
       "    </tr>\n",
       "    <tr>\n",
       "      <th>50%</th>\n",
       "      <td>0.776353</td>\n",
       "      <td>0.982960</td>\n",
       "      <td>0.988789</td>\n",
       "      <td>0.996592</td>\n",
       "      <td>0.385819</td>\n",
       "      <td>0.000000</td>\n",
       "      <td>0.500000</td>\n",
       "      <td>0.500000</td>\n",
       "    </tr>\n",
       "    <tr>\n",
       "      <th>75%</th>\n",
       "      <td>0.856433</td>\n",
       "      <td>0.995709</td>\n",
       "      <td>0.996465</td>\n",
       "      <td>0.998246</td>\n",
       "      <td>0.471215</td>\n",
       "      <td>1.000000</td>\n",
       "      <td>1.000000</td>\n",
       "      <td>0.500000</td>\n",
       "    </tr>\n",
       "    <tr>\n",
       "      <th>max</th>\n",
       "      <td>0.973660</td>\n",
       "      <td>0.999847</td>\n",
       "      <td>0.998013</td>\n",
       "      <td>0.999493</td>\n",
       "      <td>0.911139</td>\n",
       "      <td>1.000000</td>\n",
       "      <td>1.000000</td>\n",
       "      <td>1.000000</td>\n",
       "    </tr>\n",
       "  </tbody>\n",
       "</table>\n",
       "</div>"
      ],
      "text/plain": [
       "       cardiffnlp/twitter-roberta-base-sentiment  \\\n",
       "count                                1000.000000   \n",
       "mean                                    0.750599   \n",
       "std                                     0.124813   \n",
       "min                                     0.447531   \n",
       "25%                                     0.651421   \n",
       "50%                                     0.776353   \n",
       "75%                                     0.856433   \n",
       "max                                     0.973660   \n",
       "\n",
       "       distilbert-base-uncased-finetuned-sst-2-english  \\\n",
       "count                                      1000.000000   \n",
       "mean                                          0.941678   \n",
       "std                                           0.101760   \n",
       "min                                           0.507595   \n",
       "25%                                           0.944984   \n",
       "50%                                           0.982960   \n",
       "75%                                           0.995709   \n",
       "max                                           0.999847   \n",
       "\n",
       "       Seethal/sentiment_analysis_generic_dataset  \\\n",
       "count                                 1000.000000   \n",
       "mean                                     0.936243   \n",
       "std                                      0.113147   \n",
       "min                                      0.347998   \n",
       "25%                                      0.944617   \n",
       "50%                                      0.988789   \n",
       "75%                                      0.996465   \n",
       "max                                      0.998013   \n",
       "\n",
       "       siebert/sentiment-roberta-large-english  \\\n",
       "count                              1000.000000   \n",
       "mean                                  0.988232   \n",
       "std                                   0.038330   \n",
       "min                                   0.523486   \n",
       "25%                                   0.991484   \n",
       "50%                                   0.996592   \n",
       "75%                                   0.998246   \n",
       "max                                   0.999493   \n",
       "\n",
       "       nlptown/bert-base-multilingual-uncased-sentiment         flan  \\\n",
       "count                                       1000.000000  1000.000000   \n",
       "mean                                           0.411771     0.339000   \n",
       "std                                            0.129229     0.473607   \n",
       "min                                            0.220949     0.000000   \n",
       "25%                                            0.317767     0.000000   \n",
       "50%                                            0.385819     0.000000   \n",
       "75%                                            0.471215     1.000000   \n",
       "max                                            0.911139     1.000000   \n",
       "\n",
       "         chat_gpt  sentiment_manual  \n",
       "count  922.000000       1000.000000  \n",
       "mean     0.457104          0.547000  \n",
       "std      0.428220          0.267137  \n",
       "min      0.000000          0.000000  \n",
       "25%      0.000000          0.500000  \n",
       "50%      0.500000          0.500000  \n",
       "75%      1.000000          0.500000  \n",
       "max      1.000000          1.000000  "
      ]
     },
     "execution_count": 34,
     "metadata": {},
     "output_type": "execute_result"
    }
   ],
   "source": [
    "sampled_documents[models+ ['flan','chat_gpt', 'sentiment_manual']].describe()"
   ]
  },
  {
   "cell_type": "code",
   "execution_count": 35,
   "metadata": {},
   "outputs": [
    {
     "ename": "KeyError",
     "evalue": "'chat_gpt'",
     "output_type": "error",
     "traceback": [
      "\u001b[0;31m---------------------------------------------------------------------------\u001b[0m",
      "\u001b[0;31mKeyError\u001b[0m                                  Traceback (most recent call last)",
      "File \u001b[0;32m~/.local/lib/python3.10/site-packages/pandas/core/indexes/base.py:3802\u001b[0m, in \u001b[0;36mIndex.get_loc\u001b[0;34m(self, key, method, tolerance)\u001b[0m\n\u001b[1;32m   3801\u001b[0m \u001b[39mtry\u001b[39;00m:\n\u001b[0;32m-> 3802\u001b[0m     \u001b[39mreturn\u001b[39;00m \u001b[39mself\u001b[39;49m\u001b[39m.\u001b[39;49m_engine\u001b[39m.\u001b[39;49mget_loc(casted_key)\n\u001b[1;32m   3803\u001b[0m \u001b[39mexcept\u001b[39;00m \u001b[39mKeyError\u001b[39;00m \u001b[39mas\u001b[39;00m err:\n",
      "File \u001b[0;32m~/.local/lib/python3.10/site-packages/pandas/_libs/index.pyx:138\u001b[0m, in \u001b[0;36mpandas._libs.index.IndexEngine.get_loc\u001b[0;34m()\u001b[0m\n",
      "File \u001b[0;32m~/.local/lib/python3.10/site-packages/pandas/_libs/index.pyx:165\u001b[0m, in \u001b[0;36mpandas._libs.index.IndexEngine.get_loc\u001b[0;34m()\u001b[0m\n",
      "File \u001b[0;32mpandas/_libs/hashtable_class_helper.pxi:5745\u001b[0m, in \u001b[0;36mpandas._libs.hashtable.PyObjectHashTable.get_item\u001b[0;34m()\u001b[0m\n",
      "File \u001b[0;32mpandas/_libs/hashtable_class_helper.pxi:5753\u001b[0m, in \u001b[0;36mpandas._libs.hashtable.PyObjectHashTable.get_item\u001b[0;34m()\u001b[0m\n",
      "\u001b[0;31mKeyError\u001b[0m: 'chat_gpt'",
      "\nThe above exception was the direct cause of the following exception:\n",
      "\u001b[0;31mKeyError\u001b[0m                                  Traceback (most recent call last)",
      "Cell \u001b[0;32mIn[35], line 2\u001b[0m\n\u001b[1;32m      1\u001b[0m \u001b[39m# Filter out outliers from GPT\u001b[39;00m\n\u001b[0;32m----> 2\u001b[0m gpt_outliers \u001b[39m=\u001b[39m sampled_documents[sampled_documents[\u001b[39m'\u001b[39;49m\u001b[39mchat_gpt\u001b[39;49m\u001b[39m'\u001b[39;49m] \u001b[39m>\u001b[39m \u001b[39m1.0\u001b[39m]\u001b[39m.\u001b[39mshape[\u001b[39m0\u001b[39m]\n\u001b[1;32m      4\u001b[0m \u001b[39m# Replace values over 1 with NaN\u001b[39;00m\n\u001b[1;32m      5\u001b[0m sampled_documents\u001b[39m.\u001b[39mloc[sampled_documents[\u001b[39m'\u001b[39m\u001b[39mchat_gpt\u001b[39m\u001b[39m'\u001b[39m] \u001b[39m>\u001b[39m \u001b[39m1.0\u001b[39m, \u001b[39m'\u001b[39m\u001b[39mchat_gpt\u001b[39m\u001b[39m'\u001b[39m] \u001b[39m=\u001b[39m np\u001b[39m.\u001b[39mnan\n",
      "File \u001b[0;32m~/.local/lib/python3.10/site-packages/pandas/core/frame.py:3807\u001b[0m, in \u001b[0;36mDataFrame.__getitem__\u001b[0;34m(self, key)\u001b[0m\n\u001b[1;32m   3805\u001b[0m \u001b[39mif\u001b[39;00m \u001b[39mself\u001b[39m\u001b[39m.\u001b[39mcolumns\u001b[39m.\u001b[39mnlevels \u001b[39m>\u001b[39m \u001b[39m1\u001b[39m:\n\u001b[1;32m   3806\u001b[0m     \u001b[39mreturn\u001b[39;00m \u001b[39mself\u001b[39m\u001b[39m.\u001b[39m_getitem_multilevel(key)\n\u001b[0;32m-> 3807\u001b[0m indexer \u001b[39m=\u001b[39m \u001b[39mself\u001b[39;49m\u001b[39m.\u001b[39;49mcolumns\u001b[39m.\u001b[39;49mget_loc(key)\n\u001b[1;32m   3808\u001b[0m \u001b[39mif\u001b[39;00m is_integer(indexer):\n\u001b[1;32m   3809\u001b[0m     indexer \u001b[39m=\u001b[39m [indexer]\n",
      "File \u001b[0;32m~/.local/lib/python3.10/site-packages/pandas/core/indexes/base.py:3804\u001b[0m, in \u001b[0;36mIndex.get_loc\u001b[0;34m(self, key, method, tolerance)\u001b[0m\n\u001b[1;32m   3802\u001b[0m     \u001b[39mreturn\u001b[39;00m \u001b[39mself\u001b[39m\u001b[39m.\u001b[39m_engine\u001b[39m.\u001b[39mget_loc(casted_key)\n\u001b[1;32m   3803\u001b[0m \u001b[39mexcept\u001b[39;00m \u001b[39mKeyError\u001b[39;00m \u001b[39mas\u001b[39;00m err:\n\u001b[0;32m-> 3804\u001b[0m     \u001b[39mraise\u001b[39;00m \u001b[39mKeyError\u001b[39;00m(key) \u001b[39mfrom\u001b[39;00m \u001b[39merr\u001b[39;00m\n\u001b[1;32m   3805\u001b[0m \u001b[39mexcept\u001b[39;00m \u001b[39mTypeError\u001b[39;00m:\n\u001b[1;32m   3806\u001b[0m     \u001b[39m# If we have a listlike key, _check_indexing_error will raise\u001b[39;00m\n\u001b[1;32m   3807\u001b[0m     \u001b[39m#  InvalidIndexError. Otherwise we fall through and re-raise\u001b[39;00m\n\u001b[1;32m   3808\u001b[0m     \u001b[39m#  the TypeError.\u001b[39;00m\n\u001b[1;32m   3809\u001b[0m     \u001b[39mself\u001b[39m\u001b[39m.\u001b[39m_check_indexing_error(key)\n",
      "\u001b[0;31mKeyError\u001b[0m: 'chat_gpt'"
     ]
    }
   ],
   "source": [
    "# Filter out outliers from GPT\n",
    "gpt_outliers = sampled_documents[sampled_documents['chat_gpt'] > 1.0].shape[0]\n",
    "\n",
    "# Replace values over 1 with NaN\n",
    "sampled_documents.loc[sampled_documents['chat_gpt'] > 1.0, 'chat_gpt'] = np.nan\n",
    "\n",
    "# Print the number of replaced rows\n",
    "print(f\"Replaced {gpt_outliers} values with NaN.\")"
   ]
  },
  {
   "cell_type": "code",
   "execution_count": 36,
   "metadata": {},
   "outputs": [],
   "source": [
    "# Function to normalize scores with defined cut-off borders\n",
    "def normalize_score(score):\n",
    "    if score <= 0.33:\n",
    "        return 0.0\n",
    "    elif score <= 0.66:\n",
    "        return 0.5\n",
    "    else:\n",
    "        return 1.0\n",
    "\n",
    "# Apply the normalization for each sentiment score\n",
    "for model in models:\n",
    "    sampled_documents[model + '_norm'] = sampled_documents[model].apply(normalize_score)"
   ]
  },
  {
   "cell_type": "code",
   "execution_count": 37,
   "metadata": {},
   "outputs": [
    {
     "data": {
      "image/png": "[encoded data removed]",
      "text/plain": [
       "<Figure size 1600x900 with 2 Axes>"
      ]
     },
     "metadata": {},
     "output_type": "display_data"
    }
   ],
   "source": [
    "# Plot the results of the different sentiment annotations and add the manual annotations to the boxplot\n",
    "\n",
    "# Create the subplots\n",
    "fig, axes = plt.subplots(1, 2, figsize=(16, 9))\n",
    "\n",
    "# Boxplot for the original scores retrieved from the models\n",
    "sns.boxplot(ax=axes[0], data=sampled_documents[models + ['flan','chat_gpt','sentiment_manual']])\n",
    "axes[0].set_title('Continuous Sentiment Scores', fontsize=16)\n",
    "axes[0].set_xlabel('Models', fontsize=12)\n",
    "axes[0].set_ylabel('Sentiment Score', fontsize=12)\n",
    "axes[0].tick_params(axis='x', rotation=90)\n",
    "\n",
    "# Boxplot for the normalized scores\n",
    "sns.boxplot(ax=axes[1], data=sampled_documents[[model + '_norm' for model in models] + ['flan','chat_gpt','sentiment_manual']])\n",
    "axes[1].set_title('Categorical Sentiment Scores', fontsize=16)\n",
    "axes[1].set_xlabel('Models', fontsize=12)\n",
    "axes[1].set_ylabel('Sentiment Score', fontsize=12)\n",
    "axes[1].tick_params(axis='x', rotation=90)\n",
    "\n",
    "plt.tight_layout()\n",
    "plt.show()"
   ]
  },
  {
   "cell_type": "code",
   "execution_count": 38,
   "metadata": {},
   "outputs": [
    {
     "data": {
      "image/png": "[encoded data removed]",
      "text/plain": [
       "<Figure size 1000x1000 with 3 Axes>"
      ]
     },
     "metadata": {},
     "output_type": "display_data"
    }
   ],
   "source": [
    "# Since multiple models just have 0.0, 0.5 and 1.0 as an output\n",
    "df_hist = sampled_documents[['flan', 'chat_gpt', 'sentiment_manual']]\n",
    "\n",
    "plt.figure(figsize=(10,10))\n",
    "for i, col in enumerate(df_hist.columns):\n",
    "    plt.subplot(3, 1, i+1)\n",
    "    sns.histplot(df_hist[col], bins=10, kde=True)\n",
    "    plt.title(f\"Histogram of {col}\")\n",
    "    \n",
    "plt.tight_layout()\n",
    "plt.show()\n"
   ]
  },
  {
   "attachments": {},
   "cell_type": "markdown",
   "metadata": {},
   "source": [
    "\n",
    "From a processing speed perspective, the models differ in iterations per second (*it/s*):  \n",
    "\n",
    "On a Apple M1 Pro CPU with 10 cores and 32GB RAM.\n",
    "- cardiffnlp/twitter-roberta-base-sentiment:            25.5 it/s\n",
    "- distilbert-base-uncased-finetuned-sst-2-english:      42.5 it/s\n",
    "- Seethal/sentiment_analysis_generic_dataset:           45.0 it/s\n",
    "- siebert/sentiment-roberta-large-english:              8.9 it/s\n",
    "- nlptown/bert-base-multilingual-uncased-sentiment:     23.2 it/s\n",
    "- google/flan-t5-base:                                  8.5 it/s\n",
    "- GPT (via API):                                        1.5 it/s\n",
    "\n",
    "\n",
    "On a RTX3080 and 32GB RAM:\n",
    "- cardiffnlp/twitter-roberta-base-sentiment               51.19it/s \n",
    "- distilbert-base-uncased-finetuned-sst-2-english         99.83it/s\n",
    "- Seethal/sentiment_analysis_generic_dataset              104.57it/s\n",
    "- siebert/sentiment-roberta-large-english                 17.01it/s\n",
    "- nlptown/bert-base-multilingual-uncased-sentiment        51.48it/s\n",
    "- google/flan-t5-base:                                    10.46it/s\n",
    "- GPT (via API):                                          1.5 it/s\n",
    "\n",
    "*Seethal/sentiment_analysis_generic_dataset* is the fastest in terms of performance, *google/flan-t5-base* and *siebert/sentiment-roberta-large-english* are both slow.\n",
    "Since *GPT* is called by an API, the processing speed is even slower with around 1.5 it/s. In addition it is costly, around 2$ for 1,000 sentences with the \"text-davinci-003\" mode.  \n",
    "\n",
    "Also mentionable is the scaling of the models on different systems. All models except *google/flan-t5-base* (and of course the GPT API) doubled their performance if run on a GPU."
   ]
  },
  {
   "attachments": {},
   "cell_type": "markdown",
   "metadata": {},
   "source": [
    "#### Results\n",
    "The examination of different models for sentiment analysis has led to several noteworthy observations. Foremost among these is the superior performance of the Generative Pre-training Transformer (GPT) model in terms of congruence with our gold standard.  \n",
    "This is corroborated by our quantitative and visual analyses, with both the boxplot mean values of *'chat_gpt'* and *'sentiment_manual'*, and the histogram comparisons substantiating the superior alignment of GPT outputs with the gold standard.\n",
    "\n",
    "However, an important consideration in the context is the cost and computational efficiency associated with each model. Despite its promising performance, the GPT model necessitates an API call for each execution.  \n",
    "This introduces a latency that substantially slows down the overall processing speed, making it less practical for annotating the full dataset within the given constraints.\n",
    "\n",
    "Among the other models evaluated, the *'nlptown/bert-base-multilingual-uncased-sentiment'* model exhibits the most satisfactory performance. It has the smallest difference in mean value to 'sentiment_manual' compared to the rest of the models.  \n",
    "Furthermore, its processing speed is commendably efficient, positioning it in the mid-range among the models tested.  \n",
    "Consequently, this model strikes a balance between performance and computational efficiency, rendering it a suitable choice for our dataset annotation."
   ]
  },
  {
   "attachments": {},
   "cell_type": "markdown",
   "metadata": {},
   "source": [
    "## Full Dataset Annotation with the selected LLM\n",
    "\n",
    "Based on the comparison, *nlptown/bert-base-multilingual-uncased-sentiment* demonstrated best results to annotate the ESG documents.  \n",
    "Therefore this LLM with a zero-shot / direct request strategy is used to annotate all sentences."
   ]
  },
  {
   "cell_type": "code",
   "execution_count": 37,
   "metadata": {},
   "outputs": [],
   "source": [
    "# Craete new column to store the sentence sentiment\n",
    "documents['st2_sentiment_llm_continuous'] = np.nan"
   ]
  },
  {
   "cell_type": "code",
   "execution_count": 38,
   "metadata": {},
   "outputs": [
    {
     "name": "stderr",
     "output_type": "stream",
     "text": [
      "Processing batches:   1%|▏         | 10/679 [01:00<1:06:37,  5.98s/it]/home/tim/miniconda3/envs/venv-hslu-nlp/lib/python3.10/site-packages/transformers/pipelines/base.py:1080: UserWarning: You seem to be using the pipelines sequentially on GPU. In order to maximize efficiency please use a dataset\n",
      "  warnings.warn(\n",
      "Processing batches: 100%|██████████| 679/679 [1:11:28<00:00,  6.32s/it]\n"
     ]
    }
   ],
   "source": [
    "from transformers import pipeline\n",
    "import numpy as np\n",
    "\n",
    "def get_sentiment_scores(nlp, sentences):\n",
    "    results = nlp(sentences)\n",
    "    scores = [result['score'] for result in results]\n",
    "    return scores\n",
    "\n",
    "nlp_full = pipeline('sentiment-analysis', model='nlptown/bert-base-multilingual-uncased-sentiment', use_fast=True, truncation=True, device=0) # device=0 = GPU\n",
    "\n",
    "# Define batch size for the processing\n",
    "batch_size = 1000\n",
    "\n",
    "# Split the sentences into batches and get scores\n",
    "scores = []\n",
    "for i in tqdm(range(0, len(documents['sentence_tokens']), batch_size), desc=\"Processing batches\"):\n",
    "    batch = documents['sentence_tokens'][i:i+batch_size].tolist()\n",
    "    batch_scores = get_sentiment_scores(nlp_full, batch)\n",
    "    scores.extend(batch_scores)\n",
    "\n",
    "# Add scores to DataFrame\n",
    "documents['st2_sentiment_llm_continuous'] = scores"
   ]
  },
  {
   "cell_type": "code",
   "execution_count": 41,
   "metadata": {},
   "outputs": [
    {
     "data": {
      "image/png": "[encoded data removed]",
      "text/plain": [
       "<Figure size 1000x600 with 1 Axes>"
      ]
     },
     "metadata": {},
     "output_type": "display_data"
    }
   ],
   "source": [
    "# Check the calculated sentiment values with a histogram\n",
    "plt.figure(figsize=(10,6))\n",
    "sns.histplot(documents['st2_sentiment_llm_continuous'], bins=10, kde=True)\n",
    "plt.title('Distribution of continuous calculated Sentiment Values by LLM')\n",
    "plt.tight_layout()\n",
    "plt.show()"
   ]
  },
  {
   "cell_type": "code",
   "execution_count": 39,
   "metadata": {},
   "outputs": [],
   "source": [
    "# Transform the continuous sentiments to 0.0, 0.5 and 1.0\n",
    "documents['st2_sentiment_llm_categorical'] = documents['st2_sentiment_llm_continuous'].apply(normalize_score)"
   ]
  },
  {
   "cell_type": "code",
   "execution_count": 40,
   "metadata": {},
   "outputs": [
    {
     "data": {
      "image/png": "[encoded data removed]",
      "text/plain": [
       "<Figure size 1000x600 with 1 Axes>"
      ]
     },
     "metadata": {},
     "output_type": "display_data"
    }
   ],
   "source": [
    "# Check the calculated sentiment values with a histogram\n",
    "plt.figure(figsize=(10,6))\n",
    "sns.histplot(documents['st2_sentiment_llm_categorical'], kde=True)\n",
    "plt.title('Distribution of categorical calculated Sentiment Values by LLM')\n",
    "plt.tight_layout()\n",
    "plt.show()"
   ]
  },
  {
   "cell_type": "code",
   "execution_count": 42,
   "metadata": {},
   "outputs": [
    {
     "data": {
      "text/plain": [
       "0    0.398557\n",
       "1    0.398557\n",
       "2    0.398557\n",
       "3    0.398557\n",
       "4    0.398557\n",
       "Name: st1_sentiment_continuous, dtype: float64"
      ]
     },
     "execution_count": 42,
     "metadata": {},
     "output_type": "execute_result"
    }
   ],
   "source": [
    "documents['st1_sentiment_continuous'].head()"
   ]
  },
  {
   "cell_type": "code",
   "execution_count": 43,
   "metadata": {},
   "outputs": [],
   "source": [
    "# Reduce output columns\n",
    "documents_reduced = documents[['company','datatype','title','date','domain','esg_topics','internal','symbol','sentence_tokens','market_cap_in_usd_b','sector','industry','year_month' ,'year','month','st1_sentiment_continuous','st2_sentiment_llm_continuous', 'st2_sentiment_llm_categorical', 'original_index']]\n",
    "\n",
    "# Group by the 'original_index' and aggregate the columns\n",
    "documents_aggregated = documents_reduced.groupby('original_index').agg({\n",
    "    # Use 'first' function for all columns except for 'sentence_tokens' and 'sentence_sentiment_value_llm'\n",
    "    'company': 'first',  \n",
    "    'datatype': 'first',  \n",
    "    'title': 'first',  \n",
    "    'date': 'first',  \n",
    "    'domain': 'first',  \n",
    "    'esg_topics': 'first',  \n",
    "    'internal': 'first',  \n",
    "    'symbol': 'first',  \n",
    "    'sentence_tokens': list,  # Combine the 'sentence_tokens' into a list\n",
    "    'market_cap_in_usd_b': 'first',  \n",
    "    'sector': 'first',  \n",
    "    'industry': 'first',  \n",
    "    'year_month': 'first',  \n",
    "    'year': 'first',  \n",
    "    'month': 'first',\n",
    "    'st1_sentiment_continuous': 'first',\n",
    "    'st2_sentiment_llm_continuous': lambda x: [i if pd.notnull(i) else np.nan for i in x],  # Combine the 'sentence_sentiment_value_llm' into a list, substituting NaN where no manual sentiment was added\n",
    "    'st2_sentiment_llm_categorical': lambda x: [i if pd.notnull(i) else np.nan for i in x]  \n",
    "})\n",
    "\n",
    "# Reset the index\n",
    "documents_aggregated = documents_aggregated.reset_index(drop=True)"
   ]
  },
  {
   "cell_type": "code",
   "execution_count": 48,
   "metadata": {},
   "outputs": [
    {
     "data": {
      "text/plain": [
       "(11072, 19)"
      ]
     },
     "execution_count": 48,
     "metadata": {},
     "output_type": "execute_result"
    }
   ],
   "source": [
    "documents_aggregated.shape"
   ]
  },
  {
   "cell_type": "code",
   "execution_count": 45,
   "metadata": {},
   "outputs": [],
   "source": [
    "# Add word count feature for later data analysis\n",
    "documents_aggregated['cnt_sentence'] = documents_aggregated['sentence_tokens'].apply(len)"
   ]
  },
  {
   "cell_type": "code",
   "execution_count": 46,
   "metadata": {},
   "outputs": [],
   "source": [
    "# Save the full annotations to CSV (whole dataframe is too big to store on GitHub, Google Drive link provided)\n",
    "if not os.path.exists('./output/'):  # Check if the directory exists and create it if it doesn't\n",
    "    os.makedirs('./output/')\n",
    "documents_aggregated.to_csv(f'./output/stage2_output.csv', index=False, sep='|')"
   ]
  },
  {
   "attachments": {},
   "cell_type": "markdown",
   "metadata": {},
   "source": [
    "To store the complete CSSV with the calculated sentiment values, Google Drive is used. The \"gold_standart.csv\" (1,000 manually annotated sentences) and the \"full_llm_annotated.csv\" can be found here:  \n",
    "https://drive.google.com/drive/folders/1ATtCPPll6n_qvfMBu4ka84E3DZDS7d11"
   ]
  }
 ],
 "metadata": {
  "kernelspec": {
   "display_name": "venv-nlp",
   "language": "python",
   "name": "python3"
  },
  "language_info": {
   "codemirror_mode": {
    "name": "ipython",
    "version": 3
   },
   "file_extension": ".py",
   "mimetype": "text/x-python",
   "name": "python",
   "nbconvert_exporter": "python",
   "pygments_lexer": "ipython3",
   "version": "3.10.11"
  },
  "orig_nbformat": 4
 },
 "nbformat": 4,
 "nbformat_minor": 2
}
