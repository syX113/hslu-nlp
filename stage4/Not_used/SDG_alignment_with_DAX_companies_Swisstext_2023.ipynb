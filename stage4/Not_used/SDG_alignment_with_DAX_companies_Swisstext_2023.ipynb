{
  "nbformat": 4,
  "nbformat_minor": 0,
  "metadata": {
    "colab": {
      "provenance": []
    },
    "kernelspec": {
      "name": "python3",
      "display_name": "Python 3"
    },
    "language_info": {
      "name": "python"
    }
  },
  "cells": [
    {
      "cell_type": "markdown",
      "source": [
        "In this notebook, we use the technique of [sentence embeddings](https://paperswithcode.com/task/sentence-embedding) to analyse the SDG alignment of German DAX companies, as reflected by communications by/about these companies. After trying the basic analyses presented here, we encourage users to dive into more advanced questions related to sustainability and greenwashing.\n",
        "\n",
        "The dataset used in this notebook on be [downloaded on Kaggle](https://www.kaggle.com/datasets/equintel/dax-esg-media-dataset).\n"
      ],
      "metadata": {
        "id": "NuHMiwgKzoRT"
      }
    },
    {
      "cell_type": "code",
      "source": [
        "# In this cell, set DATA_DIR to the directory from which both files can be read.\n",
        "from google.colab import drive\n",
        "drive.mount('/content/gdrive/', force_remount=True)\n",
        "\n",
        "DATA_DIR = \"/content/gdrive/MyDrive/dax_esg_dataset/\""
      ],
      "metadata": {
        "id": "8d6x39E-gxS4",
        "colab": {
          "base_uri": "https://localhost:8080/"
        },
        "outputId": "33d5780b-3ad1-427b-f561-7574e59a7faa"
      },
      "execution_count": null,
      "outputs": [
        {
          "output_type": "stream",
          "name": "stdout",
          "text": [
            "Mounted at /content/gdrive/\n"
          ]
        }
      ]
    },
    {
      "cell_type": "code",
      "source": [
        "# Make sure that all dependencies are installed.\n",
        "import pandas as pd\n",
        "import os\n",
        "import numpy as np\n",
        "import sentence_transformers\n",
        "import torch\n",
        "import plotly.graph_objects as go"
      ],
      "metadata": {
        "id": "5tPCv7_7ioJD"
      },
      "execution_count": null,
      "outputs": []
    },
    {
      "cell_type": "markdown",
      "source": [
        "## 1. Loading the data"
      ],
      "metadata": {
        "id": "Tzb0RfPKig8k"
      }
    },
    {
      "cell_type": "code",
      "source": [
        "esg_documents_df = pd.read_csv(os.path.join(DATA_DIR, \"esg_documents_for_dax_companies.csv\"), sep=\"|\")\n",
        "esg_documents_df.head()"
      ],
      "metadata": {
        "colab": {
          "base_uri": "https://localhost:8080/",
          "height": 354
        },
        "id": "2hQIgYKfiVOY",
        "outputId": "4aa2cdf3-3f38-4f0b-8359-732f5a0292b8"
      },
      "execution_count": null,
      "outputs": [
        {
          "output_type": "execute_result",
          "data": {
            "text/plain": [
              "   Unnamed: 0              company  \\\n",
              "0           2        Beiersdorf AG   \n",
              "1           3  Deutsche Telekom AG   \n",
              "2           5           Vonovia SE   \n",
              "3           6           Merck KGaA   \n",
              "4           9                  MTU   \n",
              "\n",
              "                                             content               datatype  \\\n",
              "0  Sustainability Highlight Report CARE BEYOND SK...  sustainability_report   \n",
              "1  Corporate Responsibility Report 2021 2 Content...  sustainability_report   \n",
              "2  VONOVIA SE SUSTAINABILITY REPORT 2021 =For a S...  sustainability_report   \n",
              "3  Sustainability Report 2021 TABLE OF CONTENTS S...  sustainability_report   \n",
              "4  Our ideas and concepts FOR A SUSTAINABLE FUTUR...  sustainability_report   \n",
              "\n",
              "         date domain                                         esg_topics  \\\n",
              "0  2021-03-31    NaN  ['CleanWater', 'GHGEmission', 'ProductLiabilit...   \n",
              "1  2021-03-31    NaN  ['DataSecurity', 'Iso50001', 'GlobalWarming', ...   \n",
              "2  2021-03-31    NaN  ['Whistleblowing', 'DataSecurity', 'Vaccine', ...   \n",
              "3  2021-03-31    NaN  ['DataSecurity', 'DataMisuse', 'DrugResistance...   \n",
              "4  2020-03-31    NaN  ['WorkLifeBalance', 'Corruption', 'AirQuality'...   \n",
              "\n",
              "   internal symbol                                         title  url  \n",
              "0         1    BEI       BeiersdorfAG Sustainability Report 2021  NaN  \n",
              "1         1    DTE  DeutscheTelekomAG Sustainability Report 2021  NaN  \n",
              "2         1    VNA          VonoviaSE Sustainability Report 2021  NaN  \n",
              "3         1    MRK          MerckKGaA Sustainability Report 2021  NaN  \n",
              "4         1    MTX     MTUAeroEngines Sustainability Report 2020  NaN  "
            ],
            "text/html": [
              "\n",
              "  <div id=\"df-9b76b5b5-d190-4cae-a454-6be4918d5dc9\">\n",
              "    <div class=\"colab-df-container\">\n",
              "      <div>\n",
              "<style scoped>\n",
              "    .dataframe tbody tr th:only-of-type {\n",
              "        vertical-align: middle;\n",
              "    }\n",
              "\n",
              "    .dataframe tbody tr th {\n",
              "        vertical-align: top;\n",
              "    }\n",
              "\n",
              "    .dataframe thead th {\n",
              "        text-align: right;\n",
              "    }\n",
              "</style>\n",
              "<table border=\"1\" class=\"dataframe\">\n",
              "  <thead>\n",
              "    <tr style=\"text-align: right;\">\n",
              "      <th></th>\n",
              "      <th>Unnamed: 0</th>\n",
              "      <th>company</th>\n",
              "      <th>content</th>\n",
              "      <th>datatype</th>\n",
              "      <th>date</th>\n",
              "      <th>domain</th>\n",
              "      <th>esg_topics</th>\n",
              "      <th>internal</th>\n",
              "      <th>symbol</th>\n",
              "      <th>title</th>\n",
              "      <th>url</th>\n",
              "    </tr>\n",
              "  </thead>\n",
              "  <tbody>\n",
              "    <tr>\n",
              "      <th>0</th>\n",
              "      <td>2</td>\n",
              "      <td>Beiersdorf AG</td>\n",
              "      <td>Sustainability Highlight Report CARE BEYOND SK...</td>\n",
              "      <td>sustainability_report</td>\n",
              "      <td>2021-03-31</td>\n",
              "      <td>NaN</td>\n",
              "      <td>['CleanWater', 'GHGEmission', 'ProductLiabilit...</td>\n",
              "      <td>1</td>\n",
              "      <td>BEI</td>\n",
              "      <td>BeiersdorfAG Sustainability Report 2021</td>\n",
              "      <td>NaN</td>\n",
              "    </tr>\n",
              "    <tr>\n",
              "      <th>1</th>\n",
              "      <td>3</td>\n",
              "      <td>Deutsche Telekom AG</td>\n",
              "      <td>Corporate Responsibility Report 2021 2 Content...</td>\n",
              "      <td>sustainability_report</td>\n",
              "      <td>2021-03-31</td>\n",
              "      <td>NaN</td>\n",
              "      <td>['DataSecurity', 'Iso50001', 'GlobalWarming', ...</td>\n",
              "      <td>1</td>\n",
              "      <td>DTE</td>\n",
              "      <td>DeutscheTelekomAG Sustainability Report 2021</td>\n",
              "      <td>NaN</td>\n",
              "    </tr>\n",
              "    <tr>\n",
              "      <th>2</th>\n",
              "      <td>5</td>\n",
              "      <td>Vonovia SE</td>\n",
              "      <td>VONOVIA SE SUSTAINABILITY REPORT 2021 =For a S...</td>\n",
              "      <td>sustainability_report</td>\n",
              "      <td>2021-03-31</td>\n",
              "      <td>NaN</td>\n",
              "      <td>['Whistleblowing', 'DataSecurity', 'Vaccine', ...</td>\n",
              "      <td>1</td>\n",
              "      <td>VNA</td>\n",
              "      <td>VonoviaSE Sustainability Report 2021</td>\n",
              "      <td>NaN</td>\n",
              "    </tr>\n",
              "    <tr>\n",
              "      <th>3</th>\n",
              "      <td>6</td>\n",
              "      <td>Merck KGaA</td>\n",
              "      <td>Sustainability Report 2021 TABLE OF CONTENTS S...</td>\n",
              "      <td>sustainability_report</td>\n",
              "      <td>2021-03-31</td>\n",
              "      <td>NaN</td>\n",
              "      <td>['DataSecurity', 'DataMisuse', 'DrugResistance...</td>\n",
              "      <td>1</td>\n",
              "      <td>MRK</td>\n",
              "      <td>MerckKGaA Sustainability Report 2021</td>\n",
              "      <td>NaN</td>\n",
              "    </tr>\n",
              "    <tr>\n",
              "      <th>4</th>\n",
              "      <td>9</td>\n",
              "      <td>MTU</td>\n",
              "      <td>Our ideas and concepts FOR A SUSTAINABLE FUTUR...</td>\n",
              "      <td>sustainability_report</td>\n",
              "      <td>2020-03-31</td>\n",
              "      <td>NaN</td>\n",
              "      <td>['WorkLifeBalance', 'Corruption', 'AirQuality'...</td>\n",
              "      <td>1</td>\n",
              "      <td>MTX</td>\n",
              "      <td>MTUAeroEngines Sustainability Report 2020</td>\n",
              "      <td>NaN</td>\n",
              "    </tr>\n",
              "  </tbody>\n",
              "</table>\n",
              "</div>\n",
              "      <button class=\"colab-df-convert\" onclick=\"convertToInteractive('df-9b76b5b5-d190-4cae-a454-6be4918d5dc9')\"\n",
              "              title=\"Convert this dataframe to an interactive table.\"\n",
              "              style=\"display:none;\">\n",
              "        \n",
              "  <svg xmlns=\"http://www.w3.org/2000/svg\" height=\"24px\"viewBox=\"0 0 24 24\"\n",
              "       width=\"24px\">\n",
              "    <path d=\"M0 0h24v24H0V0z\" fill=\"none\"/>\n",
              "    <path d=\"M18.56 5.44l.94 2.06.94-2.06 2.06-.94-2.06-.94-.94-2.06-.94 2.06-2.06.94zm-11 1L8.5 8.5l.94-2.06 2.06-.94-2.06-.94L8.5 2.5l-.94 2.06-2.06.94zm10 10l.94 2.06.94-2.06 2.06-.94-2.06-.94-.94-2.06-.94 2.06-2.06.94z\"/><path d=\"M17.41 7.96l-1.37-1.37c-.4-.4-.92-.59-1.43-.59-.52 0-1.04.2-1.43.59L10.3 9.45l-7.72 7.72c-.78.78-.78 2.05 0 2.83L4 21.41c.39.39.9.59 1.41.59.51 0 1.02-.2 1.41-.59l7.78-7.78 2.81-2.81c.8-.78.8-2.07 0-2.86zM5.41 20L4 18.59l7.72-7.72 1.47 1.35L5.41 20z\"/>\n",
              "  </svg>\n",
              "      </button>\n",
              "      \n",
              "  <style>\n",
              "    .colab-df-container {\n",
              "      display:flex;\n",
              "      flex-wrap:wrap;\n",
              "      gap: 12px;\n",
              "    }\n",
              "\n",
              "    .colab-df-convert {\n",
              "      background-color: #E8F0FE;\n",
              "      border: none;\n",
              "      border-radius: 50%;\n",
              "      cursor: pointer;\n",
              "      display: none;\n",
              "      fill: #1967D2;\n",
              "      height: 32px;\n",
              "      padding: 0 0 0 0;\n",
              "      width: 32px;\n",
              "    }\n",
              "\n",
              "    .colab-df-convert:hover {\n",
              "      background-color: #E2EBFA;\n",
              "      box-shadow: 0px 1px 2px rgba(60, 64, 67, 0.3), 0px 1px 3px 1px rgba(60, 64, 67, 0.15);\n",
              "      fill: #174EA6;\n",
              "    }\n",
              "\n",
              "    [theme=dark] .colab-df-convert {\n",
              "      background-color: #3B4455;\n",
              "      fill: #D2E3FC;\n",
              "    }\n",
              "\n",
              "    [theme=dark] .colab-df-convert:hover {\n",
              "      background-color: #434B5C;\n",
              "      box-shadow: 0px 1px 3px 1px rgba(0, 0, 0, 0.15);\n",
              "      filter: drop-shadow(0px 1px 2px rgba(0, 0, 0, 0.3));\n",
              "      fill: #FFFFFF;\n",
              "    }\n",
              "  </style>\n",
              "\n",
              "      <script>\n",
              "        const buttonEl =\n",
              "          document.querySelector('#df-9b76b5b5-d190-4cae-a454-6be4918d5dc9 button.colab-df-convert');\n",
              "        buttonEl.style.display =\n",
              "          google.colab.kernel.accessAllowed ? 'block' : 'none';\n",
              "\n",
              "        async function convertToInteractive(key) {\n",
              "          const element = document.querySelector('#df-9b76b5b5-d190-4cae-a454-6be4918d5dc9');\n",
              "          const dataTable =\n",
              "            await google.colab.kernel.invokeFunction('convertToInteractive',\n",
              "                                                     [key], {});\n",
              "          if (!dataTable) return;\n",
              "\n",
              "          const docLinkHtml = 'Like what you see? Visit the ' +\n",
              "            '<a target=\"_blank\" href=https://colab.research.google.com/notebooks/data_table.ipynb>data table notebook</a>'\n",
              "            + ' to learn more about interactive tables.';\n",
              "          element.innerHTML = '';\n",
              "          dataTable['output_type'] = 'display_data';\n",
              "          await google.colab.output.renderOutput(dataTable, element);\n",
              "          const docLink = document.createElement('div');\n",
              "          docLink.innerHTML = docLinkHtml;\n",
              "          element.appendChild(docLink);\n",
              "        }\n",
              "      </script>\n",
              "    </div>\n",
              "  </div>\n",
              "  "
            ]
          },
          "metadata": {},
          "execution_count": 37
        }
      ]
    },
    {
      "cell_type": "code",
      "source": [
        "# form texts by concatenating title and content\n",
        "esg_texts = esg_documents_df.apply(lambda row: \" \".join([str(row[\"title\"]), str(row[\"content\"])]), axis=1)\n",
        "esg_texts[0][:100]"
      ],
      "metadata": {
        "colab": {
          "base_uri": "https://localhost:8080/",
          "height": 35
        },
        "id": "TdRTN7aBi2Lq",
        "outputId": "ff1a5960-340e-4af2-e7ba-499144256884"
      },
      "execution_count": null,
      "outputs": [
        {
          "output_type": "execute_result",
          "data": {
            "text/plain": [
              "'BeiersdorfAG Sustainability Report 2021 Sustainability Highlight Report CARE BEYOND SKIN 2021 03 For'"
            ],
            "application/vnd.google.colaboratory.intrinsic+json": {
              "type": "string"
            }
          },
          "metadata": {},
          "execution_count": 38
        }
      ]
    },
    {
      "cell_type": "code",
      "source": [
        "sdg_df = pd.read_csv(os.path.join(DATA_DIR, \"sdg_descriptions_with_targetsText.csv\"))\n",
        "sdg_df.head()"
      ],
      "metadata": {
        "colab": {
          "base_uri": "https://localhost:8080/",
          "height": 337
        },
        "id": "hARsYrByhJYr",
        "outputId": "63ff7b1d-90ba-420c-c3fd-86b2a35bb79e"
      },
      "execution_count": null,
      "outputs": [
        {
          "output_type": "execute_result",
          "data": {
            "text/plain": [
              "   id                        name  \\\n",
              "0   1                  No Poverty   \n",
              "1   2                 Zero Hunger   \n",
              "2   3  Good Health and Well-being   \n",
              "3   4           Quality Education   \n",
              "4   5             Gender Equality   \n",
              "\n",
              "                                         description  \\\n",
              "0            End poverty in all its forms everywhere   \n",
              "1  End hunger, achieve food security and improved...   \n",
              "2  Ensure healthy lives and promote well-being fo...   \n",
              "3  Ensure inclusive and equitable quality educati...   \n",
              "4  Achieve gender equality and empower all women ...   \n",
              "\n",
              "                                             targets  \\\n",
              "0  ['1.1', 'By 2030, eradicate extreme poverty fo...   \n",
              "1  ['2.1', 'By 2030, end hunger and ensure access...   \n",
              "2  ['3.1', 'By 2030, reduce the global maternal m...   \n",
              "3  ['4.1', 'By 2030, ensure that all girls and bo...   \n",
              "4  ['5.1', 'End all forms of discrimination again...   \n",
              "\n",
              "                                  targets_json_array  \\\n",
              "0  [{\"target\":\"1.1\",\"description\":\"By 2030, eradi...   \n",
              "1  [{\"target\":\"2.1\",\"description\":\"By 2030, end h...   \n",
              "2  [{\"target\":\"3.1\",\"description\":\"By 2030, reduc...   \n",
              "3  [{\"target\":\"4.1\",\"description\":\"By 2030, ensur...   \n",
              "4  [{\"target\":\"5.1\",\"description\":\"End all forms ...   \n",
              "\n",
              "                                            progress  \n",
              "0  ['The impact of the COVID-19 pandemic reversed...  \n",
              "1  ['Between 2014 and the onset of the pandemic, ...  \n",
              "2  ['By April 2022, the coronavirus causing COVID...  \n",
              "3  ['The COVID-19 outbreak has caused a global ed...  \n",
              "4  [\"The world is not on track to achieve gender ...  "
            ],
            "text/html": [
              "\n",
              "  <div id=\"df-2de7663c-b16b-484c-ab17-16aed5e7e5b8\">\n",
              "    <div class=\"colab-df-container\">\n",
              "      <div>\n",
              "<style scoped>\n",
              "    .dataframe tbody tr th:only-of-type {\n",
              "        vertical-align: middle;\n",
              "    }\n",
              "\n",
              "    .dataframe tbody tr th {\n",
              "        vertical-align: top;\n",
              "    }\n",
              "\n",
              "    .dataframe thead th {\n",
              "        text-align: right;\n",
              "    }\n",
              "</style>\n",
              "<table border=\"1\" class=\"dataframe\">\n",
              "  <thead>\n",
              "    <tr style=\"text-align: right;\">\n",
              "      <th></th>\n",
              "      <th>id</th>\n",
              "      <th>name</th>\n",
              "      <th>description</th>\n",
              "      <th>targets</th>\n",
              "      <th>targets_json_array</th>\n",
              "      <th>progress</th>\n",
              "    </tr>\n",
              "  </thead>\n",
              "  <tbody>\n",
              "    <tr>\n",
              "      <th>0</th>\n",
              "      <td>1</td>\n",
              "      <td>No Poverty</td>\n",
              "      <td>End poverty in all its forms everywhere</td>\n",
              "      <td>['1.1', 'By 2030, eradicate extreme poverty fo...</td>\n",
              "      <td>[{\"target\":\"1.1\",\"description\":\"By 2030, eradi...</td>\n",
              "      <td>['The impact of the COVID-19 pandemic reversed...</td>\n",
              "    </tr>\n",
              "    <tr>\n",
              "      <th>1</th>\n",
              "      <td>2</td>\n",
              "      <td>Zero Hunger</td>\n",
              "      <td>End hunger, achieve food security and improved...</td>\n",
              "      <td>['2.1', 'By 2030, end hunger and ensure access...</td>\n",
              "      <td>[{\"target\":\"2.1\",\"description\":\"By 2030, end h...</td>\n",
              "      <td>['Between 2014 and the onset of the pandemic, ...</td>\n",
              "    </tr>\n",
              "    <tr>\n",
              "      <th>2</th>\n",
              "      <td>3</td>\n",
              "      <td>Good Health and Well-being</td>\n",
              "      <td>Ensure healthy lives and promote well-being fo...</td>\n",
              "      <td>['3.1', 'By 2030, reduce the global maternal m...</td>\n",
              "      <td>[{\"target\":\"3.1\",\"description\":\"By 2030, reduc...</td>\n",
              "      <td>['By April 2022, the coronavirus causing COVID...</td>\n",
              "    </tr>\n",
              "    <tr>\n",
              "      <th>3</th>\n",
              "      <td>4</td>\n",
              "      <td>Quality Education</td>\n",
              "      <td>Ensure inclusive and equitable quality educati...</td>\n",
              "      <td>['4.1', 'By 2030, ensure that all girls and bo...</td>\n",
              "      <td>[{\"target\":\"4.1\",\"description\":\"By 2030, ensur...</td>\n",
              "      <td>['The COVID-19 outbreak has caused a global ed...</td>\n",
              "    </tr>\n",
              "    <tr>\n",
              "      <th>4</th>\n",
              "      <td>5</td>\n",
              "      <td>Gender Equality</td>\n",
              "      <td>Achieve gender equality and empower all women ...</td>\n",
              "      <td>['5.1', 'End all forms of discrimination again...</td>\n",
              "      <td>[{\"target\":\"5.1\",\"description\":\"End all forms ...</td>\n",
              "      <td>[\"The world is not on track to achieve gender ...</td>\n",
              "    </tr>\n",
              "  </tbody>\n",
              "</table>\n",
              "</div>\n",
              "      <button class=\"colab-df-convert\" onclick=\"convertToInteractive('df-2de7663c-b16b-484c-ab17-16aed5e7e5b8')\"\n",
              "              title=\"Convert this dataframe to an interactive table.\"\n",
              "              style=\"display:none;\">\n",
              "        \n",
              "  <svg xmlns=\"http://www.w3.org/2000/svg\" height=\"24px\"viewBox=\"0 0 24 24\"\n",
              "       width=\"24px\">\n",
              "    <path d=\"M0 0h24v24H0V0z\" fill=\"none\"/>\n",
              "    <path d=\"M18.56 5.44l.94 2.06.94-2.06 2.06-.94-2.06-.94-.94-2.06-.94 2.06-2.06.94zm-11 1L8.5 8.5l.94-2.06 2.06-.94-2.06-.94L8.5 2.5l-.94 2.06-2.06.94zm10 10l.94 2.06.94-2.06 2.06-.94-2.06-.94-.94-2.06-.94 2.06-2.06.94z\"/><path d=\"M17.41 7.96l-1.37-1.37c-.4-.4-.92-.59-1.43-.59-.52 0-1.04.2-1.43.59L10.3 9.45l-7.72 7.72c-.78.78-.78 2.05 0 2.83L4 21.41c.39.39.9.59 1.41.59.51 0 1.02-.2 1.41-.59l7.78-7.78 2.81-2.81c.8-.78.8-2.07 0-2.86zM5.41 20L4 18.59l7.72-7.72 1.47 1.35L5.41 20z\"/>\n",
              "  </svg>\n",
              "      </button>\n",
              "      \n",
              "  <style>\n",
              "    .colab-df-container {\n",
              "      display:flex;\n",
              "      flex-wrap:wrap;\n",
              "      gap: 12px;\n",
              "    }\n",
              "\n",
              "    .colab-df-convert {\n",
              "      background-color: #E8F0FE;\n",
              "      border: none;\n",
              "      border-radius: 50%;\n",
              "      cursor: pointer;\n",
              "      display: none;\n",
              "      fill: #1967D2;\n",
              "      height: 32px;\n",
              "      padding: 0 0 0 0;\n",
              "      width: 32px;\n",
              "    }\n",
              "\n",
              "    .colab-df-convert:hover {\n",
              "      background-color: #E2EBFA;\n",
              "      box-shadow: 0px 1px 2px rgba(60, 64, 67, 0.3), 0px 1px 3px 1px rgba(60, 64, 67, 0.15);\n",
              "      fill: #174EA6;\n",
              "    }\n",
              "\n",
              "    [theme=dark] .colab-df-convert {\n",
              "      background-color: #3B4455;\n",
              "      fill: #D2E3FC;\n",
              "    }\n",
              "\n",
              "    [theme=dark] .colab-df-convert:hover {\n",
              "      background-color: #434B5C;\n",
              "      box-shadow: 0px 1px 3px 1px rgba(0, 0, 0, 0.15);\n",
              "      filter: drop-shadow(0px 1px 2px rgba(0, 0, 0, 0.3));\n",
              "      fill: #FFFFFF;\n",
              "    }\n",
              "  </style>\n",
              "\n",
              "      <script>\n",
              "        const buttonEl =\n",
              "          document.querySelector('#df-2de7663c-b16b-484c-ab17-16aed5e7e5b8 button.colab-df-convert');\n",
              "        buttonEl.style.display =\n",
              "          google.colab.kernel.accessAllowed ? 'block' : 'none';\n",
              "\n",
              "        async function convertToInteractive(key) {\n",
              "          const element = document.querySelector('#df-2de7663c-b16b-484c-ab17-16aed5e7e5b8');\n",
              "          const dataTable =\n",
              "            await google.colab.kernel.invokeFunction('convertToInteractive',\n",
              "                                                     [key], {});\n",
              "          if (!dataTable) return;\n",
              "\n",
              "          const docLinkHtml = 'Like what you see? Visit the ' +\n",
              "            '<a target=\"_blank\" href=https://colab.research.google.com/notebooks/data_table.ipynb>data table notebook</a>'\n",
              "            + ' to learn more about interactive tables.';\n",
              "          element.innerHTML = '';\n",
              "          dataTable['output_type'] = 'display_data';\n",
              "          await google.colab.output.renderOutput(dataTable, element);\n",
              "          const docLink = document.createElement('div');\n",
              "          docLink.innerHTML = docLinkHtml;\n",
              "          element.appendChild(docLink);\n",
              "        }\n",
              "      </script>\n",
              "    </div>\n",
              "  </div>\n",
              "  "
            ]
          },
          "metadata": {},
          "execution_count": 39
        }
      ]
    },
    {
      "cell_type": "code",
      "source": [
        "sdg_texts = sdg_df.apply(lambda row: \" \".join([row[\"name\"], row[\"description\"], row[\"targets\"], row[\"progress\"]]), axis=1)\n",
        "sdg_texts[0][:100]"
      ],
      "metadata": {
        "colab": {
          "base_uri": "https://localhost:8080/",
          "height": 35
        },
        "id": "5peAiqVMiEZk",
        "outputId": "ae437f16-7647-4901-d22f-154098cd7499"
      },
      "execution_count": null,
      "outputs": [
        {
          "output_type": "execute_result",
          "data": {
            "text/plain": [
              "\"No Poverty End poverty in all its forms everywhere ['1.1', 'By 2030, eradicate extreme poverty for a\""
            ],
            "application/vnd.google.colaboratory.intrinsic+json": {
              "type": "string"
            }
          },
          "metadata": {},
          "execution_count": 40
        }
      ]
    },
    {
      "cell_type": "code",
      "source": [
        "companies = sorted(esg_documents_df.company.unique())\n",
        "companies"
      ],
      "metadata": {
        "colab": {
          "base_uri": "https://localhost:8080/"
        },
        "id": "pXyUZI8zjKwr",
        "outputId": "968e43de-fee1-4d4a-db63-4ac18e6cf83e"
      },
      "execution_count": null,
      "outputs": [
        {
          "output_type": "execute_result",
          "data": {
            "text/plain": [
              "array(['Beiersdorf AG', 'Deutsche Telekom AG', 'Vonovia SE', 'Merck KGaA',\n",
              "       'MTU', 'E ONSE', 'RWE AG', 'Heidelberg Cement AG', 'Siemens AG',\n",
              "       'Linde', 'Qiagen', 'Henkel', 'Daimler AG', 'Continental AG',\n",
              "       'Bayer AG', 'Volkswagen AG', 'Fresenius', 'Symrise AG',\n",
              "       'Sartorius AG', 'Porsche', 'SAP', 'Adidas AG', 'Deutsche Bank AG',\n",
              "       'Puma SE', 'Siemens Healthineers AG', 'Airbus SE', 'Covestro AG',\n",
              "       'Allianz SE', 'Infineon Technologies AG', 'BMW', 'Hannover R AG',\n",
              "       'Siemens Energy', 'Zalando SE',\n",
              "       'Muenchener Rueckversicherungs Gesellschaft AGin Muenchen',\n",
              "       'Deutsche Post AG', 'BASF SE', 'Deutsche Boerse AG', 'Brenntag',\n",
              "       'AkzoNobelNV', 'Vonovia'], dtype=object)"
            ]
          },
          "metadata": {},
          "execution_count": 41
        }
      ]
    },
    {
      "cell_type": "markdown",
      "source": [
        "## 2. Build embeddings"
      ],
      "metadata": {
        "id": "dNNkjV26jTeb"
      }
    },
    {
      "cell_type": "code",
      "source": [
        "device = 'cuda' if torch.cuda.is_available() else 'cpu'\n",
        "# load the retriever model from huggingface model hub\n",
        "retriever = sentence_transformers.SentenceTransformer(\"flax-sentence-embeddings/all_datasets_v3_mpnet-base\", device=device)\n",
        "retriever"
      ],
      "metadata": {
        "colab": {
          "base_uri": "https://localhost:8080/"
        },
        "id": "cposkUb2jczo",
        "outputId": "655e8331-8bfc-42c3-b18c-3b5403cff9aa"
      },
      "execution_count": null,
      "outputs": [
        {
          "output_type": "execute_result",
          "data": {
            "text/plain": [
              "SentenceTransformer(\n",
              "  (0): Transformer({'max_seq_length': 128, 'do_lower_case': False}) with Transformer model: MPNetModel \n",
              "  (1): Pooling({'word_embedding_dimension': 768, 'pooling_mode_cls_token': False, 'pooling_mode_mean_tokens': True, 'pooling_mode_max_tokens': False, 'pooling_mode_mean_sqrt_len_tokens': False})\n",
              "  (2): Normalize()\n",
              ")"
            ]
          },
          "metadata": {},
          "execution_count": 42
        }
      ]
    },
    {
      "cell_type": "code",
      "source": [
        "company_text_embeddings = retriever.encode(esg_texts)\n",
        "sdg_embeddings = retriever.encode(sdg_texts)"
      ],
      "metadata": {
        "id": "eScCQp_Xjh-9"
      },
      "execution_count": null,
      "outputs": []
    },
    {
      "cell_type": "markdown",
      "source": [
        "## 3. SDG alignment of the DAX companies"
      ],
      "metadata": {
        "id": "F0Xbo3RojvFW"
      }
    },
    {
      "cell_type": "code",
      "source": [
        "def cosine_similarity(embedding1, embedding2):\n",
        "    sim = np.dot(embedding1, embedding2)/(np.linalg.norm(embedding1)*np.linalg.norm(embedding2))\n",
        "    return sim"
      ],
      "metadata": {
        "id": "GFXu5I-wjxaC"
      },
      "execution_count": null,
      "outputs": []
    },
    {
      "cell_type": "markdown",
      "source": [
        "We model SDG alignment as similarity between the company-related texts and the SDG descriptions. In this section, we first define the similarity function using standard cosine similarity. Then, we demonstrate some possible alignment analyses, their visualisations and interpretations. Finally, we provide suggestions for further, more advanced alignment analyses. "
      ],
      "metadata": {
        "id": "SNP1rhbJkD0g"
      }
    },
    {
      "cell_type": "markdown",
      "source": [
        "### Most relevant SDGs for DAX companies"
      ],
      "metadata": {
        "id": "9-UxM_mbkeZb"
      }
    },
    {
      "cell_type": "markdown",
      "source": [
        "Let's first consider the overall relevance of the 17 SDGs for all DAX companies taken together. We first compute an embedding that averages over all company texts. Then, we compare this embedding with the embeddings of the SDGs."
      ],
      "metadata": {
        "id": "eST_Xxp5koxB"
      }
    },
    {
      "cell_type": "code",
      "source": [
        "all_companies_embedding = np.mean(company_text_embeddings, axis=0)"
      ],
      "metadata": {
        "id": "E9Pqsc2qlAmN"
      },
      "execution_count": null,
      "outputs": []
    },
    {
      "cell_type": "code",
      "source": [
        "sdg_relevance_scores = [cosine_similarity(all_companies_embedding, sdg_embedding) for sdg_embedding in sdg_embeddings]\n",
        "sdg_relevance_series = pd.Series(sdg_relevance_scores, index=sdg_df[\"name\"])\n",
        "sdg_relevance_series.sort_values(inplace=True)\n",
        "sdg_relevance_series.head()"
      ],
      "metadata": {
        "id": "E-_hK2U6lEPm",
        "colab": {
          "base_uri": "https://localhost:8080/"
        },
        "outputId": "1d73afa3-a74e-4ff7-8e86-3b8d9d9487ef"
      },
      "execution_count": null,
      "outputs": [
        {
          "output_type": "execute_result",
          "data": {
            "text/plain": [
              "name\n",
              "Gender Equality                           0.166441\n",
              "Peace, Justice and Strong Institutions    0.174364\n",
              "Life On Land                              0.204423\n",
              "Quality Education                         0.228199\n",
              "Zero Hunger                               0.259333\n",
              "dtype: float32"
            ]
          },
          "metadata": {},
          "execution_count": 15
        }
      ]
    },
    {
      "cell_type": "code",
      "source": [
        "fig = go.Figure(data=[go.Bar(x=sdg_relevance_series, y=[sdg+\" \" for sdg in sdg_relevance_series.index], orientation='h')])\n",
        "# Change the bar mode\n",
        "fig.update_layout(height=600, width=750, title=\"SDG relevance for DAX index\")\n",
        "fig.update_xaxes(title=\"Relevance\")\n",
        "fig.show()"
      ],
      "metadata": {
        "id": "JUxFAwDJlR7j",
        "colab": {
          "base_uri": "https://localhost:8080/",
          "height": 617
        },
        "outputId": "cb77dbc2-b264-4bfa-ef61-59c2530ec7b2"
      },
      "execution_count": null,
      "outputs": [
        {
          "output_type": "display_data",
          "data": {
            "text/html": [
              "<html>\n",
              "<head><meta charset=\"utf-8\" /></head>\n",
              "<body>\n",
              "    <div>            <script src=\"https://cdnjs.cloudflare.com/ajax/libs/mathjax/2.7.5/MathJax.js?config=TeX-AMS-MML_SVG\"></script><script type=\"text/javascript\">if (window.MathJax && window.MathJax.Hub && window.MathJax.Hub.Config) {window.MathJax.Hub.Config({SVG: {font: \"STIX-Web\"}});}</script>                <script type=\"text/javascript\">window.PlotlyConfig = {MathJaxConfig: 'local'};</script>\n",
              "        <script src=\"https://cdn.plot.ly/plotly-2.18.2.min.js\"></script>                <div id=\"c94fa0a9-28ad-4604-8703-7de665de027f\" class=\"plotly-graph-div\" style=\"height:600px; width:750px;\"></div>            <script type=\"text/javascript\">                                    window.PLOTLYENV=window.PLOTLYENV || {};                                    if (document.getElementById(\"c94fa0a9-28ad-4604-8703-7de665de027f\")) {                    Plotly.newPlot(                        \"c94fa0a9-28ad-4604-8703-7de665de027f\",                        [{\"orientation\":\"h\",\"x\":[0.16644105315208435,0.1743638813495636,0.20442326366901398,0.22819902002811432,0.259333074092865,0.29946276545524597,0.30102846026420593,0.3038214445114136,0.3039117455482483,0.3125380575656891,0.313162237405777,0.34755420684814453,0.35644373297691345,0.3597817122936249,0.36046305298805237,0.396563321352005,0.4309662878513336],\"y\":[\"Gender Equality \",\"Peace, Justice and Strong Institutions \",\"Life On Land \",\"Quality Education \",\"Zero Hunger \",\"Sustainable Cities and Communities \",\"Climate Action \",\"No Poverty \",\"Decent Work and Economic Growth \",\"Good Health and Well-being \",\"Clean Water and Sanitation \",\"Partnerships for the Goals \",\"Life Below Water \",\"Responsible Consumption and Production \",\"Reduced Inequalities \",\"Industry, Innovation and Infrastructure \",\"Affordable and Clean Energy \"],\"type\":\"bar\"}],                        {\"template\":{\"data\":{\"histogram2dcontour\":[{\"type\":\"histogram2dcontour\",\"colorbar\":{\"outlinewidth\":0,\"ticks\":\"\"},\"colorscale\":[[0.0,\"#0d0887\"],[0.1111111111111111,\"#46039f\"],[0.2222222222222222,\"#7201a8\"],[0.3333333333333333,\"#9c179e\"],[0.4444444444444444,\"#bd3786\"],[0.5555555555555556,\"#d8576b\"],[0.6666666666666666,\"#ed7953\"],[0.7777777777777778,\"#fb9f3a\"],[0.8888888888888888,\"#fdca26\"],[1.0,\"#f0f921\"]]}],\"choropleth\":[{\"type\":\"choropleth\",\"colorbar\":{\"outlinewidth\":0,\"ticks\":\"\"}}],\"histogram2d\":[{\"type\":\"histogram2d\",\"colorbar\":{\"outlinewidth\":0,\"ticks\":\"\"},\"colorscale\":[[0.0,\"#0d0887\"],[0.1111111111111111,\"#46039f\"],[0.2222222222222222,\"#7201a8\"],[0.3333333333333333,\"#9c179e\"],[0.4444444444444444,\"#bd3786\"],[0.5555555555555556,\"#d8576b\"],[0.6666666666666666,\"#ed7953\"],[0.7777777777777778,\"#fb9f3a\"],[0.8888888888888888,\"#fdca26\"],[1.0,\"#f0f921\"]]}],\"heatmap\":[{\"type\":\"heatmap\",\"colorbar\":{\"outlinewidth\":0,\"ticks\":\"\"},\"colorscale\":[[0.0,\"#0d0887\"],[0.1111111111111111,\"#46039f\"],[0.2222222222222222,\"#7201a8\"],[0.3333333333333333,\"#9c179e\"],[0.4444444444444444,\"#bd3786\"],[0.5555555555555556,\"#d8576b\"],[0.6666666666666666,\"#ed7953\"],[0.7777777777777778,\"#fb9f3a\"],[0.8888888888888888,\"#fdca26\"],[1.0,\"#f0f921\"]]}],\"heatmapgl\":[{\"type\":\"heatmapgl\",\"colorbar\":{\"outlinewidth\":0,\"ticks\":\"\"},\"colorscale\":[[0.0,\"#0d0887\"],[0.1111111111111111,\"#46039f\"],[0.2222222222222222,\"#7201a8\"],[0.3333333333333333,\"#9c179e\"],[0.4444444444444444,\"#bd3786\"],[0.5555555555555556,\"#d8576b\"],[0.6666666666666666,\"#ed7953\"],[0.7777777777777778,\"#fb9f3a\"],[0.8888888888888888,\"#fdca26\"],[1.0,\"#f0f921\"]]}],\"contourcarpet\":[{\"type\":\"contourcarpet\",\"colorbar\":{\"outlinewidth\":0,\"ticks\":\"\"}}],\"contour\":[{\"type\":\"contour\",\"colorbar\":{\"outlinewidth\":0,\"ticks\":\"\"},\"colorscale\":[[0.0,\"#0d0887\"],[0.1111111111111111,\"#46039f\"],[0.2222222222222222,\"#7201a8\"],[0.3333333333333333,\"#9c179e\"],[0.4444444444444444,\"#bd3786\"],[0.5555555555555556,\"#d8576b\"],[0.6666666666666666,\"#ed7953\"],[0.7777777777777778,\"#fb9f3a\"],[0.8888888888888888,\"#fdca26\"],[1.0,\"#f0f921\"]]}],\"surface\":[{\"type\":\"surface\",\"colorbar\":{\"outlinewidth\":0,\"ticks\":\"\"},\"colorscale\":[[0.0,\"#0d0887\"],[0.1111111111111111,\"#46039f\"],[0.2222222222222222,\"#7201a8\"],[0.3333333333333333,\"#9c179e\"],[0.4444444444444444,\"#bd3786\"],[0.5555555555555556,\"#d8576b\"],[0.6666666666666666,\"#ed7953\"],[0.7777777777777778,\"#fb9f3a\"],[0.8888888888888888,\"#fdca26\"],[1.0,\"#f0f921\"]]}],\"mesh3d\":[{\"type\":\"mesh3d\",\"colorbar\":{\"outlinewidth\":0,\"ticks\":\"\"}}],\"scatter\":[{\"fillpattern\":{\"fillmode\":\"overlay\",\"size\":10,\"solidity\":0.2},\"type\":\"scatter\"}],\"parcoords\":[{\"type\":\"parcoords\",\"line\":{\"colorbar\":{\"outlinewidth\":0,\"ticks\":\"\"}}}],\"scatterpolargl\":[{\"type\":\"scatterpolargl\",\"marker\":{\"colorbar\":{\"outlinewidth\":0,\"ticks\":\"\"}}}],\"bar\":[{\"error_x\":{\"color\":\"#2a3f5f\"},\"error_y\":{\"color\":\"#2a3f5f\"},\"marker\":{\"line\":{\"color\":\"#E5ECF6\",\"width\":0.5},\"pattern\":{\"fillmode\":\"overlay\",\"size\":10,\"solidity\":0.2}},\"type\":\"bar\"}],\"scattergeo\":[{\"type\":\"scattergeo\",\"marker\":{\"colorbar\":{\"outlinewidth\":0,\"ticks\":\"\"}}}],\"scatterpolar\":[{\"type\":\"scatterpolar\",\"marker\":{\"colorbar\":{\"outlinewidth\":0,\"ticks\":\"\"}}}],\"histogram\":[{\"marker\":{\"pattern\":{\"fillmode\":\"overlay\",\"size\":10,\"solidity\":0.2}},\"type\":\"histogram\"}],\"scattergl\":[{\"type\":\"scattergl\",\"marker\":{\"colorbar\":{\"outlinewidth\":0,\"ticks\":\"\"}}}],\"scatter3d\":[{\"type\":\"scatter3d\",\"line\":{\"colorbar\":{\"outlinewidth\":0,\"ticks\":\"\"}},\"marker\":{\"colorbar\":{\"outlinewidth\":0,\"ticks\":\"\"}}}],\"scattermapbox\":[{\"type\":\"scattermapbox\",\"marker\":{\"colorbar\":{\"outlinewidth\":0,\"ticks\":\"\"}}}],\"scatterternary\":[{\"type\":\"scatterternary\",\"marker\":{\"colorbar\":{\"outlinewidth\":0,\"ticks\":\"\"}}}],\"scattercarpet\":[{\"type\":\"scattercarpet\",\"marker\":{\"colorbar\":{\"outlinewidth\":0,\"ticks\":\"\"}}}],\"carpet\":[{\"aaxis\":{\"endlinecolor\":\"#2a3f5f\",\"gridcolor\":\"white\",\"linecolor\":\"white\",\"minorgridcolor\":\"white\",\"startlinecolor\":\"#2a3f5f\"},\"baxis\":{\"endlinecolor\":\"#2a3f5f\",\"gridcolor\":\"white\",\"linecolor\":\"white\",\"minorgridcolor\":\"white\",\"startlinecolor\":\"#2a3f5f\"},\"type\":\"carpet\"}],\"table\":[{\"cells\":{\"fill\":{\"color\":\"#EBF0F8\"},\"line\":{\"color\":\"white\"}},\"header\":{\"fill\":{\"color\":\"#C8D4E3\"},\"line\":{\"color\":\"white\"}},\"type\":\"table\"}],\"barpolar\":[{\"marker\":{\"line\":{\"color\":\"#E5ECF6\",\"width\":0.5},\"pattern\":{\"fillmode\":\"overlay\",\"size\":10,\"solidity\":0.2}},\"type\":\"barpolar\"}],\"pie\":[{\"automargin\":true,\"type\":\"pie\"}]},\"layout\":{\"autotypenumbers\":\"strict\",\"colorway\":[\"#636efa\",\"#EF553B\",\"#00cc96\",\"#ab63fa\",\"#FFA15A\",\"#19d3f3\",\"#FF6692\",\"#B6E880\",\"#FF97FF\",\"#FECB52\"],\"font\":{\"color\":\"#2a3f5f\"},\"hovermode\":\"closest\",\"hoverlabel\":{\"align\":\"left\"},\"paper_bgcolor\":\"white\",\"plot_bgcolor\":\"#E5ECF6\",\"polar\":{\"bgcolor\":\"#E5ECF6\",\"angularaxis\":{\"gridcolor\":\"white\",\"linecolor\":\"white\",\"ticks\":\"\"},\"radialaxis\":{\"gridcolor\":\"white\",\"linecolor\":\"white\",\"ticks\":\"\"}},\"ternary\":{\"bgcolor\":\"#E5ECF6\",\"aaxis\":{\"gridcolor\":\"white\",\"linecolor\":\"white\",\"ticks\":\"\"},\"baxis\":{\"gridcolor\":\"white\",\"linecolor\":\"white\",\"ticks\":\"\"},\"caxis\":{\"gridcolor\":\"white\",\"linecolor\":\"white\",\"ticks\":\"\"}},\"coloraxis\":{\"colorbar\":{\"outlinewidth\":0,\"ticks\":\"\"}},\"colorscale\":{\"sequential\":[[0.0,\"#0d0887\"],[0.1111111111111111,\"#46039f\"],[0.2222222222222222,\"#7201a8\"],[0.3333333333333333,\"#9c179e\"],[0.4444444444444444,\"#bd3786\"],[0.5555555555555556,\"#d8576b\"],[0.6666666666666666,\"#ed7953\"],[0.7777777777777778,\"#fb9f3a\"],[0.8888888888888888,\"#fdca26\"],[1.0,\"#f0f921\"]],\"sequentialminus\":[[0.0,\"#0d0887\"],[0.1111111111111111,\"#46039f\"],[0.2222222222222222,\"#7201a8\"],[0.3333333333333333,\"#9c179e\"],[0.4444444444444444,\"#bd3786\"],[0.5555555555555556,\"#d8576b\"],[0.6666666666666666,\"#ed7953\"],[0.7777777777777778,\"#fb9f3a\"],[0.8888888888888888,\"#fdca26\"],[1.0,\"#f0f921\"]],\"diverging\":[[0,\"#8e0152\"],[0.1,\"#c51b7d\"],[0.2,\"#de77ae\"],[0.3,\"#f1b6da\"],[0.4,\"#fde0ef\"],[0.5,\"#f7f7f7\"],[0.6,\"#e6f5d0\"],[0.7,\"#b8e186\"],[0.8,\"#7fbc41\"],[0.9,\"#4d9221\"],[1,\"#276419\"]]},\"xaxis\":{\"gridcolor\":\"white\",\"linecolor\":\"white\",\"ticks\":\"\",\"title\":{\"standoff\":15},\"zerolinecolor\":\"white\",\"automargin\":true,\"zerolinewidth\":2},\"yaxis\":{\"gridcolor\":\"white\",\"linecolor\":\"white\",\"ticks\":\"\",\"title\":{\"standoff\":15},\"zerolinecolor\":\"white\",\"automargin\":true,\"zerolinewidth\":2},\"scene\":{\"xaxis\":{\"backgroundcolor\":\"#E5ECF6\",\"gridcolor\":\"white\",\"linecolor\":\"white\",\"showbackground\":true,\"ticks\":\"\",\"zerolinecolor\":\"white\",\"gridwidth\":2},\"yaxis\":{\"backgroundcolor\":\"#E5ECF6\",\"gridcolor\":\"white\",\"linecolor\":\"white\",\"showbackground\":true,\"ticks\":\"\",\"zerolinecolor\":\"white\",\"gridwidth\":2},\"zaxis\":{\"backgroundcolor\":\"#E5ECF6\",\"gridcolor\":\"white\",\"linecolor\":\"white\",\"showbackground\":true,\"ticks\":\"\",\"zerolinecolor\":\"white\",\"gridwidth\":2}},\"shapedefaults\":{\"line\":{\"color\":\"#2a3f5f\"}},\"annotationdefaults\":{\"arrowcolor\":\"#2a3f5f\",\"arrowhead\":0,\"arrowwidth\":1},\"geo\":{\"bgcolor\":\"white\",\"landcolor\":\"#E5ECF6\",\"subunitcolor\":\"white\",\"showland\":true,\"showlakes\":true,\"lakecolor\":\"white\"},\"title\":{\"x\":0.05},\"mapbox\":{\"style\":\"light\"}}},\"height\":600,\"width\":750,\"title\":{\"text\":\"SDG relevance for DAX index\"},\"xaxis\":{\"title\":{\"text\":\"Relevance\"}}},                        {\"responsive\": true}                    ).then(function(){\n",
              "                            \n",
              "var gd = document.getElementById('c94fa0a9-28ad-4604-8703-7de665de027f');\n",
              "var x = new MutationObserver(function (mutations, observer) {{\n",
              "        var display = window.getComputedStyle(gd).display;\n",
              "        if (!display || display === 'none') {{\n",
              "            console.log([gd, 'removed!']);\n",
              "            Plotly.purge(gd);\n",
              "            observer.disconnect();\n",
              "        }}\n",
              "}});\n",
              "\n",
              "// Listen for the removal of the full notebook cells\n",
              "var notebookContainer = gd.closest('#notebook-container');\n",
              "if (notebookContainer) {{\n",
              "    x.observe(notebookContainer, {childList: true});\n",
              "}}\n",
              "\n",
              "// Listen for the clearing of the current output cell\n",
              "var outputEl = gd.closest('.output');\n",
              "if (outputEl) {{\n",
              "    x.observe(outputEl, {childList: true});\n",
              "}}\n",
              "\n",
              "                        })                };                            </script>        </div>\n",
              "</body>\n",
              "</html>"
            ]
          },
          "metadata": {}
        }
      ]
    },
    {
      "cell_type": "markdown",
      "source": [
        "### Most relevant SDGs for a specific company, contrasting internal and external data"
      ],
      "metadata": {
        "id": "4OvS81uJlfXK"
      }
    },
    {
      "cell_type": "markdown",
      "source": [
        "In this analysis, we focus on a specific company which is defined using the COMPANY variable. We look up the \"internal\" and \"external\" embeddings for this company, average them and measure their similarity with each of the SDGs."
      ],
      "metadata": {
        "id": "69Oe3uMIuHiY"
      }
    },
    {
      "cell_type": "code",
      "source": [
        "COMPANY = \"Brenntag\"\n",
        "\n",
        "internal_company_indices = esg_documents_df[(esg_documents_df.company == COMPANY) & (esg_documents_df.internal == 1)].index\n",
        "internal_company_embedding = np.mean(company_text_embeddings[internal_company_indices], axis=0)\n",
        "\n",
        "external_company_indices = esg_documents_df[(esg_documents_df.company == COMPANY) & (esg_documents_df.internal == 0)].index\n",
        "external_company_embedding = np.mean(company_text_embeddings[external_company_indices], axis=0)\n",
        "\n",
        "company_sdg_relevance_scores = [[cosine_similarity(internal_company_embedding, sdg_embedding), \n",
        "                                 cosine_similarity(external_company_embedding, sdg_embedding)] for sdg_embedding in sdg_embeddings]\n",
        "company_sdg_relevance_df = pd.DataFrame.from_records(company_sdg_relevance_scores, index=sdg_df[\"name\"], columns=[\"internal\", \"external\"])\n",
        "company_sdg_relevance_df.sort_values(\"internal\", inplace=True)\n",
        "company_sdg_relevance_df.head()"
      ],
      "metadata": {
        "id": "2NhuxJT7leDu",
        "colab": {
          "base_uri": "https://localhost:8080/",
          "height": 238
        },
        "outputId": "873295bb-93ef-4d25-d483-ac1d28cf9fdb"
      },
      "execution_count": null,
      "outputs": [
        {
          "output_type": "execute_result",
          "data": {
            "text/plain": [
              "                                        internal  external\n",
              "name                                                      \n",
              "Gender Equality                         0.107339  0.093954\n",
              "Peace, Justice and Strong Institutions  0.135041  0.130411\n",
              "Good Health and Well-being              0.153959  0.203413\n",
              "Zero Hunger                             0.155495  0.193238\n",
              "Climate Action                          0.160574  0.240062"
            ],
            "text/html": [
              "\n",
              "  <div id=\"df-01d22540-164d-4f92-aa1d-86246857ce3a\">\n",
              "    <div class=\"colab-df-container\">\n",
              "      <div>\n",
              "<style scoped>\n",
              "    .dataframe tbody tr th:only-of-type {\n",
              "        vertical-align: middle;\n",
              "    }\n",
              "\n",
              "    .dataframe tbody tr th {\n",
              "        vertical-align: top;\n",
              "    }\n",
              "\n",
              "    .dataframe thead th {\n",
              "        text-align: right;\n",
              "    }\n",
              "</style>\n",
              "<table border=\"1\" class=\"dataframe\">\n",
              "  <thead>\n",
              "    <tr style=\"text-align: right;\">\n",
              "      <th></th>\n",
              "      <th>internal</th>\n",
              "      <th>external</th>\n",
              "    </tr>\n",
              "    <tr>\n",
              "      <th>name</th>\n",
              "      <th></th>\n",
              "      <th></th>\n",
              "    </tr>\n",
              "  </thead>\n",
              "  <tbody>\n",
              "    <tr>\n",
              "      <th>Gender Equality</th>\n",
              "      <td>0.107339</td>\n",
              "      <td>0.093954</td>\n",
              "    </tr>\n",
              "    <tr>\n",
              "      <th>Peace, Justice and Strong Institutions</th>\n",
              "      <td>0.135041</td>\n",
              "      <td>0.130411</td>\n",
              "    </tr>\n",
              "    <tr>\n",
              "      <th>Good Health and Well-being</th>\n",
              "      <td>0.153959</td>\n",
              "      <td>0.203413</td>\n",
              "    </tr>\n",
              "    <tr>\n",
              "      <th>Zero Hunger</th>\n",
              "      <td>0.155495</td>\n",
              "      <td>0.193238</td>\n",
              "    </tr>\n",
              "    <tr>\n",
              "      <th>Climate Action</th>\n",
              "      <td>0.160574</td>\n",
              "      <td>0.240062</td>\n",
              "    </tr>\n",
              "  </tbody>\n",
              "</table>\n",
              "</div>\n",
              "      <button class=\"colab-df-convert\" onclick=\"convertToInteractive('df-01d22540-164d-4f92-aa1d-86246857ce3a')\"\n",
              "              title=\"Convert this dataframe to an interactive table.\"\n",
              "              style=\"display:none;\">\n",
              "        \n",
              "  <svg xmlns=\"http://www.w3.org/2000/svg\" height=\"24px\"viewBox=\"0 0 24 24\"\n",
              "       width=\"24px\">\n",
              "    <path d=\"M0 0h24v24H0V0z\" fill=\"none\"/>\n",
              "    <path d=\"M18.56 5.44l.94 2.06.94-2.06 2.06-.94-2.06-.94-.94-2.06-.94 2.06-2.06.94zm-11 1L8.5 8.5l.94-2.06 2.06-.94-2.06-.94L8.5 2.5l-.94 2.06-2.06.94zm10 10l.94 2.06.94-2.06 2.06-.94-2.06-.94-.94-2.06-.94 2.06-2.06.94z\"/><path d=\"M17.41 7.96l-1.37-1.37c-.4-.4-.92-.59-1.43-.59-.52 0-1.04.2-1.43.59L10.3 9.45l-7.72 7.72c-.78.78-.78 2.05 0 2.83L4 21.41c.39.39.9.59 1.41.59.51 0 1.02-.2 1.41-.59l7.78-7.78 2.81-2.81c.8-.78.8-2.07 0-2.86zM5.41 20L4 18.59l7.72-7.72 1.47 1.35L5.41 20z\"/>\n",
              "  </svg>\n",
              "      </button>\n",
              "      \n",
              "  <style>\n",
              "    .colab-df-container {\n",
              "      display:flex;\n",
              "      flex-wrap:wrap;\n",
              "      gap: 12px;\n",
              "    }\n",
              "\n",
              "    .colab-df-convert {\n",
              "      background-color: #E8F0FE;\n",
              "      border: none;\n",
              "      border-radius: 50%;\n",
              "      cursor: pointer;\n",
              "      display: none;\n",
              "      fill: #1967D2;\n",
              "      height: 32px;\n",
              "      padding: 0 0 0 0;\n",
              "      width: 32px;\n",
              "    }\n",
              "\n",
              "    .colab-df-convert:hover {\n",
              "      background-color: #E2EBFA;\n",
              "      box-shadow: 0px 1px 2px rgba(60, 64, 67, 0.3), 0px 1px 3px 1px rgba(60, 64, 67, 0.15);\n",
              "      fill: #174EA6;\n",
              "    }\n",
              "\n",
              "    [theme=dark] .colab-df-convert {\n",
              "      background-color: #3B4455;\n",
              "      fill: #D2E3FC;\n",
              "    }\n",
              "\n",
              "    [theme=dark] .colab-df-convert:hover {\n",
              "      background-color: #434B5C;\n",
              "      box-shadow: 0px 1px 3px 1px rgba(0, 0, 0, 0.15);\n",
              "      filter: drop-shadow(0px 1px 2px rgba(0, 0, 0, 0.3));\n",
              "      fill: #FFFFFF;\n",
              "    }\n",
              "  </style>\n",
              "\n",
              "      <script>\n",
              "        const buttonEl =\n",
              "          document.querySelector('#df-01d22540-164d-4f92-aa1d-86246857ce3a button.colab-df-convert');\n",
              "        buttonEl.style.display =\n",
              "          google.colab.kernel.accessAllowed ? 'block' : 'none';\n",
              "\n",
              "        async function convertToInteractive(key) {\n",
              "          const element = document.querySelector('#df-01d22540-164d-4f92-aa1d-86246857ce3a');\n",
              "          const dataTable =\n",
              "            await google.colab.kernel.invokeFunction('convertToInteractive',\n",
              "                                                     [key], {});\n",
              "          if (!dataTable) return;\n",
              "\n",
              "          const docLinkHtml = 'Like what you see? Visit the ' +\n",
              "            '<a target=\"_blank\" href=https://colab.research.google.com/notebooks/data_table.ipynb>data table notebook</a>'\n",
              "            + ' to learn more about interactive tables.';\n",
              "          element.innerHTML = '';\n",
              "          dataTable['output_type'] = 'display_data';\n",
              "          await google.colab.output.renderOutput(dataTable, element);\n",
              "          const docLink = document.createElement('div');\n",
              "          docLink.innerHTML = docLinkHtml;\n",
              "          element.appendChild(docLink);\n",
              "        }\n",
              "      </script>\n",
              "    </div>\n",
              "  </div>\n",
              "  "
            ]
          },
          "metadata": {},
          "execution_count": 22
        }
      ]
    },
    {
      "cell_type": "code",
      "source": [
        "fig = go.Figure(data=[\n",
        "    go.Bar(name='Internal', x=company_sdg_relevance_df[\"internal\"], y=company_sdg_relevance_df.index, orientation='h'),\n",
        "    go.Bar(name='External', x=company_sdg_relevance_df[\"external\"], y=company_sdg_relevance_df.index, orientation='h')\n",
        "])\n",
        "\n",
        "fig.update_layout(barmode='group', height=600, width=750, title=f\"SDG Relevance for {COMPANY}\")\n",
        "fig.update_xaxes(title=\"Relevance\")\n",
        "fig.show()"
      ],
      "metadata": {
        "id": "YC32lW1elzjq",
        "colab": {
          "base_uri": "https://localhost:8080/",
          "height": 617
        },
        "outputId": "a82b1c31-fd53-4753-cff4-ac89f2b27e1a"
      },
      "execution_count": null,
      "outputs": [
        {
          "output_type": "display_data",
          "data": {
            "text/html": [
              "<html>\n",
              "<head><meta charset=\"utf-8\" /></head>\n",
              "<body>\n",
              "    <div>            <script src=\"https://cdnjs.cloudflare.com/ajax/libs/mathjax/2.7.5/MathJax.js?config=TeX-AMS-MML_SVG\"></script><script type=\"text/javascript\">if (window.MathJax && window.MathJax.Hub && window.MathJax.Hub.Config) {window.MathJax.Hub.Config({SVG: {font: \"STIX-Web\"}});}</script>                <script type=\"text/javascript\">window.PlotlyConfig = {MathJaxConfig: 'local'};</script>\n",
              "        <script src=\"https://cdn.plot.ly/plotly-2.18.2.min.js\"></script>                <div id=\"7810670e-de85-4d3c-b69d-b8ab1c1798fa\" class=\"plotly-graph-div\" style=\"height:600px; width:750px;\"></div>            <script type=\"text/javascript\">                                    window.PLOTLYENV=window.PLOTLYENV || {};                                    if (document.getElementById(\"7810670e-de85-4d3c-b69d-b8ab1c1798fa\")) {                    Plotly.newPlot(                        \"7810670e-de85-4d3c-b69d-b8ab1c1798fa\",                        [{\"name\":\"Internal\",\"orientation\":\"h\",\"x\":[0.10733902454376221,0.13504134118556976,0.15395890176296234,0.15549476444721222,0.16057422757148743,0.16812804341316223,0.17756173014640808,0.17887766659259796,0.18501904606819153,0.19411678612232208,0.21690888702869415,0.21842020750045776,0.2588430941104889,0.2696283757686615,0.30131596326828003,0.33096063137054443,0.33681732416152954],\"y\":[\"Gender Equality\",\"Peace, Justice and Strong Institutions\",\"Good Health and Well-being\",\"Zero Hunger\",\"Climate Action\",\"Quality Education\",\"Life On Land\",\"No Poverty\",\"Partnerships for the Goals\",\"Reduced Inequalities\",\"Sustainable Cities and Communities\",\"Decent Work and Economic Growth\",\"Clean Water and Sanitation\",\"Life Below Water\",\"Responsible Consumption and Production\",\"Industry, Innovation and Infrastructure\",\"Affordable and Clean Energy\"],\"type\":\"bar\"},{\"name\":\"External\",\"orientation\":\"h\",\"x\":[0.09395386278629303,0.13041141629219055,0.20341302454471588,0.193237766623497,0.24006202816963196,0.1718669831752777,0.17621879279613495,0.2214784324169159,0.22720658779144287,0.24499760568141937,0.16459067165851593,0.2338741421699524,0.2707041800022125,0.30352815985679626,0.26980504393577576,0.34717363119125366,0.3346606492996216],\"y\":[\"Gender Equality\",\"Peace, Justice and Strong Institutions\",\"Good Health and Well-being\",\"Zero Hunger\",\"Climate Action\",\"Quality Education\",\"Life On Land\",\"No Poverty\",\"Partnerships for the Goals\",\"Reduced Inequalities\",\"Sustainable Cities and Communities\",\"Decent Work and Economic Growth\",\"Clean Water and Sanitation\",\"Life Below Water\",\"Responsible Consumption and Production\",\"Industry, Innovation and Infrastructure\",\"Affordable and Clean Energy\"],\"type\":\"bar\"}],                        {\"template\":{\"data\":{\"histogram2dcontour\":[{\"type\":\"histogram2dcontour\",\"colorbar\":{\"outlinewidth\":0,\"ticks\":\"\"},\"colorscale\":[[0.0,\"#0d0887\"],[0.1111111111111111,\"#46039f\"],[0.2222222222222222,\"#7201a8\"],[0.3333333333333333,\"#9c179e\"],[0.4444444444444444,\"#bd3786\"],[0.5555555555555556,\"#d8576b\"],[0.6666666666666666,\"#ed7953\"],[0.7777777777777778,\"#fb9f3a\"],[0.8888888888888888,\"#fdca26\"],[1.0,\"#f0f921\"]]}],\"choropleth\":[{\"type\":\"choropleth\",\"colorbar\":{\"outlinewidth\":0,\"ticks\":\"\"}}],\"histogram2d\":[{\"type\":\"histogram2d\",\"colorbar\":{\"outlinewidth\":0,\"ticks\":\"\"},\"colorscale\":[[0.0,\"#0d0887\"],[0.1111111111111111,\"#46039f\"],[0.2222222222222222,\"#7201a8\"],[0.3333333333333333,\"#9c179e\"],[0.4444444444444444,\"#bd3786\"],[0.5555555555555556,\"#d8576b\"],[0.6666666666666666,\"#ed7953\"],[0.7777777777777778,\"#fb9f3a\"],[0.8888888888888888,\"#fdca26\"],[1.0,\"#f0f921\"]]}],\"heatmap\":[{\"type\":\"heatmap\",\"colorbar\":{\"outlinewidth\":0,\"ticks\":\"\"},\"colorscale\":[[0.0,\"#0d0887\"],[0.1111111111111111,\"#46039f\"],[0.2222222222222222,\"#7201a8\"],[0.3333333333333333,\"#9c179e\"],[0.4444444444444444,\"#bd3786\"],[0.5555555555555556,\"#d8576b\"],[0.6666666666666666,\"#ed7953\"],[0.7777777777777778,\"#fb9f3a\"],[0.8888888888888888,\"#fdca26\"],[1.0,\"#f0f921\"]]}],\"heatmapgl\":[{\"type\":\"heatmapgl\",\"colorbar\":{\"outlinewidth\":0,\"ticks\":\"\"},\"colorscale\":[[0.0,\"#0d0887\"],[0.1111111111111111,\"#46039f\"],[0.2222222222222222,\"#7201a8\"],[0.3333333333333333,\"#9c179e\"],[0.4444444444444444,\"#bd3786\"],[0.5555555555555556,\"#d8576b\"],[0.6666666666666666,\"#ed7953\"],[0.7777777777777778,\"#fb9f3a\"],[0.8888888888888888,\"#fdca26\"],[1.0,\"#f0f921\"]]}],\"contourcarpet\":[{\"type\":\"contourcarpet\",\"colorbar\":{\"outlinewidth\":0,\"ticks\":\"\"}}],\"contour\":[{\"type\":\"contour\",\"colorbar\":{\"outlinewidth\":0,\"ticks\":\"\"},\"colorscale\":[[0.0,\"#0d0887\"],[0.1111111111111111,\"#46039f\"],[0.2222222222222222,\"#7201a8\"],[0.3333333333333333,\"#9c179e\"],[0.4444444444444444,\"#bd3786\"],[0.5555555555555556,\"#d8576b\"],[0.6666666666666666,\"#ed7953\"],[0.7777777777777778,\"#fb9f3a\"],[0.8888888888888888,\"#fdca26\"],[1.0,\"#f0f921\"]]}],\"surface\":[{\"type\":\"surface\",\"colorbar\":{\"outlinewidth\":0,\"ticks\":\"\"},\"colorscale\":[[0.0,\"#0d0887\"],[0.1111111111111111,\"#46039f\"],[0.2222222222222222,\"#7201a8\"],[0.3333333333333333,\"#9c179e\"],[0.4444444444444444,\"#bd3786\"],[0.5555555555555556,\"#d8576b\"],[0.6666666666666666,\"#ed7953\"],[0.7777777777777778,\"#fb9f3a\"],[0.8888888888888888,\"#fdca26\"],[1.0,\"#f0f921\"]]}],\"mesh3d\":[{\"type\":\"mesh3d\",\"colorbar\":{\"outlinewidth\":0,\"ticks\":\"\"}}],\"scatter\":[{\"fillpattern\":{\"fillmode\":\"overlay\",\"size\":10,\"solidity\":0.2},\"type\":\"scatter\"}],\"parcoords\":[{\"type\":\"parcoords\",\"line\":{\"colorbar\":{\"outlinewidth\":0,\"ticks\":\"\"}}}],\"scatterpolargl\":[{\"type\":\"scatterpolargl\",\"marker\":{\"colorbar\":{\"outlinewidth\":0,\"ticks\":\"\"}}}],\"bar\":[{\"error_x\":{\"color\":\"#2a3f5f\"},\"error_y\":{\"color\":\"#2a3f5f\"},\"marker\":{\"line\":{\"color\":\"#E5ECF6\",\"width\":0.5},\"pattern\":{\"fillmode\":\"overlay\",\"size\":10,\"solidity\":0.2}},\"type\":\"bar\"}],\"scattergeo\":[{\"type\":\"scattergeo\",\"marker\":{\"colorbar\":{\"outlinewidth\":0,\"ticks\":\"\"}}}],\"scatterpolar\":[{\"type\":\"scatterpolar\",\"marker\":{\"colorbar\":{\"outlinewidth\":0,\"ticks\":\"\"}}}],\"histogram\":[{\"marker\":{\"pattern\":{\"fillmode\":\"overlay\",\"size\":10,\"solidity\":0.2}},\"type\":\"histogram\"}],\"scattergl\":[{\"type\":\"scattergl\",\"marker\":{\"colorbar\":{\"outlinewidth\":0,\"ticks\":\"\"}}}],\"scatter3d\":[{\"type\":\"scatter3d\",\"line\":{\"colorbar\":{\"outlinewidth\":0,\"ticks\":\"\"}},\"marker\":{\"colorbar\":{\"outlinewidth\":0,\"ticks\":\"\"}}}],\"scattermapbox\":[{\"type\":\"scattermapbox\",\"marker\":{\"colorbar\":{\"outlinewidth\":0,\"ticks\":\"\"}}}],\"scatterternary\":[{\"type\":\"scatterternary\",\"marker\":{\"colorbar\":{\"outlinewidth\":0,\"ticks\":\"\"}}}],\"scattercarpet\":[{\"type\":\"scattercarpet\",\"marker\":{\"colorbar\":{\"outlinewidth\":0,\"ticks\":\"\"}}}],\"carpet\":[{\"aaxis\":{\"endlinecolor\":\"#2a3f5f\",\"gridcolor\":\"white\",\"linecolor\":\"white\",\"minorgridcolor\":\"white\",\"startlinecolor\":\"#2a3f5f\"},\"baxis\":{\"endlinecolor\":\"#2a3f5f\",\"gridcolor\":\"white\",\"linecolor\":\"white\",\"minorgridcolor\":\"white\",\"startlinecolor\":\"#2a3f5f\"},\"type\":\"carpet\"}],\"table\":[{\"cells\":{\"fill\":{\"color\":\"#EBF0F8\"},\"line\":{\"color\":\"white\"}},\"header\":{\"fill\":{\"color\":\"#C8D4E3\"},\"line\":{\"color\":\"white\"}},\"type\":\"table\"}],\"barpolar\":[{\"marker\":{\"line\":{\"color\":\"#E5ECF6\",\"width\":0.5},\"pattern\":{\"fillmode\":\"overlay\",\"size\":10,\"solidity\":0.2}},\"type\":\"barpolar\"}],\"pie\":[{\"automargin\":true,\"type\":\"pie\"}]},\"layout\":{\"autotypenumbers\":\"strict\",\"colorway\":[\"#636efa\",\"#EF553B\",\"#00cc96\",\"#ab63fa\",\"#FFA15A\",\"#19d3f3\",\"#FF6692\",\"#B6E880\",\"#FF97FF\",\"#FECB52\"],\"font\":{\"color\":\"#2a3f5f\"},\"hovermode\":\"closest\",\"hoverlabel\":{\"align\":\"left\"},\"paper_bgcolor\":\"white\",\"plot_bgcolor\":\"#E5ECF6\",\"polar\":{\"bgcolor\":\"#E5ECF6\",\"angularaxis\":{\"gridcolor\":\"white\",\"linecolor\":\"white\",\"ticks\":\"\"},\"radialaxis\":{\"gridcolor\":\"white\",\"linecolor\":\"white\",\"ticks\":\"\"}},\"ternary\":{\"bgcolor\":\"#E5ECF6\",\"aaxis\":{\"gridcolor\":\"white\",\"linecolor\":\"white\",\"ticks\":\"\"},\"baxis\":{\"gridcolor\":\"white\",\"linecolor\":\"white\",\"ticks\":\"\"},\"caxis\":{\"gridcolor\":\"white\",\"linecolor\":\"white\",\"ticks\":\"\"}},\"coloraxis\":{\"colorbar\":{\"outlinewidth\":0,\"ticks\":\"\"}},\"colorscale\":{\"sequential\":[[0.0,\"#0d0887\"],[0.1111111111111111,\"#46039f\"],[0.2222222222222222,\"#7201a8\"],[0.3333333333333333,\"#9c179e\"],[0.4444444444444444,\"#bd3786\"],[0.5555555555555556,\"#d8576b\"],[0.6666666666666666,\"#ed7953\"],[0.7777777777777778,\"#fb9f3a\"],[0.8888888888888888,\"#fdca26\"],[1.0,\"#f0f921\"]],\"sequentialminus\":[[0.0,\"#0d0887\"],[0.1111111111111111,\"#46039f\"],[0.2222222222222222,\"#7201a8\"],[0.3333333333333333,\"#9c179e\"],[0.4444444444444444,\"#bd3786\"],[0.5555555555555556,\"#d8576b\"],[0.6666666666666666,\"#ed7953\"],[0.7777777777777778,\"#fb9f3a\"],[0.8888888888888888,\"#fdca26\"],[1.0,\"#f0f921\"]],\"diverging\":[[0,\"#8e0152\"],[0.1,\"#c51b7d\"],[0.2,\"#de77ae\"],[0.3,\"#f1b6da\"],[0.4,\"#fde0ef\"],[0.5,\"#f7f7f7\"],[0.6,\"#e6f5d0\"],[0.7,\"#b8e186\"],[0.8,\"#7fbc41\"],[0.9,\"#4d9221\"],[1,\"#276419\"]]},\"xaxis\":{\"gridcolor\":\"white\",\"linecolor\":\"white\",\"ticks\":\"\",\"title\":{\"standoff\":15},\"zerolinecolor\":\"white\",\"automargin\":true,\"zerolinewidth\":2},\"yaxis\":{\"gridcolor\":\"white\",\"linecolor\":\"white\",\"ticks\":\"\",\"title\":{\"standoff\":15},\"zerolinecolor\":\"white\",\"automargin\":true,\"zerolinewidth\":2},\"scene\":{\"xaxis\":{\"backgroundcolor\":\"#E5ECF6\",\"gridcolor\":\"white\",\"linecolor\":\"white\",\"showbackground\":true,\"ticks\":\"\",\"zerolinecolor\":\"white\",\"gridwidth\":2},\"yaxis\":{\"backgroundcolor\":\"#E5ECF6\",\"gridcolor\":\"white\",\"linecolor\":\"white\",\"showbackground\":true,\"ticks\":\"\",\"zerolinecolor\":\"white\",\"gridwidth\":2},\"zaxis\":{\"backgroundcolor\":\"#E5ECF6\",\"gridcolor\":\"white\",\"linecolor\":\"white\",\"showbackground\":true,\"ticks\":\"\",\"zerolinecolor\":\"white\",\"gridwidth\":2}},\"shapedefaults\":{\"line\":{\"color\":\"#2a3f5f\"}},\"annotationdefaults\":{\"arrowcolor\":\"#2a3f5f\",\"arrowhead\":0,\"arrowwidth\":1},\"geo\":{\"bgcolor\":\"white\",\"landcolor\":\"#E5ECF6\",\"subunitcolor\":\"white\",\"showland\":true,\"showlakes\":true,\"lakecolor\":\"white\"},\"title\":{\"x\":0.05},\"mapbox\":{\"style\":\"light\"}}},\"barmode\":\"group\",\"height\":600,\"width\":750,\"title\":{\"text\":\"SDG Relevance for Brenntag\"},\"xaxis\":{\"title\":{\"text\":\"Relevance\"}}},                        {\"responsive\": true}                    ).then(function(){\n",
              "                            \n",
              "var gd = document.getElementById('7810670e-de85-4d3c-b69d-b8ab1c1798fa');\n",
              "var x = new MutationObserver(function (mutations, observer) {{\n",
              "        var display = window.getComputedStyle(gd).display;\n",
              "        if (!display || display === 'none') {{\n",
              "            console.log([gd, 'removed!']);\n",
              "            Plotly.purge(gd);\n",
              "            observer.disconnect();\n",
              "        }}\n",
              "}});\n",
              "\n",
              "// Listen for the removal of the full notebook cells\n",
              "var notebookContainer = gd.closest('#notebook-container');\n",
              "if (notebookContainer) {{\n",
              "    x.observe(notebookContainer, {childList: true});\n",
              "}}\n",
              "\n",
              "// Listen for the clearing of the current output cell\n",
              "var outputEl = gd.closest('.output');\n",
              "if (outputEl) {{\n",
              "    x.observe(outputEl, {childList: true});\n",
              "}}\n",
              "\n",
              "                        })                };                            </script>        </div>\n",
              "</body>\n",
              "</html>"
            ]
          },
          "metadata": {}
        }
      ]
    },
    {
      "cell_type": "markdown",
      "source": [
        "Next steps to further explore the data: modify the chart to answer the following questions:\n",
        "\n",
        "- What are the internally most important SDGs for BMW?\n",
        "- What are the most important SDGs for BMW when we take into account both the internal and the external data?\n",
        "- What are the SDGs for BMW with the largest relevance gap between internal and external data?"
      ],
      "metadata": {
        "id": "pEZ7MiAwszvO"
      }
    },
    {
      "cell_type": "markdown",
      "source": [
        "### Heatmap of SDG relevance for all companies"
      ],
      "metadata": {
        "id": "b51sgUHlmZ-T"
      }
    },
    {
      "cell_type": "markdown",
      "source": [
        "In this analyses, we look at the alignment of all companies with the 17 SDGs, creating an overview over the DAX index."
      ],
      "metadata": {
        "id": "gBXqK6vgues9"
      }
    },
    {
      "cell_type": "code",
      "source": [
        "company_embeddings = []\n",
        "for company in companies:\n",
        "    company_indices = esg_documents_df[esg_documents_df.company == company].index\n",
        "    company_embedding = np.mean(company_text_embeddings[company_indices], axis=0)\n",
        "    company_embeddings.append(company_embedding)"
      ],
      "metadata": {
        "id": "phqc77AgmlkP"
      },
      "execution_count": null,
      "outputs": []
    },
    {
      "cell_type": "code",
      "source": [
        "company_records = []\n",
        "\n",
        "for company_embedding in company_embeddings:\n",
        "    company_record = []\n",
        "    for sdg_embedding in sdg_embeddings:\n",
        "        company_record.append(cosine_similarity(company_embedding, sdg_embedding))\n",
        "    company_records.append(company_record)"
      ],
      "metadata": {
        "id": "16hYQs3PyFqd"
      },
      "execution_count": null,
      "outputs": []
    },
    {
      "cell_type": "code",
      "source": [
        "heatmap_array = np.array(company_records)\n",
        "heatmap_array.shape"
      ],
      "metadata": {
        "colab": {
          "base_uri": "https://localhost:8080/"
        },
        "id": "6MG3M3eusaGx",
        "outputId": "b2499421-7a6c-4418-e138-24946138fa73"
      },
      "execution_count": null,
      "outputs": [
        {
          "output_type": "execute_result",
          "data": {
            "text/plain": [
              "(40, 17)"
            ]
          },
          "metadata": {},
          "execution_count": 31
        }
      ]
    },
    {
      "cell_type": "code",
      "source": [
        "fig = go.Figure(data=go.Heatmap(\n",
        "        z=heatmap_array,\n",
        "        x=sdg_df[\"name\"].tolist(),\n",
        "        y=[company + \" \" for company in companies],\n",
        "        colorscale='Viridis'))\n",
        "\n",
        "fig.update_layout(height=1000)\n",
        "\n",
        "fig.show()"
      ],
      "metadata": {
        "colab": {
          "base_uri": "https://localhost:8080/",
          "height": 1000
        },
        "id": "ibKB-T5CsleV",
        "outputId": "7f96de17-7524-4ea2-bd1b-2f5747e67241"
      },
      "execution_count": null,
      "outputs": [
        {
          "output_type": "display_data",
          "data": {
            "text/html": [
              "<html>\n",
              "<head><meta charset=\"utf-8\" /></head>\n",
              "<body>\n",
              "    <div>            <script src=\"https://cdnjs.cloudflare.com/ajax/libs/mathjax/2.7.5/MathJax.js?config=TeX-AMS-MML_SVG\"></script><script type=\"text/javascript\">if (window.MathJax && window.MathJax.Hub && window.MathJax.Hub.Config) {window.MathJax.Hub.Config({SVG: {font: \"STIX-Web\"}});}</script>                <script type=\"text/javascript\">window.PlotlyConfig = {MathJaxConfig: 'local'};</script>\n",
              "        <script src=\"https://cdn.plot.ly/plotly-2.18.2.min.js\"></script>                <div id=\"f3a35849-467b-4e42-875e-0211cca0ae74\" class=\"plotly-graph-div\" style=\"height:1000px; width:100%;\"></div>            <script type=\"text/javascript\">                                    window.PLOTLYENV=window.PLOTLYENV || {};                                    if (document.getElementById(\"f3a35849-467b-4e42-875e-0211cca0ae74\")) {                    Plotly.newPlot(                        \"f3a35849-467b-4e42-875e-0211cca0ae74\",                        [{\"colorscale\":[[0.0,\"#440154\"],[0.1111111111111111,\"#482878\"],[0.2222222222222222,\"#3e4989\"],[0.3333333333333333,\"#31688e\"],[0.4444444444444444,\"#26828e\"],[0.5555555555555556,\"#1f9e89\"],[0.6666666666666666,\"#35b779\"],[0.7777777777777778,\"#6ece58\"],[0.8888888888888888,\"#b5de2b\"],[1.0,\"#fde725\"]],\"x\":[\"No Poverty\",\"Zero Hunger\",\"Good Health and Well-being\",\"Quality Education\",\"Gender Equality\",\"Clean Water and Sanitation\",\"Affordable and Clean Energy\",\"Decent Work and Economic Growth\",\"Industry, Innovation and Infrastructure\",\"Reduced Inequalities\",\"Sustainable Cities and Communities\",\"Responsible Consumption and Production\",\"Climate Action\",\"Life Below Water\",\"Life On Land\",\"Peace, Justice and Strong Institutions\",\"Partnerships for the Goals\"],\"y\":[\"Beiersdorf AG \",\"Deutsche Telekom AG \",\"Vonovia SE \",\"Merck KGaA \",\"MTU \",\"E ONSE \",\"RWE AG \",\"Heidelberg Cement AG \",\"Siemens AG \",\"Linde \",\"Qiagen \",\"Henkel \",\"Daimler AG \",\"Continental AG \",\"Bayer AG \",\"Volkswagen AG \",\"Fresenius \",\"Symrise AG \",\"Sartorius AG \",\"Porsche \",\"SAP \",\"Adidas AG \",\"Deutsche Bank AG \",\"Puma SE \",\"Siemens Healthineers AG \",\"Airbus SE \",\"Covestro AG \",\"Allianz SE \",\"Infineon Technologies AG \",\"BMW \",\"Hannover R AG \",\"Siemens Energy \",\"Zalando SE \",\"Muenchener Rueckversicherungs Gesellschaft AGin Muenchen \",\"Deutsche Post AG \",\"BASF SE \",\"Deutsche Boerse AG \",\"Brenntag \",\"AkzoNobelNV \",\"Vonovia \"],\"z\":[[0.3200758695602417,0.30033212900161743,0.36053627729415894,0.24766837060451508,0.21207155287265778,0.3375363349914551,0.37448352575302124,0.28671473264694214,0.3055863380432129,0.34045711159706116,0.24202291667461395,0.3369167149066925,0.251743882894516,0.33303046226501465,0.21116121113300323,0.156407430768013,0.289836585521698],[0.27289116382598877,0.21533171832561493,0.2725149393081665,0.22634659707546234,0.15805962681770325,0.2700314521789551,0.3234080970287323,0.28323277831077576,0.3713289499282837,0.3175991177558899,0.24898040294647217,0.23271875083446503,0.2209995537996292,0.26870274543762207,0.14954443275928497,0.15497836470603943,0.2987087368965149],[0.257068395614624,0.24064713716506958,0.22902812063694,0.17345474660396576,0.12604893743991852,0.29589954018592834,0.2739810645580292,0.1642705500125885,0.30238083004951477,0.24131369590759277,0.3528629243373871,0.23481999337673187,0.2511560916900635,0.2965010702610016,0.2739289402961731,0.19618810713291168,0.19812104105949402],[0.2003859132528305,0.17172856628894806,0.2870616316795349,0.13837124407291412,0.10772839188575745,0.17950056493282318,0.1522604376077652,0.128324493765831,0.13122501969337463,0.22863011062145233,0.07515089213848114,0.10814867168664932,0.1432412564754486,0.18566399812698364,0.09115888178348541,0.10399667918682098,0.18308177590370178],[0.3160461187362671,0.25697699189186096,0.3203257918357849,0.31791064143180847,0.1940121352672577,0.3396550714969635,0.40547293424606323,0.3333211839199066,0.4458653926849365,0.35662707686424255,0.29964619874954224,0.3127589523792267,0.2622314393520355,0.3396300673484802,0.21999868750572205,0.17469382286071777,0.35168278217315674],[0.2992947995662689,0.2596261203289032,0.2735133469104767,0.2346351444721222,0.17430809140205383,0.31734269857406616,0.562521755695343,0.33779987692832947,0.40717145800590515,0.3705751597881317,0.3416348695755005,0.43151384592056274,0.3699396550655365,0.39016398787498474,0.256447970867157,0.18519721925258636,0.3755470812320709],[0.20890766382217407,0.1888025403022766,0.21919263899326324,0.13304279744625092,0.12385299056768417,0.25116264820098877,0.47003087401390076,0.22999675571918488,0.34406784176826477,0.2709725499153137,0.26973840594291687,0.3495924174785614,0.3167378306388855,0.37458255887031555,0.23600052297115326,0.14625242352485657,0.3045737147331238],[0.25169479846954346,0.19707952439785004,0.23073089122772217,0.2232305258512497,0.12731008231639862,0.2842048704624176,0.3766109049320221,0.2751421332359314,0.37653303146362305,0.3103521168231964,0.3409210741519928,0.3414236605167389,0.31988680362701416,0.3656521737575531,0.2297453135251999,0.18467409908771515,0.30012020468711853],[0.2642786502838135,0.23354174196720123,0.2613426446914673,0.22022241353988647,0.144886776804924,0.28772619366645813,0.43748170137405396,0.30623096227645874,0.44633883237838745,0.32272160053253174,0.3094896972179413,0.32533973455429077,0.2666132152080536,0.3243255615234375,0.16913126409053802,0.16741158068180084,0.3116549551486969],[0.24542294442653656,0.18233031034469604,0.23584818840026855,0.1937175691127777,0.09662055224180222,0.2898734211921692,0.41541552543640137,0.2580433785915375,0.30833005905151367,0.2770490050315857,0.22366641461849213,0.33671724796295166,0.23390257358551025,0.32956308126449585,0.2031424194574356,0.10969901084899902,0.2995661795139313],[0.1611061841249466,0.17646056413650513,0.2693665027618408,0.19388310611248016,0.06326865404844284,0.21515919268131256,0.15685658156871796,0.12387973070144653,0.15282414853572845,0.18567951023578644,0.10404082387685776,0.12348707765340805,0.15194649994373322,0.16603054106235504,0.10962962359189987,0.07442088425159454,0.15696659684181213],[0.1889311522245407,0.17519111931324005,0.19666191935539246,0.20002101361751556,0.09303628653287888,0.2844043970108032,0.32774269580841064,0.24433943629264832,0.27329447865486145,0.2357349693775177,0.13692748546600342,0.2787885367870331,0.17789818346500397,0.3000732958316803,0.14606405794620514,0.09471933543682098,0.21923601627349854],[0.2476377636194229,0.16685210168361664,0.20353008806705475,0.1612757444381714,0.13878393173217773,0.2246985286474228,0.31433120369911194,0.2022876739501953,0.26882874965667725,0.27711719274520874,0.2752431631088257,0.2941133379936218,0.22113777697086334,0.23241622745990753,0.09162190556526184,0.13221298158168793,0.2420700192451477],[0.22323934733867645,0.20700988173484802,0.20668722689151764,0.17233280837535858,0.08202692121267319,0.207864910364151,0.3594296872615814,0.25788429379463196,0.410034716129303,0.27936068177223206,0.2571779489517212,0.3528943359851837,0.24464014172554016,0.25415879487991333,0.1657952517271042,0.13733328878879547,0.2773873209953308],[0.22558653354644775,0.2569439113140106,0.28884443640708923,0.1560230404138565,0.10411416739225388,0.23881614208221436,0.23516938090324402,0.1884261667728424,0.2333989292383194,0.26023924350738525,0.13043886423110962,0.21736013889312744,0.19240373373031616,0.25859424471855164,0.1932355910539627,0.11435672640800476,0.22444644570350647],[0.1861719787120819,0.11973337084054947,0.16036687791347504,0.09113574773073196,0.1273326724767685,0.18419216573238373,0.274137943983078,0.17265081405639648,0.2689379155635834,0.2396838366985321,0.23669658601284027,0.27393874526023865,0.19213555753231049,0.20961153507232666,0.11768779903650284,0.10084521770477295,0.2309831976890564],[0.2838757038116455,0.2634923756122589,0.3727729916572571,0.21061085164546967,0.14975512027740479,0.28810226917266846,0.2705231308937073,0.22147977352142334,0.22370299696922302,0.339264839887619,0.16307027637958527,0.2267419546842575,0.1807693988084793,0.23033621907234192,0.13199028372764587,0.13614772260189056,0.2577820122241974],[0.21573203802108765,0.3247518539428711,0.2580680549144745,0.2286093533039093,0.1539163589477539,0.30085325241088867,0.30005842447280884,0.2460528016090393,0.2637145221233368,0.23235832154750824,0.18433734774589539,0.30929991602897644,0.1841917335987091,0.2812845706939697,0.1957075595855713,0.1575869768857956,0.26669782400131226],[0.2875460982322693,0.2745760381221771,0.351339191198349,0.2326289713382721,0.12742727994918823,0.32270094752311707,0.3022039830684662,0.2693779468536377,0.31866854429244995,0.3134581744670868,0.2343253642320633,0.3066946566104889,0.2246549278497696,0.3214663863182068,0.20454847812652588,0.1679392158985138,0.28943872451782227],[0.1856141984462738,0.10954666137695312,0.16457249224185944,0.0879085436463356,0.11499278247356415,0.17057624459266663,0.2816270589828491,0.14699018001556396,0.24138256907463074,0.2355370670557022,0.21874995529651642,0.257196843624115,0.16478219628334045,0.1941000521183014,0.09301363676786423,0.07972101122140884,0.22589366137981415],[0.2476944476366043,0.2205168455839157,0.24274776875972748,0.19594250619411469,0.14156536757946014,0.2562064826488495,0.30991390347480774,0.3145667612552643,0.3590228259563446,0.2993670701980591,0.26612716913223267,0.32663217186927795,0.25952744483947754,0.25454798340797424,0.15175583958625793,0.16453182697296143,0.3004879653453827],[0.20739877223968506,0.15248264372348785,0.16422832012176514,0.16256268322467804,0.11718019098043442,0.20069068670272827,0.2173425555229187,0.1065586656332016,0.13934852182865143,0.17602470517158508,0.16889721155166626,0.18216156959533691,0.1567191481590271,0.19582632184028625,0.08185199648141861,0.08447472006082535,0.18940691649913788],[0.2750477194786072,0.18846245110034943,0.2564576268196106,0.17667630314826965,0.14303548634052277,0.25059372186660767,0.31603047251701355,0.29767701029777527,0.27290162444114685,0.3367302119731903,0.1974947601556778,0.26454809308052063,0.2586817741394043,0.27617061138153076,0.15735626220703125,0.16111640632152557,0.3194594383239746],[0.23465989530086517,0.1794782280921936,0.21552258729934692,0.1596272587776184,0.14555595815181732,0.221406027674675,0.26489484310150146,0.20822159945964813,0.24910883605480194,0.24583090841770172,0.16172508895397186,0.24720287322998047,0.2207222580909729,0.24624553322792053,0.12696774303913116,0.13574911653995514,0.24165478348731995],[0.14477238059043884,0.1475052535533905,0.2774030268192291,0.13708917796611786,0.04522744566202164,0.16004328429698944,0.15935295820236206,0.09691927582025528,0.13891123235225677,0.179958775639534,0.07176457345485687,0.08128250390291214,0.08183572441339493,0.15866197645664215,0.055907055735588074,0.031532179564237595,0.1218724474310875],[0.17136815190315247,0.16761821508407593,0.18825998902320862,0.14407296478748322,0.08374137431383133,0.15929247438907623,0.25188809633255005,0.1876218467950821,0.31854769587516785,0.20794908702373505,0.22732345759868622,0.22806325554847717,0.21056054532527924,0.20723754167556763,0.11356315016746521,0.07126585394144058,0.23116375505924225],[0.2245282381772995,0.17608802020549774,0.21340185403823853,0.20116372406482697,0.09970813989639282,0.25752902030944824,0.35341453552246094,0.2339632660150528,0.34949520230293274,0.2564150393009186,0.24514687061309814,0.34111157059669495,0.23447491228580475,0.3713100850582123,0.18926632404327393,0.1529194563627243,0.2641410827636719],[0.28996020555496216,0.21608933806419373,0.2538738548755646,0.13207001984119415,0.15045952796936035,0.25164100527763367,0.350893497467041,0.28270018100738525,0.2917807102203369,0.310209721326828,0.2203400731086731,0.2745673656463623,0.32115381956100464,0.2876616418361664,0.1943625509738922,0.19057656824588776,0.3184904456138611],[0.21832522749900818,0.21420006453990936,0.2400081604719162,0.2005264163017273,0.09615708142518997,0.20854468643665314,0.3653864562511444,0.28501632809638977,0.33838537335395813,0.3007853925228119,0.20637311041355133,0.28137609362602234,0.19669972360134125,0.2494792938232422,0.12341521680355072,0.13226920366287231,0.24586115777492523],[0.21064719557762146,0.178180530667305,0.23196619749069214,0.14454200863838196,0.1411592811346054,0.22510001063346863,0.3087838888168335,0.2073938548564911,0.337715744972229,0.25738516449928284,0.30417224764823914,0.2845575511455536,0.20210805535316467,0.22955206036567688,0.13376271724700928,0.15317222476005554,0.2399071604013443],[0.1967037469148636,0.17073294520378113,0.2449474334716797,0.12214948236942291,0.10305894911289215,0.2091442048549652,0.3657227158546448,0.2046935111284256,0.26257550716400146,0.27575716376304626,0.21202997863292694,0.2553636431694031,0.2838301658630371,0.30132725834846497,0.22604259848594666,0.12067634612321854,0.2401399314403534],[0.21046127378940582,0.17376898229122162,0.19159729778766632,0.1578911393880844,0.1185513436794281,0.2338813990354538,0.4607325494289398,0.24766743183135986,0.35664403438568115,0.25270214676856995,0.25320425629615784,0.3152729868888855,0.2666561007499695,0.334541380405426,0.16348661482334137,0.13880231976509094,0.29579028487205505],[0.3222958445549011,0.28386980295181274,0.2882866859436035,0.2446475774049759,0.20294451713562012,0.27107128500938416,0.3448353707790375,0.3272804319858551,0.35623082518577576,0.35109034180641174,0.3230169713497162,0.35749053955078125,0.2790817618370056,0.33034977316856384,0.22080722451210022,0.206999734044075,0.3412930965423584],[0.23825465142726898,0.18677298724651337,0.25087663531303406,0.13090498745441437,0.11298725008964539,0.25350943207740784,0.3864104449748993,0.24521979689598083,0.3393951654434204,0.2934378385543823,0.2552090287208557,0.29525697231292725,0.3586380183696747,0.3302660584449768,0.24488011002540588,0.1511813998222351,0.2952355444431305],[0.24301449954509735,0.2402905821800232,0.2506493031978607,0.1705024391412735,0.13283665478229523,0.24575787782669067,0.36068931221961975,0.28282004594802856,0.3842662572860718,0.31388574838638306,0.2701660990715027,0.3443111181259155,0.2829029858112335,0.2964271008968353,0.15823078155517578,0.16379955410957336,0.3071286678314209],[0.3449367582798004,0.2795054316520691,0.28007838129997253,0.2380204200744629,0.20300963521003723,0.32326361536979675,0.34746089577674866,0.3716830611228943,0.33711451292037964,0.3469459116458893,0.2835962176322937,0.33496543765068054,0.2924225926399231,0.3469257056713104,0.2589966952800751,0.24377475678920746,0.3521474301815033],[0.23192700743675232,0.18132394552230835,0.2183413952589035,0.20817330479621887,0.1416347324848175,0.2549697458744049,0.32673221826553345,0.27380239963531494,0.29194605350494385,0.2945977449417114,0.2143864631652832,0.2748582661151886,0.2150644212961197,0.26667553186416626,0.17965957522392273,0.12685157358646393,0.3064214885234833],[0.22190779447555542,0.1935761272907257,0.20315571129322052,0.17405003309249878,0.09612073749303818,0.2737658619880676,0.3395068943500519,0.23619075119495392,0.3510369658470154,0.24523556232452393,0.1702081561088562,0.27559053897857666,0.2384255975484848,0.3056613504886627,0.17878372967243195,0.13253900408744812,0.22774264216423035],[0.29383185505867004,0.2805887758731842,0.24202179908752441,0.2092500478029251,0.1593441367149353,0.32980602979660034,0.39290687441825867,0.29101353883743286,0.37287789583206177,0.3241303861141205,0.26354190707206726,0.3551018238067627,0.2894556224346161,0.38728204369544983,0.2580925226211548,0.18394064903259277,0.32376646995544434],[0.21418727934360504,0.1447954922914505,0.20974324643611908,0.15351231396198273,0.1099434643983841,0.20468436181545258,0.2857044041156769,0.2286878079175949,0.26699361205101013,0.288704514503479,0.21500687301158905,0.20431113243103027,0.1845894157886505,0.21221891045570374,0.1487525999546051,0.11394861340522766,0.2424280047416687]],\"type\":\"heatmap\"}],                        {\"template\":{\"data\":{\"histogram2dcontour\":[{\"type\":\"histogram2dcontour\",\"colorbar\":{\"outlinewidth\":0,\"ticks\":\"\"},\"colorscale\":[[0.0,\"#0d0887\"],[0.1111111111111111,\"#46039f\"],[0.2222222222222222,\"#7201a8\"],[0.3333333333333333,\"#9c179e\"],[0.4444444444444444,\"#bd3786\"],[0.5555555555555556,\"#d8576b\"],[0.6666666666666666,\"#ed7953\"],[0.7777777777777778,\"#fb9f3a\"],[0.8888888888888888,\"#fdca26\"],[1.0,\"#f0f921\"]]}],\"choropleth\":[{\"type\":\"choropleth\",\"colorbar\":{\"outlinewidth\":0,\"ticks\":\"\"}}],\"histogram2d\":[{\"type\":\"histogram2d\",\"colorbar\":{\"outlinewidth\":0,\"ticks\":\"\"},\"colorscale\":[[0.0,\"#0d0887\"],[0.1111111111111111,\"#46039f\"],[0.2222222222222222,\"#7201a8\"],[0.3333333333333333,\"#9c179e\"],[0.4444444444444444,\"#bd3786\"],[0.5555555555555556,\"#d8576b\"],[0.6666666666666666,\"#ed7953\"],[0.7777777777777778,\"#fb9f3a\"],[0.8888888888888888,\"#fdca26\"],[1.0,\"#f0f921\"]]}],\"heatmap\":[{\"type\":\"heatmap\",\"colorbar\":{\"outlinewidth\":0,\"ticks\":\"\"},\"colorscale\":[[0.0,\"#0d0887\"],[0.1111111111111111,\"#46039f\"],[0.2222222222222222,\"#7201a8\"],[0.3333333333333333,\"#9c179e\"],[0.4444444444444444,\"#bd3786\"],[0.5555555555555556,\"#d8576b\"],[0.6666666666666666,\"#ed7953\"],[0.7777777777777778,\"#fb9f3a\"],[0.8888888888888888,\"#fdca26\"],[1.0,\"#f0f921\"]]}],\"heatmapgl\":[{\"type\":\"heatmapgl\",\"colorbar\":{\"outlinewidth\":0,\"ticks\":\"\"},\"colorscale\":[[0.0,\"#0d0887\"],[0.1111111111111111,\"#46039f\"],[0.2222222222222222,\"#7201a8\"],[0.3333333333333333,\"#9c179e\"],[0.4444444444444444,\"#bd3786\"],[0.5555555555555556,\"#d8576b\"],[0.6666666666666666,\"#ed7953\"],[0.7777777777777778,\"#fb9f3a\"],[0.8888888888888888,\"#fdca26\"],[1.0,\"#f0f921\"]]}],\"contourcarpet\":[{\"type\":\"contourcarpet\",\"colorbar\":{\"outlinewidth\":0,\"ticks\":\"\"}}],\"contour\":[{\"type\":\"contour\",\"colorbar\":{\"outlinewidth\":0,\"ticks\":\"\"},\"colorscale\":[[0.0,\"#0d0887\"],[0.1111111111111111,\"#46039f\"],[0.2222222222222222,\"#7201a8\"],[0.3333333333333333,\"#9c179e\"],[0.4444444444444444,\"#bd3786\"],[0.5555555555555556,\"#d8576b\"],[0.6666666666666666,\"#ed7953\"],[0.7777777777777778,\"#fb9f3a\"],[0.8888888888888888,\"#fdca26\"],[1.0,\"#f0f921\"]]}],\"surface\":[{\"type\":\"surface\",\"colorbar\":{\"outlinewidth\":0,\"ticks\":\"\"},\"colorscale\":[[0.0,\"#0d0887\"],[0.1111111111111111,\"#46039f\"],[0.2222222222222222,\"#7201a8\"],[0.3333333333333333,\"#9c179e\"],[0.4444444444444444,\"#bd3786\"],[0.5555555555555556,\"#d8576b\"],[0.6666666666666666,\"#ed7953\"],[0.7777777777777778,\"#fb9f3a\"],[0.8888888888888888,\"#fdca26\"],[1.0,\"#f0f921\"]]}],\"mesh3d\":[{\"type\":\"mesh3d\",\"colorbar\":{\"outlinewidth\":0,\"ticks\":\"\"}}],\"scatter\":[{\"fillpattern\":{\"fillmode\":\"overlay\",\"size\":10,\"solidity\":0.2},\"type\":\"scatter\"}],\"parcoords\":[{\"type\":\"parcoords\",\"line\":{\"colorbar\":{\"outlinewidth\":0,\"ticks\":\"\"}}}],\"scatterpolargl\":[{\"type\":\"scatterpolargl\",\"marker\":{\"colorbar\":{\"outlinewidth\":0,\"ticks\":\"\"}}}],\"bar\":[{\"error_x\":{\"color\":\"#2a3f5f\"},\"error_y\":{\"color\":\"#2a3f5f\"},\"marker\":{\"line\":{\"color\":\"#E5ECF6\",\"width\":0.5},\"pattern\":{\"fillmode\":\"overlay\",\"size\":10,\"solidity\":0.2}},\"type\":\"bar\"}],\"scattergeo\":[{\"type\":\"scattergeo\",\"marker\":{\"colorbar\":{\"outlinewidth\":0,\"ticks\":\"\"}}}],\"scatterpolar\":[{\"type\":\"scatterpolar\",\"marker\":{\"colorbar\":{\"outlinewidth\":0,\"ticks\":\"\"}}}],\"histogram\":[{\"marker\":{\"pattern\":{\"fillmode\":\"overlay\",\"size\":10,\"solidity\":0.2}},\"type\":\"histogram\"}],\"scattergl\":[{\"type\":\"scattergl\",\"marker\":{\"colorbar\":{\"outlinewidth\":0,\"ticks\":\"\"}}}],\"scatter3d\":[{\"type\":\"scatter3d\",\"line\":{\"colorbar\":{\"outlinewidth\":0,\"ticks\":\"\"}},\"marker\":{\"colorbar\":{\"outlinewidth\":0,\"ticks\":\"\"}}}],\"scattermapbox\":[{\"type\":\"scattermapbox\",\"marker\":{\"colorbar\":{\"outlinewidth\":0,\"ticks\":\"\"}}}],\"scatterternary\":[{\"type\":\"scatterternary\",\"marker\":{\"colorbar\":{\"outlinewidth\":0,\"ticks\":\"\"}}}],\"scattercarpet\":[{\"type\":\"scattercarpet\",\"marker\":{\"colorbar\":{\"outlinewidth\":0,\"ticks\":\"\"}}}],\"carpet\":[{\"aaxis\":{\"endlinecolor\":\"#2a3f5f\",\"gridcolor\":\"white\",\"linecolor\":\"white\",\"minorgridcolor\":\"white\",\"startlinecolor\":\"#2a3f5f\"},\"baxis\":{\"endlinecolor\":\"#2a3f5f\",\"gridcolor\":\"white\",\"linecolor\":\"white\",\"minorgridcolor\":\"white\",\"startlinecolor\":\"#2a3f5f\"},\"type\":\"carpet\"}],\"table\":[{\"cells\":{\"fill\":{\"color\":\"#EBF0F8\"},\"line\":{\"color\":\"white\"}},\"header\":{\"fill\":{\"color\":\"#C8D4E3\"},\"line\":{\"color\":\"white\"}},\"type\":\"table\"}],\"barpolar\":[{\"marker\":{\"line\":{\"color\":\"#E5ECF6\",\"width\":0.5},\"pattern\":{\"fillmode\":\"overlay\",\"size\":10,\"solidity\":0.2}},\"type\":\"barpolar\"}],\"pie\":[{\"automargin\":true,\"type\":\"pie\"}]},\"layout\":{\"autotypenumbers\":\"strict\",\"colorway\":[\"#636efa\",\"#EF553B\",\"#00cc96\",\"#ab63fa\",\"#FFA15A\",\"#19d3f3\",\"#FF6692\",\"#B6E880\",\"#FF97FF\",\"#FECB52\"],\"font\":{\"color\":\"#2a3f5f\"},\"hovermode\":\"closest\",\"hoverlabel\":{\"align\":\"left\"},\"paper_bgcolor\":\"white\",\"plot_bgcolor\":\"#E5ECF6\",\"polar\":{\"bgcolor\":\"#E5ECF6\",\"angularaxis\":{\"gridcolor\":\"white\",\"linecolor\":\"white\",\"ticks\":\"\"},\"radialaxis\":{\"gridcolor\":\"white\",\"linecolor\":\"white\",\"ticks\":\"\"}},\"ternary\":{\"bgcolor\":\"#E5ECF6\",\"aaxis\":{\"gridcolor\":\"white\",\"linecolor\":\"white\",\"ticks\":\"\"},\"baxis\":{\"gridcolor\":\"white\",\"linecolor\":\"white\",\"ticks\":\"\"},\"caxis\":{\"gridcolor\":\"white\",\"linecolor\":\"white\",\"ticks\":\"\"}},\"coloraxis\":{\"colorbar\":{\"outlinewidth\":0,\"ticks\":\"\"}},\"colorscale\":{\"sequential\":[[0.0,\"#0d0887\"],[0.1111111111111111,\"#46039f\"],[0.2222222222222222,\"#7201a8\"],[0.3333333333333333,\"#9c179e\"],[0.4444444444444444,\"#bd3786\"],[0.5555555555555556,\"#d8576b\"],[0.6666666666666666,\"#ed7953\"],[0.7777777777777778,\"#fb9f3a\"],[0.8888888888888888,\"#fdca26\"],[1.0,\"#f0f921\"]],\"sequentialminus\":[[0.0,\"#0d0887\"],[0.1111111111111111,\"#46039f\"],[0.2222222222222222,\"#7201a8\"],[0.3333333333333333,\"#9c179e\"],[0.4444444444444444,\"#bd3786\"],[0.5555555555555556,\"#d8576b\"],[0.6666666666666666,\"#ed7953\"],[0.7777777777777778,\"#fb9f3a\"],[0.8888888888888888,\"#fdca26\"],[1.0,\"#f0f921\"]],\"diverging\":[[0,\"#8e0152\"],[0.1,\"#c51b7d\"],[0.2,\"#de77ae\"],[0.3,\"#f1b6da\"],[0.4,\"#fde0ef\"],[0.5,\"#f7f7f7\"],[0.6,\"#e6f5d0\"],[0.7,\"#b8e186\"],[0.8,\"#7fbc41\"],[0.9,\"#4d9221\"],[1,\"#276419\"]]},\"xaxis\":{\"gridcolor\":\"white\",\"linecolor\":\"white\",\"ticks\":\"\",\"title\":{\"standoff\":15},\"zerolinecolor\":\"white\",\"automargin\":true,\"zerolinewidth\":2},\"yaxis\":{\"gridcolor\":\"white\",\"linecolor\":\"white\",\"ticks\":\"\",\"title\":{\"standoff\":15},\"zerolinecolor\":\"white\",\"automargin\":true,\"zerolinewidth\":2},\"scene\":{\"xaxis\":{\"backgroundcolor\":\"#E5ECF6\",\"gridcolor\":\"white\",\"linecolor\":\"white\",\"showbackground\":true,\"ticks\":\"\",\"zerolinecolor\":\"white\",\"gridwidth\":2},\"yaxis\":{\"backgroundcolor\":\"#E5ECF6\",\"gridcolor\":\"white\",\"linecolor\":\"white\",\"showbackground\":true,\"ticks\":\"\",\"zerolinecolor\":\"white\",\"gridwidth\":2},\"zaxis\":{\"backgroundcolor\":\"#E5ECF6\",\"gridcolor\":\"white\",\"linecolor\":\"white\",\"showbackground\":true,\"ticks\":\"\",\"zerolinecolor\":\"white\",\"gridwidth\":2}},\"shapedefaults\":{\"line\":{\"color\":\"#2a3f5f\"}},\"annotationdefaults\":{\"arrowcolor\":\"#2a3f5f\",\"arrowhead\":0,\"arrowwidth\":1},\"geo\":{\"bgcolor\":\"white\",\"landcolor\":\"#E5ECF6\",\"subunitcolor\":\"white\",\"showland\":true,\"showlakes\":true,\"lakecolor\":\"white\"},\"title\":{\"x\":0.05},\"mapbox\":{\"style\":\"light\"}}},\"height\":1000},                        {\"responsive\": true}                    ).then(function(){\n",
              "                            \n",
              "var gd = document.getElementById('f3a35849-467b-4e42-875e-0211cca0ae74');\n",
              "var x = new MutationObserver(function (mutations, observer) {{\n",
              "        var display = window.getComputedStyle(gd).display;\n",
              "        if (!display || display === 'none') {{\n",
              "            console.log([gd, 'removed!']);\n",
              "            Plotly.purge(gd);\n",
              "            observer.disconnect();\n",
              "        }}\n",
              "}});\n",
              "\n",
              "// Listen for the removal of the full notebook cells\n",
              "var notebookContainer = gd.closest('#notebook-container');\n",
              "if (notebookContainer) {{\n",
              "    x.observe(notebookContainer, {childList: true});\n",
              "}}\n",
              "\n",
              "// Listen for the clearing of the current output cell\n",
              "var outputEl = gd.closest('.output');\n",
              "if (outputEl) {{\n",
              "    x.observe(outputEl, {childList: true});\n",
              "}}\n",
              "\n",
              "                        })                };                            </script>        </div>\n",
              "</body>\n",
              "</html>"
            ]
          },
          "metadata": {}
        }
      ]
    },
    {
      "cell_type": "markdown",
      "source": [
        "Next steps to further explore the data: modify the chart to answer the following questions:\n",
        "\n",
        "- What are the companies that are most aligned with the SDGs? (sort by sum of rows)\n",
        "- Which SDGs are most relevant for the DAX index? (sort by sum of columns)"
      ],
      "metadata": {
        "id": "GL7m-zActYKI"
      }
    },
    {
      "cell_type": "code",
      "source": [],
      "metadata": {
        "id": "sBKF8POTClt_"
      },
      "execution_count": null,
      "outputs": []
    }
  ]
}