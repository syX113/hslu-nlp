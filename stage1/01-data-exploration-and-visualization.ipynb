{
 "cells": [
  {
   "attachments": {},
   "cell_type": "markdown",
   "metadata": {},
   "source": [
    "## Stage 1: Exploratory Data Analysis"
   ]
  },
  {
   "attachments": {},
   "cell_type": "markdown",
   "metadata": {},
   "source": [
    "Steps / Proceeeding:\n",
    "- Look at the structure of the data: number of data points, number of features, feature names, data types, etc.\n",
    "- When dealing with multiple data sources, check for consistency across datasets.\n",
    "- Identify what data signifies (called measures) for each of data points and be mindful while obtaining metrics.\n",
    "- Calculate key metrics for each data point (summary analysis): a. Measures of central tendency (Mean, Median, Mode); b. Measures of dispersion (Range, Quartile Deviation, Mean Deviation, Standard Deviation); c. Measures of skewness and kurtosis.\n",
    "- Investigate visuals: a. Histogram for each variable; b. Scatterplot to correlate variables.\n",
    "- Calculate metrics and visuals per category for categorical variables (nominal, ordinal).\n",
    "- Identify outliers and mark them. Based on context, either discard outliers or analyze them separately.\n",
    "- Estimate missing points using data imputation techniques.\n",
    "- Estimate data quality.\n"
   ]
  },
  {
   "attachments": {},
   "cell_type": "markdown",
   "metadata": {},
   "source": [
    "Measures of central tendency \n",
    "\n",
    "A measure of central tendency is a single value that attempts to describe a set of data by identifying the central position within that set of data. These include the following:\n",
    "- Mean: Mean is equal to the sum of all the values in the data set divided by the number of values in the data set. This is also called arithmetic mean. Other means such as geometric mean and harmonic mean are also sometimes useful.\n",
    "- Median: Median is the middle score for a set of data that has been arranged in order of magnitude. For example, given an ordered list of student marks, [14 35 45 55 55 56 58 65 87 89 92], median is 56 because it is the middle mark since there are 5 items before it, 5 items after it.\n",
    "- Mode: Mode is the most frequent score in our data set. For the above data set of student marks, mode is 55 because 55 is repeated for the maximum number of times."
   ]
  },
  {
   "attachments": {},
   "cell_type": "markdown",
   "metadata": {},
   "source": [
    "Skewness & Kurtosis\n",
    "\n",
    "Kurtosis is a measure of whether the data are heavy-tailed or light-tailed relative to a normal distribution. \n",
    "That is, data sets with high kurtosis tend to have heavy tails, or outliers. Data sets with low kurtosis tend to have light tails, or lack of outliers.\n"
   ]
  },
  {
   "attachments": {},
   "cell_type": "markdown",
   "metadata": {},
   "source": [
    "Measures of Dispersion\n",
    "\n",
    "- Range is the difference between the smallest value and the largest value in the data set. This is the simplest measure but it's based on extreme values and tells nothing about the data in between.\n",
    "- Standard Deviation is therefore a better measure. A value within ±1 SD from mean is considered normal; a value beyond ±3 SD is considered extremely abnormal. One alternative to this is a simple measure called Mean Absolute Deviation (MAD). Another alternative, often used as a measurement of error, is Root Mean Square Anomaly (RMSA).\n",
    "- If one desires the spread of data around the central region of data, Quartile Deviation is a good measure. This is half of what's called Interquartile Range (IQR). A variation of this that considers all data is called Median Absolute Deviation (MAD)."
   ]
  },
  {
   "attachments": {},
   "cell_type": "markdown",
   "metadata": {},
   "source": [
    "Outliers\n",
    "Any observation that appears to deviate markedly from other observations in the sample is considered an outlier. Identifying an observation as an outlier depends on the underlying distribution of the data. Determining whether an observation is an outlier or not is a subjective exercise.\n",
    "- Context dictates whether to focus on or get rid of outliers. For example, in an income distribution, a luxury brand company would focus on the outliers (the rich people) while a Government public distribution system would choose to get rid of the outliers. It's recommended that you generate a normal probability plot of the data before applying an outlier test.\n",
    "- Outliers can also come in different flavours, depending on the environment: point outliers, contextual outliers, or collective outliers.\n",
    "\n"
   ]
  },
  {
   "attachments": {},
   "cell_type": "markdown",
   "metadata": {},
   "source": [
    "Analysis:\n",
    "- Average length by datatype\n",
    "- Word segmentation and word frequencies\n",
    "- Number of documents by company\n",
    "- Using TFIDF to find the most characteristic words by company\n",
    "- Timeseries of ESG topic distributions to analyse patterns over time"
   ]
  },
  {
   "attachments": {},
   "cell_type": "markdown",
   "metadata": {},
   "source": [
    "Text Specific:\n",
    "\n",
    "- Frequency: token, type etc. frequency analysis\n",
    "- Length: token, sentence length analysis\n",
    "- N-gram explorations\n",
    "- Unknown words\n",
    "- Style and domain specificity\n",
    "- Error analysis, e.g., spelling errors\n",
    "- Semantic relations (synonymity, hyperonyms)\n",
    "- Linguistics units: POS, NER\n",
    "- Topic exploration\n",
    "- Keyword analysis\n",
    "- Comprehension/text complexity metrics\n",
    "- Similarity metrics\n",
    "- Sentiment\n"
   ]
  },
  {
   "cell_type": "markdown",
   "metadata": {},
   "source": []
  },
  {
   "cell_type": "code",
   "execution_count": null,
   "metadata": {},
   "outputs": [],
   "source": [
    "nltk.sentiment.vader SentimentIntensityAnalyzer\n",
    "\n",
    "textblob sentiment.polarity"
   ]
  },
  {
   "cell_type": "code",
   "execution_count": null,
   "metadata": {},
   "outputs": [],
   "source": [
    "# Report length\n",
    "\n",
    "# By ESG topic\n",
    "\n",
    "# Add sector by company"
   ]
  }
 ],
 "metadata": {
  "kernelspec": {
   "display_name": "venv-nlp",
   "language": "python",
   "name": "python3"
  },
  "language_info": {
   "codemirror_mode": {
    "name": "ipython",
    "version": 3
   },
   "file_extension": ".py",
   "mimetype": "text/x-python",
   "name": "python",
   "nbconvert_exporter": "python",
   "pygments_lexer": "ipython3",
   "version": "3.10.10"
  },
  "orig_nbformat": 4
 },
 "nbformat": 4,
 "nbformat_minor": 2
}
